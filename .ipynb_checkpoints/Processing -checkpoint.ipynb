{
 "cells": [
  {
   "cell_type": "markdown",
   "id": "445b82d5",
   "metadata": {},
   "source": [
    "# Khám phá dữ liệu, tiền xử lý, phân tích đơn giản"
   ]
  },
  {
   "cell_type": "code",
   "execution_count": 7,
   "id": "ccb7414d",
   "metadata": {},
   "outputs": [],
   "source": [
    "import matplotlib.pyplot as plt\n",
    "import numpy as np\n",
    "import pandas as pd "
   ]
  },
  {
   "cell_type": "markdown",
   "id": "ca1ab9c8",
   "metadata": {},
   "source": [
    "### Đọc dữ liệu từ file"
   ]
  },
  {
   "cell_type": "code",
   "execution_count": 8,
   "id": "bb91f12e",
   "metadata": {},
   "outputs": [],
   "source": [
    "air_df = pd.read_csv('data.csv', sep = ',')"
   ]
  },
  {
   "cell_type": "code",
   "execution_count": 10,
   "id": "3570d508",
   "metadata": {},
   "outputs": [
    {
     "data": {
      "text/html": [
       "<div>\n",
       "<style scoped>\n",
       "    .dataframe tbody tr th:only-of-type {\n",
       "        vertical-align: middle;\n",
       "    }\n",
       "\n",
       "    .dataframe tbody tr th {\n",
       "        vertical-align: top;\n",
       "    }\n",
       "\n",
       "    .dataframe thead th {\n",
       "        text-align: right;\n",
       "    }\n",
       "</style>\n",
       "<table border=\"1\" class=\"dataframe\">\n",
       "  <thead>\n",
       "    <tr style=\"text-align: right;\">\n",
       "      <th></th>\n",
       "      <th>co</th>\n",
       "      <th>no</th>\n",
       "      <th>no2</th>\n",
       "      <th>o3</th>\n",
       "      <th>so2</th>\n",
       "      <th>pm2_5</th>\n",
       "      <th>pm10</th>\n",
       "      <th>nh3</th>\n",
       "      <th>aqi</th>\n",
       "    </tr>\n",
       "  </thead>\n",
       "  <tbody>\n",
       "    <tr>\n",
       "      <th>0</th>\n",
       "      <td>323.77</td>\n",
       "      <td>0.21</td>\n",
       "      <td>5.74</td>\n",
       "      <td>17.35</td>\n",
       "      <td>3.46</td>\n",
       "      <td>4.60</td>\n",
       "      <td>6.11</td>\n",
       "      <td>2.53</td>\n",
       "      <td>1</td>\n",
       "    </tr>\n",
       "    <tr>\n",
       "      <th>1</th>\n",
       "      <td>343.80</td>\n",
       "      <td>0.78</td>\n",
       "      <td>5.66</td>\n",
       "      <td>18.60</td>\n",
       "      <td>3.76</td>\n",
       "      <td>4.66</td>\n",
       "      <td>6.36</td>\n",
       "      <td>2.79</td>\n",
       "      <td>1</td>\n",
       "    </tr>\n",
       "    <tr>\n",
       "      <th>2</th>\n",
       "      <td>353.81</td>\n",
       "      <td>0.91</td>\n",
       "      <td>6.00</td>\n",
       "      <td>20.92</td>\n",
       "      <td>4.05</td>\n",
       "      <td>4.54</td>\n",
       "      <td>6.36</td>\n",
       "      <td>3.14</td>\n",
       "      <td>1</td>\n",
       "    </tr>\n",
       "    <tr>\n",
       "      <th>3</th>\n",
       "      <td>360.49</td>\n",
       "      <td>0.71</td>\n",
       "      <td>6.08</td>\n",
       "      <td>24.68</td>\n",
       "      <td>4.23</td>\n",
       "      <td>4.37</td>\n",
       "      <td>6.17</td>\n",
       "      <td>3.29</td>\n",
       "      <td>1</td>\n",
       "    </tr>\n",
       "    <tr>\n",
       "      <th>4</th>\n",
       "      <td>340.46</td>\n",
       "      <td>0.48</td>\n",
       "      <td>5.14</td>\n",
       "      <td>30.04</td>\n",
       "      <td>4.35</td>\n",
       "      <td>4.41</td>\n",
       "      <td>5.81</td>\n",
       "      <td>2.98</td>\n",
       "      <td>1</td>\n",
       "    </tr>\n",
       "  </tbody>\n",
       "</table>\n",
       "</div>"
      ],
      "text/plain": [
       "       co    no   no2     o3   so2  pm2_5  pm10   nh3  aqi\n",
       "0  323.77  0.21  5.74  17.35  3.46   4.60  6.11  2.53    1\n",
       "1  343.80  0.78  5.66  18.60  3.76   4.66  6.36  2.79    1\n",
       "2  353.81  0.91  6.00  20.92  4.05   4.54  6.36  3.14    1\n",
       "3  360.49  0.71  6.08  24.68  4.23   4.37  6.17  3.29    1\n",
       "4  340.46  0.48  5.14  30.04  4.35   4.41  5.81  2.98    1"
      ]
     },
     "execution_count": 10,
     "metadata": {},
     "output_type": "execute_result"
    }
   ],
   "source": [
    "air_df.head()"
   ]
  },
  {
   "cell_type": "markdown",
   "id": "66ff939c",
   "metadata": {},
   "source": [
    "### Dữ liệu có bao nhiêu dòng và bao nhiêu cột?"
   ]
  },
  {
   "cell_type": "code",
   "execution_count": 11,
   "id": "a9d4c102",
   "metadata": {},
   "outputs": [
    {
     "data": {
      "text/plain": [
       "(4422, 9)"
      ]
     },
     "execution_count": 11,
     "metadata": {},
     "output_type": "execute_result"
    }
   ],
   "source": [
    "air_df.shape"
   ]
  }
 ],
 "metadata": {
  "kernelspec": {
   "display_name": "Python 3 (ipykernel)",
   "language": "python",
   "name": "python3"
  },
  "language_info": {
   "codemirror_mode": {
    "name": "ipython",
    "version": 3
   },
   "file_extension": ".py",
   "mimetype": "text/x-python",
   "name": "python",
   "nbconvert_exporter": "python",
   "pygments_lexer": "ipython3",
   "version": "3.8.8"
  }
 },
 "nbformat": 4,
 "nbformat_minor": 5
}
