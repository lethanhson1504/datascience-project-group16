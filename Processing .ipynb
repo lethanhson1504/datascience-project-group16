{
 "cells": [
  {
   "cell_type": "markdown",
   "id": "445b82d5",
   "metadata": {},
   "source": [
    "# Khám phá dữ liệu, tiền xử lý"
   ]
  },
  {
   "cell_type": "code",
   "execution_count": 1,
   "id": "ccb7414d",
   "metadata": {},
   "outputs": [],
   "source": [
    "import matplotlib.pyplot as plt\n",
    "import numpy as np\n",
    "import pandas as pd\n",
    "import seaborn as sns\n",
    "from sklearn.model_selection import train_test_split\n",
    "from sklearn.preprocessing import OneHotEncoder, StandardScaler\n",
    "from sklearn.impute import SimpleImputer\n",
    "from sklearn.base import BaseEstimator, TransformerMixin\n",
    "from sklearn.pipeline import Pipeline, make_pipeline\n",
    "from sklearn.compose import ColumnTransformer, make_column_transformer\n",
    "from sklearn.neural_network import MLPClassifier\n",
    "from sklearn import set_config\n",
    "from sklearn.linear_model import LogisticRegression\n",
    "from sklearn.neighbors import KNeighborsClassifier\n",
    "set_config(display='diagram') # Để trực quan hóa pipeline"
   ]
  },
  {
   "cell_type": "markdown",
   "id": "ca1ab9c8",
   "metadata": {},
   "source": [
    "### Đọc dữ liệu từ file"
   ]
  },
  {
   "cell_type": "code",
   "execution_count": 2,
   "id": "bb91f12e",
   "metadata": {},
   "outputs": [],
   "source": [
    "air_df = pd.read_csv('data.csv', sep = ',')"
   ]
  },
  {
   "cell_type": "code",
   "execution_count": 3,
   "id": "3570d508",
   "metadata": {},
   "outputs": [
    {
     "data": {
      "text/html": [
       "<div>\n",
       "<style scoped>\n",
       "    .dataframe tbody tr th:only-of-type {\n",
       "        vertical-align: middle;\n",
       "    }\n",
       "\n",
       "    .dataframe tbody tr th {\n",
       "        vertical-align: top;\n",
       "    }\n",
       "\n",
       "    .dataframe thead th {\n",
       "        text-align: right;\n",
       "    }\n",
       "</style>\n",
       "<table border=\"1\" class=\"dataframe\">\n",
       "  <thead>\n",
       "    <tr style=\"text-align: right;\">\n",
       "      <th></th>\n",
       "      <th>Unnamed: 0</th>\n",
       "      <th>co</th>\n",
       "      <th>no</th>\n",
       "      <th>no2</th>\n",
       "      <th>o3</th>\n",
       "      <th>so2</th>\n",
       "      <th>pm2_5</th>\n",
       "      <th>pm10</th>\n",
       "      <th>nh3</th>\n",
       "      <th>aqi</th>\n",
       "    </tr>\n",
       "  </thead>\n",
       "  <tbody>\n",
       "    <tr>\n",
       "      <th>0</th>\n",
       "      <td>0</td>\n",
       "      <td>1121.52</td>\n",
       "      <td>2.49</td>\n",
       "      <td>15.59</td>\n",
       "      <td>6.62</td>\n",
       "      <td>7.03</td>\n",
       "      <td>51.11</td>\n",
       "      <td>60.88</td>\n",
       "      <td>6.21</td>\n",
       "      <td>5</td>\n",
       "    </tr>\n",
       "    <tr>\n",
       "      <th>1</th>\n",
       "      <td>1</td>\n",
       "      <td>767.71</td>\n",
       "      <td>1.48</td>\n",
       "      <td>12.00</td>\n",
       "      <td>32.90</td>\n",
       "      <td>8.46</td>\n",
       "      <td>36.26</td>\n",
       "      <td>42.39</td>\n",
       "      <td>3.52</td>\n",
       "      <td>4</td>\n",
       "    </tr>\n",
       "    <tr>\n",
       "      <th>2</th>\n",
       "      <td>2</td>\n",
       "      <td>727.65</td>\n",
       "      <td>1.41</td>\n",
       "      <td>10.11</td>\n",
       "      <td>51.50</td>\n",
       "      <td>8.35</td>\n",
       "      <td>35.83</td>\n",
       "      <td>41.03</td>\n",
       "      <td>3.23</td>\n",
       "      <td>4</td>\n",
       "    </tr>\n",
       "    <tr>\n",
       "      <th>3</th>\n",
       "      <td>3</td>\n",
       "      <td>727.65</td>\n",
       "      <td>1.03</td>\n",
       "      <td>8.82</td>\n",
       "      <td>77.25</td>\n",
       "      <td>8.94</td>\n",
       "      <td>39.41</td>\n",
       "      <td>44.50</td>\n",
       "      <td>3.58</td>\n",
       "      <td>4</td>\n",
       "    </tr>\n",
       "    <tr>\n",
       "      <th>4</th>\n",
       "      <td>4</td>\n",
       "      <td>761.03</td>\n",
       "      <td>0.59</td>\n",
       "      <td>7.37</td>\n",
       "      <td>103.00</td>\n",
       "      <td>9.18</td>\n",
       "      <td>46.39</td>\n",
       "      <td>51.56</td>\n",
       "      <td>3.99</td>\n",
       "      <td>4</td>\n",
       "    </tr>\n",
       "  </tbody>\n",
       "</table>\n",
       "</div>"
      ],
      "text/plain": [
       "   Unnamed: 0       co    no    no2      o3   so2  pm2_5   pm10   nh3  aqi\n",
       "0           0  1121.52  2.49  15.59    6.62  7.03  51.11  60.88  6.21    5\n",
       "1           1   767.71  1.48  12.00   32.90  8.46  36.26  42.39  3.52    4\n",
       "2           2   727.65  1.41  10.11   51.50  8.35  35.83  41.03  3.23    4\n",
       "3           3   727.65  1.03   8.82   77.25  8.94  39.41  44.50  3.58    4\n",
       "4           4   761.03  0.59   7.37  103.00  9.18  46.39  51.56  3.99    4"
      ]
     },
     "execution_count": 3,
     "metadata": {},
     "output_type": "execute_result"
    }
   ],
   "source": [
    "air_df.head()"
   ]
  },
  {
   "cell_type": "markdown",
   "id": "66ff939c",
   "metadata": {},
   "source": [
    "#### Dữ liệu có bao nhiêu dòng và bao nhiêu cột?"
   ]
  },
  {
   "cell_type": "code",
   "execution_count": 4,
   "id": "a9d4c102",
   "metadata": {},
   "outputs": [
    {
     "data": {
      "text/plain": [
       "(13206, 10)"
      ]
     },
     "execution_count": 4,
     "metadata": {},
     "output_type": "execute_result"
    }
   ],
   "source": [
    "air_df.shape"
   ]
  },
  {
   "cell_type": "markdown",
   "id": "f41d562a",
   "metadata": {},
   "source": [
    "#### Mỗi dòng có ý nghĩa gì? Có vấn đề các dòng có ý nghĩa khác nhau không?"
   ]
  },
  {
   "cell_type": "markdown",
   "id": "27606353",
   "metadata": {},
   "source": [
    "Mỗi dòng trong DataFrame `air_df` cho biết dữ liệu về các chỉ số và chất lượng không khí của các tỉnh, thành phố từ 0h ngày 1/8/2021 - 0h ngày 1/9/2021 . Có vẻ không có vấn đề các dòng có ý nghĩa khác nhau."
   ]
  },
  {
   "cell_type": "markdown",
   "id": "3bdd3cfa",
   "metadata": {},
   "source": [
    "#### Dữ liệu có các dòng bị lặp không?"
   ]
  },
  {
   "cell_type": "code",
   "execution_count": 5,
   "id": "3db90ad7",
   "metadata": {},
   "outputs": [
    {
     "data": {
      "text/plain": [
       "0"
      ]
     },
     "execution_count": 5,
     "metadata": {},
     "output_type": "execute_result"
    }
   ],
   "source": [
    "air_df.index.duplicated().sum()"
   ]
  },
  {
   "cell_type": "markdown",
   "id": "dfe03d2b",
   "metadata": {},
   "source": [
    "#### Mỗi cột có ý nghĩa gì?"
   ]
  },
  {
   "cell_type": "markdown",
   "id": "d26a5adf",
   "metadata": {},
   "source": [
    "<b>VARIABLE DESCRIPTIONS:</b>><br/>\n",
    "<b>aqi </b>: <br/>  Chỉ số chất lượng không khí (1,2,3,4,5) với (1 = Good; 2 = Fair; 3 = Moderate; 4 = Poor ; 5 = Very Poor)<br/>\n",
    "<b>co </b>:<br/>Nồng độ CO (Carbon monoxide), μg/m³<br/>\n",
    "<b>no </b>:    \n",
    "<br/>Nồng độ NO (Nitrogen monoxide), μg/m³<br/>\n",
    "<b>no2 </b>:   \n",
    "<br/> Nồng độ NO<sub>2</sub> (Nitrogen dioxide), μg/m³<br/>\n",
    "<b>o3 </b>:    \n",
    "<br/> Nồng độ O<sub>3</sub> (Ozone), μg/m³<br/>\n",
    "<b>so2 </b>:   \n",
    "<br/>Nồng độ SO<sub>2</sub> (Sulphur dioxide), μg/m³<br/>\n",
    "<b>pm2_5 </b>: \n",
    "<br/> Nồng độ PM<sub>2_5</sub> (Fine particles matter), μg/m³<br/>\n",
    "<b>pm10 </b>:  \n",
    "<br/> Nồng độ PM<sub>10</sub> (Coarse particulate matter), μg/m³<br/>\n",
    "<b>nh3 </b>:   \n",
    "<br/> Nồng độ NH<sub>3</sub> (Ammonia), μg/m³<br/>"
   ]
  },
  {
   "cell_type": "markdown",
   "id": "a174894f",
   "metadata": {},
   "source": [
    "## Đưa ra câu hỏi cần trả lời"
   ]
  },
  {
   "cell_type": "markdown",
   "id": "34073599",
   "metadata": {},
   "source": [
    "- Chất lượng không khí được tính như thế nào từ các chỉ số trong không khí đã được đo từ môi trường ?\n",
    "<br/>\n",
    "- Ý nghĩa thực tế của câu hỏi: Theo Tổ chức Y tế thế giới (WHO), hằng năm có 34.000 ca tử vong tại Việt Nam có liên quan đến ô nhiễm không khí. Việc xác định chất lượng không khí giúp người dân có các biện pháp bảo vệ bản thân và cộng đồng kịp thời như đeo khẩu trang, hạn chế sử dụng các phương tiện giao thông gây ô nhiễm, ... . Ngoài ra, chính quyền địa phương có thể hạn chế lượng khí thải từ các nhà máy, xí nghiệp, trồng thêm nhiều cây xanh để làm giảm ô nhiễm không khí."
   ]
  },
  {
   "cell_type": "markdown",
   "id": "95804a9d",
   "metadata": {},
   "source": [
    "# Khám phá dữ liệu(để biết tách các tập)"
   ]
  },
  {
   "cell_type": "code",
   "execution_count": 6,
   "id": "a5cf6553",
   "metadata": {},
   "outputs": [
    {
     "data": {
      "text/plain": [
       "dtype('int64')"
      ]
     },
     "execution_count": 6,
     "metadata": {},
     "output_type": "execute_result"
    }
   ],
   "source": [
    "# Cột output hiện có kiểu dữ liệu gì?\n",
    "air_df['aqi'].dtype"
   ]
  },
  {
   "cell_type": "code",
   "execution_count": 7,
   "id": "8bba2c31",
   "metadata": {},
   "outputs": [
    {
     "data": {
      "text/plain": [
       "0"
      ]
     },
     "execution_count": 7,
     "metadata": {},
     "output_type": "execute_result"
    }
   ],
   "source": [
    "# Cột output có bao nhiêu giá trị thiếu?\n",
    "air_df['aqi'].isna().sum()"
   ]
  },
  {
   "cell_type": "code",
   "execution_count": 8,
   "id": "c040b1d5",
   "metadata": {},
   "outputs": [
    {
     "data": {
      "text/plain": [
       "1    31.909738\n",
       "2    26.344086\n",
       "4    22.088445\n",
       "5    11.252461\n",
       "3     8.405270\n",
       "Name: aqi, dtype: float64"
      ]
     },
     "execution_count": 8,
     "metadata": {},
     "output_type": "execute_result"
    }
   ],
   "source": [
    "# Tỉ lệ các lớp trong cột output?\n",
    "air_df['aqi'].value_counts(normalize=True) * 100"
   ]
  },
  {
   "cell_type": "markdown",
   "id": "d84d4d6b",
   "metadata": {},
   "source": [
    "- Cột output đang ở kiểu dạng số, không có giá trị thiếu và tỉ lệ lớp 3 và 5 trong cột output chênh lệch nhiều so với các lớp còn lại, vì vậy hãy lấy random khoảng 40% lớp 1, 2, 4 để các lớp có tỉ lệ gần nhau nhất"
   ]
  },
  {
   "cell_type": "code",
   "execution_count": 9,
   "id": "6fab5353",
   "metadata": {},
   "outputs": [
    {
     "data": {
      "text/html": [
       "<div>\n",
       "<style scoped>\n",
       "    .dataframe tbody tr th:only-of-type {\n",
       "        vertical-align: middle;\n",
       "    }\n",
       "\n",
       "    .dataframe tbody tr th {\n",
       "        vertical-align: top;\n",
       "    }\n",
       "\n",
       "    .dataframe thead th {\n",
       "        text-align: right;\n",
       "    }\n",
       "</style>\n",
       "<table border=\"1\" class=\"dataframe\">\n",
       "  <thead>\n",
       "    <tr style=\"text-align: right;\">\n",
       "      <th></th>\n",
       "      <th>Unnamed: 0</th>\n",
       "      <th>co</th>\n",
       "      <th>no</th>\n",
       "      <th>no2</th>\n",
       "      <th>o3</th>\n",
       "      <th>so2</th>\n",
       "      <th>pm2_5</th>\n",
       "      <th>pm10</th>\n",
       "      <th>nh3</th>\n",
       "      <th>aqi</th>\n",
       "    </tr>\n",
       "  </thead>\n",
       "  <tbody>\n",
       "    <tr>\n",
       "      <th>8964</th>\n",
       "      <td>8964</td>\n",
       "      <td>260.35</td>\n",
       "      <td>0.00</td>\n",
       "      <td>1.48</td>\n",
       "      <td>6.88</td>\n",
       "      <td>0.24</td>\n",
       "      <td>1.87</td>\n",
       "      <td>2.47</td>\n",
       "      <td>0.70</td>\n",
       "      <td>1</td>\n",
       "    </tr>\n",
       "    <tr>\n",
       "      <th>10350</th>\n",
       "      <td>10350</td>\n",
       "      <td>387.19</td>\n",
       "      <td>0.04</td>\n",
       "      <td>1.35</td>\n",
       "      <td>60.08</td>\n",
       "      <td>0.76</td>\n",
       "      <td>9.54</td>\n",
       "      <td>9.84</td>\n",
       "      <td>0.48</td>\n",
       "      <td>1</td>\n",
       "    </tr>\n",
       "    <tr>\n",
       "      <th>7457</th>\n",
       "      <td>7457</td>\n",
       "      <td>290.39</td>\n",
       "      <td>0.00</td>\n",
       "      <td>5.23</td>\n",
       "      <td>24.32</td>\n",
       "      <td>2.09</td>\n",
       "      <td>6.84</td>\n",
       "      <td>9.52</td>\n",
       "      <td>1.71</td>\n",
       "      <td>1</td>\n",
       "    </tr>\n",
       "    <tr>\n",
       "      <th>130</th>\n",
       "      <td>130</td>\n",
       "      <td>440.60</td>\n",
       "      <td>0.18</td>\n",
       "      <td>7.37</td>\n",
       "      <td>28.61</td>\n",
       "      <td>4.47</td>\n",
       "      <td>6.40</td>\n",
       "      <td>7.69</td>\n",
       "      <td>3.74</td>\n",
       "      <td>1</td>\n",
       "    </tr>\n",
       "    <tr>\n",
       "      <th>10136</th>\n",
       "      <td>10136</td>\n",
       "      <td>290.39</td>\n",
       "      <td>0.00</td>\n",
       "      <td>1.19</td>\n",
       "      <td>35.76</td>\n",
       "      <td>0.37</td>\n",
       "      <td>2.21</td>\n",
       "      <td>2.40</td>\n",
       "      <td>0.30</td>\n",
       "      <td>1</td>\n",
       "    </tr>\n",
       "    <tr>\n",
       "      <th>...</th>\n",
       "      <td>...</td>\n",
       "      <td>...</td>\n",
       "      <td>...</td>\n",
       "      <td>...</td>\n",
       "      <td>...</td>\n",
       "      <td>...</td>\n",
       "      <td>...</td>\n",
       "      <td>...</td>\n",
       "      <td>...</td>\n",
       "      <td>...</td>\n",
       "    </tr>\n",
       "    <tr>\n",
       "      <th>13201</th>\n",
       "      <td>13201</td>\n",
       "      <td>2616.88</td>\n",
       "      <td>59.01</td>\n",
       "      <td>30.16</td>\n",
       "      <td>0.00</td>\n",
       "      <td>38.62</td>\n",
       "      <td>138.76</td>\n",
       "      <td>152.62</td>\n",
       "      <td>14.19</td>\n",
       "      <td>5</td>\n",
       "    </tr>\n",
       "    <tr>\n",
       "      <th>13202</th>\n",
       "      <td>13202</td>\n",
       "      <td>2590.18</td>\n",
       "      <td>64.37</td>\n",
       "      <td>29.47</td>\n",
       "      <td>0.00</td>\n",
       "      <td>41.96</td>\n",
       "      <td>144.76</td>\n",
       "      <td>158.74</td>\n",
       "      <td>14.31</td>\n",
       "      <td>5</td>\n",
       "    </tr>\n",
       "    <tr>\n",
       "      <th>13203</th>\n",
       "      <td>13203</td>\n",
       "      <td>2937.32</td>\n",
       "      <td>83.15</td>\n",
       "      <td>33.59</td>\n",
       "      <td>0.00</td>\n",
       "      <td>55.31</td>\n",
       "      <td>174.44</td>\n",
       "      <td>189.82</td>\n",
       "      <td>15.07</td>\n",
       "      <td>5</td>\n",
       "    </tr>\n",
       "    <tr>\n",
       "      <th>13204</th>\n",
       "      <td>13204</td>\n",
       "      <td>3471.37</td>\n",
       "      <td>109.97</td>\n",
       "      <td>42.50</td>\n",
       "      <td>0.00</td>\n",
       "      <td>73.43</td>\n",
       "      <td>219.32</td>\n",
       "      <td>237.25</td>\n",
       "      <td>14.69</td>\n",
       "      <td>5</td>\n",
       "    </tr>\n",
       "    <tr>\n",
       "      <th>13205</th>\n",
       "      <td>13205</td>\n",
       "      <td>3952.03</td>\n",
       "      <td>137.69</td>\n",
       "      <td>45.93</td>\n",
       "      <td>0.00</td>\n",
       "      <td>84.88</td>\n",
       "      <td>265.03</td>\n",
       "      <td>287.16</td>\n",
       "      <td>14.06</td>\n",
       "      <td>5</td>\n",
       "    </tr>\n",
       "  </tbody>\n",
       "</table>\n",
       "<p>6841 rows × 10 columns</p>\n",
       "</div>"
      ],
      "text/plain": [
       "       Unnamed: 0       co      no    no2     o3    so2   pm2_5    pm10  \\\n",
       "8964         8964   260.35    0.00   1.48   6.88   0.24    1.87    2.47   \n",
       "10350       10350   387.19    0.04   1.35  60.08   0.76    9.54    9.84   \n",
       "7457         7457   290.39    0.00   5.23  24.32   2.09    6.84    9.52   \n",
       "130           130   440.60    0.18   7.37  28.61   4.47    6.40    7.69   \n",
       "10136       10136   290.39    0.00   1.19  35.76   0.37    2.21    2.40   \n",
       "...           ...      ...     ...    ...    ...    ...     ...     ...   \n",
       "13201       13201  2616.88   59.01  30.16   0.00  38.62  138.76  152.62   \n",
       "13202       13202  2590.18   64.37  29.47   0.00  41.96  144.76  158.74   \n",
       "13203       13203  2937.32   83.15  33.59   0.00  55.31  174.44  189.82   \n",
       "13204       13204  3471.37  109.97  42.50   0.00  73.43  219.32  237.25   \n",
       "13205       13205  3952.03  137.69  45.93   0.00  84.88  265.03  287.16   \n",
       "\n",
       "         nh3  aqi  \n",
       "8964    0.70    1  \n",
       "10350   0.48    1  \n",
       "7457    1.71    1  \n",
       "130     3.74    1  \n",
       "10136   0.30    1  \n",
       "...      ...  ...  \n",
       "13201  14.19    5  \n",
       "13202  14.31    5  \n",
       "13203  15.07    5  \n",
       "13204  14.69    5  \n",
       "13205  14.06    5  \n",
       "\n",
       "[6841 rows x 10 columns]"
      ]
     },
     "execution_count": 9,
     "metadata": {},
     "output_type": "execute_result"
    }
   ],
   "source": [
    "aqi_124 = [1, 2, 4]\n",
    "frames = []\n",
    "\n",
    "for aqi in aqi_124:\n",
    "    df = air_df.loc[air_df['aqi'] == aqi]\n",
    "    frames.append(df.sample(frac = 0.4))\n",
    "    \n",
    "aqi_35 = [3, 5]\n",
    "for aqi in aqi_35:\n",
    "    df = air_df.loc[air_df['aqi'] == aqi]\n",
    "    frames.append(df)\n",
    "    \n",
    "air_df_bal = pd.concat(frames)\n",
    "air_df_bal"
   ]
  },
  {
   "cell_type": "markdown",
   "id": "1eedb1bd",
   "metadata": {},
   "source": [
    "- Kiểm tra lại 1 lần nữa tỉ lệ các giá trị ouput"
   ]
  },
  {
   "cell_type": "code",
   "execution_count": 10,
   "id": "7db71d0f",
   "metadata": {},
   "outputs": [
    {
     "data": {
      "text/plain": [
       "1    24.645520\n",
       "5    21.721970\n",
       "2    20.347902\n",
       "4    17.058910\n",
       "3    16.225698\n",
       "Name: aqi, dtype: float64"
      ]
     },
     "execution_count": 10,
     "metadata": {},
     "output_type": "execute_result"
    }
   ],
   "source": [
    "air_df_bal['aqi'].value_counts(normalize=True) * 100"
   ]
  },
  {
   "cell_type": "markdown",
   "id": "9d60600e",
   "metadata": {},
   "source": [
    "## Tiền xử lý (tách các tập)"
   ]
  },
  {
   "cell_type": "code",
   "execution_count": 11,
   "id": "b44ebf8b",
   "metadata": {},
   "outputs": [],
   "source": [
    "# Tách X và y\n",
    "y_sr = air_df_bal[\"aqi\"] # sr là viết tắt của series\n",
    "X_df = air_df_bal.drop(\"aqi\", axis=1)"
   ]
  },
  {
   "cell_type": "code",
   "execution_count": 12,
   "id": "8a8866a9",
   "metadata": {},
   "outputs": [],
   "source": [
    "# Tách tập huấn luyện,tập validation, tập test theo tỉ lệ 70%:20%:10%\n",
    "temp_X_df, test_X_df, temp_y_sr, test_y_sr = \\\n",
    "                              train_test_split(X_df, y_sr, \n",
    "                                               test_size=0.1, \n",
    "                                               stratify=y_sr, \n",
    "                                               random_state=0)\n",
    "train_X_df, val_X_df, train_y_sr, val_y_sr = \\\n",
    "                              train_test_split(temp_X_df, temp_y_sr, \n",
    "                                               test_size=2/9, \n",
    "                                               stratify=temp_y_sr, \n",
    "                                               random_state=0)\n"
   ]
  },
  {
   "cell_type": "code",
   "execution_count": 13,
   "id": "258a0e56",
   "metadata": {},
   "outputs": [
    {
     "data": {
      "text/plain": [
       "(4788, 9)"
      ]
     },
     "execution_count": 13,
     "metadata": {},
     "output_type": "execute_result"
    }
   ],
   "source": [
    "train_X_df.shape"
   ]
  },
  {
   "cell_type": "code",
   "execution_count": 14,
   "id": "635a49af",
   "metadata": {},
   "outputs": [
    {
     "data": {
      "text/plain": [
       "(4788,)"
      ]
     },
     "execution_count": 14,
     "metadata": {},
     "output_type": "execute_result"
    }
   ],
   "source": [
    "train_y_sr.shape"
   ]
  },
  {
   "cell_type": "code",
   "execution_count": 15,
   "id": "c1bcd19c",
   "metadata": {},
   "outputs": [
    {
     "data": {
      "text/plain": [
       "(1368, 9)"
      ]
     },
     "execution_count": 15,
     "metadata": {},
     "output_type": "execute_result"
    }
   ],
   "source": [
    "val_X_df.shape"
   ]
  },
  {
   "cell_type": "code",
   "execution_count": 16,
   "id": "7fbf4d26",
   "metadata": {},
   "outputs": [
    {
     "data": {
      "text/plain": [
       "(1368,)"
      ]
     },
     "execution_count": 16,
     "metadata": {},
     "output_type": "execute_result"
    }
   ],
   "source": [
    "val_y_sr.shape"
   ]
  },
  {
   "cell_type": "code",
   "execution_count": 17,
   "id": "e22e093b",
   "metadata": {},
   "outputs": [
    {
     "data": {
      "text/plain": [
       "(685, 9)"
      ]
     },
     "execution_count": 17,
     "metadata": {},
     "output_type": "execute_result"
    }
   ],
   "source": [
    "test_X_df.shape"
   ]
  },
  {
   "cell_type": "code",
   "execution_count": 18,
   "id": "01ae48e5",
   "metadata": {},
   "outputs": [
    {
     "data": {
      "text/plain": [
       "(685,)"
      ]
     },
     "execution_count": 18,
     "metadata": {},
     "output_type": "execute_result"
    }
   ],
   "source": [
    "test_y_sr.shape"
   ]
  },
  {
   "cell_type": "code",
   "execution_count": 19,
   "id": "d2a32438",
   "metadata": {},
   "outputs": [
    {
     "data": {
      "text/plain": [
       "Int64Index([3243, 6065, 5865, 10951, 360], dtype='int64')"
      ]
     },
     "execution_count": 19,
     "metadata": {},
     "output_type": "execute_result"
    }
   ],
   "source": [
    "train_X_df.head().index"
   ]
  },
  {
   "cell_type": "markdown",
   "id": "688a7b69",
   "metadata": {},
   "source": [
    "# Khám phá dữ liệu (tập huấn luyện)"
   ]
  },
  {
   "cell_type": "markdown",
   "id": "f2a1fb94",
   "metadata": {},
   "source": [
    "#### Mỗi cột input hiện đang có kiểu dữ liệu gì? Có cột nào có kiểu dữ liệu chưa phù hợp để có thể xử lý tiếp không?"
   ]
  },
  {
   "cell_type": "code",
   "execution_count": 20,
   "id": "8706368f",
   "metadata": {},
   "outputs": [
    {
     "data": {
      "text/plain": [
       "Unnamed: 0      int64\n",
       "co            float64\n",
       "no            float64\n",
       "no2           float64\n",
       "o3            float64\n",
       "so2           float64\n",
       "pm2_5         float64\n",
       "pm10          float64\n",
       "nh3           float64\n",
       "dtype: object"
      ]
     },
     "execution_count": 20,
     "metadata": {},
     "output_type": "execute_result"
    }
   ],
   "source": [
    "train_X_df.dtypes"
   ]
  },
  {
   "cell_type": "markdown",
   "id": "dcf57014",
   "metadata": {},
   "source": [
    "- Các cột đều có dữ liệu phù hợp"
   ]
  },
  {
   "cell_type": "markdown",
   "id": "bceb7639",
   "metadata": {},
   "source": [
    "#### Với mỗi cột input có kiểu dữ liệu dạng số, các giá trị được phân bố như thế nào?"
   ]
  },
  {
   "cell_type": "code",
   "execution_count": 21,
   "id": "4f5319ad",
   "metadata": {},
   "outputs": [
    {
     "data": {
      "text/html": [
       "<div>\n",
       "<style scoped>\n",
       "    .dataframe tbody tr th:only-of-type {\n",
       "        vertical-align: middle;\n",
       "    }\n",
       "\n",
       "    .dataframe tbody tr th {\n",
       "        vertical-align: top;\n",
       "    }\n",
       "\n",
       "    .dataframe thead th {\n",
       "        text-align: right;\n",
       "    }\n",
       "</style>\n",
       "<table border=\"1\" class=\"dataframe\">\n",
       "  <thead>\n",
       "    <tr style=\"text-align: right;\">\n",
       "      <th></th>\n",
       "      <th>Unnamed: 0</th>\n",
       "      <th>co</th>\n",
       "      <th>no</th>\n",
       "      <th>no2</th>\n",
       "      <th>o3</th>\n",
       "      <th>so2</th>\n",
       "      <th>pm2_5</th>\n",
       "      <th>pm10</th>\n",
       "      <th>nh3</th>\n",
       "    </tr>\n",
       "  </thead>\n",
       "  <tbody>\n",
       "    <tr>\n",
       "      <th>missing_percentage</th>\n",
       "      <td>0.0</td>\n",
       "      <td>0.00</td>\n",
       "      <td>0.00</td>\n",
       "      <td>0.00</td>\n",
       "      <td>0.00</td>\n",
       "      <td>0.00</td>\n",
       "      <td>0.00</td>\n",
       "      <td>0.00</td>\n",
       "      <td>0.00</td>\n",
       "    </tr>\n",
       "    <tr>\n",
       "      <th>min</th>\n",
       "      <td>0.0</td>\n",
       "      <td>166.89</td>\n",
       "      <td>0.00</td>\n",
       "      <td>0.20</td>\n",
       "      <td>0.00</td>\n",
       "      <td>0.04</td>\n",
       "      <td>0.50</td>\n",
       "      <td>0.54</td>\n",
       "      <td>0.00</td>\n",
       "    </tr>\n",
       "    <tr>\n",
       "      <th>lower_quartile</th>\n",
       "      <td>3259.5</td>\n",
       "      <td>377.20</td>\n",
       "      <td>0.00</td>\n",
       "      <td>2.90</td>\n",
       "      <td>8.00</td>\n",
       "      <td>1.10</td>\n",
       "      <td>10.20</td>\n",
       "      <td>12.00</td>\n",
       "      <td>0.90</td>\n",
       "    </tr>\n",
       "    <tr>\n",
       "      <th>median</th>\n",
       "      <td>6690.0</td>\n",
       "      <td>527.40</td>\n",
       "      <td>0.10</td>\n",
       "      <td>7.20</td>\n",
       "      <td>22.40</td>\n",
       "      <td>3.60</td>\n",
       "      <td>21.30</td>\n",
       "      <td>24.30</td>\n",
       "      <td>1.90</td>\n",
       "    </tr>\n",
       "    <tr>\n",
       "      <th>upper_quartile</th>\n",
       "      <td>10219.2</td>\n",
       "      <td>821.10</td>\n",
       "      <td>1.00</td>\n",
       "      <td>18.00</td>\n",
       "      <td>43.30</td>\n",
       "      <td>11.00</td>\n",
       "      <td>41.30</td>\n",
       "      <td>47.50</td>\n",
       "      <td>5.00</td>\n",
       "    </tr>\n",
       "    <tr>\n",
       "      <th>max</th>\n",
       "      <td>13205.0</td>\n",
       "      <td>14953.61</td>\n",
       "      <td>343.32</td>\n",
       "      <td>175.48</td>\n",
       "      <td>223.16</td>\n",
       "      <td>217.44</td>\n",
       "      <td>806.07</td>\n",
       "      <td>833.32</td>\n",
       "      <td>102.34</td>\n",
       "    </tr>\n",
       "  </tbody>\n",
       "</table>\n",
       "</div>"
      ],
      "text/plain": [
       "                    Unnamed: 0        co      no     no2      o3     so2  \\\n",
       "missing_percentage         0.0      0.00    0.00    0.00    0.00    0.00   \n",
       "min                        0.0    166.89    0.00    0.20    0.00    0.04   \n",
       "lower_quartile          3259.5    377.20    0.00    2.90    8.00    1.10   \n",
       "median                  6690.0    527.40    0.10    7.20   22.40    3.60   \n",
       "upper_quartile         10219.2    821.10    1.00   18.00   43.30   11.00   \n",
       "max                    13205.0  14953.61  343.32  175.48  223.16  217.44   \n",
       "\n",
       "                     pm2_5    pm10     nh3  \n",
       "missing_percentage    0.00    0.00    0.00  \n",
       "min                   0.50    0.54    0.00  \n",
       "lower_quartile       10.20   12.00    0.90  \n",
       "median               21.30   24.30    1.90  \n",
       "upper_quartile       41.30   47.50    5.00  \n",
       "max                 806.07  833.32  102.34  "
      ]
     },
     "execution_count": 21,
     "metadata": {},
     "output_type": "execute_result"
    }
   ],
   "source": [
    "def missing_percentage(c):\n",
    "    return (c.isna().mean() * 100).round(1)\n",
    "def median(c):\n",
    "    return c.quantile(0.5).round(1)\n",
    "def lower_quartile(df):\n",
    "    return df.quantile(0.25).round(1)\n",
    "def upper_quartile(df):\n",
    "    return df.quantile(0.75).round(1)\n",
    "train_X_df.agg([missing_percentage, 'min',lower_quartile, median,upper_quartile, 'max'])"
   ]
  },
  {
   "cell_type": "markdown",
   "id": "63f1f62b",
   "metadata": {},
   "source": [
    "**Với mỗi cột input không có kiểu dữ liệu dạng số, các giá trị được phân bố như thế nào?**\n",
    "\n",
    "- Không có cột nào khác kiểu dữ liệu dạng số."
   ]
  },
  {
   "cell_type": "markdown",
   "id": "437a7bf5",
   "metadata": {},
   "source": [
    "## Tiền xử lý (tập huấn luyện)"
   ]
  },
  {
   "cell_type": "markdown",
   "id": "77e29f71",
   "metadata": {},
   "source": [
    "- Với các cột dạng số, ta sẽ điền giá trị thiếu bằng giá trị mean của cột <font color=gray>(gợi ý: dùng `SimpleImputer` trong Sklearn)</font>. Với *tất cả* các cột dạng số trong tập huấn luyện, ta đều cần tính mean, vì ta không biết được cột nào sẽ bị thiếu giá trị khi dự đoán với các véc-tơ input mới. "
   ]
  },
  {
   "cell_type": "markdown",
   "id": "430eb6dd",
   "metadata": {},
   "source": [
    "- Cuối cùng, khi tất cả các cột đã được điền giá trị thiếu và đã có dạng số, ta sẽ tiến hành chuẩn hóa bằng cách trừ đi mean và chia cho độ lệch chuẩn của cột để giúp cho các thuật toán cực tiểu hóa như Gradient Descent, LBFGS, ... hội tụ nhanh hơn <font color=gray>(gợi ý: dùng `StandardScaler` trong Sklearn)</font>."
   ]
  },
  {
   "cell_type": "code",
   "execution_count": 22,
   "id": "60016329",
   "metadata": {},
   "outputs": [],
   "source": [
    "cols=list(train_X_df.columns)\n",
    "temp=make_column_transformer(\n",
    "        (SimpleImputer(strategy='mean'),cols))\n",
    "preprocess_pipeline=make_pipeline(temp,StandardScaler())\n",
    "preprocessed_train_X=preprocess_pipeline.fit_transform(train_X_df)"
   ]
  },
  {
   "cell_type": "code",
   "execution_count": 23,
   "id": "47e4cc94",
   "metadata": {},
   "outputs": [
    {
     "data": {
      "text/html": [
       "<style>#sk-30e2ac68-5b1b-4a66-b5a6-e24566b3c254 {color: black;background-color: white;}#sk-30e2ac68-5b1b-4a66-b5a6-e24566b3c254 pre{padding: 0;}#sk-30e2ac68-5b1b-4a66-b5a6-e24566b3c254 div.sk-toggleable {background-color: white;}#sk-30e2ac68-5b1b-4a66-b5a6-e24566b3c254 label.sk-toggleable__label {cursor: pointer;display: block;width: 100%;margin-bottom: 0;padding: 0.2em 0.3em;box-sizing: border-box;text-align: center;}#sk-30e2ac68-5b1b-4a66-b5a6-e24566b3c254 div.sk-toggleable__content {max-height: 0;max-width: 0;overflow: hidden;text-align: left;background-color: #f0f8ff;}#sk-30e2ac68-5b1b-4a66-b5a6-e24566b3c254 div.sk-toggleable__content pre {margin: 0.2em;color: black;border-radius: 0.25em;background-color: #f0f8ff;}#sk-30e2ac68-5b1b-4a66-b5a6-e24566b3c254 input.sk-toggleable__control:checked~div.sk-toggleable__content {max-height: 200px;max-width: 100%;overflow: auto;}#sk-30e2ac68-5b1b-4a66-b5a6-e24566b3c254 div.sk-estimator input.sk-toggleable__control:checked~label.sk-toggleable__label {background-color: #d4ebff;}#sk-30e2ac68-5b1b-4a66-b5a6-e24566b3c254 div.sk-label input.sk-toggleable__control:checked~label.sk-toggleable__label {background-color: #d4ebff;}#sk-30e2ac68-5b1b-4a66-b5a6-e24566b3c254 input.sk-hidden--visually {border: 0;clip: rect(1px 1px 1px 1px);clip: rect(1px, 1px, 1px, 1px);height: 1px;margin: -1px;overflow: hidden;padding: 0;position: absolute;width: 1px;}#sk-30e2ac68-5b1b-4a66-b5a6-e24566b3c254 div.sk-estimator {font-family: monospace;background-color: #f0f8ff;margin: 0.25em 0.25em;border: 1px dotted black;border-radius: 0.25em;box-sizing: border-box;}#sk-30e2ac68-5b1b-4a66-b5a6-e24566b3c254 div.sk-estimator:hover {background-color: #d4ebff;}#sk-30e2ac68-5b1b-4a66-b5a6-e24566b3c254 div.sk-parallel-item::after {content: \"\";width: 100%;border-bottom: 1px solid gray;flex-grow: 1;}#sk-30e2ac68-5b1b-4a66-b5a6-e24566b3c254 div.sk-label:hover label.sk-toggleable__label {background-color: #d4ebff;}#sk-30e2ac68-5b1b-4a66-b5a6-e24566b3c254 div.sk-serial::before {content: \"\";position: absolute;border-left: 1px solid gray;box-sizing: border-box;top: 2em;bottom: 0;left: 50%;}#sk-30e2ac68-5b1b-4a66-b5a6-e24566b3c254 div.sk-serial {display: flex;flex-direction: column;align-items: center;background-color: white;}#sk-30e2ac68-5b1b-4a66-b5a6-e24566b3c254 div.sk-item {z-index: 1;}#sk-30e2ac68-5b1b-4a66-b5a6-e24566b3c254 div.sk-parallel {display: flex;align-items: stretch;justify-content: center;background-color: white;}#sk-30e2ac68-5b1b-4a66-b5a6-e24566b3c254 div.sk-parallel-item {display: flex;flex-direction: column;position: relative;background-color: white;}#sk-30e2ac68-5b1b-4a66-b5a6-e24566b3c254 div.sk-parallel-item:first-child::after {align-self: flex-end;width: 50%;}#sk-30e2ac68-5b1b-4a66-b5a6-e24566b3c254 div.sk-parallel-item:last-child::after {align-self: flex-start;width: 50%;}#sk-30e2ac68-5b1b-4a66-b5a6-e24566b3c254 div.sk-parallel-item:only-child::after {width: 0;}#sk-30e2ac68-5b1b-4a66-b5a6-e24566b3c254 div.sk-dashed-wrapped {border: 1px dashed gray;margin: 0.2em;box-sizing: border-box;padding-bottom: 0.1em;background-color: white;position: relative;}#sk-30e2ac68-5b1b-4a66-b5a6-e24566b3c254 div.sk-label label {font-family: monospace;font-weight: bold;background-color: white;display: inline-block;line-height: 1.2em;}#sk-30e2ac68-5b1b-4a66-b5a6-e24566b3c254 div.sk-label-container {position: relative;z-index: 2;text-align: center;}#sk-30e2ac68-5b1b-4a66-b5a6-e24566b3c254 div.sk-container {display: inline-block;position: relative;}</style><div id=\"sk-30e2ac68-5b1b-4a66-b5a6-e24566b3c254\" class\"sk-top-container\"><div class=\"sk-container\"><div class=\"sk-item sk-dashed-wrapped\"><div class=\"sk-label-container\"><div class=\"sk-label sk-toggleable\"><input class=\"sk-toggleable__control sk-hidden--visually\" id=\"9733b515-1354-4d26-87d8-f80287766b67\" type=\"checkbox\" ><label class=\"sk-toggleable__label\" for=\"9733b515-1354-4d26-87d8-f80287766b67\">Pipeline</label><div class=\"sk-toggleable__content\"><pre>Pipeline(steps=[('columntransformer',\n",
       "                 ColumnTransformer(transformers=[('simpleimputer',\n",
       "                                                  SimpleImputer(),\n",
       "                                                  ['Unnamed: 0', 'co', 'no',\n",
       "                                                   'no2', 'o3', 'so2', 'pm2_5',\n",
       "                                                   'pm10', 'nh3'])])),\n",
       "                ('standardscaler', StandardScaler())])</pre></div></div></div><div class=\"sk-serial\"><div class=\"sk-item sk-dashed-wrapped\"><div class=\"sk-label-container\"><div class=\"sk-label sk-toggleable\"><input class=\"sk-toggleable__control sk-hidden--visually\" id=\"6d56f030-7e11-4fa6-b39d-48be9762807f\" type=\"checkbox\" ><label class=\"sk-toggleable__label\" for=\"6d56f030-7e11-4fa6-b39d-48be9762807f\">columntransformer: ColumnTransformer</label><div class=\"sk-toggleable__content\"><pre>ColumnTransformer(transformers=[('simpleimputer', SimpleImputer(),\n",
       "                                 ['Unnamed: 0', 'co', 'no', 'no2', 'o3', 'so2',\n",
       "                                  'pm2_5', 'pm10', 'nh3'])])</pre></div></div></div><div class=\"sk-parallel\"><div class=\"sk-parallel-item\"><div class=\"sk-item\"><div class=\"sk-label-container\"><div class=\"sk-label sk-toggleable\"><input class=\"sk-toggleable__control sk-hidden--visually\" id=\"bebcd5e2-51f0-4cdf-9a21-b8645f050c2d\" type=\"checkbox\" ><label class=\"sk-toggleable__label\" for=\"bebcd5e2-51f0-4cdf-9a21-b8645f050c2d\">simpleimputer</label><div class=\"sk-toggleable__content\"><pre>['Unnamed: 0', 'co', 'no', 'no2', 'o3', 'so2', 'pm2_5', 'pm10', 'nh3']</pre></div></div></div><div class=\"sk-serial\"><div class=\"sk-item\"><div class=\"sk-estimator sk-toggleable\"><input class=\"sk-toggleable__control sk-hidden--visually\" id=\"bd972bde-0bf5-4828-86d0-c611a822e802\" type=\"checkbox\" ><label class=\"sk-toggleable__label\" for=\"bd972bde-0bf5-4828-86d0-c611a822e802\">SimpleImputer</label><div class=\"sk-toggleable__content\"><pre>SimpleImputer()</pre></div></div></div></div></div></div></div></div><div class=\"sk-item\"><div class=\"sk-estimator sk-toggleable\"><input class=\"sk-toggleable__control sk-hidden--visually\" id=\"e62274bd-5cee-491b-a59e-2c68a1025f78\" type=\"checkbox\" ><label class=\"sk-toggleable__label\" for=\"e62274bd-5cee-491b-a59e-2c68a1025f78\">StandardScaler</label><div class=\"sk-toggleable__content\"><pre>StandardScaler()</pre></div></div></div></div></div></div></div>"
      ],
      "text/plain": [
       "Pipeline(steps=[('columntransformer',\n",
       "                 ColumnTransformer(transformers=[('simpleimputer',\n",
       "                                                  SimpleImputer(),\n",
       "                                                  ['Unnamed: 0', 'co', 'no',\n",
       "                                                   'no2', 'o3', 'so2', 'pm2_5',\n",
       "                                                   'pm10', 'nh3'])])),\n",
       "                ('standardscaler', StandardScaler())])"
      ]
     },
     "execution_count": 23,
     "metadata": {},
     "output_type": "execute_result"
    }
   ],
   "source": [
    "preprocess_pipeline"
   ]
  },
  {
   "cell_type": "markdown",
   "id": "7d8c55d7",
   "metadata": {},
   "source": [
    "## Tiền xử lý (tập validation)"
   ]
  },
  {
   "cell_type": "code",
   "execution_count": 24,
   "id": "d9dcd584",
   "metadata": {},
   "outputs": [
    {
     "data": {
      "text/plain": [
       "(1368, 9)"
      ]
     },
     "execution_count": 24,
     "metadata": {},
     "output_type": "execute_result"
    }
   ],
   "source": [
    "preprocessed_val_X=preprocess_pipeline.transform(val_X_df)\n",
    "preprocessed_val_X.shape"
   ]
  },
  {
   "cell_type": "markdown",
   "id": "c3243b62",
   "metadata": {},
   "source": [
    "## Tiền xử lý + mô hình hóa"
   ]
  },
  {
   "cell_type": "markdown",
   "id": "806e4eb7",
   "metadata": {},
   "source": [
    "### Mô hình MLP- Classifier"
   ]
  },
  {
   "cell_type": "markdown",
   "id": "ddaa164c",
   "metadata": {},
   "source": [
    "- Ta sẽ sử dụng mô hình MLP để phân lớp (với các siêu tham số `hidden_layer_sizes=(20), activation='relu', solver='adam', random_state=0, max_iter=590`)\n",
    "- Không chọn activation = tanh bởi vì làm tròn dữ liệu dưới dạng (0,1) nên việc sử dụng rất khó để hội tụ.\n",
    "- Chọn solver = adam vì dữ liệu trên các tập dữ liệu tương đối lớn (13206 dòng)"
   ]
  },
  {
   "cell_type": "code",
   "execution_count": 25,
   "id": "77bdf5d1",
   "metadata": {},
   "outputs": [
    {
     "data": {
      "text/plain": [
       "'Finish!'"
      ]
     },
     "execution_count": 25,
     "metadata": {},
     "output_type": "execute_result"
    }
   ],
   "source": [
    "neural_net_model = MLPClassifier(hidden_layer_sizes=(20,), activation='relu',\\\n",
    "                                 solver = 'adam', random_state = 0, max_iter = 590)\n",
    "\n",
    "full_pipeline = make_pipeline(preprocess_pipeline, neural_net_model)\n",
    "\n",
    "# Thử nghiệm với các giá trị khác nhau của các siêu tham số\n",
    "# và chọn ra các giá trị tốt nhất\n",
    "train_errs = []\n",
    "val_errs = []\n",
    "alphas = [0.01, 0.1, 0.5, 1, 10]\n",
    "best_val_err = float('inf')\n",
    "best_alpha = None\n",
    "for alpha in alphas:\n",
    "    full_pipeline.set_params(mlpclassifier__alpha = alpha)\n",
    "\n",
    "    full_pipeline.fit(train_X_df, train_y_sr)\n",
    "    train_errs.append((1 - full_pipeline.score(train_X_df, train_y_sr)) * 100)\n",
    "    val_errs.append((1 - full_pipeline.score(val_X_df, val_y_sr)) * 100)\n",
    "\n",
    "best_val_err = min(val_errs)\n",
    "index = val_errs.index(min(val_errs))\n",
    "best_alpha = alphas[index]\n",
    "\n",
    "'Finish!'"
   ]
  },
  {
   "cell_type": "code",
   "execution_count": 26,
   "id": "7514e490",
   "metadata": {},
   "outputs": [
    {
     "data": {
      "text/html": [
       "<style>#sk-ee807809-ec98-4c92-b8ee-c5813c183aec {color: black;background-color: white;}#sk-ee807809-ec98-4c92-b8ee-c5813c183aec pre{padding: 0;}#sk-ee807809-ec98-4c92-b8ee-c5813c183aec div.sk-toggleable {background-color: white;}#sk-ee807809-ec98-4c92-b8ee-c5813c183aec label.sk-toggleable__label {cursor: pointer;display: block;width: 100%;margin-bottom: 0;padding: 0.2em 0.3em;box-sizing: border-box;text-align: center;}#sk-ee807809-ec98-4c92-b8ee-c5813c183aec div.sk-toggleable__content {max-height: 0;max-width: 0;overflow: hidden;text-align: left;background-color: #f0f8ff;}#sk-ee807809-ec98-4c92-b8ee-c5813c183aec div.sk-toggleable__content pre {margin: 0.2em;color: black;border-radius: 0.25em;background-color: #f0f8ff;}#sk-ee807809-ec98-4c92-b8ee-c5813c183aec input.sk-toggleable__control:checked~div.sk-toggleable__content {max-height: 200px;max-width: 100%;overflow: auto;}#sk-ee807809-ec98-4c92-b8ee-c5813c183aec div.sk-estimator input.sk-toggleable__control:checked~label.sk-toggleable__label {background-color: #d4ebff;}#sk-ee807809-ec98-4c92-b8ee-c5813c183aec div.sk-label input.sk-toggleable__control:checked~label.sk-toggleable__label {background-color: #d4ebff;}#sk-ee807809-ec98-4c92-b8ee-c5813c183aec input.sk-hidden--visually {border: 0;clip: rect(1px 1px 1px 1px);clip: rect(1px, 1px, 1px, 1px);height: 1px;margin: -1px;overflow: hidden;padding: 0;position: absolute;width: 1px;}#sk-ee807809-ec98-4c92-b8ee-c5813c183aec div.sk-estimator {font-family: monospace;background-color: #f0f8ff;margin: 0.25em 0.25em;border: 1px dotted black;border-radius: 0.25em;box-sizing: border-box;}#sk-ee807809-ec98-4c92-b8ee-c5813c183aec div.sk-estimator:hover {background-color: #d4ebff;}#sk-ee807809-ec98-4c92-b8ee-c5813c183aec div.sk-parallel-item::after {content: \"\";width: 100%;border-bottom: 1px solid gray;flex-grow: 1;}#sk-ee807809-ec98-4c92-b8ee-c5813c183aec div.sk-label:hover label.sk-toggleable__label {background-color: #d4ebff;}#sk-ee807809-ec98-4c92-b8ee-c5813c183aec div.sk-serial::before {content: \"\";position: absolute;border-left: 1px solid gray;box-sizing: border-box;top: 2em;bottom: 0;left: 50%;}#sk-ee807809-ec98-4c92-b8ee-c5813c183aec div.sk-serial {display: flex;flex-direction: column;align-items: center;background-color: white;}#sk-ee807809-ec98-4c92-b8ee-c5813c183aec div.sk-item {z-index: 1;}#sk-ee807809-ec98-4c92-b8ee-c5813c183aec div.sk-parallel {display: flex;align-items: stretch;justify-content: center;background-color: white;}#sk-ee807809-ec98-4c92-b8ee-c5813c183aec div.sk-parallel-item {display: flex;flex-direction: column;position: relative;background-color: white;}#sk-ee807809-ec98-4c92-b8ee-c5813c183aec div.sk-parallel-item:first-child::after {align-self: flex-end;width: 50%;}#sk-ee807809-ec98-4c92-b8ee-c5813c183aec div.sk-parallel-item:last-child::after {align-self: flex-start;width: 50%;}#sk-ee807809-ec98-4c92-b8ee-c5813c183aec div.sk-parallel-item:only-child::after {width: 0;}#sk-ee807809-ec98-4c92-b8ee-c5813c183aec div.sk-dashed-wrapped {border: 1px dashed gray;margin: 0.2em;box-sizing: border-box;padding-bottom: 0.1em;background-color: white;position: relative;}#sk-ee807809-ec98-4c92-b8ee-c5813c183aec div.sk-label label {font-family: monospace;font-weight: bold;background-color: white;display: inline-block;line-height: 1.2em;}#sk-ee807809-ec98-4c92-b8ee-c5813c183aec div.sk-label-container {position: relative;z-index: 2;text-align: center;}#sk-ee807809-ec98-4c92-b8ee-c5813c183aec div.sk-container {display: inline-block;position: relative;}</style><div id=\"sk-ee807809-ec98-4c92-b8ee-c5813c183aec\" class\"sk-top-container\"><div class=\"sk-container\"><div class=\"sk-item sk-dashed-wrapped\"><div class=\"sk-label-container\"><div class=\"sk-label sk-toggleable\"><input class=\"sk-toggleable__control sk-hidden--visually\" id=\"180e9b80-cb90-4178-80e0-4aed138b3190\" type=\"checkbox\" ><label class=\"sk-toggleable__label\" for=\"180e9b80-cb90-4178-80e0-4aed138b3190\">Pipeline</label><div class=\"sk-toggleable__content\"><pre>Pipeline(steps=[('pipeline',\n",
       "                 Pipeline(steps=[('columntransformer',\n",
       "                                  ColumnTransformer(transformers=[('simpleimputer',\n",
       "                                                                   SimpleImputer(),\n",
       "                                                                   ['Unnamed: '\n",
       "                                                                    '0',\n",
       "                                                                    'co', 'no',\n",
       "                                                                    'no2', 'o3',\n",
       "                                                                    'so2',\n",
       "                                                                    'pm2_5',\n",
       "                                                                    'pm10',\n",
       "                                                                    'nh3'])])),\n",
       "                                 ('standardscaler', StandardScaler())])),\n",
       "                ('mlpclassifier',\n",
       "                 MLPClassifier(alpha=10, hidden_layer_sizes=(20,), max_iter=590,\n",
       "                               random_state=0))])</pre></div></div></div><div class=\"sk-serial\"><div class=\"sk-item\"><div class=\"sk-label-container\"><div class=\"sk-label sk-toggleable\"><input class=\"sk-toggleable__control sk-hidden--visually\" id=\"1d9e0a23-0bac-48dd-9452-b7be8d699136\" type=\"checkbox\" ><label class=\"sk-toggleable__label\" for=\"1d9e0a23-0bac-48dd-9452-b7be8d699136\">pipeline: Pipeline</label><div class=\"sk-toggleable__content\"><pre>Pipeline(steps=[('columntransformer',\n",
       "                 ColumnTransformer(transformers=[('simpleimputer',\n",
       "                                                  SimpleImputer(),\n",
       "                                                  ['Unnamed: 0', 'co', 'no',\n",
       "                                                   'no2', 'o3', 'so2', 'pm2_5',\n",
       "                                                   'pm10', 'nh3'])])),\n",
       "                ('standardscaler', StandardScaler())])</pre></div></div></div><div class=\"sk-serial\"><div class=\"sk-item sk-dashed-wrapped\"><div class=\"sk-label-container\"><div class=\"sk-label sk-toggleable\"><input class=\"sk-toggleable__control sk-hidden--visually\" id=\"a06ce12b-80af-4bf6-9e2a-972c0a6152f9\" type=\"checkbox\" ><label class=\"sk-toggleable__label\" for=\"a06ce12b-80af-4bf6-9e2a-972c0a6152f9\">columntransformer: ColumnTransformer</label><div class=\"sk-toggleable__content\"><pre>ColumnTransformer(transformers=[('simpleimputer', SimpleImputer(),\n",
       "                                 ['Unnamed: 0', 'co', 'no', 'no2', 'o3', 'so2',\n",
       "                                  'pm2_5', 'pm10', 'nh3'])])</pre></div></div></div><div class=\"sk-parallel\"><div class=\"sk-parallel-item\"><div class=\"sk-item\"><div class=\"sk-label-container\"><div class=\"sk-label sk-toggleable\"><input class=\"sk-toggleable__control sk-hidden--visually\" id=\"a5635fda-b0c6-4176-952a-c7c9447dd695\" type=\"checkbox\" ><label class=\"sk-toggleable__label\" for=\"a5635fda-b0c6-4176-952a-c7c9447dd695\">simpleimputer</label><div class=\"sk-toggleable__content\"><pre>['Unnamed: 0', 'co', 'no', 'no2', 'o3', 'so2', 'pm2_5', 'pm10', 'nh3']</pre></div></div></div><div class=\"sk-serial\"><div class=\"sk-item\"><div class=\"sk-estimator sk-toggleable\"><input class=\"sk-toggleable__control sk-hidden--visually\" id=\"487edddf-4f01-4ee1-9d32-342c92d2f0fd\" type=\"checkbox\" ><label class=\"sk-toggleable__label\" for=\"487edddf-4f01-4ee1-9d32-342c92d2f0fd\">SimpleImputer</label><div class=\"sk-toggleable__content\"><pre>SimpleImputer()</pre></div></div></div></div></div></div></div></div><div class=\"sk-item\"><div class=\"sk-estimator sk-toggleable\"><input class=\"sk-toggleable__control sk-hidden--visually\" id=\"9076d876-f3fb-4a50-8b53-a94128aaec63\" type=\"checkbox\" ><label class=\"sk-toggleable__label\" for=\"9076d876-f3fb-4a50-8b53-a94128aaec63\">StandardScaler</label><div class=\"sk-toggleable__content\"><pre>StandardScaler()</pre></div></div></div></div></div><div class=\"sk-item\"><div class=\"sk-estimator sk-toggleable\"><input class=\"sk-toggleable__control sk-hidden--visually\" id=\"fa363b0a-b99c-495f-9b91-883ef5e7ed44\" type=\"checkbox\" ><label class=\"sk-toggleable__label\" for=\"fa363b0a-b99c-495f-9b91-883ef5e7ed44\">MLPClassifier</label><div class=\"sk-toggleable__content\"><pre>MLPClassifier(alpha=10, hidden_layer_sizes=(20,), max_iter=590, random_state=0)</pre></div></div></div></div></div></div></div>"
      ],
      "text/plain": [
       "Pipeline(steps=[('pipeline',\n",
       "                 Pipeline(steps=[('columntransformer',\n",
       "                                  ColumnTransformer(transformers=[('simpleimputer',\n",
       "                                                                   SimpleImputer(),\n",
       "                                                                   ['Unnamed: '\n",
       "                                                                    '0',\n",
       "                                                                    'co', 'no',\n",
       "                                                                    'no2', 'o3',\n",
       "                                                                    'so2',\n",
       "                                                                    'pm2_5',\n",
       "                                                                    'pm10',\n",
       "                                                                    'nh3'])])),\n",
       "                                 ('standardscaler', StandardScaler())])),\n",
       "                ('mlpclassifier',\n",
       "                 MLPClassifier(alpha=10, hidden_layer_sizes=(20,), max_iter=590,\n",
       "                               random_state=0))])"
      ]
     },
     "execution_count": 26,
     "metadata": {},
     "output_type": "execute_result"
    }
   ],
   "source": [
    "full_pipeline"
   ]
  },
  {
   "cell_type": "markdown",
   "id": "c770642d",
   "metadata": {},
   "source": [
    "#### Độ lỗi trên tập train"
   ]
  },
  {
   "cell_type": "code",
   "execution_count": 27,
   "id": "106cc871",
   "metadata": {},
   "outputs": [
    {
     "data": {
      "text/plain": [
       "Text(0, 0.5, 'alpha')"
      ]
     },
     "execution_count": 27,
     "metadata": {},
     "output_type": "execute_result"
    },
    {
     "data": {
      "image/png": "[encoded data removed]",
      "text/plain": [
       "<Figure size 432x288 with 1 Axes>"
      ]
     },
     "metadata": {
      "needs_background": "light"
     },
     "output_type": "display_data"
    }
   ],
   "source": [
    "ax = pd.Series(train_errs, index = alphas).plot.barh()\n",
    "ax.set_xlabel('Độ lỗi trên tập train (%)')\n",
    "ax.set_ylabel('alpha')"
   ]
  },
  {
   "cell_type": "markdown",
   "id": "518782dc",
   "metadata": {},
   "source": [
    "#### Độ lỗi trên tập valid"
   ]
  },
  {
   "cell_type": "code",
   "execution_count": 28,
   "id": "f93c5bf5",
   "metadata": {},
   "outputs": [
    {
     "data": {
      "text/plain": [
       "Text(0, 0.5, 'alpha')"
      ]
     },
     "execution_count": 28,
     "metadata": {},
     "output_type": "execute_result"
    },
    {
     "data": {
      "image/png": "[encoded data removed]",
      "text/plain": [
       "<Figure size 432x288 with 1 Axes>"
      ]
     },
     "metadata": {
      "needs_background": "light"
     },
     "output_type": "display_data"
    }
   ],
   "source": [
    "bx = pd.Series(val_errs, index = alphas).plot.barh()\n",
    "bx.set_xlabel('Độ lỗi trên tập valid (%)')\n",
    "bx.set_ylabel('alpha')"
   ]
  },
  {
   "cell_type": "markdown",
   "id": "f1b07afd",
   "metadata": {},
   "source": [
    "#### Độ lỗi nhỏ nhất trên tập valid và alpha tốt nhất"
   ]
  },
  {
   "cell_type": "code",
   "execution_count": 29,
   "id": "727befbe",
   "metadata": {},
   "outputs": [
    {
     "name": "stdout",
     "output_type": "stream",
     "text": [
      "Best valid err:  2.85 %\n",
      "\n",
      "Best alpha:  0.01\n"
     ]
    }
   ],
   "source": [
    "print('Best valid err: ', best_val_err.round(2), '%')\n",
    "print()\n",
    "print('Best alpha: ',best_alpha)"
   ]
  },
  {
   "cell_type": "markdown",
   "id": "e07ea1ea",
   "metadata": {},
   "source": [
    "Cuối cùng, huấn luyện lại `full_pipeline` trên `X_df` và `y_sr` (tập huấn luyện + tập validation) với `best_alpha` tìm được ở trên để ra được mô hình cụ thể cuối cùng."
   ]
  },
  {
   "cell_type": "code",
   "execution_count": 30,
   "id": "83d7133f",
   "metadata": {},
   "outputs": [
    {
     "data": {
      "text/html": [
       "<style>#sk-9e4c8cb3-93c5-4b7c-a5b1-242837a5e9e3 {color: black;background-color: white;}#sk-9e4c8cb3-93c5-4b7c-a5b1-242837a5e9e3 pre{padding: 0;}#sk-9e4c8cb3-93c5-4b7c-a5b1-242837a5e9e3 div.sk-toggleable {background-color: white;}#sk-9e4c8cb3-93c5-4b7c-a5b1-242837a5e9e3 label.sk-toggleable__label {cursor: pointer;display: block;width: 100%;margin-bottom: 0;padding: 0.2em 0.3em;box-sizing: border-box;text-align: center;}#sk-9e4c8cb3-93c5-4b7c-a5b1-242837a5e9e3 div.sk-toggleable__content {max-height: 0;max-width: 0;overflow: hidden;text-align: left;background-color: #f0f8ff;}#sk-9e4c8cb3-93c5-4b7c-a5b1-242837a5e9e3 div.sk-toggleable__content pre {margin: 0.2em;color: black;border-radius: 0.25em;background-color: #f0f8ff;}#sk-9e4c8cb3-93c5-4b7c-a5b1-242837a5e9e3 input.sk-toggleable__control:checked~div.sk-toggleable__content {max-height: 200px;max-width: 100%;overflow: auto;}#sk-9e4c8cb3-93c5-4b7c-a5b1-242837a5e9e3 div.sk-estimator input.sk-toggleable__control:checked~label.sk-toggleable__label {background-color: #d4ebff;}#sk-9e4c8cb3-93c5-4b7c-a5b1-242837a5e9e3 div.sk-label input.sk-toggleable__control:checked~label.sk-toggleable__label {background-color: #d4ebff;}#sk-9e4c8cb3-93c5-4b7c-a5b1-242837a5e9e3 input.sk-hidden--visually {border: 0;clip: rect(1px 1px 1px 1px);clip: rect(1px, 1px, 1px, 1px);height: 1px;margin: -1px;overflow: hidden;padding: 0;position: absolute;width: 1px;}#sk-9e4c8cb3-93c5-4b7c-a5b1-242837a5e9e3 div.sk-estimator {font-family: monospace;background-color: #f0f8ff;margin: 0.25em 0.25em;border: 1px dotted black;border-radius: 0.25em;box-sizing: border-box;}#sk-9e4c8cb3-93c5-4b7c-a5b1-242837a5e9e3 div.sk-estimator:hover {background-color: #d4ebff;}#sk-9e4c8cb3-93c5-4b7c-a5b1-242837a5e9e3 div.sk-parallel-item::after {content: \"\";width: 100%;border-bottom: 1px solid gray;flex-grow: 1;}#sk-9e4c8cb3-93c5-4b7c-a5b1-242837a5e9e3 div.sk-label:hover label.sk-toggleable__label {background-color: #d4ebff;}#sk-9e4c8cb3-93c5-4b7c-a5b1-242837a5e9e3 div.sk-serial::before {content: \"\";position: absolute;border-left: 1px solid gray;box-sizing: border-box;top: 2em;bottom: 0;left: 50%;}#sk-9e4c8cb3-93c5-4b7c-a5b1-242837a5e9e3 div.sk-serial {display: flex;flex-direction: column;align-items: center;background-color: white;}#sk-9e4c8cb3-93c5-4b7c-a5b1-242837a5e9e3 div.sk-item {z-index: 1;}#sk-9e4c8cb3-93c5-4b7c-a5b1-242837a5e9e3 div.sk-parallel {display: flex;align-items: stretch;justify-content: center;background-color: white;}#sk-9e4c8cb3-93c5-4b7c-a5b1-242837a5e9e3 div.sk-parallel-item {display: flex;flex-direction: column;position: relative;background-color: white;}#sk-9e4c8cb3-93c5-4b7c-a5b1-242837a5e9e3 div.sk-parallel-item:first-child::after {align-self: flex-end;width: 50%;}#sk-9e4c8cb3-93c5-4b7c-a5b1-242837a5e9e3 div.sk-parallel-item:last-child::after {align-self: flex-start;width: 50%;}#sk-9e4c8cb3-93c5-4b7c-a5b1-242837a5e9e3 div.sk-parallel-item:only-child::after {width: 0;}#sk-9e4c8cb3-93c5-4b7c-a5b1-242837a5e9e3 div.sk-dashed-wrapped {border: 1px dashed gray;margin: 0.2em;box-sizing: border-box;padding-bottom: 0.1em;background-color: white;position: relative;}#sk-9e4c8cb3-93c5-4b7c-a5b1-242837a5e9e3 div.sk-label label {font-family: monospace;font-weight: bold;background-color: white;display: inline-block;line-height: 1.2em;}#sk-9e4c8cb3-93c5-4b7c-a5b1-242837a5e9e3 div.sk-label-container {position: relative;z-index: 2;text-align: center;}#sk-9e4c8cb3-93c5-4b7c-a5b1-242837a5e9e3 div.sk-container {display: inline-block;position: relative;}</style><div id=\"sk-9e4c8cb3-93c5-4b7c-a5b1-242837a5e9e3\" class\"sk-top-container\"><div class=\"sk-container\"><div class=\"sk-item sk-dashed-wrapped\"><div class=\"sk-label-container\"><div class=\"sk-label sk-toggleable\"><input class=\"sk-toggleable__control sk-hidden--visually\" id=\"e386f261-abcc-430a-9bff-f96bf39a688c\" type=\"checkbox\" ><label class=\"sk-toggleable__label\" for=\"e386f261-abcc-430a-9bff-f96bf39a688c\">Pipeline</label><div class=\"sk-toggleable__content\"><pre>Pipeline(steps=[('pipeline',\n",
       "                 Pipeline(steps=[('columntransformer',\n",
       "                                  ColumnTransformer(transformers=[('simpleimputer',\n",
       "                                                                   SimpleImputer(),\n",
       "                                                                   ['Unnamed: '\n",
       "                                                                    '0',\n",
       "                                                                    'co', 'no',\n",
       "                                                                    'no2', 'o3',\n",
       "                                                                    'so2',\n",
       "                                                                    'pm2_5',\n",
       "                                                                    'pm10',\n",
       "                                                                    'nh3'])])),\n",
       "                                 ('standardscaler', StandardScaler())])),\n",
       "                ('mlpclassifier',\n",
       "                 MLPClassifier(alpha=0.01, hidden_layer_sizes=(20,),\n",
       "                               max_iter=590, random_state=0))])</pre></div></div></div><div class=\"sk-serial\"><div class=\"sk-item\"><div class=\"sk-label-container\"><div class=\"sk-label sk-toggleable\"><input class=\"sk-toggleable__control sk-hidden--visually\" id=\"a5d0aeab-63b7-4635-bf45-39da3476234b\" type=\"checkbox\" ><label class=\"sk-toggleable__label\" for=\"a5d0aeab-63b7-4635-bf45-39da3476234b\">pipeline: Pipeline</label><div class=\"sk-toggleable__content\"><pre>Pipeline(steps=[('columntransformer',\n",
       "                 ColumnTransformer(transformers=[('simpleimputer',\n",
       "                                                  SimpleImputer(),\n",
       "                                                  ['Unnamed: 0', 'co', 'no',\n",
       "                                                   'no2', 'o3', 'so2', 'pm2_5',\n",
       "                                                   'pm10', 'nh3'])])),\n",
       "                ('standardscaler', StandardScaler())])</pre></div></div></div><div class=\"sk-serial\"><div class=\"sk-item sk-dashed-wrapped\"><div class=\"sk-label-container\"><div class=\"sk-label sk-toggleable\"><input class=\"sk-toggleable__control sk-hidden--visually\" id=\"e87b4fc1-1f54-42c5-8ce4-5afe2f561b74\" type=\"checkbox\" ><label class=\"sk-toggleable__label\" for=\"e87b4fc1-1f54-42c5-8ce4-5afe2f561b74\">columntransformer: ColumnTransformer</label><div class=\"sk-toggleable__content\"><pre>ColumnTransformer(transformers=[('simpleimputer', SimpleImputer(),\n",
       "                                 ['Unnamed: 0', 'co', 'no', 'no2', 'o3', 'so2',\n",
       "                                  'pm2_5', 'pm10', 'nh3'])])</pre></div></div></div><div class=\"sk-parallel\"><div class=\"sk-parallel-item\"><div class=\"sk-item\"><div class=\"sk-label-container\"><div class=\"sk-label sk-toggleable\"><input class=\"sk-toggleable__control sk-hidden--visually\" id=\"5b4bb061-13b7-4a53-9156-b197b78bff08\" type=\"checkbox\" ><label class=\"sk-toggleable__label\" for=\"5b4bb061-13b7-4a53-9156-b197b78bff08\">simpleimputer</label><div class=\"sk-toggleable__content\"><pre>['Unnamed: 0', 'co', 'no', 'no2', 'o3', 'so2', 'pm2_5', 'pm10', 'nh3']</pre></div></div></div><div class=\"sk-serial\"><div class=\"sk-item\"><div class=\"sk-estimator sk-toggleable\"><input class=\"sk-toggleable__control sk-hidden--visually\" id=\"c51428e1-054b-486d-a02d-2c1bb04e2d41\" type=\"checkbox\" ><label class=\"sk-toggleable__label\" for=\"c51428e1-054b-486d-a02d-2c1bb04e2d41\">SimpleImputer</label><div class=\"sk-toggleable__content\"><pre>SimpleImputer()</pre></div></div></div></div></div></div></div></div><div class=\"sk-item\"><div class=\"sk-estimator sk-toggleable\"><input class=\"sk-toggleable__control sk-hidden--visually\" id=\"b295f370-d4a7-4044-b9fc-5d9de8e3af30\" type=\"checkbox\" ><label class=\"sk-toggleable__label\" for=\"b295f370-d4a7-4044-b9fc-5d9de8e3af30\">StandardScaler</label><div class=\"sk-toggleable__content\"><pre>StandardScaler()</pre></div></div></div></div></div><div class=\"sk-item\"><div class=\"sk-estimator sk-toggleable\"><input class=\"sk-toggleable__control sk-hidden--visually\" id=\"edf26131-18f5-4e69-9586-6272aabe3379\" type=\"checkbox\" ><label class=\"sk-toggleable__label\" for=\"edf26131-18f5-4e69-9586-6272aabe3379\">MLPClassifier</label><div class=\"sk-toggleable__content\"><pre>MLPClassifier(alpha=0.01, hidden_layer_sizes=(20,), max_iter=590,\n",
       "              random_state=0)</pre></div></div></div></div></div></div></div>"
      ],
      "text/plain": [
       "Pipeline(steps=[('pipeline',\n",
       "                 Pipeline(steps=[('columntransformer',\n",
       "                                  ColumnTransformer(transformers=[('simpleimputer',\n",
       "                                                                   SimpleImputer(),\n",
       "                                                                   ['Unnamed: '\n",
       "                                                                    '0',\n",
       "                                                                    'co', 'no',\n",
       "                                                                    'no2', 'o3',\n",
       "                                                                    'so2',\n",
       "                                                                    'pm2_5',\n",
       "                                                                    'pm10',\n",
       "                                                                    'nh3'])])),\n",
       "                                 ('standardscaler', StandardScaler())])),\n",
       "                ('mlpclassifier',\n",
       "                 MLPClassifier(alpha=0.01, hidden_layer_sizes=(20,),\n",
       "                               max_iter=590, random_state=0))])"
      ]
     },
     "execution_count": 30,
     "metadata": {},
     "output_type": "execute_result"
    }
   ],
   "source": [
    "full_pipeline.set_params(mlpclassifier__alpha = best_alpha)\n",
    "\n",
    "full_pipeline.fit(temp_X_df, temp_y_sr)"
   ]
  },
  {
   "cell_type": "code",
   "execution_count": 31,
   "id": "a0476d5e",
   "metadata": {},
   "outputs": [],
   "source": [
    "errors_temp=[]\n",
    "errors_test=[]"
   ]
  },
  {
   "cell_type": "markdown",
   "id": "0f80ce22",
   "metadata": {},
   "source": [
    "### Đánh giá mô hình tìm được:\n",
    "Đánh giá mô hình tìm được với test data"
   ]
  },
  {
   "cell_type": "code",
   "execution_count": 32,
   "id": "ed9ecde1",
   "metadata": {},
   "outputs": [
    {
     "name": "stdout",
     "output_type": "stream",
     "text": [
      "Error with train+val data:  1.74 %\n"
     ]
    }
   ],
   "source": [
    "#Độ lỗi trên tập (train+validation)\n",
    "err = ((1-full_pipeline.score(temp_X_df, temp_y_sr)) * 100).round(2)\n",
    "errors_temp.append(err)\n",
    "print('Error with train+val data: ', err, '%')"
   ]
  },
  {
   "cell_type": "code",
   "execution_count": 33,
   "id": "0b4c6b1d",
   "metadata": {},
   "outputs": [
    {
     "name": "stdout",
     "output_type": "stream",
     "text": [
      "Error with test data:  2.34 %\n"
     ]
    }
   ],
   "source": [
    "#Độ lỗi trên tập test\n",
    "err = ((1-full_pipeline.score(test_X_df, test_y_sr)) * 100).round(2)\n",
    "errors_test.append(err)\n",
    "print('Error with test data: ', err, '%')"
   ]
  },
  {
   "cell_type": "markdown",
   "id": "2bb861ae",
   "metadata": {},
   "source": [
    "### Nhận xét\n",
    "- Mô hình MLP-Classifier fit khá tốt trên tập dữ liệu<br/>\n",
    "- Độ lỗi trên tập valid tỉ lệ thuận với alpha trên cả tập (train+val) và tập test<br/>"
   ]
  },
  {
   "cell_type": "markdown",
   "id": "e66ef951",
   "metadata": {},
   "source": [
    "### Mô hình Softmax Regression"
   ]
  },
  {
   "cell_type": "code",
   "execution_count": 34,
   "id": "65dda082",
   "metadata": {},
   "outputs": [
    {
     "name": "stderr",
     "output_type": "stream",
     "text": [
      "C:\\Users\\3442\\miniconda3\\envs\\min_ds-env\\lib\\site-packages\\sklearn\\linear_model\\_logistic.py:763: ConvergenceWarning: lbfgs failed to converge (status=1):\n",
      "STOP: TOTAL NO. of ITERATIONS REACHED LIMIT.\n",
      "\n",
      "Increase the number of iterations (max_iter) or scale the data as shown in:\n",
      "    https://scikit-learn.org/stable/modules/preprocessing.html\n",
      "Please also refer to the documentation for alternative solver options:\n",
      "    https://scikit-learn.org/stable/modules/linear_model.html#logistic-regression\n",
      "  n_iter_i = _check_optimize_result(\n"
     ]
    },
    {
     "data": {
      "text/html": [
       "<style>#sk-1bef9483-05f6-45fe-85ab-babdb2d14ee5 {color: black;background-color: white;}#sk-1bef9483-05f6-45fe-85ab-babdb2d14ee5 pre{padding: 0;}#sk-1bef9483-05f6-45fe-85ab-babdb2d14ee5 div.sk-toggleable {background-color: white;}#sk-1bef9483-05f6-45fe-85ab-babdb2d14ee5 label.sk-toggleable__label {cursor: pointer;display: block;width: 100%;margin-bottom: 0;padding: 0.2em 0.3em;box-sizing: border-box;text-align: center;}#sk-1bef9483-05f6-45fe-85ab-babdb2d14ee5 div.sk-toggleable__content {max-height: 0;max-width: 0;overflow: hidden;text-align: left;background-color: #f0f8ff;}#sk-1bef9483-05f6-45fe-85ab-babdb2d14ee5 div.sk-toggleable__content pre {margin: 0.2em;color: black;border-radius: 0.25em;background-color: #f0f8ff;}#sk-1bef9483-05f6-45fe-85ab-babdb2d14ee5 input.sk-toggleable__control:checked~div.sk-toggleable__content {max-height: 200px;max-width: 100%;overflow: auto;}#sk-1bef9483-05f6-45fe-85ab-babdb2d14ee5 div.sk-estimator input.sk-toggleable__control:checked~label.sk-toggleable__label {background-color: #d4ebff;}#sk-1bef9483-05f6-45fe-85ab-babdb2d14ee5 div.sk-label input.sk-toggleable__control:checked~label.sk-toggleable__label {background-color: #d4ebff;}#sk-1bef9483-05f6-45fe-85ab-babdb2d14ee5 input.sk-hidden--visually {border: 0;clip: rect(1px 1px 1px 1px);clip: rect(1px, 1px, 1px, 1px);height: 1px;margin: -1px;overflow: hidden;padding: 0;position: absolute;width: 1px;}#sk-1bef9483-05f6-45fe-85ab-babdb2d14ee5 div.sk-estimator {font-family: monospace;background-color: #f0f8ff;margin: 0.25em 0.25em;border: 1px dotted black;border-radius: 0.25em;box-sizing: border-box;}#sk-1bef9483-05f6-45fe-85ab-babdb2d14ee5 div.sk-estimator:hover {background-color: #d4ebff;}#sk-1bef9483-05f6-45fe-85ab-babdb2d14ee5 div.sk-parallel-item::after {content: \"\";width: 100%;border-bottom: 1px solid gray;flex-grow: 1;}#sk-1bef9483-05f6-45fe-85ab-babdb2d14ee5 div.sk-label:hover label.sk-toggleable__label {background-color: #d4ebff;}#sk-1bef9483-05f6-45fe-85ab-babdb2d14ee5 div.sk-serial::before {content: \"\";position: absolute;border-left: 1px solid gray;box-sizing: border-box;top: 2em;bottom: 0;left: 50%;}#sk-1bef9483-05f6-45fe-85ab-babdb2d14ee5 div.sk-serial {display: flex;flex-direction: column;align-items: center;background-color: white;}#sk-1bef9483-05f6-45fe-85ab-babdb2d14ee5 div.sk-item {z-index: 1;}#sk-1bef9483-05f6-45fe-85ab-babdb2d14ee5 div.sk-parallel {display: flex;align-items: stretch;justify-content: center;background-color: white;}#sk-1bef9483-05f6-45fe-85ab-babdb2d14ee5 div.sk-parallel-item {display: flex;flex-direction: column;position: relative;background-color: white;}#sk-1bef9483-05f6-45fe-85ab-babdb2d14ee5 div.sk-parallel-item:first-child::after {align-self: flex-end;width: 50%;}#sk-1bef9483-05f6-45fe-85ab-babdb2d14ee5 div.sk-parallel-item:last-child::after {align-self: flex-start;width: 50%;}#sk-1bef9483-05f6-45fe-85ab-babdb2d14ee5 div.sk-parallel-item:only-child::after {width: 0;}#sk-1bef9483-05f6-45fe-85ab-babdb2d14ee5 div.sk-dashed-wrapped {border: 1px dashed gray;margin: 0.2em;box-sizing: border-box;padding-bottom: 0.1em;background-color: white;position: relative;}#sk-1bef9483-05f6-45fe-85ab-babdb2d14ee5 div.sk-label label {font-family: monospace;font-weight: bold;background-color: white;display: inline-block;line-height: 1.2em;}#sk-1bef9483-05f6-45fe-85ab-babdb2d14ee5 div.sk-label-container {position: relative;z-index: 2;text-align: center;}#sk-1bef9483-05f6-45fe-85ab-babdb2d14ee5 div.sk-container {display: inline-block;position: relative;}</style><div id=\"sk-1bef9483-05f6-45fe-85ab-babdb2d14ee5\" class\"sk-top-container\"><div class=\"sk-container\"><div class=\"sk-item sk-dashed-wrapped\"><div class=\"sk-label-container\"><div class=\"sk-label sk-toggleable\"><input class=\"sk-toggleable__control sk-hidden--visually\" id=\"6b2b0ed1-fe76-4ec7-acfc-3cd42777db86\" type=\"checkbox\" ><label class=\"sk-toggleable__label\" for=\"6b2b0ed1-fe76-4ec7-acfc-3cd42777db86\">Pipeline</label><div class=\"sk-toggleable__content\"><pre>Pipeline(steps=[('pipeline',\n",
       "                 Pipeline(steps=[('columntransformer',\n",
       "                                  ColumnTransformer(transformers=[('simpleimputer',\n",
       "                                                                   SimpleImputer(),\n",
       "                                                                   ['Unnamed: '\n",
       "                                                                    '0',\n",
       "                                                                    'co', 'no',\n",
       "                                                                    'no2', 'o3',\n",
       "                                                                    'so2',\n",
       "                                                                    'pm2_5',\n",
       "                                                                    'pm10',\n",
       "                                                                    'nh3'])])),\n",
       "                                 ('standardscaler', StandardScaler())])),\n",
       "                ('logisticregression',\n",
       "                 LogisticRegression(multi_class='multinomial'))])</pre></div></div></div><div class=\"sk-serial\"><div class=\"sk-item\"><div class=\"sk-label-container\"><div class=\"sk-label sk-toggleable\"><input class=\"sk-toggleable__control sk-hidden--visually\" id=\"3c55f518-82cc-491f-a383-cd372acb20d9\" type=\"checkbox\" ><label class=\"sk-toggleable__label\" for=\"3c55f518-82cc-491f-a383-cd372acb20d9\">pipeline: Pipeline</label><div class=\"sk-toggleable__content\"><pre>Pipeline(steps=[('columntransformer',\n",
       "                 ColumnTransformer(transformers=[('simpleimputer',\n",
       "                                                  SimpleImputer(),\n",
       "                                                  ['Unnamed: 0', 'co', 'no',\n",
       "                                                   'no2', 'o3', 'so2', 'pm2_5',\n",
       "                                                   'pm10', 'nh3'])])),\n",
       "                ('standardscaler', StandardScaler())])</pre></div></div></div><div class=\"sk-serial\"><div class=\"sk-item sk-dashed-wrapped\"><div class=\"sk-label-container\"><div class=\"sk-label sk-toggleable\"><input class=\"sk-toggleable__control sk-hidden--visually\" id=\"f5209e38-5934-4f1c-a8b5-c9889527d31b\" type=\"checkbox\" ><label class=\"sk-toggleable__label\" for=\"f5209e38-5934-4f1c-a8b5-c9889527d31b\">columntransformer: ColumnTransformer</label><div class=\"sk-toggleable__content\"><pre>ColumnTransformer(transformers=[('simpleimputer', SimpleImputer(),\n",
       "                                 ['Unnamed: 0', 'co', 'no', 'no2', 'o3', 'so2',\n",
       "                                  'pm2_5', 'pm10', 'nh3'])])</pre></div></div></div><div class=\"sk-parallel\"><div class=\"sk-parallel-item\"><div class=\"sk-item\"><div class=\"sk-label-container\"><div class=\"sk-label sk-toggleable\"><input class=\"sk-toggleable__control sk-hidden--visually\" id=\"c36c64c2-d186-4260-954c-3fefd27b0c87\" type=\"checkbox\" ><label class=\"sk-toggleable__label\" for=\"c36c64c2-d186-4260-954c-3fefd27b0c87\">simpleimputer</label><div class=\"sk-toggleable__content\"><pre>['Unnamed: 0', 'co', 'no', 'no2', 'o3', 'so2', 'pm2_5', 'pm10', 'nh3']</pre></div></div></div><div class=\"sk-serial\"><div class=\"sk-item\"><div class=\"sk-estimator sk-toggleable\"><input class=\"sk-toggleable__control sk-hidden--visually\" id=\"7f0aa8d1-fc76-4cb3-acf0-2000a3a7571e\" type=\"checkbox\" ><label class=\"sk-toggleable__label\" for=\"7f0aa8d1-fc76-4cb3-acf0-2000a3a7571e\">SimpleImputer</label><div class=\"sk-toggleable__content\"><pre>SimpleImputer()</pre></div></div></div></div></div></div></div></div><div class=\"sk-item\"><div class=\"sk-estimator sk-toggleable\"><input class=\"sk-toggleable__control sk-hidden--visually\" id=\"0d68ff2c-6e0d-442a-bcfb-aafbc71f26f6\" type=\"checkbox\" ><label class=\"sk-toggleable__label\" for=\"0d68ff2c-6e0d-442a-bcfb-aafbc71f26f6\">StandardScaler</label><div class=\"sk-toggleable__content\"><pre>StandardScaler()</pre></div></div></div></div></div><div class=\"sk-item\"><div class=\"sk-estimator sk-toggleable\"><input class=\"sk-toggleable__control sk-hidden--visually\" id=\"0cf5f03a-f78d-4253-a022-3038a86b909c\" type=\"checkbox\" ><label class=\"sk-toggleable__label\" for=\"0cf5f03a-f78d-4253-a022-3038a86b909c\">LogisticRegression</label><div class=\"sk-toggleable__content\"><pre>LogisticRegression(multi_class='multinomial')</pre></div></div></div></div></div></div></div>"
      ],
      "text/plain": [
       "Pipeline(steps=[('pipeline',\n",
       "                 Pipeline(steps=[('columntransformer',\n",
       "                                  ColumnTransformer(transformers=[('simpleimputer',\n",
       "                                                                   SimpleImputer(),\n",
       "                                                                   ['Unnamed: '\n",
       "                                                                    '0',\n",
       "                                                                    'co', 'no',\n",
       "                                                                    'no2', 'o3',\n",
       "                                                                    'so2',\n",
       "                                                                    'pm2_5',\n",
       "                                                                    'pm10',\n",
       "                                                                    'nh3'])])),\n",
       "                                 ('standardscaler', StandardScaler())])),\n",
       "                ('logisticregression',\n",
       "                 LogisticRegression(multi_class='multinomial'))])"
      ]
     },
     "execution_count": 34,
     "metadata": {},
     "output_type": "execute_result"
    }
   ],
   "source": [
    "log_reg_model = LogisticRegression(multi_class = 'multinomial')\n",
    "full_pipeline_2 = make_pipeline(preprocess_pipeline, log_reg_model)\n",
    "full_pipeline_2.fit(temp_X_df, temp_y_sr)"
   ]
  },
  {
   "cell_type": "code",
   "execution_count": 35,
   "id": "19e281b7",
   "metadata": {},
   "outputs": [
    {
     "name": "stdout",
     "output_type": "stream",
     "text": [
      "Error with train+valid data:  5.75 %\n"
     ]
    }
   ],
   "source": [
    "#Độ lỗi trên tập (train+validation)\n",
    "err = ((1-full_pipeline_2.score(temp_X_df, temp_y_sr)) * 100).round(2)\n",
    "print('Error with train+valid data: ', err, '%')\n",
    "errors_temp.append(err)"
   ]
  },
  {
   "cell_type": "code",
   "execution_count": 36,
   "id": "0878da84",
   "metadata": {},
   "outputs": [
    {
     "name": "stdout",
     "output_type": "stream",
     "text": [
      "Error with test data:  5.99 %\n"
     ]
    }
   ],
   "source": [
    "#Độ lỗi trên tập test\n",
    "err = ((1-full_pipeline_2.score(test_X_df, test_y_sr)) * 100).round(2)\n",
    "print('Error with test data: ', err, '%')\n",
    "errors_test.append(err)"
   ]
  },
  {
   "cell_type": "markdown",
   "id": "d19975f2",
   "metadata": {},
   "source": [
    "### Nhận xét\n",
    "- Độ lỗi trên cả hai không chênh lệch quá nhiều <br/>\n",
    "- Mô hình fit khá ổn trên tập dữ liệu"
   ]
  },
  {
   "cell_type": "markdown",
   "id": "96371eb2",
   "metadata": {},
   "source": [
    "### Mô hình K-Neighbors Classifier"
   ]
  },
  {
   "cell_type": "markdown",
   "id": "7575786e",
   "metadata": {},
   "source": [
    "Thử nghiệm nhiều giá trị của siêu tham số n_neighbors để tìm được độ lỗi trên tập validation tối ưu."
   ]
  },
  {
   "cell_type": "code",
   "execution_count": 37,
   "id": "41f09a54",
   "metadata": {},
   "outputs": [
    {
     "data": {
      "text/plain": [
       "'Finish!'"
      ]
     },
     "execution_count": 37,
     "metadata": {},
     "output_type": "execute_result"
    }
   ],
   "source": [
    "full_pipeline_3 = make_pipeline(preprocess_pipeline,KNeighborsClassifier())\n",
    "# Thử nghiệm với các giá trị khác nhau của các siêu tham số\n",
    "# và chọn ra các giá trị tốt nhất\n",
    "train_errs = []\n",
    "val_errs = []\n",
    "n_neighbors = [2, 3, 4, 5, 6,10,20,30,40,50]\n",
    "best_val_err = float('inf')\n",
    "best_neighbor = None\n",
    "for neighbor in n_neighbors:\n",
    "    full_pipeline_3.set_params(kneighborsclassifier__n_neighbors = neighbor)\n",
    "    full_pipeline_3.fit(train_X_df, train_y_sr)\n",
    "    train_errs.append((1 - full_pipeline_3.score(train_X_df, train_y_sr)) * 100)\n",
    "    val_errs.append((1 - full_pipeline_3.score(val_X_df, val_y_sr)) * 100)\n",
    "\n",
    "best_val_err = min(val_errs)\n",
    "index = val_errs.index(min(val_errs))\n",
    "best_neighbor = n_neighbors[index]\n",
    "\n",
    "'Finish!'"
   ]
  },
  {
   "cell_type": "markdown",
   "id": "43f9e4df",
   "metadata": {},
   "source": [
    "#### Độ lỗi trên tập train"
   ]
  },
  {
   "cell_type": "code",
   "execution_count": 38,
   "id": "7f9b9938",
   "metadata": {},
   "outputs": [
    {
     "data": {
      "text/plain": [
       "Text(0, 0.5, 'neighbor')"
      ]
     },
     "execution_count": 38,
     "metadata": {},
     "output_type": "execute_result"
    },
    {
     "data": {
      "image/png": "[encoded data removed]",
      "text/plain": [
       "<Figure size 432x288 with 1 Axes>"
      ]
     },
     "metadata": {
      "needs_background": "light"
     },
     "output_type": "display_data"
    }
   ],
   "source": [
    "cx = pd.Series(train_errs, index = n_neighbors).plot.barh()\n",
    "cx.set_xlabel('Độ lỗi trên tập train (%)')\n",
    "cx.set_ylabel('neighbor')"
   ]
  },
  {
   "cell_type": "markdown",
   "id": "1a4eb6ca",
   "metadata": {},
   "source": [
    "#### Độ lỗi trên tập valid"
   ]
  },
  {
   "cell_type": "code",
   "execution_count": 39,
   "id": "31ecff3c",
   "metadata": {},
   "outputs": [
    {
     "data": {
      "text/plain": [
       "Text(0, 0.5, 'neighbor')"
      ]
     },
     "execution_count": 39,
     "metadata": {},
     "output_type": "execute_result"
    },
    {
     "data": {
      "image/png": "[encoded data removed]",
      "text/plain": [
       "<Figure size 432x288 with 1 Axes>"
      ]
     },
     "metadata": {
      "needs_background": "light"
     },
     "output_type": "display_data"
    }
   ],
   "source": [
    "dx = pd.Series(val_errs, index = n_neighbors).plot.barh()\n",
    "dx.set_xlabel('Độ lỗi trên tập train (%)')\n",
    "dx.set_ylabel('neighbor')"
   ]
  },
  {
   "cell_type": "markdown",
   "id": "ce9c0c49",
   "metadata": {},
   "source": [
    "#### Độ lỗi nhỏ nhất trên tập valid và neighbor tốt nhất"
   ]
  },
  {
   "cell_type": "code",
   "execution_count": 40,
   "id": "4ff483d5",
   "metadata": {},
   "outputs": [
    {
     "name": "stdout",
     "output_type": "stream",
     "text": [
      "Best valid err:  12.28 %\n",
      "\n",
      "Best neighbor:  5\n"
     ]
    }
   ],
   "source": [
    "print('Best valid err: ', best_val_err.round(2), '%')\n",
    "print()\n",
    "print('Best neighbor: ',best_neighbor)"
   ]
  },
  {
   "cell_type": "markdown",
   "id": "68a401fe",
   "metadata": {},
   "source": [
    "Cuối cùng, huấn luyện lại `full_pipeline` trên `X_df` và `y_sr` (tập huấn luyện + tập validation) với `best_neighbor` tìm được ở trên để ra được mô hình cụ thể cuối cùng."
   ]
  },
  {
   "cell_type": "code",
   "execution_count": 41,
   "id": "484e44cd",
   "metadata": {},
   "outputs": [
    {
     "data": {
      "text/html": [
       "<style>#sk-6a33e0b2-dd3d-4673-ad0e-73c816856555 {color: black;background-color: white;}#sk-6a33e0b2-dd3d-4673-ad0e-73c816856555 pre{padding: 0;}#sk-6a33e0b2-dd3d-4673-ad0e-73c816856555 div.sk-toggleable {background-color: white;}#sk-6a33e0b2-dd3d-4673-ad0e-73c816856555 label.sk-toggleable__label {cursor: pointer;display: block;width: 100%;margin-bottom: 0;padding: 0.2em 0.3em;box-sizing: border-box;text-align: center;}#sk-6a33e0b2-dd3d-4673-ad0e-73c816856555 div.sk-toggleable__content {max-height: 0;max-width: 0;overflow: hidden;text-align: left;background-color: #f0f8ff;}#sk-6a33e0b2-dd3d-4673-ad0e-73c816856555 div.sk-toggleable__content pre {margin: 0.2em;color: black;border-radius: 0.25em;background-color: #f0f8ff;}#sk-6a33e0b2-dd3d-4673-ad0e-73c816856555 input.sk-toggleable__control:checked~div.sk-toggleable__content {max-height: 200px;max-width: 100%;overflow: auto;}#sk-6a33e0b2-dd3d-4673-ad0e-73c816856555 div.sk-estimator input.sk-toggleable__control:checked~label.sk-toggleable__label {background-color: #d4ebff;}#sk-6a33e0b2-dd3d-4673-ad0e-73c816856555 div.sk-label input.sk-toggleable__control:checked~label.sk-toggleable__label {background-color: #d4ebff;}#sk-6a33e0b2-dd3d-4673-ad0e-73c816856555 input.sk-hidden--visually {border: 0;clip: rect(1px 1px 1px 1px);clip: rect(1px, 1px, 1px, 1px);height: 1px;margin: -1px;overflow: hidden;padding: 0;position: absolute;width: 1px;}#sk-6a33e0b2-dd3d-4673-ad0e-73c816856555 div.sk-estimator {font-family: monospace;background-color: #f0f8ff;margin: 0.25em 0.25em;border: 1px dotted black;border-radius: 0.25em;box-sizing: border-box;}#sk-6a33e0b2-dd3d-4673-ad0e-73c816856555 div.sk-estimator:hover {background-color: #d4ebff;}#sk-6a33e0b2-dd3d-4673-ad0e-73c816856555 div.sk-parallel-item::after {content: \"\";width: 100%;border-bottom: 1px solid gray;flex-grow: 1;}#sk-6a33e0b2-dd3d-4673-ad0e-73c816856555 div.sk-label:hover label.sk-toggleable__label {background-color: #d4ebff;}#sk-6a33e0b2-dd3d-4673-ad0e-73c816856555 div.sk-serial::before {content: \"\";position: absolute;border-left: 1px solid gray;box-sizing: border-box;top: 2em;bottom: 0;left: 50%;}#sk-6a33e0b2-dd3d-4673-ad0e-73c816856555 div.sk-serial {display: flex;flex-direction: column;align-items: center;background-color: white;}#sk-6a33e0b2-dd3d-4673-ad0e-73c816856555 div.sk-item {z-index: 1;}#sk-6a33e0b2-dd3d-4673-ad0e-73c816856555 div.sk-parallel {display: flex;align-items: stretch;justify-content: center;background-color: white;}#sk-6a33e0b2-dd3d-4673-ad0e-73c816856555 div.sk-parallel-item {display: flex;flex-direction: column;position: relative;background-color: white;}#sk-6a33e0b2-dd3d-4673-ad0e-73c816856555 div.sk-parallel-item:first-child::after {align-self: flex-end;width: 50%;}#sk-6a33e0b2-dd3d-4673-ad0e-73c816856555 div.sk-parallel-item:last-child::after {align-self: flex-start;width: 50%;}#sk-6a33e0b2-dd3d-4673-ad0e-73c816856555 div.sk-parallel-item:only-child::after {width: 0;}#sk-6a33e0b2-dd3d-4673-ad0e-73c816856555 div.sk-dashed-wrapped {border: 1px dashed gray;margin: 0.2em;box-sizing: border-box;padding-bottom: 0.1em;background-color: white;position: relative;}#sk-6a33e0b2-dd3d-4673-ad0e-73c816856555 div.sk-label label {font-family: monospace;font-weight: bold;background-color: white;display: inline-block;line-height: 1.2em;}#sk-6a33e0b2-dd3d-4673-ad0e-73c816856555 div.sk-label-container {position: relative;z-index: 2;text-align: center;}#sk-6a33e0b2-dd3d-4673-ad0e-73c816856555 div.sk-container {display: inline-block;position: relative;}</style><div id=\"sk-6a33e0b2-dd3d-4673-ad0e-73c816856555\" class\"sk-top-container\"><div class=\"sk-container\"><div class=\"sk-item sk-dashed-wrapped\"><div class=\"sk-label-container\"><div class=\"sk-label sk-toggleable\"><input class=\"sk-toggleable__control sk-hidden--visually\" id=\"9849f08e-8ef6-4746-b6e4-9bd23b1ec115\" type=\"checkbox\" ><label class=\"sk-toggleable__label\" for=\"9849f08e-8ef6-4746-b6e4-9bd23b1ec115\">Pipeline</label><div class=\"sk-toggleable__content\"><pre>Pipeline(steps=[('pipeline',\n",
       "                 Pipeline(steps=[('columntransformer',\n",
       "                                  ColumnTransformer(transformers=[('simpleimputer',\n",
       "                                                                   SimpleImputer(),\n",
       "                                                                   ['Unnamed: '\n",
       "                                                                    '0',\n",
       "                                                                    'co', 'no',\n",
       "                                                                    'no2', 'o3',\n",
       "                                                                    'so2',\n",
       "                                                                    'pm2_5',\n",
       "                                                                    'pm10',\n",
       "                                                                    'nh3'])])),\n",
       "                                 ('standardscaler', StandardScaler())])),\n",
       "                ('kneighborsclassifier', KNeighborsClassifier())])</pre></div></div></div><div class=\"sk-serial\"><div class=\"sk-item\"><div class=\"sk-label-container\"><div class=\"sk-label sk-toggleable\"><input class=\"sk-toggleable__control sk-hidden--visually\" id=\"bd2d0cea-a007-42d4-b724-db5ea2153b30\" type=\"checkbox\" ><label class=\"sk-toggleable__label\" for=\"bd2d0cea-a007-42d4-b724-db5ea2153b30\">pipeline: Pipeline</label><div class=\"sk-toggleable__content\"><pre>Pipeline(steps=[('columntransformer',\n",
       "                 ColumnTransformer(transformers=[('simpleimputer',\n",
       "                                                  SimpleImputer(),\n",
       "                                                  ['Unnamed: 0', 'co', 'no',\n",
       "                                                   'no2', 'o3', 'so2', 'pm2_5',\n",
       "                                                   'pm10', 'nh3'])])),\n",
       "                ('standardscaler', StandardScaler())])</pre></div></div></div><div class=\"sk-serial\"><div class=\"sk-item sk-dashed-wrapped\"><div class=\"sk-label-container\"><div class=\"sk-label sk-toggleable\"><input class=\"sk-toggleable__control sk-hidden--visually\" id=\"38a51942-502d-4fb3-b8ab-4271d76098b8\" type=\"checkbox\" ><label class=\"sk-toggleable__label\" for=\"38a51942-502d-4fb3-b8ab-4271d76098b8\">columntransformer: ColumnTransformer</label><div class=\"sk-toggleable__content\"><pre>ColumnTransformer(transformers=[('simpleimputer', SimpleImputer(),\n",
       "                                 ['Unnamed: 0', 'co', 'no', 'no2', 'o3', 'so2',\n",
       "                                  'pm2_5', 'pm10', 'nh3'])])</pre></div></div></div><div class=\"sk-parallel\"><div class=\"sk-parallel-item\"><div class=\"sk-item\"><div class=\"sk-label-container\"><div class=\"sk-label sk-toggleable\"><input class=\"sk-toggleable__control sk-hidden--visually\" id=\"650d44da-04b8-47cd-b747-60cf2df5c3d3\" type=\"checkbox\" ><label class=\"sk-toggleable__label\" for=\"650d44da-04b8-47cd-b747-60cf2df5c3d3\">simpleimputer</label><div class=\"sk-toggleable__content\"><pre>['Unnamed: 0', 'co', 'no', 'no2', 'o3', 'so2', 'pm2_5', 'pm10', 'nh3']</pre></div></div></div><div class=\"sk-serial\"><div class=\"sk-item\"><div class=\"sk-estimator sk-toggleable\"><input class=\"sk-toggleable__control sk-hidden--visually\" id=\"dfccd7f0-bb1b-473b-ade2-f312bdfcdb87\" type=\"checkbox\" ><label class=\"sk-toggleable__label\" for=\"dfccd7f0-bb1b-473b-ade2-f312bdfcdb87\">SimpleImputer</label><div class=\"sk-toggleable__content\"><pre>SimpleImputer()</pre></div></div></div></div></div></div></div></div><div class=\"sk-item\"><div class=\"sk-estimator sk-toggleable\"><input class=\"sk-toggleable__control sk-hidden--visually\" id=\"980fa43e-f339-4d10-a324-b5bc51897131\" type=\"checkbox\" ><label class=\"sk-toggleable__label\" for=\"980fa43e-f339-4d10-a324-b5bc51897131\">StandardScaler</label><div class=\"sk-toggleable__content\"><pre>StandardScaler()</pre></div></div></div></div></div><div class=\"sk-item\"><div class=\"sk-estimator sk-toggleable\"><input class=\"sk-toggleable__control sk-hidden--visually\" id=\"22642ccf-ef99-4c4b-bfee-04ec0c46b60b\" type=\"checkbox\" ><label class=\"sk-toggleable__label\" for=\"22642ccf-ef99-4c4b-bfee-04ec0c46b60b\">KNeighborsClassifier</label><div class=\"sk-toggleable__content\"><pre>KNeighborsClassifier()</pre></div></div></div></div></div></div></div>"
      ],
      "text/plain": [
       "Pipeline(steps=[('pipeline',\n",
       "                 Pipeline(steps=[('columntransformer',\n",
       "                                  ColumnTransformer(transformers=[('simpleimputer',\n",
       "                                                                   SimpleImputer(),\n",
       "                                                                   ['Unnamed: '\n",
       "                                                                    '0',\n",
       "                                                                    'co', 'no',\n",
       "                                                                    'no2', 'o3',\n",
       "                                                                    'so2',\n",
       "                                                                    'pm2_5',\n",
       "                                                                    'pm10',\n",
       "                                                                    'nh3'])])),\n",
       "                                 ('standardscaler', StandardScaler())])),\n",
       "                ('kneighborsclassifier', KNeighborsClassifier())])"
      ]
     },
     "execution_count": 41,
     "metadata": {},
     "output_type": "execute_result"
    }
   ],
   "source": [
    "full_pipeline_3.set_params(kneighborsclassifier__n_neighbors = best_neighbor)\n",
    "\n",
    "full_pipeline_3.fit(temp_X_df, temp_y_sr)"
   ]
  },
  {
   "cell_type": "markdown",
   "id": "79ec9be6",
   "metadata": {},
   "source": [
    "### Đánh giá mô hình tìm được:"
   ]
  },
  {
   "cell_type": "code",
   "execution_count": 42,
   "id": "594cc9ee",
   "metadata": {},
   "outputs": [
    {
     "name": "stdout",
     "output_type": "stream",
     "text": [
      "Error with train+val data:  8.122157244964267 %\n"
     ]
    }
   ],
   "source": [
    "#Độ lỗi trên tập (train+validation)\n",
    "err = ((1-full_pipeline_3.score(temp_X_df, temp_y_sr)) * 100)\n",
    "errors_temp.append(err)\n",
    "print('Error with train+val data: ', err, '%')"
   ]
  },
  {
   "cell_type": "code",
   "execution_count": 43,
   "id": "6e3cc50d",
   "metadata": {},
   "outputs": [
    {
     "name": "stdout",
     "output_type": "stream",
     "text": [
      "Error with test data:  12.99 %\n"
     ]
    }
   ],
   "source": [
    "#Độ lỗi trên tập test\n",
    "err = ((1-full_pipeline_3.score(test_X_df, test_y_sr)) * 100).round(2)\n",
    "errors_test.append(err)\n",
    "print('Error with test data: ', err, '%')"
   ]
  },
  {
   "cell_type": "markdown",
   "id": "e4411af6",
   "metadata": {},
   "source": [
    "### Nhận xét\n",
    "- Độ lỗi trên tập test cao hơn trên tập (train+val)"
   ]
  },
  {
   "cell_type": "markdown",
   "id": "e20cef6a",
   "metadata": {},
   "source": [
    "## Mô hình tốt nhất\n"
   ]
  },
  {
   "cell_type": "code",
   "execution_count": 44,
   "id": "33676d74",
   "metadata": {},
   "outputs": [
    {
     "data": {
      "text/plain": [
       "<function matplotlib.pyplot.show(close=None, block=None)>"
      ]
     },
     "execution_count": 44,
     "metadata": {},
     "output_type": "execute_result"
    },
    {
     "data": {
      "image/png": "[encoded data removed]",
      "text/plain": [
       "<Figure size 432x288 with 1 Axes>"
      ]
     },
     "metadata": {
      "needs_background": "light"
     },
     "output_type": "display_data"
    }
   ],
   "source": [
    "divisions=['MLP Classifier','Softmax Regression','K-Neighbors Classifier']\n",
    "plt.bar(divisions,errors_temp,color='orange')\n",
    "plt.title('Train+Val Error')\n",
    "plt.xlabel('Models')\n",
    "plt.ylabel('Error(%)')\n",
    "plt.show"
   ]
  },
  {
   "cell_type": "code",
   "execution_count": 45,
   "id": "8600c1f5",
   "metadata": {},
   "outputs": [
    {
     "data": {
      "text/plain": [
       "<function matplotlib.pyplot.show(close=None, block=None)>"
      ]
     },
     "execution_count": 45,
     "metadata": {},
     "output_type": "execute_result"
    },
    {
     "data": {
      "image/png": "[encoded data removed]",
      "text/plain": [
       "<Figure size 432x288 with 1 Axes>"
      ]
     },
     "metadata": {
      "needs_background": "light"
     },
     "output_type": "display_data"
    }
   ],
   "source": [
    "plt.bar(divisions,errors_test,color='green')\n",
    "plt.title('Test Error')\n",
    "plt.xlabel('Models')\n",
    "plt.ylabel('Error(%)')\n",
    "plt.show"
   ]
  },
  {
   "cell_type": "markdown",
   "id": "d384bc4e",
   "metadata": {},
   "source": [
    "- Dựa vào độ lỗi trên tập test trên ta thấy mô hình MLP Classifier hoạt động hiệu quả hơn hai mô hình còn lại => dự đoán chất lượng không khí tốt nhất."
   ]
  },
  {
   "cell_type": "markdown",
   "id": "e7247188",
   "metadata": {},
   "source": [
    "## Nhìn lại quá trình làm đồ án"
   ]
  },
  {
   "cell_type": "markdown",
   "id": "d58158d2",
   "metadata": {},
   "source": [
    "### Những khó khăn đã gặp phải"
   ]
  },
  {
   "cell_type": "markdown",
   "id": "e3850fb0",
   "metadata": {},
   "source": [
    "- Quang: lựa chọn mô hình phù hợp với dữ liệu đã dùng, tốn thời gian trong việc tìm kiếm nguồn cung dữ liệu (một số webiste yêu cầu trả phí hoặc gửi email xin xác nhận mục đích sử dụng để truy cập dữ liệu).\n",
    "- Sơn: "
   ]
  },
  {
   "cell_type": "markdown",
   "id": "9fe619e8",
   "metadata": {},
   "source": [
    "### Những kỹ năng đã học được"
   ]
  },
  {
   "cell_type": "markdown",
   "id": "9a2d4a0f",
   "metadata": {},
   "source": [
    "- Quang: qua đồ án này em có thêm kinh nghiệm để chọn lọc và thu thập dữ liệu, hiểu thêm nhiều thuật toán phân lớp hữu ích\n",
    "- Sơn: "
   ]
  },
  {
   "cell_type": "markdown",
   "id": "114e8b59",
   "metadata": {},
   "source": [
    "### Nếu có thêm thời gian:\n",
    "nhóm sẽ tìm và thu thập dữ liệu đa dạng, phức tạp hơn, có thể thử nghiệm thu thập dữ liệu bằng cách parse HTML và mô hình hóa dữ liệu với nhiều thuật toán khác."
   ]
  },
  {
   "cell_type": "markdown",
   "id": "ba79aa61",
   "metadata": {},
   "source": [
    "## Tài liệu tham khảo"
   ]
  },
  {
   "cell_type": "markdown",
   "id": "b6727226",
   "metadata": {},
   "source": [
    "https://openweathermap.org/api/air-pollution<br/>\n",
    "https://scikit-learn.org/ <br/>\n",
    "https://stackoverflow.com/<br/>\n",
    "Video bài giảng + demo của môn học+ slide bài giảng<br/>\n",
    "Homework:1,2,3"
   ]
  },
  {
   "cell_type": "code",
   "execution_count": null,
   "id": "28703f32",
   "metadata": {},
   "outputs": [],
   "source": []
  }
 ],
 "metadata": {
  "kernelspec": {
   "display_name": "Python 3 (ipykernel)",
   "language": "python",
   "name": "python3"
  },
  "language_info": {
   "codemirror_mode": {
    "name": "ipython",
    "version": 3
   },
   "file_extension": ".py",
   "mimetype": "text/x-python",
   "name": "python",
   "nbconvert_exporter": "python",
   "pygments_lexer": "ipython3",
   "version": "3.8.8"
  }
 },
 "nbformat": 4,
 "nbformat_minor": 5
}
