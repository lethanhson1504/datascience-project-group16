{
 "cells": [
  {
   "cell_type": "markdown",
   "id": "445b82d5",
   "metadata": {},
   "source": [
    "# Khám phá dữ liệu, tiền xử lý"
   ]
  },
  {
   "cell_type": "code",
   "execution_count": 1,
   "id": "ccb7414d",
   "metadata": {},
   "outputs": [],
   "source": [
    "import matplotlib.pyplot as plt\n",
    "import numpy as np\n",
    "import pandas as pd\n",
    "import seaborn as sns\n",
    "from sklearn.model_selection import train_test_split\n",
    "from sklearn.preprocessing import OneHotEncoder, StandardScaler\n",
    "from sklearn.impute import SimpleImputer\n",
    "from sklearn.base import BaseEstimator, TransformerMixin\n",
    "from sklearn.pipeline import Pipeline, make_pipeline\n",
    "from sklearn.compose import ColumnTransformer, make_column_transformer\n",
    "from sklearn.neural_network import MLPClassifier\n",
    "from sklearn import set_config\n",
    "set_config(display='diagram') # Để trực quan hóa pipeline"
   ]
  },
  {
   "cell_type": "markdown",
   "id": "ca1ab9c8",
   "metadata": {},
   "source": [
    "### Đọc dữ liệu từ file"
   ]
  },
  {
   "cell_type": "code",
   "execution_count": 2,
   "id": "bb91f12e",
   "metadata": {},
   "outputs": [],
   "source": [
    "air_df = pd.read_csv('data.csv', sep = ',')"
   ]
  },
  {
   "cell_type": "code",
   "execution_count": 3,
   "id": "3570d508",
   "metadata": {},
   "outputs": [
    {
     "data": {
      "text/html": [
       "<div>\n",
       "<style scoped>\n",
       "    .dataframe tbody tr th:only-of-type {\n",
       "        vertical-align: middle;\n",
       "    }\n",
       "\n",
       "    .dataframe tbody tr th {\n",
       "        vertical-align: top;\n",
       "    }\n",
       "\n",
       "    .dataframe thead th {\n",
       "        text-align: right;\n",
       "    }\n",
       "</style>\n",
       "<table border=\"1\" class=\"dataframe\">\n",
       "  <thead>\n",
       "    <tr style=\"text-align: right;\">\n",
       "      <th></th>\n",
       "      <th>co</th>\n",
       "      <th>no</th>\n",
       "      <th>no2</th>\n",
       "      <th>o3</th>\n",
       "      <th>so2</th>\n",
       "      <th>pm2_5</th>\n",
       "      <th>pm10</th>\n",
       "      <th>nh3</th>\n",
       "      <th>aqi</th>\n",
       "    </tr>\n",
       "  </thead>\n",
       "  <tbody>\n",
       "    <tr>\n",
       "      <th>0</th>\n",
       "      <td>1121.52</td>\n",
       "      <td>2.49</td>\n",
       "      <td>15.59</td>\n",
       "      <td>6.62</td>\n",
       "      <td>7.03</td>\n",
       "      <td>51.11</td>\n",
       "      <td>60.88</td>\n",
       "      <td>6.21</td>\n",
       "      <td>5</td>\n",
       "    </tr>\n",
       "    <tr>\n",
       "      <th>1</th>\n",
       "      <td>767.71</td>\n",
       "      <td>1.48</td>\n",
       "      <td>12.00</td>\n",
       "      <td>32.90</td>\n",
       "      <td>8.46</td>\n",
       "      <td>36.26</td>\n",
       "      <td>42.39</td>\n",
       "      <td>3.52</td>\n",
       "      <td>4</td>\n",
       "    </tr>\n",
       "    <tr>\n",
       "      <th>2</th>\n",
       "      <td>727.65</td>\n",
       "      <td>1.41</td>\n",
       "      <td>10.11</td>\n",
       "      <td>51.50</td>\n",
       "      <td>8.35</td>\n",
       "      <td>35.83</td>\n",
       "      <td>41.03</td>\n",
       "      <td>3.23</td>\n",
       "      <td>4</td>\n",
       "    </tr>\n",
       "    <tr>\n",
       "      <th>3</th>\n",
       "      <td>727.65</td>\n",
       "      <td>1.03</td>\n",
       "      <td>8.82</td>\n",
       "      <td>77.25</td>\n",
       "      <td>8.94</td>\n",
       "      <td>39.41</td>\n",
       "      <td>44.50</td>\n",
       "      <td>3.58</td>\n",
       "      <td>4</td>\n",
       "    </tr>\n",
       "    <tr>\n",
       "      <th>4</th>\n",
       "      <td>761.03</td>\n",
       "      <td>0.59</td>\n",
       "      <td>7.37</td>\n",
       "      <td>103.00</td>\n",
       "      <td>9.18</td>\n",
       "      <td>46.39</td>\n",
       "      <td>51.56</td>\n",
       "      <td>3.99</td>\n",
       "      <td>4</td>\n",
       "    </tr>\n",
       "  </tbody>\n",
       "</table>\n",
       "</div>"
      ],
      "text/plain": [
       "        co    no    no2      o3   so2  pm2_5   pm10   nh3  aqi\n",
       "0  1121.52  2.49  15.59    6.62  7.03  51.11  60.88  6.21    5\n",
       "1   767.71  1.48  12.00   32.90  8.46  36.26  42.39  3.52    4\n",
       "2   727.65  1.41  10.11   51.50  8.35  35.83  41.03  3.23    4\n",
       "3   727.65  1.03   8.82   77.25  8.94  39.41  44.50  3.58    4\n",
       "4   761.03  0.59   7.37  103.00  9.18  46.39  51.56  3.99    4"
      ]
     },
     "execution_count": 3,
     "metadata": {},
     "output_type": "execute_result"
    }
   ],
   "source": [
    "air_df.head()"
   ]
  },
  {
   "cell_type": "markdown",
   "id": "66ff939c",
   "metadata": {},
   "source": [
    "### Dữ liệu có bao nhiêu dòng và bao nhiêu cột?"
   ]
  },
  {
   "cell_type": "code",
   "execution_count": 4,
   "id": "a9d4c102",
   "metadata": {},
   "outputs": [
    {
     "data": {
      "text/plain": [
       "(13206, 9)"
      ]
     },
     "execution_count": 4,
     "metadata": {},
     "output_type": "execute_result"
    }
   ],
   "source": [
    "air_df.shape"
   ]
  },
  {
   "cell_type": "markdown",
   "id": "f41d562a",
   "metadata": {},
   "source": [
    "### Mỗi dòng có ý nghĩa gì? Có vấn đề các dòng có ý nghĩa khác nhau không?"
   ]
  },
  {
   "cell_type": "markdown",
   "id": "27606353",
   "metadata": {},
   "source": [
    "Mỗi dòng trong DataFrame `air_df` cho biết dữ liệu về các chỉ số và chất lượng không khí của các tỉnh, thành phố từ 0h ngày 1/8/2021 - 0h ngày 1/9/2021 . Có vẻ không có vấn đề các dòng có ý nghĩa khác nhau."
   ]
  },
  {
   "cell_type": "markdown",
   "id": "3bdd3cfa",
   "metadata": {},
   "source": [
    "### Dữ liệu có các dòng bị lặp không?"
   ]
  },
  {
   "cell_type": "code",
   "execution_count": 5,
   "id": "3db90ad7",
   "metadata": {},
   "outputs": [
    {
     "data": {
      "text/plain": [
       "0"
      ]
     },
     "execution_count": 5,
     "metadata": {},
     "output_type": "execute_result"
    }
   ],
   "source": [
    "air_df.index.duplicated().sum()"
   ]
  },
  {
   "cell_type": "markdown",
   "id": "dfe03d2b",
   "metadata": {},
   "source": [
    "### Mỗi cột có ý nghĩa gì?"
   ]
  },
  {
   "cell_type": "code",
   "execution_count": 6,
   "id": "d1b759f5",
   "metadata": {},
   "outputs": [
    {
     "name": "stdout",
     "output_type": "stream",
     "text": [
      "VARIABLE DESCRIPTIONS:\n",
      "aqi        \tChỉ số chất lượng không khí (1,2,3,4,5)\n",
      "                (1 = Good; 2 = Fair; 3 = Moderate; 4 = Poor ; 5 = Very Poor )\n",
      "co          \tNồng độ CO (Carbon monoxide) \t\t,  μg/m3\n",
      "no            \tNồng độ NO (Nitrogen monoxide) \t\t,  μg/m3\n",
      "no2             Nồng độ NO2 (Nitrogen dioxide) \t\t,  μg/m3\n",
      "o3             \tNồng độ O3 (Ozone) \t\t\t,  μg/m3\n",
      "so2           \tNồng độ SO2 (Sulphur dioxide) \t\t,  μg/m3\n",
      "pm2_5           Nồng độ PM2.5 (Fine particles matter) \t,  μg/m3\n",
      "pm10          \tNồng độ PM10 (Coarse particulate matter),  μg/m3\n",
      "nh3            \tNồng độ NH3 (Ammonia) \t\t\t,  μg/m3\n",
      "\n",
      "\n"
     ]
    }
   ],
   "source": [
    "with open('description.txt', 'r',encoding='utf-8') as f:\n",
    "    print(f.read())"
   ]
  },
  {
   "cell_type": "markdown",
   "id": "a174894f",
   "metadata": {},
   "source": [
    "## Đưa ra câu hỏi cần trả lời"
   ]
  },
  {
   "cell_type": "markdown",
   "id": "34073599",
   "metadata": {},
   "source": [
    "- Chất lượng không khí được tính như thế nào từ các chỉ số trong không khí đã được đo từ môi trường ?\n",
    "<br/>\n",
    "- Ý nghĩa thực tế của câu hỏi: Theo Tổ chức Y tế thế giới (WHO), hằng năm có 34.000 ca tử vong tại Việt Nam có liên quan đến ô nhiễm không khí. Việc xác định chất lượng không khí giúp người dân có các biện pháp bảo vệ bản thân và cộng đồng kịp thời như đeo khẩu trang, hạn chế sử dụng các phương tiện giao thông gây ô nhiễm, ... . Ngoài ra, chính quyền địa phương có thể hạn chế lượng khí thải từ các nhà máy, xí nghiệp, trồng thêm nhiều cây xanh để làm giảm ô nhiễm không khí."
   ]
  },
  {
   "cell_type": "markdown",
   "id": "95804a9d",
   "metadata": {},
   "source": [
    "# Khám phá dữ liệu"
   ]
  },
  {
   "cell_type": "code",
   "execution_count": 7,
   "id": "a5cf6553",
   "metadata": {},
   "outputs": [
    {
     "data": {
      "text/plain": [
       "dtype('int64')"
      ]
     },
     "execution_count": 7,
     "metadata": {},
     "output_type": "execute_result"
    }
   ],
   "source": [
    "# Cột output hiện có kiểu dữ liệu gì?\n",
    "air_df['aqi'].dtype"
   ]
  },
  {
   "cell_type": "code",
   "execution_count": 8,
   "id": "8bba2c31",
   "metadata": {},
   "outputs": [
    {
     "data": {
      "text/plain": [
       "0"
      ]
     },
     "execution_count": 8,
     "metadata": {},
     "output_type": "execute_result"
    }
   ],
   "source": [
    "# Cột output có bao nhiêu giá trị thiếu?\n",
    "air_df['aqi'].isna().sum()"
   ]
  },
  {
   "cell_type": "code",
   "execution_count": 9,
   "id": "c040b1d5",
   "metadata": {},
   "outputs": [
    {
     "data": {
      "text/plain": [
       "1    31.909738\n",
       "2    26.344086\n",
       "4    22.088445\n",
       "5    11.252461\n",
       "3     8.405270\n",
       "Name: aqi, dtype: float64"
      ]
     },
     "execution_count": 9,
     "metadata": {},
     "output_type": "execute_result"
    }
   ],
   "source": [
    "# Tỉ lệ các lớp trong cột output?\n",
    "air_df['aqi'].value_counts(normalize=True) * 100"
   ]
  },
  {
   "cell_type": "markdown",
   "id": "d84d4d6b",
   "metadata": {},
   "source": [
    "- Cột output đang ở kiểu dạng số, không có giá trị thiếu và tỉ lệ lớp 3 và 5 trong cột output chênh lệch nhiều so với các lớp còn lại, vì vậy hãy lấy random khoảng 40% lớp 1, 2, 4 để các lớp có tỉ lệ gần nhau nhất"
   ]
  },
  {
   "cell_type": "code",
   "execution_count": 32,
   "id": "6fab5353",
   "metadata": {},
   "outputs": [
    {
     "data": {
      "text/html": [
       "<div>\n",
       "<style scoped>\n",
       "    .dataframe tbody tr th:only-of-type {\n",
       "        vertical-align: middle;\n",
       "    }\n",
       "\n",
       "    .dataframe tbody tr th {\n",
       "        vertical-align: top;\n",
       "    }\n",
       "\n",
       "    .dataframe thead th {\n",
       "        text-align: right;\n",
       "    }\n",
       "</style>\n",
       "<table border=\"1\" class=\"dataframe\">\n",
       "  <thead>\n",
       "    <tr style=\"text-align: right;\">\n",
       "      <th></th>\n",
       "      <th>co</th>\n",
       "      <th>no</th>\n",
       "      <th>no2</th>\n",
       "      <th>o3</th>\n",
       "      <th>so2</th>\n",
       "      <th>pm2_5</th>\n",
       "      <th>pm10</th>\n",
       "      <th>nh3</th>\n",
       "      <th>aqi</th>\n",
       "    </tr>\n",
       "  </thead>\n",
       "  <tbody>\n",
       "    <tr>\n",
       "      <th>9888</th>\n",
       "      <td>397.21</td>\n",
       "      <td>0.06</td>\n",
       "      <td>0.63</td>\n",
       "      <td>23.96</td>\n",
       "      <td>0.14</td>\n",
       "      <td>0.51</td>\n",
       "      <td>0.75</td>\n",
       "      <td>0.39</td>\n",
       "      <td>1</td>\n",
       "    </tr>\n",
       "    <tr>\n",
       "      <th>6812</th>\n",
       "      <td>313.76</td>\n",
       "      <td>0.00</td>\n",
       "      <td>4.67</td>\n",
       "      <td>9.57</td>\n",
       "      <td>3.46</td>\n",
       "      <td>6.59</td>\n",
       "      <td>7.72</td>\n",
       "      <td>0.44</td>\n",
       "      <td>1</td>\n",
       "    </tr>\n",
       "    <tr>\n",
       "      <th>10569</th>\n",
       "      <td>263.69</td>\n",
       "      <td>0.00</td>\n",
       "      <td>1.20</td>\n",
       "      <td>21.99</td>\n",
       "      <td>0.20</td>\n",
       "      <td>0.73</td>\n",
       "      <td>0.91</td>\n",
       "      <td>0.30</td>\n",
       "      <td>1</td>\n",
       "    </tr>\n",
       "    <tr>\n",
       "      <th>11252</th>\n",
       "      <td>487.33</td>\n",
       "      <td>1.96</td>\n",
       "      <td>19.54</td>\n",
       "      <td>18.06</td>\n",
       "      <td>17.41</td>\n",
       "      <td>8.97</td>\n",
       "      <td>11.52</td>\n",
       "      <td>5.32</td>\n",
       "      <td>1</td>\n",
       "    </tr>\n",
       "    <tr>\n",
       "      <th>8974</th>\n",
       "      <td>201.94</td>\n",
       "      <td>0.06</td>\n",
       "      <td>0.66</td>\n",
       "      <td>22.17</td>\n",
       "      <td>0.16</td>\n",
       "      <td>0.50</td>\n",
       "      <td>0.66</td>\n",
       "      <td>0.19</td>\n",
       "      <td>1</td>\n",
       "    </tr>\n",
       "    <tr>\n",
       "      <th>...</th>\n",
       "      <td>...</td>\n",
       "      <td>...</td>\n",
       "      <td>...</td>\n",
       "      <td>...</td>\n",
       "      <td>...</td>\n",
       "      <td>...</td>\n",
       "      <td>...</td>\n",
       "      <td>...</td>\n",
       "      <td>...</td>\n",
       "    </tr>\n",
       "    <tr>\n",
       "      <th>13201</th>\n",
       "      <td>2616.88</td>\n",
       "      <td>59.01</td>\n",
       "      <td>30.16</td>\n",
       "      <td>0.00</td>\n",
       "      <td>38.62</td>\n",
       "      <td>138.76</td>\n",
       "      <td>152.62</td>\n",
       "      <td>14.19</td>\n",
       "      <td>5</td>\n",
       "    </tr>\n",
       "    <tr>\n",
       "      <th>13202</th>\n",
       "      <td>2590.18</td>\n",
       "      <td>64.37</td>\n",
       "      <td>29.47</td>\n",
       "      <td>0.00</td>\n",
       "      <td>41.96</td>\n",
       "      <td>144.76</td>\n",
       "      <td>158.74</td>\n",
       "      <td>14.31</td>\n",
       "      <td>5</td>\n",
       "    </tr>\n",
       "    <tr>\n",
       "      <th>13203</th>\n",
       "      <td>2937.32</td>\n",
       "      <td>83.15</td>\n",
       "      <td>33.59</td>\n",
       "      <td>0.00</td>\n",
       "      <td>55.31</td>\n",
       "      <td>174.44</td>\n",
       "      <td>189.82</td>\n",
       "      <td>15.07</td>\n",
       "      <td>5</td>\n",
       "    </tr>\n",
       "    <tr>\n",
       "      <th>13204</th>\n",
       "      <td>3471.37</td>\n",
       "      <td>109.97</td>\n",
       "      <td>42.50</td>\n",
       "      <td>0.00</td>\n",
       "      <td>73.43</td>\n",
       "      <td>219.32</td>\n",
       "      <td>237.25</td>\n",
       "      <td>14.69</td>\n",
       "      <td>5</td>\n",
       "    </tr>\n",
       "    <tr>\n",
       "      <th>13205</th>\n",
       "      <td>3952.03</td>\n",
       "      <td>137.69</td>\n",
       "      <td>45.93</td>\n",
       "      <td>0.00</td>\n",
       "      <td>84.88</td>\n",
       "      <td>265.03</td>\n",
       "      <td>287.16</td>\n",
       "      <td>14.06</td>\n",
       "      <td>5</td>\n",
       "    </tr>\n",
       "  </tbody>\n",
       "</table>\n",
       "<p>6841 rows × 9 columns</p>\n",
       "</div>"
      ],
      "text/plain": [
       "            co      no    no2     o3    so2   pm2_5    pm10    nh3  aqi\n",
       "9888    397.21    0.06   0.63  23.96   0.14    0.51    0.75   0.39    1\n",
       "6812    313.76    0.00   4.67   9.57   3.46    6.59    7.72   0.44    1\n",
       "10569   263.69    0.00   1.20  21.99   0.20    0.73    0.91   0.30    1\n",
       "11252   487.33    1.96  19.54  18.06  17.41    8.97   11.52   5.32    1\n",
       "8974    201.94    0.06   0.66  22.17   0.16    0.50    0.66   0.19    1\n",
       "...        ...     ...    ...    ...    ...     ...     ...    ...  ...\n",
       "13201  2616.88   59.01  30.16   0.00  38.62  138.76  152.62  14.19    5\n",
       "13202  2590.18   64.37  29.47   0.00  41.96  144.76  158.74  14.31    5\n",
       "13203  2937.32   83.15  33.59   0.00  55.31  174.44  189.82  15.07    5\n",
       "13204  3471.37  109.97  42.50   0.00  73.43  219.32  237.25  14.69    5\n",
       "13205  3952.03  137.69  45.93   0.00  84.88  265.03  287.16  14.06    5\n",
       "\n",
       "[6841 rows x 9 columns]"
      ]
     },
     "execution_count": 32,
     "metadata": {},
     "output_type": "execute_result"
    }
   ],
   "source": [
    "aqi_124 = [1, 2, 4]\n",
    "frames = []\n",
    "\n",
    "for aqi in aqi_124:\n",
    "    df = air_df.loc[air_df['aqi'] == aqi]\n",
    "    frames.append(df.sample(frac = 0.4))\n",
    "    \n",
    "aqi_35 = [3, 5]\n",
    "for aqi in aqi_35:\n",
    "    df = air_df.loc[air_df['aqi'] == aqi]\n",
    "    frames.append(df)\n",
    "    \n",
    "air_df_bal = pd.concat(frames)\n",
    "air_df_bal"
   ]
  },
  {
   "cell_type": "markdown",
   "id": "1eedb1bd",
   "metadata": {},
   "source": [
    "- Kiểm tra lại 1 lần nữa tỉ lệ các giá trị ouput"
   ]
  },
  {
   "cell_type": "code",
   "execution_count": 33,
   "id": "7db71d0f",
   "metadata": {},
   "outputs": [
    {
     "data": {
      "text/plain": [
       "1    24.645520\n",
       "5    21.721970\n",
       "2    20.347902\n",
       "4    17.058910\n",
       "3    16.225698\n",
       "Name: aqi, dtype: float64"
      ]
     },
     "execution_count": 33,
     "metadata": {},
     "output_type": "execute_result"
    }
   ],
   "source": [
    "air_df_bal['aqi'].value_counts(normalize=True) * 100"
   ]
  },
  {
   "cell_type": "markdown",
   "id": "9d60600e",
   "metadata": {},
   "source": [
    "## Tiền xử lý (tách các tập)"
   ]
  },
  {
   "cell_type": "code",
   "execution_count": 12,
   "id": "b44ebf8b",
   "metadata": {},
   "outputs": [],
   "source": [
    "# Tách X và y\n",
    "y_sr = air_df_bal[\"aqi\"] # sr là viết tắt của series\n",
    "X_df = air_df_bal.drop(\"aqi\", axis=1)"
   ]
  },
  {
   "cell_type": "code",
   "execution_count": 13,
   "id": "8a8866a9",
   "metadata": {},
   "outputs": [],
   "source": [
    "# Tách tập huấn luyện,tập validation, tập test theo tỉ lệ 70%:20%:10%\n",
    "temp_X_df, test_X_df, temp_y_sr, test_y_sr = \\\n",
    "                              train_test_split(X_df, y_sr, \n",
    "                                               test_size=0.1, \n",
    "                                               stratify=y_sr, \n",
    "                                               random_state=60)\n",
    "train_X_df, val_X_df, train_y_sr, val_y_sr = \\\n",
    "                              train_test_split(temp_X_df, temp_y_sr, \n",
    "                                               test_size=2/9, \n",
    "                                               stratify=temp_y_sr, \n",
    "                                               random_state=60)\n"
   ]
  },
  {
   "cell_type": "code",
   "execution_count": 14,
   "id": "258a0e56",
   "metadata": {},
   "outputs": [
    {
     "data": {
      "text/plain": [
       "(4788, 8)"
      ]
     },
     "execution_count": 14,
     "metadata": {},
     "output_type": "execute_result"
    }
   ],
   "source": [
    "train_X_df.shape"
   ]
  },
  {
   "cell_type": "code",
   "execution_count": 15,
   "id": "635a49af",
   "metadata": {},
   "outputs": [
    {
     "data": {
      "text/plain": [
       "(4788,)"
      ]
     },
     "execution_count": 15,
     "metadata": {},
     "output_type": "execute_result"
    }
   ],
   "source": [
    "train_y_sr.shape"
   ]
  },
  {
   "cell_type": "code",
   "execution_count": 16,
   "id": "c1bcd19c",
   "metadata": {},
   "outputs": [
    {
     "data": {
      "text/plain": [
       "(1368, 8)"
      ]
     },
     "execution_count": 16,
     "metadata": {},
     "output_type": "execute_result"
    }
   ],
   "source": [
    "val_X_df.shape"
   ]
  },
  {
   "cell_type": "code",
   "execution_count": 17,
   "id": "7fbf4d26",
   "metadata": {},
   "outputs": [
    {
     "data": {
      "text/plain": [
       "(1368,)"
      ]
     },
     "execution_count": 17,
     "metadata": {},
     "output_type": "execute_result"
    }
   ],
   "source": [
    "val_y_sr.shape"
   ]
  },
  {
   "cell_type": "code",
   "execution_count": 18,
   "id": "e22e093b",
   "metadata": {},
   "outputs": [
    {
     "data": {
      "text/plain": [
       "(685, 8)"
      ]
     },
     "execution_count": 18,
     "metadata": {},
     "output_type": "execute_result"
    }
   ],
   "source": [
    "test_X_df.shape"
   ]
  },
  {
   "cell_type": "code",
   "execution_count": 19,
   "id": "01ae48e5",
   "metadata": {},
   "outputs": [
    {
     "data": {
      "text/plain": [
       "(685,)"
      ]
     },
     "execution_count": 19,
     "metadata": {},
     "output_type": "execute_result"
    }
   ],
   "source": [
    "test_y_sr.shape"
   ]
  },
  {
   "cell_type": "code",
   "execution_count": 20,
   "id": "d2a32438",
   "metadata": {},
   "outputs": [
    {
     "data": {
      "text/plain": [
       "Int64Index([12699, 10251, 13, 7339, 7550], dtype='int64')"
      ]
     },
     "execution_count": 20,
     "metadata": {},
     "output_type": "execute_result"
    }
   ],
   "source": [
    "train_X_df.head().index"
   ]
  },
  {
   "cell_type": "markdown",
   "id": "688a7b69",
   "metadata": {},
   "source": [
    "# Khám phá dữ liệu (tập huấn luyện)"
   ]
  },
  {
   "cell_type": "markdown",
   "id": "f2a1fb94",
   "metadata": {},
   "source": [
    "### Mỗi cột input hiện đang có kiểu dữ liệu gì? Có cột nào có kiểu dữ liệu chưa phù hợp để có thể xử lý tiếp không?"
   ]
  },
  {
   "cell_type": "code",
   "execution_count": 21,
   "id": "8706368f",
   "metadata": {},
   "outputs": [
    {
     "data": {
      "text/plain": [
       "co       float64\n",
       "no       float64\n",
       "no2      float64\n",
       "o3       float64\n",
       "so2      float64\n",
       "pm2_5    float64\n",
       "pm10     float64\n",
       "nh3      float64\n",
       "dtype: object"
      ]
     },
     "execution_count": 21,
     "metadata": {},
     "output_type": "execute_result"
    }
   ],
   "source": [
    "train_X_df.dtypes"
   ]
  },
  {
   "cell_type": "markdown",
   "id": "dcf57014",
   "metadata": {},
   "source": [
    "- Các cột đều có dữ liệu phù hợp"
   ]
  },
  {
   "cell_type": "markdown",
   "id": "bceb7639",
   "metadata": {},
   "source": [
    "### Với mỗi cột input có kiểu dữ liệu dạng số, các giá trị được phân bố như thế nào?"
   ]
  },
  {
   "cell_type": "code",
   "execution_count": 22,
   "id": "4f5319ad",
   "metadata": {},
   "outputs": [
    {
     "data": {
      "text/html": [
       "<div>\n",
       "<style scoped>\n",
       "    .dataframe tbody tr th:only-of-type {\n",
       "        vertical-align: middle;\n",
       "    }\n",
       "\n",
       "    .dataframe tbody tr th {\n",
       "        vertical-align: top;\n",
       "    }\n",
       "\n",
       "    .dataframe thead th {\n",
       "        text-align: right;\n",
       "    }\n",
       "</style>\n",
       "<table border=\"1\" class=\"dataframe\">\n",
       "  <thead>\n",
       "    <tr style=\"text-align: right;\">\n",
       "      <th></th>\n",
       "      <th>co</th>\n",
       "      <th>no</th>\n",
       "      <th>no2</th>\n",
       "      <th>o3</th>\n",
       "      <th>so2</th>\n",
       "      <th>pm2_5</th>\n",
       "      <th>pm10</th>\n",
       "      <th>nh3</th>\n",
       "    </tr>\n",
       "  </thead>\n",
       "  <tbody>\n",
       "    <tr>\n",
       "      <th>missing_percentage</th>\n",
       "      <td>0.00</td>\n",
       "      <td>0.00</td>\n",
       "      <td>0.00</td>\n",
       "      <td>0.00</td>\n",
       "      <td>0.00</td>\n",
       "      <td>0.00</td>\n",
       "      <td>0.00</td>\n",
       "      <td>0.00</td>\n",
       "    </tr>\n",
       "    <tr>\n",
       "      <th>min</th>\n",
       "      <td>166.89</td>\n",
       "      <td>0.00</td>\n",
       "      <td>0.20</td>\n",
       "      <td>0.00</td>\n",
       "      <td>0.05</td>\n",
       "      <td>0.50</td>\n",
       "      <td>0.54</td>\n",
       "      <td>0.00</td>\n",
       "    </tr>\n",
       "    <tr>\n",
       "      <th>median</th>\n",
       "      <td>527.40</td>\n",
       "      <td>0.10</td>\n",
       "      <td>7.20</td>\n",
       "      <td>22.40</td>\n",
       "      <td>3.70</td>\n",
       "      <td>21.30</td>\n",
       "      <td>24.30</td>\n",
       "      <td>2.00</td>\n",
       "    </tr>\n",
       "    <tr>\n",
       "      <th>max</th>\n",
       "      <td>14953.61</td>\n",
       "      <td>343.32</td>\n",
       "      <td>135.72</td>\n",
       "      <td>223.16</td>\n",
       "      <td>225.07</td>\n",
       "      <td>811.92</td>\n",
       "      <td>844.52</td>\n",
       "      <td>102.34</td>\n",
       "    </tr>\n",
       "  </tbody>\n",
       "</table>\n",
       "</div>"
      ],
      "text/plain": [
       "                          co      no     no2      o3     so2   pm2_5    pm10  \\\n",
       "missing_percentage      0.00    0.00    0.00    0.00    0.00    0.00    0.00   \n",
       "min                   166.89    0.00    0.20    0.00    0.05    0.50    0.54   \n",
       "median                527.40    0.10    7.20   22.40    3.70   21.30   24.30   \n",
       "max                 14953.61  343.32  135.72  223.16  225.07  811.92  844.52   \n",
       "\n",
       "                       nh3  \n",
       "missing_percentage    0.00  \n",
       "min                   0.00  \n",
       "median                2.00  \n",
       "max                 102.34  "
      ]
     },
     "execution_count": 22,
     "metadata": {},
     "output_type": "execute_result"
    }
   ],
   "source": [
    "def missing_percentage(c):\n",
    "    return (c.isna().mean() * 100).round(1)\n",
    "def median(c):\n",
    "    return c.quantile(0.5).round(1)\n",
    "train_X_df.agg([missing_percentage, 'min', median, 'max'])"
   ]
  },
  {
   "cell_type": "markdown",
   "id": "437a7bf5",
   "metadata": {},
   "source": [
    "## Tiền xử lý (tập huấn luyện)"
   ]
  },
  {
   "cell_type": "markdown",
   "id": "77e29f71",
   "metadata": {},
   "source": [
    "- Với các cột dạng số, ta sẽ điền giá trị thiếu bằng giá trị mean của cột <font color=gray>(gợi ý: dùng `SimpleImputer` trong Sklearn)</font>. Với *tất cả* các cột dạng số trong tập huấn luyện, ta đều cần tính mean, vì ta không biết được cột nào sẽ bị thiếu giá trị khi dự đoán với các véc-tơ input mới. "
   ]
  },
  {
   "cell_type": "markdown",
   "id": "430eb6dd",
   "metadata": {},
   "source": [
    "- Cuối cùng, khi tất cả các cột đã được điền giá trị thiếu và đã có dạng số, ta sẽ tiến hành chuẩn hóa bằng cách trừ đi mean và chia cho độ lệch chuẩn của cột để giúp cho các thuật toán cực tiểu hóa như Gradient Descent, LBFGS, ... hội tụ nhanh hơn <font color=gray>(gợi ý: dùng `StandardScaler` trong Sklearn)</font>."
   ]
  },
  {
   "cell_type": "code",
   "execution_count": 23,
   "id": "60016329",
   "metadata": {},
   "outputs": [],
   "source": [
    "cols=list(train_X_df.columns)\n",
    "temp=make_column_transformer(\n",
    "        (SimpleImputer(strategy='mean'),cols))\n",
    "preprocess_pipeline=make_pipeline(temp,StandardScaler())\n",
    "preprocessed_train_X=preprocess_pipeline.fit_transform(train_X_df)"
   ]
  },
  {
   "cell_type": "code",
   "execution_count": 24,
   "id": "47e4cc94",
   "metadata": {},
   "outputs": [
    {
     "data": {
      "text/html": [
       "<style>#sk-d85b173c-c8fc-41c6-a10f-a4986f2e83b7 {color: black;background-color: white;}#sk-d85b173c-c8fc-41c6-a10f-a4986f2e83b7 pre{padding: 0;}#sk-d85b173c-c8fc-41c6-a10f-a4986f2e83b7 div.sk-toggleable {background-color: white;}#sk-d85b173c-c8fc-41c6-a10f-a4986f2e83b7 label.sk-toggleable__label {cursor: pointer;display: block;width: 100%;margin-bottom: 0;padding: 0.2em 0.3em;box-sizing: border-box;text-align: center;}#sk-d85b173c-c8fc-41c6-a10f-a4986f2e83b7 div.sk-toggleable__content {max-height: 0;max-width: 0;overflow: hidden;text-align: left;background-color: #f0f8ff;}#sk-d85b173c-c8fc-41c6-a10f-a4986f2e83b7 div.sk-toggleable__content pre {margin: 0.2em;color: black;border-radius: 0.25em;background-color: #f0f8ff;}#sk-d85b173c-c8fc-41c6-a10f-a4986f2e83b7 input.sk-toggleable__control:checked~div.sk-toggleable__content {max-height: 200px;max-width: 100%;overflow: auto;}#sk-d85b173c-c8fc-41c6-a10f-a4986f2e83b7 div.sk-estimator input.sk-toggleable__control:checked~label.sk-toggleable__label {background-color: #d4ebff;}#sk-d85b173c-c8fc-41c6-a10f-a4986f2e83b7 div.sk-label input.sk-toggleable__control:checked~label.sk-toggleable__label {background-color: #d4ebff;}#sk-d85b173c-c8fc-41c6-a10f-a4986f2e83b7 input.sk-hidden--visually {border: 0;clip: rect(1px 1px 1px 1px);clip: rect(1px, 1px, 1px, 1px);height: 1px;margin: -1px;overflow: hidden;padding: 0;position: absolute;width: 1px;}#sk-d85b173c-c8fc-41c6-a10f-a4986f2e83b7 div.sk-estimator {font-family: monospace;background-color: #f0f8ff;margin: 0.25em 0.25em;border: 1px dotted black;border-radius: 0.25em;box-sizing: border-box;}#sk-d85b173c-c8fc-41c6-a10f-a4986f2e83b7 div.sk-estimator:hover {background-color: #d4ebff;}#sk-d85b173c-c8fc-41c6-a10f-a4986f2e83b7 div.sk-parallel-item::after {content: \"\";width: 100%;border-bottom: 1px solid gray;flex-grow: 1;}#sk-d85b173c-c8fc-41c6-a10f-a4986f2e83b7 div.sk-label:hover label.sk-toggleable__label {background-color: #d4ebff;}#sk-d85b173c-c8fc-41c6-a10f-a4986f2e83b7 div.sk-serial::before {content: \"\";position: absolute;border-left: 1px solid gray;box-sizing: border-box;top: 2em;bottom: 0;left: 50%;}#sk-d85b173c-c8fc-41c6-a10f-a4986f2e83b7 div.sk-serial {display: flex;flex-direction: column;align-items: center;background-color: white;}#sk-d85b173c-c8fc-41c6-a10f-a4986f2e83b7 div.sk-item {z-index: 1;}#sk-d85b173c-c8fc-41c6-a10f-a4986f2e83b7 div.sk-parallel {display: flex;align-items: stretch;justify-content: center;background-color: white;}#sk-d85b173c-c8fc-41c6-a10f-a4986f2e83b7 div.sk-parallel-item {display: flex;flex-direction: column;position: relative;background-color: white;}#sk-d85b173c-c8fc-41c6-a10f-a4986f2e83b7 div.sk-parallel-item:first-child::after {align-self: flex-end;width: 50%;}#sk-d85b173c-c8fc-41c6-a10f-a4986f2e83b7 div.sk-parallel-item:last-child::after {align-self: flex-start;width: 50%;}#sk-d85b173c-c8fc-41c6-a10f-a4986f2e83b7 div.sk-parallel-item:only-child::after {width: 0;}#sk-d85b173c-c8fc-41c6-a10f-a4986f2e83b7 div.sk-dashed-wrapped {border: 1px dashed gray;margin: 0.2em;box-sizing: border-box;padding-bottom: 0.1em;background-color: white;position: relative;}#sk-d85b173c-c8fc-41c6-a10f-a4986f2e83b7 div.sk-label label {font-family: monospace;font-weight: bold;background-color: white;display: inline-block;line-height: 1.2em;}#sk-d85b173c-c8fc-41c6-a10f-a4986f2e83b7 div.sk-label-container {position: relative;z-index: 2;text-align: center;}#sk-d85b173c-c8fc-41c6-a10f-a4986f2e83b7 div.sk-container {display: inline-block;position: relative;}</style><div id=\"sk-d85b173c-c8fc-41c6-a10f-a4986f2e83b7\" class\"sk-top-container\"><div class=\"sk-container\"><div class=\"sk-item sk-dashed-wrapped\"><div class=\"sk-label-container\"><div class=\"sk-label sk-toggleable\"><input class=\"sk-toggleable__control sk-hidden--visually\" id=\"6a4b5c0c-1236-4d93-8f41-ac9afb3cd5e5\" type=\"checkbox\" ><label class=\"sk-toggleable__label\" for=\"6a4b5c0c-1236-4d93-8f41-ac9afb3cd5e5\">Pipeline</label><div class=\"sk-toggleable__content\"><pre>Pipeline(steps=[('columntransformer',\n",
       "                 ColumnTransformer(transformers=[('simpleimputer',\n",
       "                                                  SimpleImputer(),\n",
       "                                                  ['co', 'no', 'no2', 'o3',\n",
       "                                                   'so2', 'pm2_5', 'pm10',\n",
       "                                                   'nh3'])])),\n",
       "                ('standardscaler', StandardScaler())])</pre></div></div></div><div class=\"sk-serial\"><div class=\"sk-item sk-dashed-wrapped\"><div class=\"sk-label-container\"><div class=\"sk-label sk-toggleable\"><input class=\"sk-toggleable__control sk-hidden--visually\" id=\"00746aac-d0a2-497c-b0d2-12fa923afa30\" type=\"checkbox\" ><label class=\"sk-toggleable__label\" for=\"00746aac-d0a2-497c-b0d2-12fa923afa30\">columntransformer: ColumnTransformer</label><div class=\"sk-toggleable__content\"><pre>ColumnTransformer(transformers=[('simpleimputer', SimpleImputer(),\n",
       "                                 ['co', 'no', 'no2', 'o3', 'so2', 'pm2_5',\n",
       "                                  'pm10', 'nh3'])])</pre></div></div></div><div class=\"sk-parallel\"><div class=\"sk-parallel-item\"><div class=\"sk-item\"><div class=\"sk-label-container\"><div class=\"sk-label sk-toggleable\"><input class=\"sk-toggleable__control sk-hidden--visually\" id=\"2265b4c0-eef5-4e44-98bc-2bd50c216e33\" type=\"checkbox\" ><label class=\"sk-toggleable__label\" for=\"2265b4c0-eef5-4e44-98bc-2bd50c216e33\">simpleimputer</label><div class=\"sk-toggleable__content\"><pre>['co', 'no', 'no2', 'o3', 'so2', 'pm2_5', 'pm10', 'nh3']</pre></div></div></div><div class=\"sk-serial\"><div class=\"sk-item\"><div class=\"sk-estimator sk-toggleable\"><input class=\"sk-toggleable__control sk-hidden--visually\" id=\"7c70a801-9909-4672-9933-b7af0c820ab9\" type=\"checkbox\" ><label class=\"sk-toggleable__label\" for=\"7c70a801-9909-4672-9933-b7af0c820ab9\">SimpleImputer</label><div class=\"sk-toggleable__content\"><pre>SimpleImputer()</pre></div></div></div></div></div></div></div></div><div class=\"sk-item\"><div class=\"sk-estimator sk-toggleable\"><input class=\"sk-toggleable__control sk-hidden--visually\" id=\"93fe0da9-bfdc-4566-a229-b2b296a87f36\" type=\"checkbox\" ><label class=\"sk-toggleable__label\" for=\"93fe0da9-bfdc-4566-a229-b2b296a87f36\">StandardScaler</label><div class=\"sk-toggleable__content\"><pre>StandardScaler()</pre></div></div></div></div></div></div></div>"
      ],
      "text/plain": [
       "Pipeline(steps=[('columntransformer',\n",
       "                 ColumnTransformer(transformers=[('simpleimputer',\n",
       "                                                  SimpleImputer(),\n",
       "                                                  ['co', 'no', 'no2', 'o3',\n",
       "                                                   'so2', 'pm2_5', 'pm10',\n",
       "                                                   'nh3'])])),\n",
       "                ('standardscaler', StandardScaler())])"
      ]
     },
     "execution_count": 24,
     "metadata": {},
     "output_type": "execute_result"
    }
   ],
   "source": [
    "preprocess_pipeline"
   ]
  },
  {
   "cell_type": "markdown",
   "id": "7d8c55d7",
   "metadata": {},
   "source": [
    "## Tiền xử lý (tập validation)"
   ]
  },
  {
   "cell_type": "code",
   "execution_count": 25,
   "id": "d9dcd584",
   "metadata": {},
   "outputs": [
    {
     "data": {
      "text/plain": [
       "(1368, 8)"
      ]
     },
     "execution_count": 25,
     "metadata": {},
     "output_type": "execute_result"
    }
   ],
   "source": [
    "preprocessed_val_X=preprocess_pipeline.transform(val_X_df)\n",
    "preprocessed_val_X.shape"
   ]
  },
  {
   "cell_type": "markdown",
   "id": "c3243b62",
   "metadata": {},
   "source": [
    "## Tiền xử lý + mô hình hóa\n",
    "### Tìm mô hình tốt nhất"
   ]
  },
  {
   "cell_type": "code",
   "execution_count": 26,
   "id": "77bdf5d1",
   "metadata": {},
   "outputs": [
    {
     "data": {
      "text/plain": [
       "'Finish!'"
      ]
     },
     "execution_count": 26,
     "metadata": {},
     "output_type": "execute_result"
    }
   ],
   "source": [
    "neural_net_model = MLPClassifier(hidden_layer_sizes=(20,), activation='tanh',\\\n",
    "                                 solver='lbfgs', random_state=60, max_iter=2500)\n",
    "\n",
    "full_pipeline = make_pipeline(preprocess_pipeline, neural_net_model)\n",
    "\n",
    "# Thử nghiệm với các giá trị khác nhau của các siêu tham số\n",
    "# và chọn ra các giá trị tốt nhất\n",
    "train_errs = []\n",
    "val_errs = []\n",
    "alphas = [0.0001, 0.001, 0.01, 0.1, 1, 10]\n",
    "best_val_err = float('inf')\n",
    "best_alpha = None\n",
    "for alpha in alphas:\n",
    "    full_pipeline.set_params(mlpclassifier__alpha = alpha)\n",
    "\n",
    "    full_pipeline.fit(train_X_df, train_y_sr)\n",
    "    train_errs.append((1 - full_pipeline.score(train_X_df, train_y_sr)) * 100)\n",
    "    val_errs.append((1 - full_pipeline.score(val_X_df, val_y_sr)) * 100)\n",
    "\n",
    "best_val_err = min(val_errs)\n",
    "index = val_errs.index(min(val_errs))\n",
    "best_alpha = alphas[index]\n",
    "\n",
    "'Finish!'"
   ]
  },
  {
   "cell_type": "code",
   "execution_count": 27,
   "id": "7514e490",
   "metadata": {},
   "outputs": [
    {
     "data": {
      "text/html": [
       "<style>#sk-12319f2d-9074-4e12-a802-823df595eb83 {color: black;background-color: white;}#sk-12319f2d-9074-4e12-a802-823df595eb83 pre{padding: 0;}#sk-12319f2d-9074-4e12-a802-823df595eb83 div.sk-toggleable {background-color: white;}#sk-12319f2d-9074-4e12-a802-823df595eb83 label.sk-toggleable__label {cursor: pointer;display: block;width: 100%;margin-bottom: 0;padding: 0.2em 0.3em;box-sizing: border-box;text-align: center;}#sk-12319f2d-9074-4e12-a802-823df595eb83 div.sk-toggleable__content {max-height: 0;max-width: 0;overflow: hidden;text-align: left;background-color: #f0f8ff;}#sk-12319f2d-9074-4e12-a802-823df595eb83 div.sk-toggleable__content pre {margin: 0.2em;color: black;border-radius: 0.25em;background-color: #f0f8ff;}#sk-12319f2d-9074-4e12-a802-823df595eb83 input.sk-toggleable__control:checked~div.sk-toggleable__content {max-height: 200px;max-width: 100%;overflow: auto;}#sk-12319f2d-9074-4e12-a802-823df595eb83 div.sk-estimator input.sk-toggleable__control:checked~label.sk-toggleable__label {background-color: #d4ebff;}#sk-12319f2d-9074-4e12-a802-823df595eb83 div.sk-label input.sk-toggleable__control:checked~label.sk-toggleable__label {background-color: #d4ebff;}#sk-12319f2d-9074-4e12-a802-823df595eb83 input.sk-hidden--visually {border: 0;clip: rect(1px 1px 1px 1px);clip: rect(1px, 1px, 1px, 1px);height: 1px;margin: -1px;overflow: hidden;padding: 0;position: absolute;width: 1px;}#sk-12319f2d-9074-4e12-a802-823df595eb83 div.sk-estimator {font-family: monospace;background-color: #f0f8ff;margin: 0.25em 0.25em;border: 1px dotted black;border-radius: 0.25em;box-sizing: border-box;}#sk-12319f2d-9074-4e12-a802-823df595eb83 div.sk-estimator:hover {background-color: #d4ebff;}#sk-12319f2d-9074-4e12-a802-823df595eb83 div.sk-parallel-item::after {content: \"\";width: 100%;border-bottom: 1px solid gray;flex-grow: 1;}#sk-12319f2d-9074-4e12-a802-823df595eb83 div.sk-label:hover label.sk-toggleable__label {background-color: #d4ebff;}#sk-12319f2d-9074-4e12-a802-823df595eb83 div.sk-serial::before {content: \"\";position: absolute;border-left: 1px solid gray;box-sizing: border-box;top: 2em;bottom: 0;left: 50%;}#sk-12319f2d-9074-4e12-a802-823df595eb83 div.sk-serial {display: flex;flex-direction: column;align-items: center;background-color: white;}#sk-12319f2d-9074-4e12-a802-823df595eb83 div.sk-item {z-index: 1;}#sk-12319f2d-9074-4e12-a802-823df595eb83 div.sk-parallel {display: flex;align-items: stretch;justify-content: center;background-color: white;}#sk-12319f2d-9074-4e12-a802-823df595eb83 div.sk-parallel-item {display: flex;flex-direction: column;position: relative;background-color: white;}#sk-12319f2d-9074-4e12-a802-823df595eb83 div.sk-parallel-item:first-child::after {align-self: flex-end;width: 50%;}#sk-12319f2d-9074-4e12-a802-823df595eb83 div.sk-parallel-item:last-child::after {align-self: flex-start;width: 50%;}#sk-12319f2d-9074-4e12-a802-823df595eb83 div.sk-parallel-item:only-child::after {width: 0;}#sk-12319f2d-9074-4e12-a802-823df595eb83 div.sk-dashed-wrapped {border: 1px dashed gray;margin: 0.2em;box-sizing: border-box;padding-bottom: 0.1em;background-color: white;position: relative;}#sk-12319f2d-9074-4e12-a802-823df595eb83 div.sk-label label {font-family: monospace;font-weight: bold;background-color: white;display: inline-block;line-height: 1.2em;}#sk-12319f2d-9074-4e12-a802-823df595eb83 div.sk-label-container {position: relative;z-index: 2;text-align: center;}#sk-12319f2d-9074-4e12-a802-823df595eb83 div.sk-container {display: inline-block;position: relative;}</style><div id=\"sk-12319f2d-9074-4e12-a802-823df595eb83\" class\"sk-top-container\"><div class=\"sk-container\"><div class=\"sk-item sk-dashed-wrapped\"><div class=\"sk-label-container\"><div class=\"sk-label sk-toggleable\"><input class=\"sk-toggleable__control sk-hidden--visually\" id=\"c6c5d042-cdcb-480e-bea0-087105951227\" type=\"checkbox\" ><label class=\"sk-toggleable__label\" for=\"c6c5d042-cdcb-480e-bea0-087105951227\">Pipeline</label><div class=\"sk-toggleable__content\"><pre>Pipeline(steps=[('pipeline',\n",
       "                 Pipeline(steps=[('columntransformer',\n",
       "                                  ColumnTransformer(transformers=[('simpleimputer',\n",
       "                                                                   SimpleImputer(),\n",
       "                                                                   ['co', 'no',\n",
       "                                                                    'no2', 'o3',\n",
       "                                                                    'so2',\n",
       "                                                                    'pm2_5',\n",
       "                                                                    'pm10',\n",
       "                                                                    'nh3'])])),\n",
       "                                 ('standardscaler', StandardScaler())])),\n",
       "                ('mlpclassifier',\n",
       "                 MLPClassifier(activation='tanh', alpha=10,\n",
       "                               hidden_layer_sizes=(20,), max_iter=2500,\n",
       "                               random_state=60, solver='lbfgs'))])</pre></div></div></div><div class=\"sk-serial\"><div class=\"sk-item\"><div class=\"sk-label-container\"><div class=\"sk-label sk-toggleable\"><input class=\"sk-toggleable__control sk-hidden--visually\" id=\"afe7469e-e7a9-4139-b847-27d0de726522\" type=\"checkbox\" ><label class=\"sk-toggleable__label\" for=\"afe7469e-e7a9-4139-b847-27d0de726522\">pipeline: Pipeline</label><div class=\"sk-toggleable__content\"><pre>Pipeline(steps=[('columntransformer',\n",
       "                 ColumnTransformer(transformers=[('simpleimputer',\n",
       "                                                  SimpleImputer(),\n",
       "                                                  ['co', 'no', 'no2', 'o3',\n",
       "                                                   'so2', 'pm2_5', 'pm10',\n",
       "                                                   'nh3'])])),\n",
       "                ('standardscaler', StandardScaler())])</pre></div></div></div><div class=\"sk-serial\"><div class=\"sk-item sk-dashed-wrapped\"><div class=\"sk-label-container\"><div class=\"sk-label sk-toggleable\"><input class=\"sk-toggleable__control sk-hidden--visually\" id=\"0e5f22cd-cedc-4100-9107-cba5365bdb9f\" type=\"checkbox\" ><label class=\"sk-toggleable__label\" for=\"0e5f22cd-cedc-4100-9107-cba5365bdb9f\">columntransformer: ColumnTransformer</label><div class=\"sk-toggleable__content\"><pre>ColumnTransformer(transformers=[('simpleimputer', SimpleImputer(),\n",
       "                                 ['co', 'no', 'no2', 'o3', 'so2', 'pm2_5',\n",
       "                                  'pm10', 'nh3'])])</pre></div></div></div><div class=\"sk-parallel\"><div class=\"sk-parallel-item\"><div class=\"sk-item\"><div class=\"sk-label-container\"><div class=\"sk-label sk-toggleable\"><input class=\"sk-toggleable__control sk-hidden--visually\" id=\"f1b48840-d928-4cd6-880f-20974bbdc621\" type=\"checkbox\" ><label class=\"sk-toggleable__label\" for=\"f1b48840-d928-4cd6-880f-20974bbdc621\">simpleimputer</label><div class=\"sk-toggleable__content\"><pre>['co', 'no', 'no2', 'o3', 'so2', 'pm2_5', 'pm10', 'nh3']</pre></div></div></div><div class=\"sk-serial\"><div class=\"sk-item\"><div class=\"sk-estimator sk-toggleable\"><input class=\"sk-toggleable__control sk-hidden--visually\" id=\"1cd8a368-bd14-4726-964e-1849559fbffa\" type=\"checkbox\" ><label class=\"sk-toggleable__label\" for=\"1cd8a368-bd14-4726-964e-1849559fbffa\">SimpleImputer</label><div class=\"sk-toggleable__content\"><pre>SimpleImputer()</pre></div></div></div></div></div></div></div></div><div class=\"sk-item\"><div class=\"sk-estimator sk-toggleable\"><input class=\"sk-toggleable__control sk-hidden--visually\" id=\"c0e83112-c921-42fd-8ce9-35dfe599a9e7\" type=\"checkbox\" ><label class=\"sk-toggleable__label\" for=\"c0e83112-c921-42fd-8ce9-35dfe599a9e7\">StandardScaler</label><div class=\"sk-toggleable__content\"><pre>StandardScaler()</pre></div></div></div></div></div><div class=\"sk-item\"><div class=\"sk-estimator sk-toggleable\"><input class=\"sk-toggleable__control sk-hidden--visually\" id=\"11b1d00e-fbf1-4144-8d61-a763c19b6e71\" type=\"checkbox\" ><label class=\"sk-toggleable__label\" for=\"11b1d00e-fbf1-4144-8d61-a763c19b6e71\">MLPClassifier</label><div class=\"sk-toggleable__content\"><pre>MLPClassifier(activation='tanh', alpha=10, hidden_layer_sizes=(20,),\n",
       "              max_iter=2500, random_state=60, solver='lbfgs')</pre></div></div></div></div></div></div></div>"
      ],
      "text/plain": [
       "Pipeline(steps=[('pipeline',\n",
       "                 Pipeline(steps=[('columntransformer',\n",
       "                                  ColumnTransformer(transformers=[('simpleimputer',\n",
       "                                                                   SimpleImputer(),\n",
       "                                                                   ['co', 'no',\n",
       "                                                                    'no2', 'o3',\n",
       "                                                                    'so2',\n",
       "                                                                    'pm2_5',\n",
       "                                                                    'pm10',\n",
       "                                                                    'nh3'])])),\n",
       "                                 ('standardscaler', StandardScaler())])),\n",
       "                ('mlpclassifier',\n",
       "                 MLPClassifier(activation='tanh', alpha=10,\n",
       "                               hidden_layer_sizes=(20,), max_iter=2500,\n",
       "                               random_state=60, solver='lbfgs'))])"
      ]
     },
     "execution_count": 27,
     "metadata": {},
     "output_type": "execute_result"
    }
   ],
   "source": [
    "full_pipeline"
   ]
  },
  {
   "cell_type": "code",
   "execution_count": 28,
   "id": "106cc871",
   "metadata": {},
   "outputs": [
    {
     "name": "stdout",
     "output_type": "stream",
     "text": [
      "best_val_err:  0.658\n",
      "\n",
      "best_alpha:  0.001\n",
      "\n",
      "train error:  [0.0, 0.0, 0.0, 0.22974101921470202, 1.670843776106934, 3.5923141186299135]\n",
      "\n",
      "valid error:  [1.6812865497076057, 0.6578947368421018, 1.0964912280701733, 0.8771929824561431, 1.6812865497076057, 3.14327485380117]\n"
     ]
    }
   ],
   "source": [
    "print('best_val_err: ', best_val_err.round(3))\n",
    "print()\n",
    "print('best_alpha: ',best_alpha)\n",
    "print()\n",
    "print('train error: ', train_errs)\n",
    "print()\n",
    "print('valid error: ', val_errs)"
   ]
  },
  {
   "cell_type": "markdown",
   "id": "e07ea1ea",
   "metadata": {},
   "source": [
    "Cuối cùng, huấn luyện lại `full_pipeline` trên `X_df` và `y_sr` (tập huấn luyện + tập validation) với `best_alpha` tìm được ở trên để ra được mô hình cụ thể cuối cùng."
   ]
  },
  {
   "cell_type": "code",
   "execution_count": 29,
   "id": "83d7133f",
   "metadata": {},
   "outputs": [
    {
     "data": {
      "text/html": [
       "<style>#sk-062b0646-adf2-4546-a059-ea441e321fe2 {color: black;background-color: white;}#sk-062b0646-adf2-4546-a059-ea441e321fe2 pre{padding: 0;}#sk-062b0646-adf2-4546-a059-ea441e321fe2 div.sk-toggleable {background-color: white;}#sk-062b0646-adf2-4546-a059-ea441e321fe2 label.sk-toggleable__label {cursor: pointer;display: block;width: 100%;margin-bottom: 0;padding: 0.2em 0.3em;box-sizing: border-box;text-align: center;}#sk-062b0646-adf2-4546-a059-ea441e321fe2 div.sk-toggleable__content {max-height: 0;max-width: 0;overflow: hidden;text-align: left;background-color: #f0f8ff;}#sk-062b0646-adf2-4546-a059-ea441e321fe2 div.sk-toggleable__content pre {margin: 0.2em;color: black;border-radius: 0.25em;background-color: #f0f8ff;}#sk-062b0646-adf2-4546-a059-ea441e321fe2 input.sk-toggleable__control:checked~div.sk-toggleable__content {max-height: 200px;max-width: 100%;overflow: auto;}#sk-062b0646-adf2-4546-a059-ea441e321fe2 div.sk-estimator input.sk-toggleable__control:checked~label.sk-toggleable__label {background-color: #d4ebff;}#sk-062b0646-adf2-4546-a059-ea441e321fe2 div.sk-label input.sk-toggleable__control:checked~label.sk-toggleable__label {background-color: #d4ebff;}#sk-062b0646-adf2-4546-a059-ea441e321fe2 input.sk-hidden--visually {border: 0;clip: rect(1px 1px 1px 1px);clip: rect(1px, 1px, 1px, 1px);height: 1px;margin: -1px;overflow: hidden;padding: 0;position: absolute;width: 1px;}#sk-062b0646-adf2-4546-a059-ea441e321fe2 div.sk-estimator {font-family: monospace;background-color: #f0f8ff;margin: 0.25em 0.25em;border: 1px dotted black;border-radius: 0.25em;box-sizing: border-box;}#sk-062b0646-adf2-4546-a059-ea441e321fe2 div.sk-estimator:hover {background-color: #d4ebff;}#sk-062b0646-adf2-4546-a059-ea441e321fe2 div.sk-parallel-item::after {content: \"\";width: 100%;border-bottom: 1px solid gray;flex-grow: 1;}#sk-062b0646-adf2-4546-a059-ea441e321fe2 div.sk-label:hover label.sk-toggleable__label {background-color: #d4ebff;}#sk-062b0646-adf2-4546-a059-ea441e321fe2 div.sk-serial::before {content: \"\";position: absolute;border-left: 1px solid gray;box-sizing: border-box;top: 2em;bottom: 0;left: 50%;}#sk-062b0646-adf2-4546-a059-ea441e321fe2 div.sk-serial {display: flex;flex-direction: column;align-items: center;background-color: white;}#sk-062b0646-adf2-4546-a059-ea441e321fe2 div.sk-item {z-index: 1;}#sk-062b0646-adf2-4546-a059-ea441e321fe2 div.sk-parallel {display: flex;align-items: stretch;justify-content: center;background-color: white;}#sk-062b0646-adf2-4546-a059-ea441e321fe2 div.sk-parallel-item {display: flex;flex-direction: column;position: relative;background-color: white;}#sk-062b0646-adf2-4546-a059-ea441e321fe2 div.sk-parallel-item:first-child::after {align-self: flex-end;width: 50%;}#sk-062b0646-adf2-4546-a059-ea441e321fe2 div.sk-parallel-item:last-child::after {align-self: flex-start;width: 50%;}#sk-062b0646-adf2-4546-a059-ea441e321fe2 div.sk-parallel-item:only-child::after {width: 0;}#sk-062b0646-adf2-4546-a059-ea441e321fe2 div.sk-dashed-wrapped {border: 1px dashed gray;margin: 0.2em;box-sizing: border-box;padding-bottom: 0.1em;background-color: white;position: relative;}#sk-062b0646-adf2-4546-a059-ea441e321fe2 div.sk-label label {font-family: monospace;font-weight: bold;background-color: white;display: inline-block;line-height: 1.2em;}#sk-062b0646-adf2-4546-a059-ea441e321fe2 div.sk-label-container {position: relative;z-index: 2;text-align: center;}#sk-062b0646-adf2-4546-a059-ea441e321fe2 div.sk-container {display: inline-block;position: relative;}</style><div id=\"sk-062b0646-adf2-4546-a059-ea441e321fe2\" class\"sk-top-container\"><div class=\"sk-container\"><div class=\"sk-item sk-dashed-wrapped\"><div class=\"sk-label-container\"><div class=\"sk-label sk-toggleable\"><input class=\"sk-toggleable__control sk-hidden--visually\" id=\"d5d3098e-aebc-45fd-9ef9-17bdc90f36d4\" type=\"checkbox\" ><label class=\"sk-toggleable__label\" for=\"d5d3098e-aebc-45fd-9ef9-17bdc90f36d4\">Pipeline</label><div class=\"sk-toggleable__content\"><pre>Pipeline(steps=[('pipeline',\n",
       "                 Pipeline(steps=[('columntransformer',\n",
       "                                  ColumnTransformer(transformers=[('simpleimputer',\n",
       "                                                                   SimpleImputer(),\n",
       "                                                                   ['co', 'no',\n",
       "                                                                    'no2', 'o3',\n",
       "                                                                    'so2',\n",
       "                                                                    'pm2_5',\n",
       "                                                                    'pm10',\n",
       "                                                                    'nh3'])])),\n",
       "                                 ('standardscaler', StandardScaler())])),\n",
       "                ('mlpclassifier',\n",
       "                 MLPClassifier(activation='tanh', alpha=0.001,\n",
       "                               hidden_layer_sizes=(20,), max_iter=2500,\n",
       "                               random_state=60, solver='lbfgs'))])</pre></div></div></div><div class=\"sk-serial\"><div class=\"sk-item\"><div class=\"sk-label-container\"><div class=\"sk-label sk-toggleable\"><input class=\"sk-toggleable__control sk-hidden--visually\" id=\"4aa91f83-d58d-4387-9f75-73a244bdcceb\" type=\"checkbox\" ><label class=\"sk-toggleable__label\" for=\"4aa91f83-d58d-4387-9f75-73a244bdcceb\">pipeline: Pipeline</label><div class=\"sk-toggleable__content\"><pre>Pipeline(steps=[('columntransformer',\n",
       "                 ColumnTransformer(transformers=[('simpleimputer',\n",
       "                                                  SimpleImputer(),\n",
       "                                                  ['co', 'no', 'no2', 'o3',\n",
       "                                                   'so2', 'pm2_5', 'pm10',\n",
       "                                                   'nh3'])])),\n",
       "                ('standardscaler', StandardScaler())])</pre></div></div></div><div class=\"sk-serial\"><div class=\"sk-item sk-dashed-wrapped\"><div class=\"sk-label-container\"><div class=\"sk-label sk-toggleable\"><input class=\"sk-toggleable__control sk-hidden--visually\" id=\"e60286b3-3484-4b6e-8b16-d9ec37bdbc20\" type=\"checkbox\" ><label class=\"sk-toggleable__label\" for=\"e60286b3-3484-4b6e-8b16-d9ec37bdbc20\">columntransformer: ColumnTransformer</label><div class=\"sk-toggleable__content\"><pre>ColumnTransformer(transformers=[('simpleimputer', SimpleImputer(),\n",
       "                                 ['co', 'no', 'no2', 'o3', 'so2', 'pm2_5',\n",
       "                                  'pm10', 'nh3'])])</pre></div></div></div><div class=\"sk-parallel\"><div class=\"sk-parallel-item\"><div class=\"sk-item\"><div class=\"sk-label-container\"><div class=\"sk-label sk-toggleable\"><input class=\"sk-toggleable__control sk-hidden--visually\" id=\"6395211c-903f-4270-9073-567f74db3c94\" type=\"checkbox\" ><label class=\"sk-toggleable__label\" for=\"6395211c-903f-4270-9073-567f74db3c94\">simpleimputer</label><div class=\"sk-toggleable__content\"><pre>['co', 'no', 'no2', 'o3', 'so2', 'pm2_5', 'pm10', 'nh3']</pre></div></div></div><div class=\"sk-serial\"><div class=\"sk-item\"><div class=\"sk-estimator sk-toggleable\"><input class=\"sk-toggleable__control sk-hidden--visually\" id=\"8f081534-8acc-4906-a443-8b344edcc8cf\" type=\"checkbox\" ><label class=\"sk-toggleable__label\" for=\"8f081534-8acc-4906-a443-8b344edcc8cf\">SimpleImputer</label><div class=\"sk-toggleable__content\"><pre>SimpleImputer()</pre></div></div></div></div></div></div></div></div><div class=\"sk-item\"><div class=\"sk-estimator sk-toggleable\"><input class=\"sk-toggleable__control sk-hidden--visually\" id=\"dd17daea-cd3a-451c-92be-9871a41b22c3\" type=\"checkbox\" ><label class=\"sk-toggleable__label\" for=\"dd17daea-cd3a-451c-92be-9871a41b22c3\">StandardScaler</label><div class=\"sk-toggleable__content\"><pre>StandardScaler()</pre></div></div></div></div></div><div class=\"sk-item\"><div class=\"sk-estimator sk-toggleable\"><input class=\"sk-toggleable__control sk-hidden--visually\" id=\"8565656b-baa5-489a-ae44-0fa288bed6c6\" type=\"checkbox\" ><label class=\"sk-toggleable__label\" for=\"8565656b-baa5-489a-ae44-0fa288bed6c6\">MLPClassifier</label><div class=\"sk-toggleable__content\"><pre>MLPClassifier(activation='tanh', alpha=0.001, hidden_layer_sizes=(20,),\n",
       "              max_iter=2500, random_state=60, solver='lbfgs')</pre></div></div></div></div></div></div></div>"
      ],
      "text/plain": [
       "Pipeline(steps=[('pipeline',\n",
       "                 Pipeline(steps=[('columntransformer',\n",
       "                                  ColumnTransformer(transformers=[('simpleimputer',\n",
       "                                                                   SimpleImputer(),\n",
       "                                                                   ['co', 'no',\n",
       "                                                                    'no2', 'o3',\n",
       "                                                                    'so2',\n",
       "                                                                    'pm2_5',\n",
       "                                                                    'pm10',\n",
       "                                                                    'nh3'])])),\n",
       "                                 ('standardscaler', StandardScaler())])),\n",
       "                ('mlpclassifier',\n",
       "                 MLPClassifier(activation='tanh', alpha=0.001,\n",
       "                               hidden_layer_sizes=(20,), max_iter=2500,\n",
       "                               random_state=60, solver='lbfgs'))])"
      ]
     },
     "execution_count": 29,
     "metadata": {},
     "output_type": "execute_result"
    }
   ],
   "source": [
    "full_pipeline.set_params(mlpclassifier__alpha = best_alpha)\n",
    "\n",
    "full_pipeline.fit(temp_X_df, temp_y_sr)"
   ]
  },
  {
   "cell_type": "markdown",
   "id": "0f80ce22",
   "metadata": {},
   "source": [
    "### Đánh giá mô hình tìm được:\n",
    "Đánh giá mô hình tìm được với test data"
   ]
  },
  {
   "cell_type": "code",
   "execution_count": 30,
   "id": "0b4c6b1d",
   "metadata": {},
   "outputs": [
    {
     "name": "stdout",
     "output_type": "stream",
     "text": [
      "Score with test data:  99.42 %\n"
     ]
    }
   ],
   "source": [
    "score = (full_pipeline.score(test_X_df, test_y_sr) * 100).round(2)\n",
    "print('Score with test data: ', score, '%')"
   ]
  }
 ],
 "metadata": {
  "kernelspec": {
   "display_name": "Python 3 (ipykernel)",
   "language": "python",
   "name": "python3"
  },
  "language_info": {
   "codemirror_mode": {
    "name": "ipython",
    "version": 3
   },
   "file_extension": ".py",
   "mimetype": "text/x-python",
   "name": "python",
   "nbconvert_exporter": "python",
   "pygments_lexer": "ipython3",
   "version": "3.8.8"
  }
 },
 "nbformat": 4,
 "nbformat_minor": 5
}
