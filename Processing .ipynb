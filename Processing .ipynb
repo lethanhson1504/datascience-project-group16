{
 "cells": [
  {
   "cell_type": "markdown",
   "id": "445b82d5",
   "metadata": {},
   "source": [
    "# Khám phá dữ liệu, tiền xử lý"
   ]
  },
  {
   "cell_type": "code",
   "execution_count": 1,
   "id": "ccb7414d",
   "metadata": {},
   "outputs": [],
   "source": [
    "import matplotlib.pyplot as plt\n",
    "import numpy as np\n",
    "import pandas as pd\n",
    "import seaborn as sns\n",
    "from sklearn.model_selection import train_test_split\n",
    "from sklearn.preprocessing import OneHotEncoder, StandardScaler\n",
    "from sklearn.impute import SimpleImputer\n",
    "from sklearn.base import BaseEstimator, TransformerMixin\n",
    "from sklearn.pipeline import Pipeline, make_pipeline\n",
    "from sklearn.compose import ColumnTransformer, make_column_transformer\n",
    "from sklearn.neural_network import MLPClassifier\n",
    "from sklearn import set_config\n",
    "from sklearn.linear_model import LogisticRegression\n",
    "from sklearn.neighbors import KNeighborsClassifier\n",
    "set_config(display='diagram') # Để trực quan hóa pipeline"
   ]
  },
  {
   "cell_type": "markdown",
   "id": "ca1ab9c8",
   "metadata": {},
   "source": [
    "### Đọc dữ liệu từ file"
   ]
  },
  {
   "cell_type": "code",
   "execution_count": 2,
   "id": "bb91f12e",
   "metadata": {},
   "outputs": [],
   "source": [
    "air_df = pd.read_csv('data.csv', sep = ',')"
   ]
  },
  {
   "cell_type": "code",
   "execution_count": 3,
   "id": "3570d508",
   "metadata": {},
   "outputs": [
    {
     "data": {
      "text/html": [
       "<div>\n",
       "<style scoped>\n",
       "    .dataframe tbody tr th:only-of-type {\n",
       "        vertical-align: middle;\n",
       "    }\n",
       "\n",
       "    .dataframe tbody tr th {\n",
       "        vertical-align: top;\n",
       "    }\n",
       "\n",
       "    .dataframe thead th {\n",
       "        text-align: right;\n",
       "    }\n",
       "</style>\n",
       "<table border=\"1\" class=\"dataframe\">\n",
       "  <thead>\n",
       "    <tr style=\"text-align: right;\">\n",
       "      <th></th>\n",
       "      <th>co</th>\n",
       "      <th>no</th>\n",
       "      <th>no2</th>\n",
       "      <th>o3</th>\n",
       "      <th>so2</th>\n",
       "      <th>pm2_5</th>\n",
       "      <th>pm10</th>\n",
       "      <th>nh3</th>\n",
       "      <th>aqi</th>\n",
       "    </tr>\n",
       "  </thead>\n",
       "  <tbody>\n",
       "    <tr>\n",
       "      <th>0</th>\n",
       "      <td>1121.52</td>\n",
       "      <td>2.49</td>\n",
       "      <td>15.59</td>\n",
       "      <td>6.62</td>\n",
       "      <td>7.03</td>\n",
       "      <td>51.11</td>\n",
       "      <td>60.88</td>\n",
       "      <td>6.21</td>\n",
       "      <td>5</td>\n",
       "    </tr>\n",
       "    <tr>\n",
       "      <th>1</th>\n",
       "      <td>767.71</td>\n",
       "      <td>1.48</td>\n",
       "      <td>12.00</td>\n",
       "      <td>32.90</td>\n",
       "      <td>8.46</td>\n",
       "      <td>36.26</td>\n",
       "      <td>42.39</td>\n",
       "      <td>3.52</td>\n",
       "      <td>4</td>\n",
       "    </tr>\n",
       "    <tr>\n",
       "      <th>2</th>\n",
       "      <td>727.65</td>\n",
       "      <td>1.41</td>\n",
       "      <td>10.11</td>\n",
       "      <td>51.50</td>\n",
       "      <td>8.35</td>\n",
       "      <td>35.83</td>\n",
       "      <td>41.03</td>\n",
       "      <td>3.23</td>\n",
       "      <td>4</td>\n",
       "    </tr>\n",
       "    <tr>\n",
       "      <th>3</th>\n",
       "      <td>727.65</td>\n",
       "      <td>1.03</td>\n",
       "      <td>8.82</td>\n",
       "      <td>77.25</td>\n",
       "      <td>8.94</td>\n",
       "      <td>39.41</td>\n",
       "      <td>44.50</td>\n",
       "      <td>3.58</td>\n",
       "      <td>4</td>\n",
       "    </tr>\n",
       "    <tr>\n",
       "      <th>4</th>\n",
       "      <td>761.03</td>\n",
       "      <td>0.59</td>\n",
       "      <td>7.37</td>\n",
       "      <td>103.00</td>\n",
       "      <td>9.18</td>\n",
       "      <td>46.39</td>\n",
       "      <td>51.56</td>\n",
       "      <td>3.99</td>\n",
       "      <td>4</td>\n",
       "    </tr>\n",
       "  </tbody>\n",
       "</table>\n",
       "</div>"
      ],
      "text/plain": [
       "        co    no    no2      o3   so2  pm2_5   pm10   nh3  aqi\n",
       "0  1121.52  2.49  15.59    6.62  7.03  51.11  60.88  6.21    5\n",
       "1   767.71  1.48  12.00   32.90  8.46  36.26  42.39  3.52    4\n",
       "2   727.65  1.41  10.11   51.50  8.35  35.83  41.03  3.23    4\n",
       "3   727.65  1.03   8.82   77.25  8.94  39.41  44.50  3.58    4\n",
       "4   761.03  0.59   7.37  103.00  9.18  46.39  51.56  3.99    4"
      ]
     },
     "execution_count": 3,
     "metadata": {},
     "output_type": "execute_result"
    }
   ],
   "source": [
    "air_df.head()"
   ]
  },
  {
   "cell_type": "markdown",
   "id": "66ff939c",
   "metadata": {},
   "source": [
    "### Dữ liệu có bao nhiêu dòng và bao nhiêu cột?"
   ]
  },
  {
   "cell_type": "code",
   "execution_count": 4,
   "id": "a9d4c102",
   "metadata": {},
   "outputs": [
    {
     "data": {
      "text/plain": [
       "(13206, 9)"
      ]
     },
     "execution_count": 4,
     "metadata": {},
     "output_type": "execute_result"
    }
   ],
   "source": [
    "air_df.shape"
   ]
  },
  {
   "cell_type": "markdown",
   "id": "f41d562a",
   "metadata": {},
   "source": [
    "### Mỗi dòng có ý nghĩa gì? Có vấn đề các dòng có ý nghĩa khác nhau không?"
   ]
  },
  {
   "cell_type": "markdown",
   "id": "27606353",
   "metadata": {},
   "source": [
    "Mỗi dòng trong DataFrame `air_df` cho biết dữ liệu về các chỉ số và chất lượng không khí của các tỉnh, thành phố từ 0h ngày 1/8/2021 - 0h ngày 1/9/2021 . Có vẻ không có vấn đề các dòng có ý nghĩa khác nhau."
   ]
  },
  {
   "cell_type": "markdown",
   "id": "3bdd3cfa",
   "metadata": {},
   "source": [
    "### Dữ liệu có các dòng bị lặp không?"
   ]
  },
  {
   "cell_type": "code",
   "execution_count": 5,
   "id": "3db90ad7",
   "metadata": {},
   "outputs": [
    {
     "data": {
      "text/plain": [
       "0"
      ]
     },
     "execution_count": 5,
     "metadata": {},
     "output_type": "execute_result"
    }
   ],
   "source": [
    "air_df.index.duplicated().sum()"
   ]
  },
  {
   "cell_type": "markdown",
   "id": "dfe03d2b",
   "metadata": {},
   "source": [
    "### Mỗi cột có ý nghĩa gì?"
   ]
  },
  {
   "cell_type": "code",
   "execution_count": 6,
   "id": "d1b759f5",
   "metadata": {},
   "outputs": [
    {
     "name": "stdout",
     "output_type": "stream",
     "text": [
      "VARIABLE DESCRIPTIONS:\n",
      "aqi        \tChỉ số chất lượng không khí (1,2,3,4,5)\n",
      "                (1 = Good; 2 = Fair; 3 = Moderate; 4 = Poor ; 5 = Very Poor )\n",
      "co          \tNồng độ CO (Carbon monoxide) \t\t,  μg/m3\n",
      "no            \tNồng độ NO (Nitrogen monoxide) \t\t,  μg/m3\n",
      "no2             Nồng độ NO2 (Nitrogen dioxide) \t\t,  μg/m3\n",
      "o3             \tNồng độ O3 (Ozone) \t\t\t,  μg/m3\n",
      "so2           \tNồng độ SO2 (Sulphur dioxide) \t\t,  μg/m3\n",
      "pm2_5           Nồng độ PM2.5 (Fine particles matter) \t,  μg/m3\n",
      "pm10          \tNồng độ PM10 (Coarse particulate matter),  μg/m3\n",
      "nh3            \tNồng độ NH3 (Ammonia) \t\t\t,  μg/m3\n",
      "\n",
      "\n"
     ]
    }
   ],
   "source": [
    "with open('description.txt', 'r',encoding='utf-8') as f:\n",
    "    print(f.read())"
   ]
  },
  {
   "cell_type": "markdown",
   "id": "a174894f",
   "metadata": {},
   "source": [
    "## Đưa ra câu hỏi cần trả lời"
   ]
  },
  {
   "cell_type": "markdown",
   "id": "34073599",
   "metadata": {},
   "source": [
    "- Chất lượng không khí được tính như thế nào từ các chỉ số trong không khí đã được đo từ môi trường ?\n",
    "<br/>\n",
    "- Ý nghĩa thực tế của câu hỏi: Theo Tổ chức Y tế thế giới (WHO), hằng năm có 34.000 ca tử vong tại Việt Nam có liên quan đến ô nhiễm không khí. Việc xác định chất lượng không khí giúp người dân có các biện pháp bảo vệ bản thân và cộng đồng kịp thời như đeo khẩu trang, hạn chế sử dụng các phương tiện giao thông gây ô nhiễm, ... . Ngoài ra, chính quyền địa phương có thể hạn chế lượng khí thải từ các nhà máy, xí nghiệp, trồng thêm nhiều cây xanh để làm giảm ô nhiễm không khí."
   ]
  },
  {
   "cell_type": "markdown",
   "id": "95804a9d",
   "metadata": {},
   "source": [
    "# Khám phá dữ liệu"
   ]
  },
  {
   "cell_type": "code",
   "execution_count": 7,
   "id": "a5cf6553",
   "metadata": {},
   "outputs": [
    {
     "data": {
      "text/plain": [
       "dtype('int64')"
      ]
     },
     "execution_count": 7,
     "metadata": {},
     "output_type": "execute_result"
    }
   ],
   "source": [
    "# Cột output hiện có kiểu dữ liệu gì?\n",
    "air_df['aqi'].dtype"
   ]
  },
  {
   "cell_type": "code",
   "execution_count": 8,
   "id": "8bba2c31",
   "metadata": {},
   "outputs": [
    {
     "data": {
      "text/plain": [
       "0"
      ]
     },
     "execution_count": 8,
     "metadata": {},
     "output_type": "execute_result"
    }
   ],
   "source": [
    "# Cột output có bao nhiêu giá trị thiếu?\n",
    "air_df['aqi'].isna().sum()"
   ]
  },
  {
   "cell_type": "code",
   "execution_count": 9,
   "id": "c040b1d5",
   "metadata": {},
   "outputs": [
    {
     "data": {
      "text/plain": [
       "1    31.909738\n",
       "2    26.344086\n",
       "4    22.088445\n",
       "5    11.252461\n",
       "3     8.405270\n",
       "Name: aqi, dtype: float64"
      ]
     },
     "execution_count": 9,
     "metadata": {},
     "output_type": "execute_result"
    }
   ],
   "source": [
    "# Tỉ lệ các lớp trong cột output?\n",
    "air_df['aqi'].value_counts(normalize=True) * 100"
   ]
  },
  {
   "cell_type": "markdown",
   "id": "d84d4d6b",
   "metadata": {},
   "source": [
    "- Cột output đang ở kiểu dạng số, không có giá trị thiếu và tỉ lệ lớp 3 và 5 trong cột output chênh lệch nhiều so với các lớp còn lại, vì vậy hãy lấy random khoảng 40% lớp 1, 2, 4 để các lớp có tỉ lệ gần nhau nhất"
   ]
  },
  {
   "cell_type": "code",
   "execution_count": 10,
   "id": "6fab5353",
   "metadata": {},
   "outputs": [
    {
     "data": {
      "text/html": [
       "<div>\n",
       "<style scoped>\n",
       "    .dataframe tbody tr th:only-of-type {\n",
       "        vertical-align: middle;\n",
       "    }\n",
       "\n",
       "    .dataframe tbody tr th {\n",
       "        vertical-align: top;\n",
       "    }\n",
       "\n",
       "    .dataframe thead th {\n",
       "        text-align: right;\n",
       "    }\n",
       "</style>\n",
       "<table border=\"1\" class=\"dataframe\">\n",
       "  <thead>\n",
       "    <tr style=\"text-align: right;\">\n",
       "      <th></th>\n",
       "      <th>co</th>\n",
       "      <th>no</th>\n",
       "      <th>no2</th>\n",
       "      <th>o3</th>\n",
       "      <th>so2</th>\n",
       "      <th>pm2_5</th>\n",
       "      <th>pm10</th>\n",
       "      <th>nh3</th>\n",
       "      <th>aqi</th>\n",
       "    </tr>\n",
       "  </thead>\n",
       "  <tbody>\n",
       "    <tr>\n",
       "      <th>10849</th>\n",
       "      <td>313.76</td>\n",
       "      <td>0.07</td>\n",
       "      <td>0.93</td>\n",
       "      <td>31.47</td>\n",
       "      <td>0.11</td>\n",
       "      <td>2.74</td>\n",
       "      <td>2.87</td>\n",
       "      <td>1.28</td>\n",
       "      <td>1</td>\n",
       "    </tr>\n",
       "    <tr>\n",
       "      <th>10294</th>\n",
       "      <td>357.15</td>\n",
       "      <td>0.47</td>\n",
       "      <td>3.34</td>\n",
       "      <td>22.53</td>\n",
       "      <td>1.01</td>\n",
       "      <td>4.10</td>\n",
       "      <td>4.51</td>\n",
       "      <td>0.90</td>\n",
       "      <td>1</td>\n",
       "    </tr>\n",
       "    <tr>\n",
       "      <th>3746</th>\n",
       "      <td>283.72</td>\n",
       "      <td>0.20</td>\n",
       "      <td>2.64</td>\n",
       "      <td>44.70</td>\n",
       "      <td>1.54</td>\n",
       "      <td>3.64</td>\n",
       "      <td>4.35</td>\n",
       "      <td>1.25</td>\n",
       "      <td>1</td>\n",
       "    </tr>\n",
       "    <tr>\n",
       "      <th>5754</th>\n",
       "      <td>297.07</td>\n",
       "      <td>0.08</td>\n",
       "      <td>0.79</td>\n",
       "      <td>50.07</td>\n",
       "      <td>0.75</td>\n",
       "      <td>9.04</td>\n",
       "      <td>9.72</td>\n",
       "      <td>1.28</td>\n",
       "      <td>1</td>\n",
       "    </tr>\n",
       "    <tr>\n",
       "      <th>10989</th>\n",
       "      <td>226.97</td>\n",
       "      <td>0.01</td>\n",
       "      <td>0.58</td>\n",
       "      <td>32.19</td>\n",
       "      <td>0.22</td>\n",
       "      <td>2.58</td>\n",
       "      <td>2.92</td>\n",
       "      <td>0.75</td>\n",
       "      <td>1</td>\n",
       "    </tr>\n",
       "    <tr>\n",
       "      <th>...</th>\n",
       "      <td>...</td>\n",
       "      <td>...</td>\n",
       "      <td>...</td>\n",
       "      <td>...</td>\n",
       "      <td>...</td>\n",
       "      <td>...</td>\n",
       "      <td>...</td>\n",
       "      <td>...</td>\n",
       "      <td>...</td>\n",
       "    </tr>\n",
       "    <tr>\n",
       "      <th>13201</th>\n",
       "      <td>2616.88</td>\n",
       "      <td>59.01</td>\n",
       "      <td>30.16</td>\n",
       "      <td>0.00</td>\n",
       "      <td>38.62</td>\n",
       "      <td>138.76</td>\n",
       "      <td>152.62</td>\n",
       "      <td>14.19</td>\n",
       "      <td>5</td>\n",
       "    </tr>\n",
       "    <tr>\n",
       "      <th>13202</th>\n",
       "      <td>2590.18</td>\n",
       "      <td>64.37</td>\n",
       "      <td>29.47</td>\n",
       "      <td>0.00</td>\n",
       "      <td>41.96</td>\n",
       "      <td>144.76</td>\n",
       "      <td>158.74</td>\n",
       "      <td>14.31</td>\n",
       "      <td>5</td>\n",
       "    </tr>\n",
       "    <tr>\n",
       "      <th>13203</th>\n",
       "      <td>2937.32</td>\n",
       "      <td>83.15</td>\n",
       "      <td>33.59</td>\n",
       "      <td>0.00</td>\n",
       "      <td>55.31</td>\n",
       "      <td>174.44</td>\n",
       "      <td>189.82</td>\n",
       "      <td>15.07</td>\n",
       "      <td>5</td>\n",
       "    </tr>\n",
       "    <tr>\n",
       "      <th>13204</th>\n",
       "      <td>3471.37</td>\n",
       "      <td>109.97</td>\n",
       "      <td>42.50</td>\n",
       "      <td>0.00</td>\n",
       "      <td>73.43</td>\n",
       "      <td>219.32</td>\n",
       "      <td>237.25</td>\n",
       "      <td>14.69</td>\n",
       "      <td>5</td>\n",
       "    </tr>\n",
       "    <tr>\n",
       "      <th>13205</th>\n",
       "      <td>3952.03</td>\n",
       "      <td>137.69</td>\n",
       "      <td>45.93</td>\n",
       "      <td>0.00</td>\n",
       "      <td>84.88</td>\n",
       "      <td>265.03</td>\n",
       "      <td>287.16</td>\n",
       "      <td>14.06</td>\n",
       "      <td>5</td>\n",
       "    </tr>\n",
       "  </tbody>\n",
       "</table>\n",
       "<p>6841 rows × 9 columns</p>\n",
       "</div>"
      ],
      "text/plain": [
       "            co      no    no2     o3    so2   pm2_5    pm10    nh3  aqi\n",
       "10849   313.76    0.07   0.93  31.47   0.11    2.74    2.87   1.28    1\n",
       "10294   357.15    0.47   3.34  22.53   1.01    4.10    4.51   0.90    1\n",
       "3746    283.72    0.20   2.64  44.70   1.54    3.64    4.35   1.25    1\n",
       "5754    297.07    0.08   0.79  50.07   0.75    9.04    9.72   1.28    1\n",
       "10989   226.97    0.01   0.58  32.19   0.22    2.58    2.92   0.75    1\n",
       "...        ...     ...    ...    ...    ...     ...     ...    ...  ...\n",
       "13201  2616.88   59.01  30.16   0.00  38.62  138.76  152.62  14.19    5\n",
       "13202  2590.18   64.37  29.47   0.00  41.96  144.76  158.74  14.31    5\n",
       "13203  2937.32   83.15  33.59   0.00  55.31  174.44  189.82  15.07    5\n",
       "13204  3471.37  109.97  42.50   0.00  73.43  219.32  237.25  14.69    5\n",
       "13205  3952.03  137.69  45.93   0.00  84.88  265.03  287.16  14.06    5\n",
       "\n",
       "[6841 rows x 9 columns]"
      ]
     },
     "execution_count": 10,
     "metadata": {},
     "output_type": "execute_result"
    }
   ],
   "source": [
    "aqi_124 = [1, 2, 4]\n",
    "frames = []\n",
    "\n",
    "for aqi in aqi_124:\n",
    "    df = air_df.loc[air_df['aqi'] == aqi]\n",
    "    frames.append(df.sample(frac = 0.4))\n",
    "    \n",
    "aqi_35 = [3, 5]\n",
    "for aqi in aqi_35:\n",
    "    df = air_df.loc[air_df['aqi'] == aqi]\n",
    "    frames.append(df)\n",
    "    \n",
    "air_df_bal = pd.concat(frames)\n",
    "air_df_bal"
   ]
  },
  {
   "cell_type": "markdown",
   "id": "1eedb1bd",
   "metadata": {},
   "source": [
    "- Kiểm tra lại 1 lần nữa tỉ lệ các giá trị ouput"
   ]
  },
  {
   "cell_type": "code",
   "execution_count": 11,
   "id": "7db71d0f",
   "metadata": {},
   "outputs": [
    {
     "data": {
      "text/plain": [
       "1    24.645520\n",
       "5    21.721970\n",
       "2    20.347902\n",
       "4    17.058910\n",
       "3    16.225698\n",
       "Name: aqi, dtype: float64"
      ]
     },
     "execution_count": 11,
     "metadata": {},
     "output_type": "execute_result"
    }
   ],
   "source": [
    "air_df_bal['aqi'].value_counts(normalize=True) * 100"
   ]
  },
  {
   "cell_type": "markdown",
   "id": "9d60600e",
   "metadata": {},
   "source": [
    "## Tiền xử lý (tách các tập)"
   ]
  },
  {
   "cell_type": "code",
   "execution_count": 12,
   "id": "b44ebf8b",
   "metadata": {},
   "outputs": [],
   "source": [
    "# Tách X và y\n",
    "y_sr = air_df_bal[\"aqi\"] # sr là viết tắt của series\n",
    "X_df = air_df_bal.drop(\"aqi\", axis=1)"
   ]
  },
  {
   "cell_type": "code",
   "execution_count": 13,
   "id": "8a8866a9",
   "metadata": {},
   "outputs": [],
   "source": [
    "# Tách tập huấn luyện,tập validation, tập test theo tỉ lệ 70%:20%:10%\n",
    "temp_X_df, test_X_df, temp_y_sr, test_y_sr = \\\n",
    "                              train_test_split(X_df, y_sr, \n",
    "                                               test_size=0.1, \n",
    "                                               stratify=y_sr, \n",
    "                                               random_state=0)\n",
    "train_X_df, val_X_df, train_y_sr, val_y_sr = \\\n",
    "                              train_test_split(temp_X_df, temp_y_sr, \n",
    "                                               test_size=2/9, \n",
    "                                               stratify=temp_y_sr, \n",
    "                                               random_state=0)\n"
   ]
  },
  {
   "cell_type": "code",
   "execution_count": 14,
   "id": "258a0e56",
   "metadata": {},
   "outputs": [
    {
     "data": {
      "text/plain": [
       "(4788, 8)"
      ]
     },
     "execution_count": 14,
     "metadata": {},
     "output_type": "execute_result"
    }
   ],
   "source": [
    "train_X_df.shape"
   ]
  },
  {
   "cell_type": "code",
   "execution_count": 15,
   "id": "635a49af",
   "metadata": {},
   "outputs": [
    {
     "data": {
      "text/plain": [
       "(4788,)"
      ]
     },
     "execution_count": 15,
     "metadata": {},
     "output_type": "execute_result"
    }
   ],
   "source": [
    "train_y_sr.shape"
   ]
  },
  {
   "cell_type": "code",
   "execution_count": 16,
   "id": "c1bcd19c",
   "metadata": {},
   "outputs": [
    {
     "data": {
      "text/plain": [
       "(1368, 8)"
      ]
     },
     "execution_count": 16,
     "metadata": {},
     "output_type": "execute_result"
    }
   ],
   "source": [
    "val_X_df.shape"
   ]
  },
  {
   "cell_type": "code",
   "execution_count": 17,
   "id": "7fbf4d26",
   "metadata": {},
   "outputs": [
    {
     "data": {
      "text/plain": [
       "(1368,)"
      ]
     },
     "execution_count": 17,
     "metadata": {},
     "output_type": "execute_result"
    }
   ],
   "source": [
    "val_y_sr.shape"
   ]
  },
  {
   "cell_type": "code",
   "execution_count": 18,
   "id": "e22e093b",
   "metadata": {},
   "outputs": [
    {
     "data": {
      "text/plain": [
       "(685, 8)"
      ]
     },
     "execution_count": 18,
     "metadata": {},
     "output_type": "execute_result"
    }
   ],
   "source": [
    "test_X_df.shape"
   ]
  },
  {
   "cell_type": "code",
   "execution_count": 19,
   "id": "01ae48e5",
   "metadata": {},
   "outputs": [
    {
     "data": {
      "text/plain": [
       "(685,)"
      ]
     },
     "execution_count": 19,
     "metadata": {},
     "output_type": "execute_result"
    }
   ],
   "source": [
    "test_y_sr.shape"
   ]
  },
  {
   "cell_type": "code",
   "execution_count": 20,
   "id": "d2a32438",
   "metadata": {},
   "outputs": [
    {
     "data": {
      "text/plain": [
       "Int64Index([804, 8915, 10033, 1644, 11222], dtype='int64')"
      ]
     },
     "execution_count": 20,
     "metadata": {},
     "output_type": "execute_result"
    }
   ],
   "source": [
    "train_X_df.head().index"
   ]
  },
  {
   "cell_type": "markdown",
   "id": "688a7b69",
   "metadata": {},
   "source": [
    "# Khám phá dữ liệu (tập huấn luyện)"
   ]
  },
  {
   "cell_type": "markdown",
   "id": "f2a1fb94",
   "metadata": {},
   "source": [
    "### Mỗi cột input hiện đang có kiểu dữ liệu gì? Có cột nào có kiểu dữ liệu chưa phù hợp để có thể xử lý tiếp không?"
   ]
  },
  {
   "cell_type": "code",
   "execution_count": 21,
   "id": "8706368f",
   "metadata": {},
   "outputs": [
    {
     "data": {
      "text/plain": [
       "co       float64\n",
       "no       float64\n",
       "no2      float64\n",
       "o3       float64\n",
       "so2      float64\n",
       "pm2_5    float64\n",
       "pm10     float64\n",
       "nh3      float64\n",
       "dtype: object"
      ]
     },
     "execution_count": 21,
     "metadata": {},
     "output_type": "execute_result"
    }
   ],
   "source": [
    "train_X_df.dtypes"
   ]
  },
  {
   "cell_type": "markdown",
   "id": "dcf57014",
   "metadata": {},
   "source": [
    "- Các cột đều có dữ liệu phù hợp"
   ]
  },
  {
   "cell_type": "markdown",
   "id": "bceb7639",
   "metadata": {},
   "source": [
    "### Với mỗi cột input có kiểu dữ liệu dạng số, các giá trị được phân bố như thế nào?"
   ]
  },
  {
   "cell_type": "code",
   "execution_count": 22,
   "id": "4f5319ad",
   "metadata": {},
   "outputs": [
    {
     "data": {
      "text/html": [
       "<div>\n",
       "<style scoped>\n",
       "    .dataframe tbody tr th:only-of-type {\n",
       "        vertical-align: middle;\n",
       "    }\n",
       "\n",
       "    .dataframe tbody tr th {\n",
       "        vertical-align: top;\n",
       "    }\n",
       "\n",
       "    .dataframe thead th {\n",
       "        text-align: right;\n",
       "    }\n",
       "</style>\n",
       "<table border=\"1\" class=\"dataframe\">\n",
       "  <thead>\n",
       "    <tr style=\"text-align: right;\">\n",
       "      <th></th>\n",
       "      <th>co</th>\n",
       "      <th>no</th>\n",
       "      <th>no2</th>\n",
       "      <th>o3</th>\n",
       "      <th>so2</th>\n",
       "      <th>pm2_5</th>\n",
       "      <th>pm10</th>\n",
       "      <th>nh3</th>\n",
       "    </tr>\n",
       "  </thead>\n",
       "  <tbody>\n",
       "    <tr>\n",
       "      <th>missing_percentage</th>\n",
       "      <td>0.00</td>\n",
       "      <td>0.00</td>\n",
       "      <td>0.00</td>\n",
       "      <td>0.00</td>\n",
       "      <td>0.00</td>\n",
       "      <td>0.00</td>\n",
       "      <td>0.00</td>\n",
       "      <td>0.00</td>\n",
       "    </tr>\n",
       "    <tr>\n",
       "      <th>min</th>\n",
       "      <td>166.89</td>\n",
       "      <td>0.00</td>\n",
       "      <td>0.19</td>\n",
       "      <td>0.00</td>\n",
       "      <td>0.04</td>\n",
       "      <td>0.50</td>\n",
       "      <td>0.54</td>\n",
       "      <td>0.00</td>\n",
       "    </tr>\n",
       "    <tr>\n",
       "      <th>lower_quartile</th>\n",
       "      <td>373.80</td>\n",
       "      <td>0.00</td>\n",
       "      <td>3.00</td>\n",
       "      <td>7.90</td>\n",
       "      <td>1.10</td>\n",
       "      <td>10.20</td>\n",
       "      <td>11.90</td>\n",
       "      <td>0.90</td>\n",
       "    </tr>\n",
       "    <tr>\n",
       "      <th>median</th>\n",
       "      <td>527.40</td>\n",
       "      <td>0.10</td>\n",
       "      <td>7.40</td>\n",
       "      <td>22.40</td>\n",
       "      <td>3.80</td>\n",
       "      <td>21.30</td>\n",
       "      <td>24.40</td>\n",
       "      <td>2.00</td>\n",
       "    </tr>\n",
       "    <tr>\n",
       "      <th>upper_quartile</th>\n",
       "      <td>821.10</td>\n",
       "      <td>1.00</td>\n",
       "      <td>18.20</td>\n",
       "      <td>41.80</td>\n",
       "      <td>11.20</td>\n",
       "      <td>41.10</td>\n",
       "      <td>47.20</td>\n",
       "      <td>5.10</td>\n",
       "    </tr>\n",
       "    <tr>\n",
       "      <th>max</th>\n",
       "      <td>14953.61</td>\n",
       "      <td>343.32</td>\n",
       "      <td>175.48</td>\n",
       "      <td>223.16</td>\n",
       "      <td>217.44</td>\n",
       "      <td>806.07</td>\n",
       "      <td>833.32</td>\n",
       "      <td>102.34</td>\n",
       "    </tr>\n",
       "  </tbody>\n",
       "</table>\n",
       "</div>"
      ],
      "text/plain": [
       "                          co      no     no2      o3     so2   pm2_5    pm10  \\\n",
       "missing_percentage      0.00    0.00    0.00    0.00    0.00    0.00    0.00   \n",
       "min                   166.89    0.00    0.19    0.00    0.04    0.50    0.54   \n",
       "lower_quartile        373.80    0.00    3.00    7.90    1.10   10.20   11.90   \n",
       "median                527.40    0.10    7.40   22.40    3.80   21.30   24.40   \n",
       "upper_quartile        821.10    1.00   18.20   41.80   11.20   41.10   47.20   \n",
       "max                 14953.61  343.32  175.48  223.16  217.44  806.07  833.32   \n",
       "\n",
       "                       nh3  \n",
       "missing_percentage    0.00  \n",
       "min                   0.00  \n",
       "lower_quartile        0.90  \n",
       "median                2.00  \n",
       "upper_quartile        5.10  \n",
       "max                 102.34  "
      ]
     },
     "execution_count": 22,
     "metadata": {},
     "output_type": "execute_result"
    }
   ],
   "source": [
    "def missing_percentage(c):\n",
    "    return (c.isna().mean() * 100).round(1)\n",
    "def median(c):\n",
    "    return c.quantile(0.5).round(1)\n",
    "def lower_quartile(df):\n",
    "    return df.quantile(0.25).round(1)\n",
    "def upper_quartile(df):\n",
    "    return df.quantile(0.75).round(1)\n",
    "train_X_df.agg([missing_percentage, 'min',lower_quartile, median,upper_quartile, 'max'])"
   ]
  },
  {
   "cell_type": "markdown",
   "id": "437a7bf5",
   "metadata": {},
   "source": [
    "## Tiền xử lý (tập huấn luyện)"
   ]
  },
  {
   "cell_type": "markdown",
   "id": "77e29f71",
   "metadata": {},
   "source": [
    "- Với các cột dạng số, ta sẽ điền giá trị thiếu bằng giá trị mean của cột <font color=gray>(gợi ý: dùng `SimpleImputer` trong Sklearn)</font>. Với *tất cả* các cột dạng số trong tập huấn luyện, ta đều cần tính mean, vì ta không biết được cột nào sẽ bị thiếu giá trị khi dự đoán với các véc-tơ input mới. "
   ]
  },
  {
   "cell_type": "markdown",
   "id": "430eb6dd",
   "metadata": {},
   "source": [
    "- Cuối cùng, khi tất cả các cột đã được điền giá trị thiếu và đã có dạng số, ta sẽ tiến hành chuẩn hóa bằng cách trừ đi mean và chia cho độ lệch chuẩn của cột để giúp cho các thuật toán cực tiểu hóa như Gradient Descent, LBFGS, ... hội tụ nhanh hơn <font color=gray>(gợi ý: dùng `StandardScaler` trong Sklearn)</font>."
   ]
  },
  {
   "cell_type": "code",
   "execution_count": 23,
   "id": "60016329",
   "metadata": {},
   "outputs": [],
   "source": [
    "cols=list(train_X_df.columns)\n",
    "temp=make_column_transformer(\n",
    "        (SimpleImputer(strategy='mean'),cols))\n",
    "preprocess_pipeline=make_pipeline(temp,StandardScaler())\n",
    "preprocessed_train_X=preprocess_pipeline.fit_transform(train_X_df)"
   ]
  },
  {
   "cell_type": "code",
   "execution_count": 24,
   "id": "47e4cc94",
   "metadata": {},
   "outputs": [
    {
     "data": {
      "text/html": [
       "<style>#sk-122372bc-b749-49c0-9520-e41adb35036c {color: black;background-color: white;}#sk-122372bc-b749-49c0-9520-e41adb35036c pre{padding: 0;}#sk-122372bc-b749-49c0-9520-e41adb35036c div.sk-toggleable {background-color: white;}#sk-122372bc-b749-49c0-9520-e41adb35036c label.sk-toggleable__label {cursor: pointer;display: block;width: 100%;margin-bottom: 0;padding: 0.2em 0.3em;box-sizing: border-box;text-align: center;}#sk-122372bc-b749-49c0-9520-e41adb35036c div.sk-toggleable__content {max-height: 0;max-width: 0;overflow: hidden;text-align: left;background-color: #f0f8ff;}#sk-122372bc-b749-49c0-9520-e41adb35036c div.sk-toggleable__content pre {margin: 0.2em;color: black;border-radius: 0.25em;background-color: #f0f8ff;}#sk-122372bc-b749-49c0-9520-e41adb35036c input.sk-toggleable__control:checked~div.sk-toggleable__content {max-height: 200px;max-width: 100%;overflow: auto;}#sk-122372bc-b749-49c0-9520-e41adb35036c div.sk-estimator input.sk-toggleable__control:checked~label.sk-toggleable__label {background-color: #d4ebff;}#sk-122372bc-b749-49c0-9520-e41adb35036c div.sk-label input.sk-toggleable__control:checked~label.sk-toggleable__label {background-color: #d4ebff;}#sk-122372bc-b749-49c0-9520-e41adb35036c input.sk-hidden--visually {border: 0;clip: rect(1px 1px 1px 1px);clip: rect(1px, 1px, 1px, 1px);height: 1px;margin: -1px;overflow: hidden;padding: 0;position: absolute;width: 1px;}#sk-122372bc-b749-49c0-9520-e41adb35036c div.sk-estimator {font-family: monospace;background-color: #f0f8ff;margin: 0.25em 0.25em;border: 1px dotted black;border-radius: 0.25em;box-sizing: border-box;}#sk-122372bc-b749-49c0-9520-e41adb35036c div.sk-estimator:hover {background-color: #d4ebff;}#sk-122372bc-b749-49c0-9520-e41adb35036c div.sk-parallel-item::after {content: \"\";width: 100%;border-bottom: 1px solid gray;flex-grow: 1;}#sk-122372bc-b749-49c0-9520-e41adb35036c div.sk-label:hover label.sk-toggleable__label {background-color: #d4ebff;}#sk-122372bc-b749-49c0-9520-e41adb35036c div.sk-serial::before {content: \"\";position: absolute;border-left: 1px solid gray;box-sizing: border-box;top: 2em;bottom: 0;left: 50%;}#sk-122372bc-b749-49c0-9520-e41adb35036c div.sk-serial {display: flex;flex-direction: column;align-items: center;background-color: white;}#sk-122372bc-b749-49c0-9520-e41adb35036c div.sk-item {z-index: 1;}#sk-122372bc-b749-49c0-9520-e41adb35036c div.sk-parallel {display: flex;align-items: stretch;justify-content: center;background-color: white;}#sk-122372bc-b749-49c0-9520-e41adb35036c div.sk-parallel-item {display: flex;flex-direction: column;position: relative;background-color: white;}#sk-122372bc-b749-49c0-9520-e41adb35036c div.sk-parallel-item:first-child::after {align-self: flex-end;width: 50%;}#sk-122372bc-b749-49c0-9520-e41adb35036c div.sk-parallel-item:last-child::after {align-self: flex-start;width: 50%;}#sk-122372bc-b749-49c0-9520-e41adb35036c div.sk-parallel-item:only-child::after {width: 0;}#sk-122372bc-b749-49c0-9520-e41adb35036c div.sk-dashed-wrapped {border: 1px dashed gray;margin: 0.2em;box-sizing: border-box;padding-bottom: 0.1em;background-color: white;position: relative;}#sk-122372bc-b749-49c0-9520-e41adb35036c div.sk-label label {font-family: monospace;font-weight: bold;background-color: white;display: inline-block;line-height: 1.2em;}#sk-122372bc-b749-49c0-9520-e41adb35036c div.sk-label-container {position: relative;z-index: 2;text-align: center;}#sk-122372bc-b749-49c0-9520-e41adb35036c div.sk-container {display: inline-block;position: relative;}</style><div id=\"sk-122372bc-b749-49c0-9520-e41adb35036c\" class\"sk-top-container\"><div class=\"sk-container\"><div class=\"sk-item sk-dashed-wrapped\"><div class=\"sk-label-container\"><div class=\"sk-label sk-toggleable\"><input class=\"sk-toggleable__control sk-hidden--visually\" id=\"b78e5f7b-8f39-4193-9a2f-9448f7daa502\" type=\"checkbox\" ><label class=\"sk-toggleable__label\" for=\"b78e5f7b-8f39-4193-9a2f-9448f7daa502\">Pipeline</label><div class=\"sk-toggleable__content\"><pre>Pipeline(steps=[('columntransformer',\n",
       "                 ColumnTransformer(transformers=[('simpleimputer',\n",
       "                                                  SimpleImputer(),\n",
       "                                                  ['co', 'no', 'no2', 'o3',\n",
       "                                                   'so2', 'pm2_5', 'pm10',\n",
       "                                                   'nh3'])])),\n",
       "                ('standardscaler', StandardScaler())])</pre></div></div></div><div class=\"sk-serial\"><div class=\"sk-item sk-dashed-wrapped\"><div class=\"sk-label-container\"><div class=\"sk-label sk-toggleable\"><input class=\"sk-toggleable__control sk-hidden--visually\" id=\"6627a94b-82f3-463b-9397-49b3d98f81b6\" type=\"checkbox\" ><label class=\"sk-toggleable__label\" for=\"6627a94b-82f3-463b-9397-49b3d98f81b6\">columntransformer: ColumnTransformer</label><div class=\"sk-toggleable__content\"><pre>ColumnTransformer(transformers=[('simpleimputer', SimpleImputer(),\n",
       "                                 ['co', 'no', 'no2', 'o3', 'so2', 'pm2_5',\n",
       "                                  'pm10', 'nh3'])])</pre></div></div></div><div class=\"sk-parallel\"><div class=\"sk-parallel-item\"><div class=\"sk-item\"><div class=\"sk-label-container\"><div class=\"sk-label sk-toggleable\"><input class=\"sk-toggleable__control sk-hidden--visually\" id=\"3f1c2479-2075-442e-b0b8-bac44c4004fc\" type=\"checkbox\" ><label class=\"sk-toggleable__label\" for=\"3f1c2479-2075-442e-b0b8-bac44c4004fc\">simpleimputer</label><div class=\"sk-toggleable__content\"><pre>['co', 'no', 'no2', 'o3', 'so2', 'pm2_5', 'pm10', 'nh3']</pre></div></div></div><div class=\"sk-serial\"><div class=\"sk-item\"><div class=\"sk-estimator sk-toggleable\"><input class=\"sk-toggleable__control sk-hidden--visually\" id=\"ed9a96e9-5067-4fb2-9154-53f82faa9865\" type=\"checkbox\" ><label class=\"sk-toggleable__label\" for=\"ed9a96e9-5067-4fb2-9154-53f82faa9865\">SimpleImputer</label><div class=\"sk-toggleable__content\"><pre>SimpleImputer()</pre></div></div></div></div></div></div></div></div><div class=\"sk-item\"><div class=\"sk-estimator sk-toggleable\"><input class=\"sk-toggleable__control sk-hidden--visually\" id=\"0bd1c0dd-f90f-4bfd-973a-b063fa621f7c\" type=\"checkbox\" ><label class=\"sk-toggleable__label\" for=\"0bd1c0dd-f90f-4bfd-973a-b063fa621f7c\">StandardScaler</label><div class=\"sk-toggleable__content\"><pre>StandardScaler()</pre></div></div></div></div></div></div></div>"
      ],
      "text/plain": [
       "Pipeline(steps=[('columntransformer',\n",
       "                 ColumnTransformer(transformers=[('simpleimputer',\n",
       "                                                  SimpleImputer(),\n",
       "                                                  ['co', 'no', 'no2', 'o3',\n",
       "                                                   'so2', 'pm2_5', 'pm10',\n",
       "                                                   'nh3'])])),\n",
       "                ('standardscaler', StandardScaler())])"
      ]
     },
     "execution_count": 24,
     "metadata": {},
     "output_type": "execute_result"
    }
   ],
   "source": [
    "preprocess_pipeline"
   ]
  },
  {
   "cell_type": "markdown",
   "id": "7d8c55d7",
   "metadata": {},
   "source": [
    "## Tiền xử lý (tập validation)"
   ]
  },
  {
   "cell_type": "code",
   "execution_count": 25,
   "id": "d9dcd584",
   "metadata": {},
   "outputs": [
    {
     "data": {
      "text/plain": [
       "(1368, 8)"
      ]
     },
     "execution_count": 25,
     "metadata": {},
     "output_type": "execute_result"
    }
   ],
   "source": [
    "preprocessed_val_X=preprocess_pipeline.transform(val_X_df)\n",
    "preprocessed_val_X.shape"
   ]
  },
  {
   "cell_type": "markdown",
   "id": "c3243b62",
   "metadata": {},
   "source": [
    "## Tiền xử lý + mô hình hóa"
   ]
  },
  {
   "cell_type": "code",
   "execution_count": 26,
   "id": "ac0173da",
   "metadata": {},
   "outputs": [],
   "source": [
    "errors_temp=[]\n",
    "errors_test=[]"
   ]
  },
  {
   "cell_type": "markdown",
   "id": "806e4eb7",
   "metadata": {},
   "source": [
    "### Mô hình MLP- Classifier"
   ]
  },
  {
   "cell_type": "code",
   "execution_count": 27,
   "id": "77bdf5d1",
   "metadata": {},
   "outputs": [
    {
     "name": "stderr",
     "output_type": "stream",
     "text": [
      "C:\\Users\\3442\\miniconda3\\envs\\min_ds-env\\lib\\site-packages\\sklearn\\neural_network\\_multilayer_perceptron.py:500: ConvergenceWarning: lbfgs failed to converge (status=1):\n",
      "STOP: TOTAL NO. of ITERATIONS REACHED LIMIT.\n",
      "\n",
      "Increase the number of iterations (max_iter) or scale the data as shown in:\n",
      "    https://scikit-learn.org/stable/modules/preprocessing.html\n",
      "  self.n_iter_ = _check_optimize_result(\"lbfgs\", opt_res, self.max_iter)\n",
      "C:\\Users\\3442\\miniconda3\\envs\\min_ds-env\\lib\\site-packages\\sklearn\\neural_network\\_multilayer_perceptron.py:500: ConvergenceWarning: lbfgs failed to converge (status=1):\n",
      "STOP: TOTAL NO. of ITERATIONS REACHED LIMIT.\n",
      "\n",
      "Increase the number of iterations (max_iter) or scale the data as shown in:\n",
      "    https://scikit-learn.org/stable/modules/preprocessing.html\n",
      "  self.n_iter_ = _check_optimize_result(\"lbfgs\", opt_res, self.max_iter)\n",
      "C:\\Users\\3442\\miniconda3\\envs\\min_ds-env\\lib\\site-packages\\sklearn\\neural_network\\_multilayer_perceptron.py:500: ConvergenceWarning: lbfgs failed to converge (status=1):\n",
      "STOP: TOTAL NO. of ITERATIONS REACHED LIMIT.\n",
      "\n",
      "Increase the number of iterations (max_iter) or scale the data as shown in:\n",
      "    https://scikit-learn.org/stable/modules/preprocessing.html\n",
      "  self.n_iter_ = _check_optimize_result(\"lbfgs\", opt_res, self.max_iter)\n",
      "C:\\Users\\3442\\miniconda3\\envs\\min_ds-env\\lib\\site-packages\\sklearn\\neural_network\\_multilayer_perceptron.py:500: ConvergenceWarning: lbfgs failed to converge (status=1):\n",
      "STOP: TOTAL NO. of ITERATIONS REACHED LIMIT.\n",
      "\n",
      "Increase the number of iterations (max_iter) or scale the data as shown in:\n",
      "    https://scikit-learn.org/stable/modules/preprocessing.html\n",
      "  self.n_iter_ = _check_optimize_result(\"lbfgs\", opt_res, self.max_iter)\n"
     ]
    },
    {
     "data": {
      "text/plain": [
       "'Finish!'"
      ]
     },
     "execution_count": 27,
     "metadata": {},
     "output_type": "execute_result"
    }
   ],
   "source": [
    "neural_net_model = MLPClassifier(hidden_layer_sizes=(20,), activation='relu',\\\n",
    "                                 solver = 'lbfgs', random_state = 0, max_iter = 500)\n",
    "\n",
    "full_pipeline = make_pipeline(preprocess_pipeline, neural_net_model)\n",
    "\n",
    "# Thử nghiệm với các giá trị khác nhau của các siêu tham số\n",
    "# và chọn ra các giá trị tốt nhất\n",
    "train_errs = []\n",
    "val_errs = []\n",
    "alphas = [0.01, 0.1, 1, 10, 20]\n",
    "best_val_err = float('inf')\n",
    "best_alpha = None\n",
    "for alpha in alphas:\n",
    "    full_pipeline.set_params(mlpclassifier__alpha = alpha)\n",
    "\n",
    "    full_pipeline.fit(train_X_df, train_y_sr)\n",
    "    train_errs.append((1 - full_pipeline.score(train_X_df, train_y_sr)) * 100)\n",
    "    val_errs.append((1 - full_pipeline.score(val_X_df, val_y_sr)) * 100)\n",
    "\n",
    "best_val_err = min(val_errs)\n",
    "index = val_errs.index(min(val_errs))\n",
    "best_alpha = alphas[index]\n",
    "\n",
    "'Finish!'"
   ]
  },
  {
   "cell_type": "code",
   "execution_count": 28,
   "id": "7514e490",
   "metadata": {},
   "outputs": [
    {
     "data": {
      "text/html": [
       "<style>#sk-3a867087-d25c-4e91-9aea-30b3e92654a2 {color: black;background-color: white;}#sk-3a867087-d25c-4e91-9aea-30b3e92654a2 pre{padding: 0;}#sk-3a867087-d25c-4e91-9aea-30b3e92654a2 div.sk-toggleable {background-color: white;}#sk-3a867087-d25c-4e91-9aea-30b3e92654a2 label.sk-toggleable__label {cursor: pointer;display: block;width: 100%;margin-bottom: 0;padding: 0.2em 0.3em;box-sizing: border-box;text-align: center;}#sk-3a867087-d25c-4e91-9aea-30b3e92654a2 div.sk-toggleable__content {max-height: 0;max-width: 0;overflow: hidden;text-align: left;background-color: #f0f8ff;}#sk-3a867087-d25c-4e91-9aea-30b3e92654a2 div.sk-toggleable__content pre {margin: 0.2em;color: black;border-radius: 0.25em;background-color: #f0f8ff;}#sk-3a867087-d25c-4e91-9aea-30b3e92654a2 input.sk-toggleable__control:checked~div.sk-toggleable__content {max-height: 200px;max-width: 100%;overflow: auto;}#sk-3a867087-d25c-4e91-9aea-30b3e92654a2 div.sk-estimator input.sk-toggleable__control:checked~label.sk-toggleable__label {background-color: #d4ebff;}#sk-3a867087-d25c-4e91-9aea-30b3e92654a2 div.sk-label input.sk-toggleable__control:checked~label.sk-toggleable__label {background-color: #d4ebff;}#sk-3a867087-d25c-4e91-9aea-30b3e92654a2 input.sk-hidden--visually {border: 0;clip: rect(1px 1px 1px 1px);clip: rect(1px, 1px, 1px, 1px);height: 1px;margin: -1px;overflow: hidden;padding: 0;position: absolute;width: 1px;}#sk-3a867087-d25c-4e91-9aea-30b3e92654a2 div.sk-estimator {font-family: monospace;background-color: #f0f8ff;margin: 0.25em 0.25em;border: 1px dotted black;border-radius: 0.25em;box-sizing: border-box;}#sk-3a867087-d25c-4e91-9aea-30b3e92654a2 div.sk-estimator:hover {background-color: #d4ebff;}#sk-3a867087-d25c-4e91-9aea-30b3e92654a2 div.sk-parallel-item::after {content: \"\";width: 100%;border-bottom: 1px solid gray;flex-grow: 1;}#sk-3a867087-d25c-4e91-9aea-30b3e92654a2 div.sk-label:hover label.sk-toggleable__label {background-color: #d4ebff;}#sk-3a867087-d25c-4e91-9aea-30b3e92654a2 div.sk-serial::before {content: \"\";position: absolute;border-left: 1px solid gray;box-sizing: border-box;top: 2em;bottom: 0;left: 50%;}#sk-3a867087-d25c-4e91-9aea-30b3e92654a2 div.sk-serial {display: flex;flex-direction: column;align-items: center;background-color: white;}#sk-3a867087-d25c-4e91-9aea-30b3e92654a2 div.sk-item {z-index: 1;}#sk-3a867087-d25c-4e91-9aea-30b3e92654a2 div.sk-parallel {display: flex;align-items: stretch;justify-content: center;background-color: white;}#sk-3a867087-d25c-4e91-9aea-30b3e92654a2 div.sk-parallel-item {display: flex;flex-direction: column;position: relative;background-color: white;}#sk-3a867087-d25c-4e91-9aea-30b3e92654a2 div.sk-parallel-item:first-child::after {align-self: flex-end;width: 50%;}#sk-3a867087-d25c-4e91-9aea-30b3e92654a2 div.sk-parallel-item:last-child::after {align-self: flex-start;width: 50%;}#sk-3a867087-d25c-4e91-9aea-30b3e92654a2 div.sk-parallel-item:only-child::after {width: 0;}#sk-3a867087-d25c-4e91-9aea-30b3e92654a2 div.sk-dashed-wrapped {border: 1px dashed gray;margin: 0.2em;box-sizing: border-box;padding-bottom: 0.1em;background-color: white;position: relative;}#sk-3a867087-d25c-4e91-9aea-30b3e92654a2 div.sk-label label {font-family: monospace;font-weight: bold;background-color: white;display: inline-block;line-height: 1.2em;}#sk-3a867087-d25c-4e91-9aea-30b3e92654a2 div.sk-label-container {position: relative;z-index: 2;text-align: center;}#sk-3a867087-d25c-4e91-9aea-30b3e92654a2 div.sk-container {display: inline-block;position: relative;}</style><div id=\"sk-3a867087-d25c-4e91-9aea-30b3e92654a2\" class\"sk-top-container\"><div class=\"sk-container\"><div class=\"sk-item sk-dashed-wrapped\"><div class=\"sk-label-container\"><div class=\"sk-label sk-toggleable\"><input class=\"sk-toggleable__control sk-hidden--visually\" id=\"be5c2d0b-caf3-4598-a431-90232500e59c\" type=\"checkbox\" ><label class=\"sk-toggleable__label\" for=\"be5c2d0b-caf3-4598-a431-90232500e59c\">Pipeline</label><div class=\"sk-toggleable__content\"><pre>Pipeline(steps=[('pipeline',\n",
       "                 Pipeline(steps=[('columntransformer',\n",
       "                                  ColumnTransformer(transformers=[('simpleimputer',\n",
       "                                                                   SimpleImputer(),\n",
       "                                                                   ['co', 'no',\n",
       "                                                                    'no2', 'o3',\n",
       "                                                                    'so2',\n",
       "                                                                    'pm2_5',\n",
       "                                                                    'pm10',\n",
       "                                                                    'nh3'])])),\n",
       "                                 ('standardscaler', StandardScaler())])),\n",
       "                ('mlpclassifier',\n",
       "                 MLPClassifier(alpha=20, hidden_layer_sizes=(20,), max_iter=500,\n",
       "                               random_state=0, solver='lbfgs'))])</pre></div></div></div><div class=\"sk-serial\"><div class=\"sk-item\"><div class=\"sk-label-container\"><div class=\"sk-label sk-toggleable\"><input class=\"sk-toggleable__control sk-hidden--visually\" id=\"9b514e60-b3f9-4f47-8f84-1e4159a7df51\" type=\"checkbox\" ><label class=\"sk-toggleable__label\" for=\"9b514e60-b3f9-4f47-8f84-1e4159a7df51\">pipeline: Pipeline</label><div class=\"sk-toggleable__content\"><pre>Pipeline(steps=[('columntransformer',\n",
       "                 ColumnTransformer(transformers=[('simpleimputer',\n",
       "                                                  SimpleImputer(),\n",
       "                                                  ['co', 'no', 'no2', 'o3',\n",
       "                                                   'so2', 'pm2_5', 'pm10',\n",
       "                                                   'nh3'])])),\n",
       "                ('standardscaler', StandardScaler())])</pre></div></div></div><div class=\"sk-serial\"><div class=\"sk-item sk-dashed-wrapped\"><div class=\"sk-label-container\"><div class=\"sk-label sk-toggleable\"><input class=\"sk-toggleable__control sk-hidden--visually\" id=\"272dfead-eae9-45ba-8fc6-b9102c6176ac\" type=\"checkbox\" ><label class=\"sk-toggleable__label\" for=\"272dfead-eae9-45ba-8fc6-b9102c6176ac\">columntransformer: ColumnTransformer</label><div class=\"sk-toggleable__content\"><pre>ColumnTransformer(transformers=[('simpleimputer', SimpleImputer(),\n",
       "                                 ['co', 'no', 'no2', 'o3', 'so2', 'pm2_5',\n",
       "                                  'pm10', 'nh3'])])</pre></div></div></div><div class=\"sk-parallel\"><div class=\"sk-parallel-item\"><div class=\"sk-item\"><div class=\"sk-label-container\"><div class=\"sk-label sk-toggleable\"><input class=\"sk-toggleable__control sk-hidden--visually\" id=\"85909cd3-e48b-45bd-bc7e-f6a3fffde58b\" type=\"checkbox\" ><label class=\"sk-toggleable__label\" for=\"85909cd3-e48b-45bd-bc7e-f6a3fffde58b\">simpleimputer</label><div class=\"sk-toggleable__content\"><pre>['co', 'no', 'no2', 'o3', 'so2', 'pm2_5', 'pm10', 'nh3']</pre></div></div></div><div class=\"sk-serial\"><div class=\"sk-item\"><div class=\"sk-estimator sk-toggleable\"><input class=\"sk-toggleable__control sk-hidden--visually\" id=\"bbfbc9d5-1c4e-4322-90e4-0a95623ba8a4\" type=\"checkbox\" ><label class=\"sk-toggleable__label\" for=\"bbfbc9d5-1c4e-4322-90e4-0a95623ba8a4\">SimpleImputer</label><div class=\"sk-toggleable__content\"><pre>SimpleImputer()</pre></div></div></div></div></div></div></div></div><div class=\"sk-item\"><div class=\"sk-estimator sk-toggleable\"><input class=\"sk-toggleable__control sk-hidden--visually\" id=\"d5baa016-2277-4be7-a67d-ce37097169f0\" type=\"checkbox\" ><label class=\"sk-toggleable__label\" for=\"d5baa016-2277-4be7-a67d-ce37097169f0\">StandardScaler</label><div class=\"sk-toggleable__content\"><pre>StandardScaler()</pre></div></div></div></div></div><div class=\"sk-item\"><div class=\"sk-estimator sk-toggleable\"><input class=\"sk-toggleable__control sk-hidden--visually\" id=\"8fda8ad1-0387-44bb-a927-ef8422773ce2\" type=\"checkbox\" ><label class=\"sk-toggleable__label\" for=\"8fda8ad1-0387-44bb-a927-ef8422773ce2\">MLPClassifier</label><div class=\"sk-toggleable__content\"><pre>MLPClassifier(alpha=20, hidden_layer_sizes=(20,), max_iter=500, random_state=0,\n",
       "              solver='lbfgs')</pre></div></div></div></div></div></div></div>"
      ],
      "text/plain": [
       "Pipeline(steps=[('pipeline',\n",
       "                 Pipeline(steps=[('columntransformer',\n",
       "                                  ColumnTransformer(transformers=[('simpleimputer',\n",
       "                                                                   SimpleImputer(),\n",
       "                                                                   ['co', 'no',\n",
       "                                                                    'no2', 'o3',\n",
       "                                                                    'so2',\n",
       "                                                                    'pm2_5',\n",
       "                                                                    'pm10',\n",
       "                                                                    'nh3'])])),\n",
       "                                 ('standardscaler', StandardScaler())])),\n",
       "                ('mlpclassifier',\n",
       "                 MLPClassifier(alpha=20, hidden_layer_sizes=(20,), max_iter=500,\n",
       "                               random_state=0, solver='lbfgs'))])"
      ]
     },
     "execution_count": 28,
     "metadata": {},
     "output_type": "execute_result"
    }
   ],
   "source": [
    "full_pipeline"
   ]
  },
  {
   "cell_type": "markdown",
   "id": "c770642d",
   "metadata": {},
   "source": [
    "#### Độ lỗi trên tập train"
   ]
  },
  {
   "cell_type": "code",
   "execution_count": 29,
   "id": "106cc871",
   "metadata": {},
   "outputs": [
    {
     "data": {
      "text/plain": [
       "Text(0, 0.5, 'alpha')"
      ]
     },
     "execution_count": 29,
     "metadata": {},
     "output_type": "execute_result"
    },
    {
     "data": {
      "image/png": "[encoded data removed]",
      "text/plain": [
       "<Figure size 432x288 with 1 Axes>"
      ]
     },
     "metadata": {
      "needs_background": "light"
     },
     "output_type": "display_data"
    }
   ],
   "source": [
    "ax = pd.Series(train_errs, index = alphas).plot.barh()\n",
    "ax.set_xlabel('Độ lỗi trên tập train (%)')\n",
    "ax.set_ylabel('alpha')"
   ]
  },
  {
   "cell_type": "markdown",
   "id": "518782dc",
   "metadata": {},
   "source": [
    "#### Độ lỗi trên tập valid"
   ]
  },
  {
   "cell_type": "code",
   "execution_count": 30,
   "id": "f93c5bf5",
   "metadata": {},
   "outputs": [
    {
     "data": {
      "text/plain": [
       "Text(0, 0.5, 'alpha')"
      ]
     },
     "execution_count": 30,
     "metadata": {},
     "output_type": "execute_result"
    },
    {
     "data": {
      "image/png": "[encoded data removed]",
      "text/plain": [
       "<Figure size 432x288 with 1 Axes>"
      ]
     },
     "metadata": {
      "needs_background": "light"
     },
     "output_type": "display_data"
    }
   ],
   "source": [
    "bx = pd.Series(val_errs, index = alphas).plot.barh()\n",
    "bx.set_xlabel('Độ lỗi trên tập valid (%)')\n",
    "bx.set_ylabel('alpha')"
   ]
  },
  {
   "cell_type": "markdown",
   "id": "f1b07afd",
   "metadata": {},
   "source": [
    "#### Độ lỗi nhỏ nhất trên tập valid và alpha tốt nhất"
   ]
  },
  {
   "cell_type": "code",
   "execution_count": 31,
   "id": "727befbe",
   "metadata": {},
   "outputs": [
    {
     "name": "stdout",
     "output_type": "stream",
     "text": [
      "Best valid err:  0.66 %\n",
      "\n",
      "Best alpha:  0.01\n"
     ]
    }
   ],
   "source": [
    "print('Best valid err: ', best_val_err.round(2), '%')\n",
    "print()\n",
    "print('Best alpha: ',best_alpha)"
   ]
  },
  {
   "cell_type": "markdown",
   "id": "e07ea1ea",
   "metadata": {},
   "source": [
    "Cuối cùng, huấn luyện lại `full_pipeline` trên `X_df` và `y_sr` (tập huấn luyện + tập validation) với `best_alpha` tìm được ở trên để ra được mô hình cụ thể cuối cùng."
   ]
  },
  {
   "cell_type": "code",
   "execution_count": 32,
   "id": "83d7133f",
   "metadata": {},
   "outputs": [
    {
     "name": "stderr",
     "output_type": "stream",
     "text": [
      "C:\\Users\\3442\\miniconda3\\envs\\min_ds-env\\lib\\site-packages\\sklearn\\neural_network\\_multilayer_perceptron.py:500: ConvergenceWarning: lbfgs failed to converge (status=1):\n",
      "STOP: TOTAL NO. of ITERATIONS REACHED LIMIT.\n",
      "\n",
      "Increase the number of iterations (max_iter) or scale the data as shown in:\n",
      "    https://scikit-learn.org/stable/modules/preprocessing.html\n",
      "  self.n_iter_ = _check_optimize_result(\"lbfgs\", opt_res, self.max_iter)\n"
     ]
    },
    {
     "data": {
      "text/html": [
       "<style>#sk-023af2fd-e54b-452b-9d35-9a1f315e6a86 {color: black;background-color: white;}#sk-023af2fd-e54b-452b-9d35-9a1f315e6a86 pre{padding: 0;}#sk-023af2fd-e54b-452b-9d35-9a1f315e6a86 div.sk-toggleable {background-color: white;}#sk-023af2fd-e54b-452b-9d35-9a1f315e6a86 label.sk-toggleable__label {cursor: pointer;display: block;width: 100%;margin-bottom: 0;padding: 0.2em 0.3em;box-sizing: border-box;text-align: center;}#sk-023af2fd-e54b-452b-9d35-9a1f315e6a86 div.sk-toggleable__content {max-height: 0;max-width: 0;overflow: hidden;text-align: left;background-color: #f0f8ff;}#sk-023af2fd-e54b-452b-9d35-9a1f315e6a86 div.sk-toggleable__content pre {margin: 0.2em;color: black;border-radius: 0.25em;background-color: #f0f8ff;}#sk-023af2fd-e54b-452b-9d35-9a1f315e6a86 input.sk-toggleable__control:checked~div.sk-toggleable__content {max-height: 200px;max-width: 100%;overflow: auto;}#sk-023af2fd-e54b-452b-9d35-9a1f315e6a86 div.sk-estimator input.sk-toggleable__control:checked~label.sk-toggleable__label {background-color: #d4ebff;}#sk-023af2fd-e54b-452b-9d35-9a1f315e6a86 div.sk-label input.sk-toggleable__control:checked~label.sk-toggleable__label {background-color: #d4ebff;}#sk-023af2fd-e54b-452b-9d35-9a1f315e6a86 input.sk-hidden--visually {border: 0;clip: rect(1px 1px 1px 1px);clip: rect(1px, 1px, 1px, 1px);height: 1px;margin: -1px;overflow: hidden;padding: 0;position: absolute;width: 1px;}#sk-023af2fd-e54b-452b-9d35-9a1f315e6a86 div.sk-estimator {font-family: monospace;background-color: #f0f8ff;margin: 0.25em 0.25em;border: 1px dotted black;border-radius: 0.25em;box-sizing: border-box;}#sk-023af2fd-e54b-452b-9d35-9a1f315e6a86 div.sk-estimator:hover {background-color: #d4ebff;}#sk-023af2fd-e54b-452b-9d35-9a1f315e6a86 div.sk-parallel-item::after {content: \"\";width: 100%;border-bottom: 1px solid gray;flex-grow: 1;}#sk-023af2fd-e54b-452b-9d35-9a1f315e6a86 div.sk-label:hover label.sk-toggleable__label {background-color: #d4ebff;}#sk-023af2fd-e54b-452b-9d35-9a1f315e6a86 div.sk-serial::before {content: \"\";position: absolute;border-left: 1px solid gray;box-sizing: border-box;top: 2em;bottom: 0;left: 50%;}#sk-023af2fd-e54b-452b-9d35-9a1f315e6a86 div.sk-serial {display: flex;flex-direction: column;align-items: center;background-color: white;}#sk-023af2fd-e54b-452b-9d35-9a1f315e6a86 div.sk-item {z-index: 1;}#sk-023af2fd-e54b-452b-9d35-9a1f315e6a86 div.sk-parallel {display: flex;align-items: stretch;justify-content: center;background-color: white;}#sk-023af2fd-e54b-452b-9d35-9a1f315e6a86 div.sk-parallel-item {display: flex;flex-direction: column;position: relative;background-color: white;}#sk-023af2fd-e54b-452b-9d35-9a1f315e6a86 div.sk-parallel-item:first-child::after {align-self: flex-end;width: 50%;}#sk-023af2fd-e54b-452b-9d35-9a1f315e6a86 div.sk-parallel-item:last-child::after {align-self: flex-start;width: 50%;}#sk-023af2fd-e54b-452b-9d35-9a1f315e6a86 div.sk-parallel-item:only-child::after {width: 0;}#sk-023af2fd-e54b-452b-9d35-9a1f315e6a86 div.sk-dashed-wrapped {border: 1px dashed gray;margin: 0.2em;box-sizing: border-box;padding-bottom: 0.1em;background-color: white;position: relative;}#sk-023af2fd-e54b-452b-9d35-9a1f315e6a86 div.sk-label label {font-family: monospace;font-weight: bold;background-color: white;display: inline-block;line-height: 1.2em;}#sk-023af2fd-e54b-452b-9d35-9a1f315e6a86 div.sk-label-container {position: relative;z-index: 2;text-align: center;}#sk-023af2fd-e54b-452b-9d35-9a1f315e6a86 div.sk-container {display: inline-block;position: relative;}</style><div id=\"sk-023af2fd-e54b-452b-9d35-9a1f315e6a86\" class\"sk-top-container\"><div class=\"sk-container\"><div class=\"sk-item sk-dashed-wrapped\"><div class=\"sk-label-container\"><div class=\"sk-label sk-toggleable\"><input class=\"sk-toggleable__control sk-hidden--visually\" id=\"78573f7c-d6ed-4b84-8b11-628864a79dc7\" type=\"checkbox\" ><label class=\"sk-toggleable__label\" for=\"78573f7c-d6ed-4b84-8b11-628864a79dc7\">Pipeline</label><div class=\"sk-toggleable__content\"><pre>Pipeline(steps=[('pipeline',\n",
       "                 Pipeline(steps=[('columntransformer',\n",
       "                                  ColumnTransformer(transformers=[('simpleimputer',\n",
       "                                                                   SimpleImputer(),\n",
       "                                                                   ['co', 'no',\n",
       "                                                                    'no2', 'o3',\n",
       "                                                                    'so2',\n",
       "                                                                    'pm2_5',\n",
       "                                                                    'pm10',\n",
       "                                                                    'nh3'])])),\n",
       "                                 ('standardscaler', StandardScaler())])),\n",
       "                ('mlpclassifier',\n",
       "                 MLPClassifier(alpha=0.01, hidden_layer_sizes=(20,),\n",
       "                               max_iter=500, random_state=0, solver='lbfgs'))])</pre></div></div></div><div class=\"sk-serial\"><div class=\"sk-item\"><div class=\"sk-label-container\"><div class=\"sk-label sk-toggleable\"><input class=\"sk-toggleable__control sk-hidden--visually\" id=\"67d70013-82dc-4e2f-8281-18f92672f165\" type=\"checkbox\" ><label class=\"sk-toggleable__label\" for=\"67d70013-82dc-4e2f-8281-18f92672f165\">pipeline: Pipeline</label><div class=\"sk-toggleable__content\"><pre>Pipeline(steps=[('columntransformer',\n",
       "                 ColumnTransformer(transformers=[('simpleimputer',\n",
       "                                                  SimpleImputer(),\n",
       "                                                  ['co', 'no', 'no2', 'o3',\n",
       "                                                   'so2', 'pm2_5', 'pm10',\n",
       "                                                   'nh3'])])),\n",
       "                ('standardscaler', StandardScaler())])</pre></div></div></div><div class=\"sk-serial\"><div class=\"sk-item sk-dashed-wrapped\"><div class=\"sk-label-container\"><div class=\"sk-label sk-toggleable\"><input class=\"sk-toggleable__control sk-hidden--visually\" id=\"f118e820-7fe0-4805-88c1-60123ce833df\" type=\"checkbox\" ><label class=\"sk-toggleable__label\" for=\"f118e820-7fe0-4805-88c1-60123ce833df\">columntransformer: ColumnTransformer</label><div class=\"sk-toggleable__content\"><pre>ColumnTransformer(transformers=[('simpleimputer', SimpleImputer(),\n",
       "                                 ['co', 'no', 'no2', 'o3', 'so2', 'pm2_5',\n",
       "                                  'pm10', 'nh3'])])</pre></div></div></div><div class=\"sk-parallel\"><div class=\"sk-parallel-item\"><div class=\"sk-item\"><div class=\"sk-label-container\"><div class=\"sk-label sk-toggleable\"><input class=\"sk-toggleable__control sk-hidden--visually\" id=\"a7de9813-c8ac-42f2-942a-326c957cf2ab\" type=\"checkbox\" ><label class=\"sk-toggleable__label\" for=\"a7de9813-c8ac-42f2-942a-326c957cf2ab\">simpleimputer</label><div class=\"sk-toggleable__content\"><pre>['co', 'no', 'no2', 'o3', 'so2', 'pm2_5', 'pm10', 'nh3']</pre></div></div></div><div class=\"sk-serial\"><div class=\"sk-item\"><div class=\"sk-estimator sk-toggleable\"><input class=\"sk-toggleable__control sk-hidden--visually\" id=\"ff2a0599-5499-4337-963c-ea0eb63ab998\" type=\"checkbox\" ><label class=\"sk-toggleable__label\" for=\"ff2a0599-5499-4337-963c-ea0eb63ab998\">SimpleImputer</label><div class=\"sk-toggleable__content\"><pre>SimpleImputer()</pre></div></div></div></div></div></div></div></div><div class=\"sk-item\"><div class=\"sk-estimator sk-toggleable\"><input class=\"sk-toggleable__control sk-hidden--visually\" id=\"b38218e5-ac70-4605-84a8-227352b75328\" type=\"checkbox\" ><label class=\"sk-toggleable__label\" for=\"b38218e5-ac70-4605-84a8-227352b75328\">StandardScaler</label><div class=\"sk-toggleable__content\"><pre>StandardScaler()</pre></div></div></div></div></div><div class=\"sk-item\"><div class=\"sk-estimator sk-toggleable\"><input class=\"sk-toggleable__control sk-hidden--visually\" id=\"51948dfc-6cf6-4f1d-997b-8dd613a725ad\" type=\"checkbox\" ><label class=\"sk-toggleable__label\" for=\"51948dfc-6cf6-4f1d-997b-8dd613a725ad\">MLPClassifier</label><div class=\"sk-toggleable__content\"><pre>MLPClassifier(alpha=0.01, hidden_layer_sizes=(20,), max_iter=500,\n",
       "              random_state=0, solver='lbfgs')</pre></div></div></div></div></div></div></div>"
      ],
      "text/plain": [
       "Pipeline(steps=[('pipeline',\n",
       "                 Pipeline(steps=[('columntransformer',\n",
       "                                  ColumnTransformer(transformers=[('simpleimputer',\n",
       "                                                                   SimpleImputer(),\n",
       "                                                                   ['co', 'no',\n",
       "                                                                    'no2', 'o3',\n",
       "                                                                    'so2',\n",
       "                                                                    'pm2_5',\n",
       "                                                                    'pm10',\n",
       "                                                                    'nh3'])])),\n",
       "                                 ('standardscaler', StandardScaler())])),\n",
       "                ('mlpclassifier',\n",
       "                 MLPClassifier(alpha=0.01, hidden_layer_sizes=(20,),\n",
       "                               max_iter=500, random_state=0, solver='lbfgs'))])"
      ]
     },
     "execution_count": 32,
     "metadata": {},
     "output_type": "execute_result"
    }
   ],
   "source": [
    "full_pipeline.set_params(mlpclassifier__alpha = best_alpha)\n",
    "\n",
    "full_pipeline.fit(temp_X_df, temp_y_sr)"
   ]
  },
  {
   "cell_type": "markdown",
   "id": "0f80ce22",
   "metadata": {},
   "source": [
    "### Đánh giá mô hình tìm được:\n",
    "Đánh giá mô hình tìm được với test data"
   ]
  },
  {
   "cell_type": "code",
   "execution_count": 33,
   "id": "ed9ecde1",
   "metadata": {},
   "outputs": [
    {
     "name": "stdout",
     "output_type": "stream",
     "text": [
      "Error with train+val data:  0.03 %\n"
     ]
    }
   ],
   "source": [
    "#Độ lỗi trên tập (train+validation)\n",
    "err = ((1-full_pipeline.score(temp_X_df, temp_y_sr)) * 100).round(2)\n",
    "errors_temp.append(err)\n",
    "print('Error with train+val data: ', err, '%')"
   ]
  },
  {
   "cell_type": "code",
   "execution_count": 34,
   "id": "0b4c6b1d",
   "metadata": {},
   "outputs": [
    {
     "name": "stdout",
     "output_type": "stream",
     "text": [
      "Error with test data:  0.29 %\n"
     ]
    }
   ],
   "source": [
    "#Độ lỗi ngoài tập huấn luyện\n",
    "err = ((1-full_pipeline.score(test_X_df, test_y_sr)) * 100).round(2)\n",
    "errors_test.append(err)\n",
    "print('Error with test data: ', err, '%')"
   ]
  },
  {
   "cell_type": "markdown",
   "id": "2bb861ae",
   "metadata": {},
   "source": [
    "### Nhận xét\n",
    "- Mô hình MLP-Classifier fit khá tốt trên tập dữ liệu<br/>\n",
    "- Tham số alpha càng nhỏ thì độ lỗi trên cả hai tập càng thấp<br/>\n",
    "- Mô hình đạt độ lỗi min trên tập validation khi tham số alpha = 0.01"
   ]
  },
  {
   "cell_type": "markdown",
   "id": "e66ef951",
   "metadata": {},
   "source": [
    "### Mô hình Softmax Regression"
   ]
  },
  {
   "cell_type": "code",
   "execution_count": 35,
   "id": "65dda082",
   "metadata": {},
   "outputs": [
    {
     "name": "stderr",
     "output_type": "stream",
     "text": [
      "C:\\Users\\3442\\miniconda3\\envs\\min_ds-env\\lib\\site-packages\\sklearn\\linear_model\\_logistic.py:763: ConvergenceWarning: lbfgs failed to converge (status=1):\n",
      "STOP: TOTAL NO. of ITERATIONS REACHED LIMIT.\n",
      "\n",
      "Increase the number of iterations (max_iter) or scale the data as shown in:\n",
      "    https://scikit-learn.org/stable/modules/preprocessing.html\n",
      "Please also refer to the documentation for alternative solver options:\n",
      "    https://scikit-learn.org/stable/modules/linear_model.html#logistic-regression\n",
      "  n_iter_i = _check_optimize_result(\n"
     ]
    },
    {
     "data": {
      "text/html": [
       "<style>#sk-287b30ac-7393-45ce-be22-3873a6d182ab {color: black;background-color: white;}#sk-287b30ac-7393-45ce-be22-3873a6d182ab pre{padding: 0;}#sk-287b30ac-7393-45ce-be22-3873a6d182ab div.sk-toggleable {background-color: white;}#sk-287b30ac-7393-45ce-be22-3873a6d182ab label.sk-toggleable__label {cursor: pointer;display: block;width: 100%;margin-bottom: 0;padding: 0.2em 0.3em;box-sizing: border-box;text-align: center;}#sk-287b30ac-7393-45ce-be22-3873a6d182ab div.sk-toggleable__content {max-height: 0;max-width: 0;overflow: hidden;text-align: left;background-color: #f0f8ff;}#sk-287b30ac-7393-45ce-be22-3873a6d182ab div.sk-toggleable__content pre {margin: 0.2em;color: black;border-radius: 0.25em;background-color: #f0f8ff;}#sk-287b30ac-7393-45ce-be22-3873a6d182ab input.sk-toggleable__control:checked~div.sk-toggleable__content {max-height: 200px;max-width: 100%;overflow: auto;}#sk-287b30ac-7393-45ce-be22-3873a6d182ab div.sk-estimator input.sk-toggleable__control:checked~label.sk-toggleable__label {background-color: #d4ebff;}#sk-287b30ac-7393-45ce-be22-3873a6d182ab div.sk-label input.sk-toggleable__control:checked~label.sk-toggleable__label {background-color: #d4ebff;}#sk-287b30ac-7393-45ce-be22-3873a6d182ab input.sk-hidden--visually {border: 0;clip: rect(1px 1px 1px 1px);clip: rect(1px, 1px, 1px, 1px);height: 1px;margin: -1px;overflow: hidden;padding: 0;position: absolute;width: 1px;}#sk-287b30ac-7393-45ce-be22-3873a6d182ab div.sk-estimator {font-family: monospace;background-color: #f0f8ff;margin: 0.25em 0.25em;border: 1px dotted black;border-radius: 0.25em;box-sizing: border-box;}#sk-287b30ac-7393-45ce-be22-3873a6d182ab div.sk-estimator:hover {background-color: #d4ebff;}#sk-287b30ac-7393-45ce-be22-3873a6d182ab div.sk-parallel-item::after {content: \"\";width: 100%;border-bottom: 1px solid gray;flex-grow: 1;}#sk-287b30ac-7393-45ce-be22-3873a6d182ab div.sk-label:hover label.sk-toggleable__label {background-color: #d4ebff;}#sk-287b30ac-7393-45ce-be22-3873a6d182ab div.sk-serial::before {content: \"\";position: absolute;border-left: 1px solid gray;box-sizing: border-box;top: 2em;bottom: 0;left: 50%;}#sk-287b30ac-7393-45ce-be22-3873a6d182ab div.sk-serial {display: flex;flex-direction: column;align-items: center;background-color: white;}#sk-287b30ac-7393-45ce-be22-3873a6d182ab div.sk-item {z-index: 1;}#sk-287b30ac-7393-45ce-be22-3873a6d182ab div.sk-parallel {display: flex;align-items: stretch;justify-content: center;background-color: white;}#sk-287b30ac-7393-45ce-be22-3873a6d182ab div.sk-parallel-item {display: flex;flex-direction: column;position: relative;background-color: white;}#sk-287b30ac-7393-45ce-be22-3873a6d182ab div.sk-parallel-item:first-child::after {align-self: flex-end;width: 50%;}#sk-287b30ac-7393-45ce-be22-3873a6d182ab div.sk-parallel-item:last-child::after {align-self: flex-start;width: 50%;}#sk-287b30ac-7393-45ce-be22-3873a6d182ab div.sk-parallel-item:only-child::after {width: 0;}#sk-287b30ac-7393-45ce-be22-3873a6d182ab div.sk-dashed-wrapped {border: 1px dashed gray;margin: 0.2em;box-sizing: border-box;padding-bottom: 0.1em;background-color: white;position: relative;}#sk-287b30ac-7393-45ce-be22-3873a6d182ab div.sk-label label {font-family: monospace;font-weight: bold;background-color: white;display: inline-block;line-height: 1.2em;}#sk-287b30ac-7393-45ce-be22-3873a6d182ab div.sk-label-container {position: relative;z-index: 2;text-align: center;}#sk-287b30ac-7393-45ce-be22-3873a6d182ab div.sk-container {display: inline-block;position: relative;}</style><div id=\"sk-287b30ac-7393-45ce-be22-3873a6d182ab\" class\"sk-top-container\"><div class=\"sk-container\"><div class=\"sk-item sk-dashed-wrapped\"><div class=\"sk-label-container\"><div class=\"sk-label sk-toggleable\"><input class=\"sk-toggleable__control sk-hidden--visually\" id=\"86b89d3a-d12c-421f-9536-f69f8ac5b9bf\" type=\"checkbox\" ><label class=\"sk-toggleable__label\" for=\"86b89d3a-d12c-421f-9536-f69f8ac5b9bf\">Pipeline</label><div class=\"sk-toggleable__content\"><pre>Pipeline(steps=[('pipeline',\n",
       "                 Pipeline(steps=[('columntransformer',\n",
       "                                  ColumnTransformer(transformers=[('simpleimputer',\n",
       "                                                                   SimpleImputer(),\n",
       "                                                                   ['co', 'no',\n",
       "                                                                    'no2', 'o3',\n",
       "                                                                    'so2',\n",
       "                                                                    'pm2_5',\n",
       "                                                                    'pm10',\n",
       "                                                                    'nh3'])])),\n",
       "                                 ('standardscaler', StandardScaler())])),\n",
       "                ('logisticregression',\n",
       "                 LogisticRegression(multi_class='multinomial'))])</pre></div></div></div><div class=\"sk-serial\"><div class=\"sk-item\"><div class=\"sk-label-container\"><div class=\"sk-label sk-toggleable\"><input class=\"sk-toggleable__control sk-hidden--visually\" id=\"30b64900-4b4c-4fc6-b6b3-07aef9d994f8\" type=\"checkbox\" ><label class=\"sk-toggleable__label\" for=\"30b64900-4b4c-4fc6-b6b3-07aef9d994f8\">pipeline: Pipeline</label><div class=\"sk-toggleable__content\"><pre>Pipeline(steps=[('columntransformer',\n",
       "                 ColumnTransformer(transformers=[('simpleimputer',\n",
       "                                                  SimpleImputer(),\n",
       "                                                  ['co', 'no', 'no2', 'o3',\n",
       "                                                   'so2', 'pm2_5', 'pm10',\n",
       "                                                   'nh3'])])),\n",
       "                ('standardscaler', StandardScaler())])</pre></div></div></div><div class=\"sk-serial\"><div class=\"sk-item sk-dashed-wrapped\"><div class=\"sk-label-container\"><div class=\"sk-label sk-toggleable\"><input class=\"sk-toggleable__control sk-hidden--visually\" id=\"ad24a70c-c73a-4748-b4db-6ee37e60437f\" type=\"checkbox\" ><label class=\"sk-toggleable__label\" for=\"ad24a70c-c73a-4748-b4db-6ee37e60437f\">columntransformer: ColumnTransformer</label><div class=\"sk-toggleable__content\"><pre>ColumnTransformer(transformers=[('simpleimputer', SimpleImputer(),\n",
       "                                 ['co', 'no', 'no2', 'o3', 'so2', 'pm2_5',\n",
       "                                  'pm10', 'nh3'])])</pre></div></div></div><div class=\"sk-parallel\"><div class=\"sk-parallel-item\"><div class=\"sk-item\"><div class=\"sk-label-container\"><div class=\"sk-label sk-toggleable\"><input class=\"sk-toggleable__control sk-hidden--visually\" id=\"8a596c55-4fef-4cbd-a9bc-f9f36ae74bd3\" type=\"checkbox\" ><label class=\"sk-toggleable__label\" for=\"8a596c55-4fef-4cbd-a9bc-f9f36ae74bd3\">simpleimputer</label><div class=\"sk-toggleable__content\"><pre>['co', 'no', 'no2', 'o3', 'so2', 'pm2_5', 'pm10', 'nh3']</pre></div></div></div><div class=\"sk-serial\"><div class=\"sk-item\"><div class=\"sk-estimator sk-toggleable\"><input class=\"sk-toggleable__control sk-hidden--visually\" id=\"6919d8a4-9d12-47c1-88ab-b0cf324751e4\" type=\"checkbox\" ><label class=\"sk-toggleable__label\" for=\"6919d8a4-9d12-47c1-88ab-b0cf324751e4\">SimpleImputer</label><div class=\"sk-toggleable__content\"><pre>SimpleImputer()</pre></div></div></div></div></div></div></div></div><div class=\"sk-item\"><div class=\"sk-estimator sk-toggleable\"><input class=\"sk-toggleable__control sk-hidden--visually\" id=\"8eabaa50-9ce4-475f-9260-8a2d93ffbdc6\" type=\"checkbox\" ><label class=\"sk-toggleable__label\" for=\"8eabaa50-9ce4-475f-9260-8a2d93ffbdc6\">StandardScaler</label><div class=\"sk-toggleable__content\"><pre>StandardScaler()</pre></div></div></div></div></div><div class=\"sk-item\"><div class=\"sk-estimator sk-toggleable\"><input class=\"sk-toggleable__control sk-hidden--visually\" id=\"3ccb6501-25d8-403d-bcab-2d6a0b572bda\" type=\"checkbox\" ><label class=\"sk-toggleable__label\" for=\"3ccb6501-25d8-403d-bcab-2d6a0b572bda\">LogisticRegression</label><div class=\"sk-toggleable__content\"><pre>LogisticRegression(multi_class='multinomial')</pre></div></div></div></div></div></div></div>"
      ],
      "text/plain": [
       "Pipeline(steps=[('pipeline',\n",
       "                 Pipeline(steps=[('columntransformer',\n",
       "                                  ColumnTransformer(transformers=[('simpleimputer',\n",
       "                                                                   SimpleImputer(),\n",
       "                                                                   ['co', 'no',\n",
       "                                                                    'no2', 'o3',\n",
       "                                                                    'so2',\n",
       "                                                                    'pm2_5',\n",
       "                                                                    'pm10',\n",
       "                                                                    'nh3'])])),\n",
       "                                 ('standardscaler', StandardScaler())])),\n",
       "                ('logisticregression',\n",
       "                 LogisticRegression(multi_class='multinomial'))])"
      ]
     },
     "execution_count": 35,
     "metadata": {},
     "output_type": "execute_result"
    }
   ],
   "source": [
    "log_reg_model = LogisticRegression(multi_class = 'multinomial')\n",
    "full_pipeline_2 = make_pipeline(preprocess_pipeline, log_reg_model)\n",
    "full_pipeline_2.fit(temp_X_df, temp_y_sr)"
   ]
  },
  {
   "cell_type": "code",
   "execution_count": 36,
   "id": "19e281b7",
   "metadata": {},
   "outputs": [
    {
     "name": "stdout",
     "output_type": "stream",
     "text": [
      "Error with train+valid data:  5.62 %\n"
     ]
    }
   ],
   "source": [
    "#Độ lỗi trên tập (train+validation)\n",
    "err = ((1-full_pipeline_2.score(temp_X_df, temp_y_sr)) * 100).round(2)\n",
    "print('Error with train+valid data: ', err, '%')\n",
    "errors_temp.append(err)"
   ]
  },
  {
   "cell_type": "code",
   "execution_count": 37,
   "id": "0878da84",
   "metadata": {},
   "outputs": [
    {
     "name": "stdout",
     "output_type": "stream",
     "text": [
      "Error with test data:  6.72 %\n"
     ]
    }
   ],
   "source": [
    "#Độ lỗi trên tập test\n",
    "err = ((1-full_pipeline_2.score(test_X_df, test_y_sr)) * 100).round(2)\n",
    "print('Error with test data: ', err, '%')\n",
    "errors_test.append(err)"
   ]
  },
  {
   "cell_type": "markdown",
   "id": "d19975f2",
   "metadata": {},
   "source": [
    "### Nhận xét\n",
    "- Độ lỗi trên cả hai không chênh lệch quá nhiều <br/>\n",
    "- Mô hình fit khá ổn trên tập dữ liệu"
   ]
  },
  {
   "cell_type": "markdown",
   "id": "96371eb2",
   "metadata": {},
   "source": [
    "### Mô hình K-Neighbors Classifier"
   ]
  },
  {
   "cell_type": "code",
   "execution_count": 38,
   "id": "41f09a54",
   "metadata": {},
   "outputs": [
    {
     "data": {
      "text/plain": [
       "'Finish!'"
      ]
     },
     "execution_count": 38,
     "metadata": {},
     "output_type": "execute_result"
    }
   ],
   "source": [
    "full_pipeline_3 = make_pipeline(preprocess_pipeline,KNeighborsClassifier())\n",
    "# Thử nghiệm với các giá trị khác nhau của các siêu tham số\n",
    "# và chọn ra các giá trị tốt nhất\n",
    "train_errs = []\n",
    "val_errs = []\n",
    "n_neighbors = [1, 2, 3, 4, 5, 6]\n",
    "best_val_err = float('inf')\n",
    "best_neighbor = None\n",
    "for neighbor in n_neighbors:\n",
    "    full_pipeline_3.set_params(kneighborsclassifier__n_neighbors = neighbor)\n",
    "    full_pipeline_3.fit(train_X_df, train_y_sr)\n",
    "    train_errs.append((1 - full_pipeline_3.score(train_X_df, train_y_sr)) * 100)\n",
    "    val_errs.append((1 - full_pipeline_3.score(val_X_df, val_y_sr)) * 100)\n",
    "\n",
    "best_val_err = min(val_errs)\n",
    "index = val_errs.index(min(val_errs))\n",
    "best_neighbor = n_neighbors[index]\n",
    "\n",
    "'Finish!'"
   ]
  },
  {
   "cell_type": "markdown",
   "id": "43f9e4df",
   "metadata": {},
   "source": [
    "#### Độ lỗi trên tập train"
   ]
  },
  {
   "cell_type": "code",
   "execution_count": 39,
   "id": "7f9b9938",
   "metadata": {},
   "outputs": [
    {
     "data": {
      "text/plain": [
       "Text(0, 0.5, 'neighbor')"
      ]
     },
     "execution_count": 39,
     "metadata": {},
     "output_type": "execute_result"
    },
    {
     "data": {
      "image/png": "[encoded data removed]",
      "text/plain": [
       "<Figure size 432x288 with 1 Axes>"
      ]
     },
     "metadata": {
      "needs_background": "light"
     },
     "output_type": "display_data"
    }
   ],
   "source": [
    "cx = pd.Series(train_errs, index = n_neighbors).plot.barh()\n",
    "cx.set_xlabel('Độ lỗi trên tập train (%)')\n",
    "cx.set_ylabel('neighbor')"
   ]
  },
  {
   "cell_type": "markdown",
   "id": "1a4eb6ca",
   "metadata": {},
   "source": [
    "#### Độ lỗi trên tập valid"
   ]
  },
  {
   "cell_type": "code",
   "execution_count": 40,
   "id": "31ecff3c",
   "metadata": {},
   "outputs": [
    {
     "data": {
      "text/plain": [
       "Text(0, 0.5, 'neighbor')"
      ]
     },
     "execution_count": 40,
     "metadata": {},
     "output_type": "execute_result"
    },
    {
     "data": {
      "image/png": "[encoded data removed]",
      "text/plain": [
       "<Figure size 432x288 with 1 Axes>"
      ]
     },
     "metadata": {
      "needs_background": "light"
     },
     "output_type": "display_data"
    }
   ],
   "source": [
    "dx = pd.Series(val_errs, index = n_neighbors).plot.barh()\n",
    "dx.set_xlabel('Độ lỗi trên tập train (%)')\n",
    "dx.set_ylabel('neighbor')"
   ]
  },
  {
   "cell_type": "markdown",
   "id": "ce9c0c49",
   "metadata": {},
   "source": [
    "#### Độ lỗi nhỏ nhất trên tập valid và alpha tốt nhất"
   ]
  },
  {
   "cell_type": "code",
   "execution_count": 41,
   "id": "4ff483d5",
   "metadata": {},
   "outputs": [
    {
     "name": "stdout",
     "output_type": "stream",
     "text": [
      "Best valid err:  11.62 %\n",
      "\n",
      "Best neighbor:  5\n"
     ]
    }
   ],
   "source": [
    "print('Best valid err: ', best_val_err.round(2), '%')\n",
    "print()\n",
    "print('Best neighbor: ',best_neighbor)"
   ]
  },
  {
   "cell_type": "markdown",
   "id": "68a401fe",
   "metadata": {},
   "source": [
    "Cuối cùng, huấn luyện lại `full_pipeline` trên `X_df` và `y_sr` (tập huấn luyện + tập validation) với `best_neighbor` tìm được ở trên để ra được mô hình cụ thể cuối cùng."
   ]
  },
  {
   "cell_type": "code",
   "execution_count": 42,
   "id": "484e44cd",
   "metadata": {},
   "outputs": [
    {
     "data": {
      "text/html": [
       "<style>#sk-e7ef61fa-9bda-4d5e-9a9a-23c3295d66dc {color: black;background-color: white;}#sk-e7ef61fa-9bda-4d5e-9a9a-23c3295d66dc pre{padding: 0;}#sk-e7ef61fa-9bda-4d5e-9a9a-23c3295d66dc div.sk-toggleable {background-color: white;}#sk-e7ef61fa-9bda-4d5e-9a9a-23c3295d66dc label.sk-toggleable__label {cursor: pointer;display: block;width: 100%;margin-bottom: 0;padding: 0.2em 0.3em;box-sizing: border-box;text-align: center;}#sk-e7ef61fa-9bda-4d5e-9a9a-23c3295d66dc div.sk-toggleable__content {max-height: 0;max-width: 0;overflow: hidden;text-align: left;background-color: #f0f8ff;}#sk-e7ef61fa-9bda-4d5e-9a9a-23c3295d66dc div.sk-toggleable__content pre {margin: 0.2em;color: black;border-radius: 0.25em;background-color: #f0f8ff;}#sk-e7ef61fa-9bda-4d5e-9a9a-23c3295d66dc input.sk-toggleable__control:checked~div.sk-toggleable__content {max-height: 200px;max-width: 100%;overflow: auto;}#sk-e7ef61fa-9bda-4d5e-9a9a-23c3295d66dc div.sk-estimator input.sk-toggleable__control:checked~label.sk-toggleable__label {background-color: #d4ebff;}#sk-e7ef61fa-9bda-4d5e-9a9a-23c3295d66dc div.sk-label input.sk-toggleable__control:checked~label.sk-toggleable__label {background-color: #d4ebff;}#sk-e7ef61fa-9bda-4d5e-9a9a-23c3295d66dc input.sk-hidden--visually {border: 0;clip: rect(1px 1px 1px 1px);clip: rect(1px, 1px, 1px, 1px);height: 1px;margin: -1px;overflow: hidden;padding: 0;position: absolute;width: 1px;}#sk-e7ef61fa-9bda-4d5e-9a9a-23c3295d66dc div.sk-estimator {font-family: monospace;background-color: #f0f8ff;margin: 0.25em 0.25em;border: 1px dotted black;border-radius: 0.25em;box-sizing: border-box;}#sk-e7ef61fa-9bda-4d5e-9a9a-23c3295d66dc div.sk-estimator:hover {background-color: #d4ebff;}#sk-e7ef61fa-9bda-4d5e-9a9a-23c3295d66dc div.sk-parallel-item::after {content: \"\";width: 100%;border-bottom: 1px solid gray;flex-grow: 1;}#sk-e7ef61fa-9bda-4d5e-9a9a-23c3295d66dc div.sk-label:hover label.sk-toggleable__label {background-color: #d4ebff;}#sk-e7ef61fa-9bda-4d5e-9a9a-23c3295d66dc div.sk-serial::before {content: \"\";position: absolute;border-left: 1px solid gray;box-sizing: border-box;top: 2em;bottom: 0;left: 50%;}#sk-e7ef61fa-9bda-4d5e-9a9a-23c3295d66dc div.sk-serial {display: flex;flex-direction: column;align-items: center;background-color: white;}#sk-e7ef61fa-9bda-4d5e-9a9a-23c3295d66dc div.sk-item {z-index: 1;}#sk-e7ef61fa-9bda-4d5e-9a9a-23c3295d66dc div.sk-parallel {display: flex;align-items: stretch;justify-content: center;background-color: white;}#sk-e7ef61fa-9bda-4d5e-9a9a-23c3295d66dc div.sk-parallel-item {display: flex;flex-direction: column;position: relative;background-color: white;}#sk-e7ef61fa-9bda-4d5e-9a9a-23c3295d66dc div.sk-parallel-item:first-child::after {align-self: flex-end;width: 50%;}#sk-e7ef61fa-9bda-4d5e-9a9a-23c3295d66dc div.sk-parallel-item:last-child::after {align-self: flex-start;width: 50%;}#sk-e7ef61fa-9bda-4d5e-9a9a-23c3295d66dc div.sk-parallel-item:only-child::after {width: 0;}#sk-e7ef61fa-9bda-4d5e-9a9a-23c3295d66dc div.sk-dashed-wrapped {border: 1px dashed gray;margin: 0.2em;box-sizing: border-box;padding-bottom: 0.1em;background-color: white;position: relative;}#sk-e7ef61fa-9bda-4d5e-9a9a-23c3295d66dc div.sk-label label {font-family: monospace;font-weight: bold;background-color: white;display: inline-block;line-height: 1.2em;}#sk-e7ef61fa-9bda-4d5e-9a9a-23c3295d66dc div.sk-label-container {position: relative;z-index: 2;text-align: center;}#sk-e7ef61fa-9bda-4d5e-9a9a-23c3295d66dc div.sk-container {display: inline-block;position: relative;}</style><div id=\"sk-e7ef61fa-9bda-4d5e-9a9a-23c3295d66dc\" class\"sk-top-container\"><div class=\"sk-container\"><div class=\"sk-item sk-dashed-wrapped\"><div class=\"sk-label-container\"><div class=\"sk-label sk-toggleable\"><input class=\"sk-toggleable__control sk-hidden--visually\" id=\"13a89e1b-321b-44cd-a8cd-b4eeda2caa76\" type=\"checkbox\" ><label class=\"sk-toggleable__label\" for=\"13a89e1b-321b-44cd-a8cd-b4eeda2caa76\">Pipeline</label><div class=\"sk-toggleable__content\"><pre>Pipeline(steps=[('pipeline',\n",
       "                 Pipeline(steps=[('columntransformer',\n",
       "                                  ColumnTransformer(transformers=[('simpleimputer',\n",
       "                                                                   SimpleImputer(),\n",
       "                                                                   ['co', 'no',\n",
       "                                                                    'no2', 'o3',\n",
       "                                                                    'so2',\n",
       "                                                                    'pm2_5',\n",
       "                                                                    'pm10',\n",
       "                                                                    'nh3'])])),\n",
       "                                 ('standardscaler', StandardScaler())])),\n",
       "                ('kneighborsclassifier', KNeighborsClassifier())])</pre></div></div></div><div class=\"sk-serial\"><div class=\"sk-item\"><div class=\"sk-label-container\"><div class=\"sk-label sk-toggleable\"><input class=\"sk-toggleable__control sk-hidden--visually\" id=\"5d311ef0-fe14-44f9-906e-c4fde0486c90\" type=\"checkbox\" ><label class=\"sk-toggleable__label\" for=\"5d311ef0-fe14-44f9-906e-c4fde0486c90\">pipeline: Pipeline</label><div class=\"sk-toggleable__content\"><pre>Pipeline(steps=[('columntransformer',\n",
       "                 ColumnTransformer(transformers=[('simpleimputer',\n",
       "                                                  SimpleImputer(),\n",
       "                                                  ['co', 'no', 'no2', 'o3',\n",
       "                                                   'so2', 'pm2_5', 'pm10',\n",
       "                                                   'nh3'])])),\n",
       "                ('standardscaler', StandardScaler())])</pre></div></div></div><div class=\"sk-serial\"><div class=\"sk-item sk-dashed-wrapped\"><div class=\"sk-label-container\"><div class=\"sk-label sk-toggleable\"><input class=\"sk-toggleable__control sk-hidden--visually\" id=\"f99e3a97-7861-466d-b38b-200dcc70da19\" type=\"checkbox\" ><label class=\"sk-toggleable__label\" for=\"f99e3a97-7861-466d-b38b-200dcc70da19\">columntransformer: ColumnTransformer</label><div class=\"sk-toggleable__content\"><pre>ColumnTransformer(transformers=[('simpleimputer', SimpleImputer(),\n",
       "                                 ['co', 'no', 'no2', 'o3', 'so2', 'pm2_5',\n",
       "                                  'pm10', 'nh3'])])</pre></div></div></div><div class=\"sk-parallel\"><div class=\"sk-parallel-item\"><div class=\"sk-item\"><div class=\"sk-label-container\"><div class=\"sk-label sk-toggleable\"><input class=\"sk-toggleable__control sk-hidden--visually\" id=\"6e20015d-8485-4b4c-811b-865a6c8d9568\" type=\"checkbox\" ><label class=\"sk-toggleable__label\" for=\"6e20015d-8485-4b4c-811b-865a6c8d9568\">simpleimputer</label><div class=\"sk-toggleable__content\"><pre>['co', 'no', 'no2', 'o3', 'so2', 'pm2_5', 'pm10', 'nh3']</pre></div></div></div><div class=\"sk-serial\"><div class=\"sk-item\"><div class=\"sk-estimator sk-toggleable\"><input class=\"sk-toggleable__control sk-hidden--visually\" id=\"7a87903c-58dd-4699-aba8-973d11e5ffaa\" type=\"checkbox\" ><label class=\"sk-toggleable__label\" for=\"7a87903c-58dd-4699-aba8-973d11e5ffaa\">SimpleImputer</label><div class=\"sk-toggleable__content\"><pre>SimpleImputer()</pre></div></div></div></div></div></div></div></div><div class=\"sk-item\"><div class=\"sk-estimator sk-toggleable\"><input class=\"sk-toggleable__control sk-hidden--visually\" id=\"fa78aaa7-a1e4-4d70-9c72-2878b2ab8b11\" type=\"checkbox\" ><label class=\"sk-toggleable__label\" for=\"fa78aaa7-a1e4-4d70-9c72-2878b2ab8b11\">StandardScaler</label><div class=\"sk-toggleable__content\"><pre>StandardScaler()</pre></div></div></div></div></div><div class=\"sk-item\"><div class=\"sk-estimator sk-toggleable\"><input class=\"sk-toggleable__control sk-hidden--visually\" id=\"dd1edf5e-9845-4c67-9420-c7caa093c61a\" type=\"checkbox\" ><label class=\"sk-toggleable__label\" for=\"dd1edf5e-9845-4c67-9420-c7caa093c61a\">KNeighborsClassifier</label><div class=\"sk-toggleable__content\"><pre>KNeighborsClassifier()</pre></div></div></div></div></div></div></div>"
      ],
      "text/plain": [
       "Pipeline(steps=[('pipeline',\n",
       "                 Pipeline(steps=[('columntransformer',\n",
       "                                  ColumnTransformer(transformers=[('simpleimputer',\n",
       "                                                                   SimpleImputer(),\n",
       "                                                                   ['co', 'no',\n",
       "                                                                    'no2', 'o3',\n",
       "                                                                    'so2',\n",
       "                                                                    'pm2_5',\n",
       "                                                                    'pm10',\n",
       "                                                                    'nh3'])])),\n",
       "                                 ('standardscaler', StandardScaler())])),\n",
       "                ('kneighborsclassifier', KNeighborsClassifier())])"
      ]
     },
     "execution_count": 42,
     "metadata": {},
     "output_type": "execute_result"
    }
   ],
   "source": [
    "full_pipeline_3.set_params(kneighborsclassifier__n_neighbors = best_neighbor)\n",
    "\n",
    "full_pipeline_3.fit(temp_X_df, temp_y_sr)"
   ]
  },
  {
   "cell_type": "markdown",
   "id": "79ec9be6",
   "metadata": {},
   "source": [
    "### Đánh giá mô hình tìm được:"
   ]
  },
  {
   "cell_type": "code",
   "execution_count": 43,
   "id": "594cc9ee",
   "metadata": {},
   "outputs": [
    {
     "name": "stdout",
     "output_type": "stream",
     "text": [
      "Error with val data:  7.29 %\n"
     ]
    }
   ],
   "source": [
    "#Độ lỗi trên tập (train+validation)\n",
    "err = ((1-full_pipeline_3.score(temp_X_df, temp_y_sr)) * 100).round(2)\n",
    "errors_temp.append(err)\n",
    "print('Error with val data: ', err, '%')"
   ]
  },
  {
   "cell_type": "code",
   "execution_count": 44,
   "id": "6e3cc50d",
   "metadata": {},
   "outputs": [
    {
     "name": "stdout",
     "output_type": "stream",
     "text": [
      "Error with test data:  11.39 %\n"
     ]
    }
   ],
   "source": [
    "#Độ lỗi trên tập test\n",
    "err = ((1-full_pipeline_3.score(test_X_df, test_y_sr)) * 100).round(2)\n",
    "errors_test.append(err)\n",
    "print('Error with test data: ', err, '%')"
   ]
  },
  {
   "cell_type": "markdown",
   "id": "e4411af6",
   "metadata": {},
   "source": [
    "### Nhận xét\n",
    "- Độ lỗi trên tập(train+ validation) cao hơn độ lỗi tập test<br/>\n",
    "- Mô hình đạt độ lỗi min trên tập validation với n_neighbors= 5"
   ]
  },
  {
   "cell_type": "markdown",
   "id": "e20cef6a",
   "metadata": {},
   "source": [
    "### Mô hình tốt nhất\n"
   ]
  },
  {
   "cell_type": "code",
   "execution_count": 45,
   "id": "33676d74",
   "metadata": {},
   "outputs": [
    {
     "data": {
      "text/plain": [
       "<function matplotlib.pyplot.show(close=None, block=None)>"
      ]
     },
     "execution_count": 45,
     "metadata": {},
     "output_type": "execute_result"
    },
    {
     "data": {
      "image/png": "[encoded data removed]",
      "text/plain": [
       "<Figure size 432x288 with 1 Axes>"
      ]
     },
     "metadata": {
      "needs_background": "light"
     },
     "output_type": "display_data"
    }
   ],
   "source": [
    "divisions=['MLP Classifier','Softmax Regression','K-Neighbors Classifier']\n",
    "plt.bar(divisions,errors_temp,color='orange')\n",
    "plt.title('Train+Val Error')\n",
    "plt.xlabel('Models')\n",
    "plt.ylabel('Error(%)')\n",
    "plt.show"
   ]
  },
  {
   "cell_type": "code",
   "execution_count": 46,
   "id": "8600c1f5",
   "metadata": {},
   "outputs": [
    {
     "data": {
      "text/plain": [
       "<function matplotlib.pyplot.show(close=None, block=None)>"
      ]
     },
     "execution_count": 46,
     "metadata": {},
     "output_type": "execute_result"
    },
    {
     "data": {
      "image/png": "[encoded data removed]",
      "text/plain": [
       "<Figure size 432x288 with 1 Axes>"
      ]
     },
     "metadata": {
      "needs_background": "light"
     },
     "output_type": "display_data"
    }
   ],
   "source": [
    "plt.bar(divisions,errors_test,color='green')\n",
    "plt.title('Test Error')\n",
    "plt.xlabel('Models')\n",
    "plt.ylabel('Error(%)')\n",
    "plt.show"
   ]
  },
  {
   "cell_type": "markdown",
   "id": "d384bc4e",
   "metadata": {},
   "source": [
    "- Dựa vào độ lỗi trên các tập trên ta thấy mô hình MLP Classifier hoạt động hiệu quả hơn hai mô hình còn lại => dự đoán chất lượng không khí tốt nhất."
   ]
  },
  {
   "cell_type": "code",
   "execution_count": null,
   "id": "98795431",
   "metadata": {},
   "outputs": [],
   "source": []
  }
 ],
 "metadata": {
  "kernelspec": {
   "display_name": "Python 3 (ipykernel)",
   "language": "python",
   "name": "python3"
  },
  "language_info": {
   "codemirror_mode": {
    "name": "ipython",
    "version": 3
   },
   "file_extension": ".py",
   "mimetype": "text/x-python",
   "name": "python",
   "nbconvert_exporter": "python",
   "pygments_lexer": "ipython3",
   "version": "3.8.8"
  }
 },
 "nbformat": 4,
 "nbformat_minor": 5
}
