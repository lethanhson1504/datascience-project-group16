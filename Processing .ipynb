{
 "cells": [
  {
   "cell_type": "markdown",
   "id": "445b82d5",
   "metadata": {},
   "source": [
    "# Khám phá dữ liệu, tiền xử lý"
   ]
  },
  {
   "cell_type": "code",
   "execution_count": 1,
   "id": "ccb7414d",
   "metadata": {},
   "outputs": [],
   "source": [
    "import matplotlib.pyplot as plt\n",
    "import numpy as np\n",
    "import pandas as pd\n",
    "import seaborn as sns\n",
    "from sklearn.model_selection import train_test_split\n",
    "from sklearn.preprocessing import OneHotEncoder, StandardScaler\n",
    "from sklearn.impute import SimpleImputer\n",
    "from sklearn.base import BaseEstimator, TransformerMixin\n",
    "from sklearn.pipeline import Pipeline, make_pipeline\n",
    "from sklearn.compose import ColumnTransformer, make_column_transformer\n",
    "from sklearn.neural_network import MLPClassifier\n",
    "from sklearn import set_config\n",
    "from sklearn.linear_model import LogisticRegression\n",
    "from sklearn.neighbors import KNeighborsClassifier\n",
    "set_config(display='diagram') # Để trực quan hóa pipeline"
   ]
  },
  {
   "cell_type": "markdown",
   "id": "ca1ab9c8",
   "metadata": {},
   "source": [
    "### Đọc dữ liệu từ file"
   ]
  },
  {
   "cell_type": "code",
   "execution_count": 2,
   "id": "bb91f12e",
   "metadata": {},
   "outputs": [],
   "source": [
    "air_df = pd.read_csv('data.csv', sep = ',')"
   ]
  },
  {
   "cell_type": "code",
   "execution_count": 3,
   "id": "3570d508",
   "metadata": {},
   "outputs": [
    {
     "data": {
      "text/html": [
       "<div>\n",
       "<style scoped>\n",
       "    .dataframe tbody tr th:only-of-type {\n",
       "        vertical-align: middle;\n",
       "    }\n",
       "\n",
       "    .dataframe tbody tr th {\n",
       "        vertical-align: top;\n",
       "    }\n",
       "\n",
       "    .dataframe thead th {\n",
       "        text-align: right;\n",
       "    }\n",
       "</style>\n",
       "<table border=\"1\" class=\"dataframe\">\n",
       "  <thead>\n",
       "    <tr style=\"text-align: right;\">\n",
       "      <th></th>\n",
       "      <th>co</th>\n",
       "      <th>no</th>\n",
       "      <th>no2</th>\n",
       "      <th>o3</th>\n",
       "      <th>so2</th>\n",
       "      <th>pm2_5</th>\n",
       "      <th>pm10</th>\n",
       "      <th>nh3</th>\n",
       "      <th>aqi</th>\n",
       "    </tr>\n",
       "  </thead>\n",
       "  <tbody>\n",
       "    <tr>\n",
       "      <th>0</th>\n",
       "      <td>1121.52</td>\n",
       "      <td>2.49</td>\n",
       "      <td>15.59</td>\n",
       "      <td>6.62</td>\n",
       "      <td>7.03</td>\n",
       "      <td>51.11</td>\n",
       "      <td>60.88</td>\n",
       "      <td>6.21</td>\n",
       "      <td>5</td>\n",
       "    </tr>\n",
       "    <tr>\n",
       "      <th>1</th>\n",
       "      <td>767.71</td>\n",
       "      <td>1.48</td>\n",
       "      <td>12.00</td>\n",
       "      <td>32.90</td>\n",
       "      <td>8.46</td>\n",
       "      <td>36.26</td>\n",
       "      <td>42.39</td>\n",
       "      <td>3.52</td>\n",
       "      <td>4</td>\n",
       "    </tr>\n",
       "    <tr>\n",
       "      <th>2</th>\n",
       "      <td>727.65</td>\n",
       "      <td>1.41</td>\n",
       "      <td>10.11</td>\n",
       "      <td>51.50</td>\n",
       "      <td>8.35</td>\n",
       "      <td>35.83</td>\n",
       "      <td>41.03</td>\n",
       "      <td>3.23</td>\n",
       "      <td>4</td>\n",
       "    </tr>\n",
       "    <tr>\n",
       "      <th>3</th>\n",
       "      <td>727.65</td>\n",
       "      <td>1.03</td>\n",
       "      <td>8.82</td>\n",
       "      <td>77.25</td>\n",
       "      <td>8.94</td>\n",
       "      <td>39.41</td>\n",
       "      <td>44.50</td>\n",
       "      <td>3.58</td>\n",
       "      <td>4</td>\n",
       "    </tr>\n",
       "    <tr>\n",
       "      <th>4</th>\n",
       "      <td>761.03</td>\n",
       "      <td>0.59</td>\n",
       "      <td>7.37</td>\n",
       "      <td>103.00</td>\n",
       "      <td>9.18</td>\n",
       "      <td>46.39</td>\n",
       "      <td>51.56</td>\n",
       "      <td>3.99</td>\n",
       "      <td>4</td>\n",
       "    </tr>\n",
       "  </tbody>\n",
       "</table>\n",
       "</div>"
      ],
      "text/plain": [
       "        co    no    no2      o3   so2  pm2_5   pm10   nh3  aqi\n",
       "0  1121.52  2.49  15.59    6.62  7.03  51.11  60.88  6.21    5\n",
       "1   767.71  1.48  12.00   32.90  8.46  36.26  42.39  3.52    4\n",
       "2   727.65  1.41  10.11   51.50  8.35  35.83  41.03  3.23    4\n",
       "3   727.65  1.03   8.82   77.25  8.94  39.41  44.50  3.58    4\n",
       "4   761.03  0.59   7.37  103.00  9.18  46.39  51.56  3.99    4"
      ]
     },
     "execution_count": 3,
     "metadata": {},
     "output_type": "execute_result"
    }
   ],
   "source": [
    "air_df.head()"
   ]
  },
  {
   "cell_type": "markdown",
   "id": "66ff939c",
   "metadata": {},
   "source": [
    "### Dữ liệu có bao nhiêu dòng và bao nhiêu cột?"
   ]
  },
  {
   "cell_type": "code",
   "execution_count": 4,
   "id": "a9d4c102",
   "metadata": {},
   "outputs": [
    {
     "data": {
      "text/plain": [
       "(13206, 9)"
      ]
     },
     "execution_count": 4,
     "metadata": {},
     "output_type": "execute_result"
    }
   ],
   "source": [
    "air_df.shape"
   ]
  },
  {
   "cell_type": "markdown",
   "id": "f41d562a",
   "metadata": {},
   "source": [
    "### Mỗi dòng có ý nghĩa gì? Có vấn đề các dòng có ý nghĩa khác nhau không?"
   ]
  },
  {
   "cell_type": "markdown",
   "id": "27606353",
   "metadata": {},
   "source": [
    "Mỗi dòng trong DataFrame `air_df` cho biết dữ liệu về các chỉ số và chất lượng không khí của các tỉnh, thành phố từ 0h ngày 1/8/2021 - 0h ngày 1/9/2021 . Có vẻ không có vấn đề các dòng có ý nghĩa khác nhau."
   ]
  },
  {
   "cell_type": "markdown",
   "id": "3bdd3cfa",
   "metadata": {},
   "source": [
    "### Dữ liệu có các dòng bị lặp không?"
   ]
  },
  {
   "cell_type": "code",
   "execution_count": 5,
   "id": "3db90ad7",
   "metadata": {},
   "outputs": [
    {
     "data": {
      "text/plain": [
       "0"
      ]
     },
     "execution_count": 5,
     "metadata": {},
     "output_type": "execute_result"
    }
   ],
   "source": [
    "air_df.index.duplicated().sum()"
   ]
  },
  {
   "cell_type": "markdown",
   "id": "dfe03d2b",
   "metadata": {},
   "source": [
    "### Mỗi cột có ý nghĩa gì?"
   ]
  },
  {
   "cell_type": "code",
   "execution_count": 6,
   "id": "d1b759f5",
   "metadata": {},
   "outputs": [
    {
     "name": "stdout",
     "output_type": "stream",
     "text": [
      "VARIABLE DESCRIPTIONS:\n",
      "aqi        \tChỉ số chất lượng không khí (1,2,3,4,5)\n",
      "                (1 = Good; 2 = Fair; 3 = Moderate; 4 = Poor ; 5 = Very Poor )\n",
      "co          \tNồng độ CO (Carbon monoxide) \t\t,  μg/m3\n",
      "no            \tNồng độ NO (Nitrogen monoxide) \t\t,  μg/m3\n",
      "no2             Nồng độ NO2 (Nitrogen dioxide) \t\t,  μg/m3\n",
      "o3             \tNồng độ O3 (Ozone) \t\t\t,  μg/m3\n",
      "so2           \tNồng độ SO2 (Sulphur dioxide) \t\t,  μg/m3\n",
      "pm2_5           Nồng độ PM2.5 (Fine particles matter) \t,  μg/m3\n",
      "pm10          \tNồng độ PM10 (Coarse particulate matter),  μg/m3\n",
      "nh3            \tNồng độ NH3 (Ammonia) \t\t\t,  μg/m3\n",
      "\n",
      "\n"
     ]
    }
   ],
   "source": [
    "with open('description.txt', 'r',encoding='utf-8') as f:\n",
    "    print(f.read())"
   ]
  },
  {
   "cell_type": "markdown",
   "id": "a174894f",
   "metadata": {},
   "source": [
    "## Đưa ra câu hỏi cần trả lời"
   ]
  },
  {
   "cell_type": "markdown",
   "id": "34073599",
   "metadata": {},
   "source": [
    "- Chất lượng không khí được tính như thế nào từ các chỉ số trong không khí đã được đo từ môi trường ?\n",
    "<br/>\n",
    "- Ý nghĩa thực tế của câu hỏi: Theo Tổ chức Y tế thế giới (WHO), hằng năm có 34.000 ca tử vong tại Việt Nam có liên quan đến ô nhiễm không khí. Việc xác định chất lượng không khí giúp người dân có các biện pháp bảo vệ bản thân và cộng đồng kịp thời như đeo khẩu trang, hạn chế sử dụng các phương tiện giao thông gây ô nhiễm, ... . Ngoài ra, chính quyền địa phương có thể hạn chế lượng khí thải từ các nhà máy, xí nghiệp, trồng thêm nhiều cây xanh để làm giảm ô nhiễm không khí."
   ]
  },
  {
   "cell_type": "markdown",
   "id": "95804a9d",
   "metadata": {},
   "source": [
    "# Khám phá dữ liệu"
   ]
  },
  {
   "cell_type": "code",
   "execution_count": 7,
   "id": "a5cf6553",
   "metadata": {},
   "outputs": [
    {
     "data": {
      "text/plain": [
       "dtype('int64')"
      ]
     },
     "execution_count": 7,
     "metadata": {},
     "output_type": "execute_result"
    }
   ],
   "source": [
    "# Cột output hiện có kiểu dữ liệu gì?\n",
    "air_df['aqi'].dtype"
   ]
  },
  {
   "cell_type": "code",
   "execution_count": 8,
   "id": "8bba2c31",
   "metadata": {},
   "outputs": [
    {
     "data": {
      "text/plain": [
       "0"
      ]
     },
     "execution_count": 8,
     "metadata": {},
     "output_type": "execute_result"
    }
   ],
   "source": [
    "# Cột output có bao nhiêu giá trị thiếu?\n",
    "air_df['aqi'].isna().sum()"
   ]
  },
  {
   "cell_type": "code",
   "execution_count": 9,
   "id": "c040b1d5",
   "metadata": {},
   "outputs": [
    {
     "data": {
      "text/plain": [
       "1    31.909738\n",
       "2    26.344086\n",
       "4    22.088445\n",
       "5    11.252461\n",
       "3     8.405270\n",
       "Name: aqi, dtype: float64"
      ]
     },
     "execution_count": 9,
     "metadata": {},
     "output_type": "execute_result"
    }
   ],
   "source": [
    "# Tỉ lệ các lớp trong cột output?\n",
    "air_df['aqi'].value_counts(normalize=True) * 100"
   ]
  },
  {
   "cell_type": "markdown",
   "id": "d84d4d6b",
   "metadata": {},
   "source": [
    "- Cột output đang ở kiểu dạng số, không có giá trị thiếu và tỉ lệ lớp 3 và 5 trong cột output chênh lệch nhiều so với các lớp còn lại, vì vậy hãy lấy random khoảng 40% lớp 1, 2, 4 để các lớp có tỉ lệ gần nhau nhất"
   ]
  },
  {
   "cell_type": "code",
   "execution_count": 10,
   "id": "6fab5353",
   "metadata": {},
   "outputs": [
    {
     "data": {
      "text/html": [
       "<div>\n",
       "<style scoped>\n",
       "    .dataframe tbody tr th:only-of-type {\n",
       "        vertical-align: middle;\n",
       "    }\n",
       "\n",
       "    .dataframe tbody tr th {\n",
       "        vertical-align: top;\n",
       "    }\n",
       "\n",
       "    .dataframe thead th {\n",
       "        text-align: right;\n",
       "    }\n",
       "</style>\n",
       "<table border=\"1\" class=\"dataframe\">\n",
       "  <thead>\n",
       "    <tr style=\"text-align: right;\">\n",
       "      <th></th>\n",
       "      <th>co</th>\n",
       "      <th>no</th>\n",
       "      <th>no2</th>\n",
       "      <th>o3</th>\n",
       "      <th>so2</th>\n",
       "      <th>pm2_5</th>\n",
       "      <th>pm10</th>\n",
       "      <th>nh3</th>\n",
       "      <th>aqi</th>\n",
       "    </tr>\n",
       "  </thead>\n",
       "  <tbody>\n",
       "    <tr>\n",
       "      <th>3076</th>\n",
       "      <td>473.98</td>\n",
       "      <td>0.02</td>\n",
       "      <td>7.20</td>\n",
       "      <td>31.47</td>\n",
       "      <td>2.30</td>\n",
       "      <td>8.63</td>\n",
       "      <td>9.50</td>\n",
       "      <td>1.22</td>\n",
       "      <td>1</td>\n",
       "    </tr>\n",
       "    <tr>\n",
       "      <th>8648</th>\n",
       "      <td>347.14</td>\n",
       "      <td>0.14</td>\n",
       "      <td>1.65</td>\n",
       "      <td>74.39</td>\n",
       "      <td>7.75</td>\n",
       "      <td>8.49</td>\n",
       "      <td>9.23</td>\n",
       "      <td>0.00</td>\n",
       "      <td>1</td>\n",
       "    </tr>\n",
       "    <tr>\n",
       "      <th>5936</th>\n",
       "      <td>370.50</td>\n",
       "      <td>0.01</td>\n",
       "      <td>4.58</td>\n",
       "      <td>11.00</td>\n",
       "      <td>0.81</td>\n",
       "      <td>7.28</td>\n",
       "      <td>9.81</td>\n",
       "      <td>1.39</td>\n",
       "      <td>1</td>\n",
       "    </tr>\n",
       "    <tr>\n",
       "      <th>8952</th>\n",
       "      <td>287.06</td>\n",
       "      <td>0.08</td>\n",
       "      <td>0.96</td>\n",
       "      <td>22.35</td>\n",
       "      <td>0.25</td>\n",
       "      <td>0.72</td>\n",
       "      <td>0.82</td>\n",
       "      <td>0.14</td>\n",
       "      <td>1</td>\n",
       "    </tr>\n",
       "    <tr>\n",
       "      <th>10162</th>\n",
       "      <td>367.17</td>\n",
       "      <td>0.00</td>\n",
       "      <td>1.37</td>\n",
       "      <td>67.95</td>\n",
       "      <td>0.64</td>\n",
       "      <td>6.93</td>\n",
       "      <td>7.07</td>\n",
       "      <td>0.28</td>\n",
       "      <td>1</td>\n",
       "    </tr>\n",
       "    <tr>\n",
       "      <th>...</th>\n",
       "      <td>...</td>\n",
       "      <td>...</td>\n",
       "      <td>...</td>\n",
       "      <td>...</td>\n",
       "      <td>...</td>\n",
       "      <td>...</td>\n",
       "      <td>...</td>\n",
       "      <td>...</td>\n",
       "      <td>...</td>\n",
       "    </tr>\n",
       "    <tr>\n",
       "      <th>13201</th>\n",
       "      <td>2616.88</td>\n",
       "      <td>59.01</td>\n",
       "      <td>30.16</td>\n",
       "      <td>0.00</td>\n",
       "      <td>38.62</td>\n",
       "      <td>138.76</td>\n",
       "      <td>152.62</td>\n",
       "      <td>14.19</td>\n",
       "      <td>5</td>\n",
       "    </tr>\n",
       "    <tr>\n",
       "      <th>13202</th>\n",
       "      <td>2590.18</td>\n",
       "      <td>64.37</td>\n",
       "      <td>29.47</td>\n",
       "      <td>0.00</td>\n",
       "      <td>41.96</td>\n",
       "      <td>144.76</td>\n",
       "      <td>158.74</td>\n",
       "      <td>14.31</td>\n",
       "      <td>5</td>\n",
       "    </tr>\n",
       "    <tr>\n",
       "      <th>13203</th>\n",
       "      <td>2937.32</td>\n",
       "      <td>83.15</td>\n",
       "      <td>33.59</td>\n",
       "      <td>0.00</td>\n",
       "      <td>55.31</td>\n",
       "      <td>174.44</td>\n",
       "      <td>189.82</td>\n",
       "      <td>15.07</td>\n",
       "      <td>5</td>\n",
       "    </tr>\n",
       "    <tr>\n",
       "      <th>13204</th>\n",
       "      <td>3471.37</td>\n",
       "      <td>109.97</td>\n",
       "      <td>42.50</td>\n",
       "      <td>0.00</td>\n",
       "      <td>73.43</td>\n",
       "      <td>219.32</td>\n",
       "      <td>237.25</td>\n",
       "      <td>14.69</td>\n",
       "      <td>5</td>\n",
       "    </tr>\n",
       "    <tr>\n",
       "      <th>13205</th>\n",
       "      <td>3952.03</td>\n",
       "      <td>137.69</td>\n",
       "      <td>45.93</td>\n",
       "      <td>0.00</td>\n",
       "      <td>84.88</td>\n",
       "      <td>265.03</td>\n",
       "      <td>287.16</td>\n",
       "      <td>14.06</td>\n",
       "      <td>5</td>\n",
       "    </tr>\n",
       "  </tbody>\n",
       "</table>\n",
       "<p>6841 rows × 9 columns</p>\n",
       "</div>"
      ],
      "text/plain": [
       "            co      no    no2     o3    so2   pm2_5    pm10    nh3  aqi\n",
       "3076    473.98    0.02   7.20  31.47   2.30    8.63    9.50   1.22    1\n",
       "8648    347.14    0.14   1.65  74.39   7.75    8.49    9.23   0.00    1\n",
       "5936    370.50    0.01   4.58  11.00   0.81    7.28    9.81   1.39    1\n",
       "8952    287.06    0.08   0.96  22.35   0.25    0.72    0.82   0.14    1\n",
       "10162   367.17    0.00   1.37  67.95   0.64    6.93    7.07   0.28    1\n",
       "...        ...     ...    ...    ...    ...     ...     ...    ...  ...\n",
       "13201  2616.88   59.01  30.16   0.00  38.62  138.76  152.62  14.19    5\n",
       "13202  2590.18   64.37  29.47   0.00  41.96  144.76  158.74  14.31    5\n",
       "13203  2937.32   83.15  33.59   0.00  55.31  174.44  189.82  15.07    5\n",
       "13204  3471.37  109.97  42.50   0.00  73.43  219.32  237.25  14.69    5\n",
       "13205  3952.03  137.69  45.93   0.00  84.88  265.03  287.16  14.06    5\n",
       "\n",
       "[6841 rows x 9 columns]"
      ]
     },
     "execution_count": 10,
     "metadata": {},
     "output_type": "execute_result"
    }
   ],
   "source": [
    "aqi_124 = [1, 2, 4]\n",
    "frames = []\n",
    "\n",
    "for aqi in aqi_124:\n",
    "    df = air_df.loc[air_df['aqi'] == aqi]\n",
    "    frames.append(df.sample(frac = 0.4))\n",
    "    \n",
    "aqi_35 = [3, 5]\n",
    "for aqi in aqi_35:\n",
    "    df = air_df.loc[air_df['aqi'] == aqi]\n",
    "    frames.append(df)\n",
    "    \n",
    "air_df_bal = pd.concat(frames)\n",
    "air_df_bal"
   ]
  },
  {
   "cell_type": "markdown",
   "id": "1eedb1bd",
   "metadata": {},
   "source": [
    "- Kiểm tra lại 1 lần nữa tỉ lệ các giá trị ouput"
   ]
  },
  {
   "cell_type": "code",
   "execution_count": 11,
   "id": "7db71d0f",
   "metadata": {},
   "outputs": [
    {
     "data": {
      "text/plain": [
       "1    24.645520\n",
       "5    21.721970\n",
       "2    20.347902\n",
       "4    17.058910\n",
       "3    16.225698\n",
       "Name: aqi, dtype: float64"
      ]
     },
     "execution_count": 11,
     "metadata": {},
     "output_type": "execute_result"
    }
   ],
   "source": [
    "air_df_bal['aqi'].value_counts(normalize=True) * 100"
   ]
  },
  {
   "cell_type": "markdown",
   "id": "9d60600e",
   "metadata": {},
   "source": [
    "## Tiền xử lý (tách các tập)"
   ]
  },
  {
   "cell_type": "code",
   "execution_count": 12,
   "id": "b44ebf8b",
   "metadata": {},
   "outputs": [],
   "source": [
    "# Tách X và y\n",
    "y_sr = air_df_bal[\"aqi\"] # sr là viết tắt của series\n",
    "X_df = air_df_bal.drop(\"aqi\", axis=1)"
   ]
  },
  {
   "cell_type": "code",
   "execution_count": 13,
   "id": "8a8866a9",
   "metadata": {},
   "outputs": [],
   "source": [
    "# Tách tập huấn luyện,tập validation, tập test theo tỉ lệ 70%:20%:10%\n",
    "temp_X_df, test_X_df, temp_y_sr, test_y_sr = \\\n",
    "                              train_test_split(X_df, y_sr, \n",
    "                                               test_size=0.1, \n",
    "                                               stratify=y_sr, \n",
    "                                               random_state=0)\n",
    "train_X_df, val_X_df, train_y_sr, val_y_sr = \\\n",
    "                              train_test_split(temp_X_df, temp_y_sr, \n",
    "                                               test_size=2/9, \n",
    "                                               stratify=temp_y_sr, \n",
    "                                               random_state=0)\n"
   ]
  },
  {
   "cell_type": "code",
   "execution_count": 14,
   "id": "258a0e56",
   "metadata": {},
   "outputs": [
    {
     "data": {
      "text/plain": [
       "(4788, 8)"
      ]
     },
     "execution_count": 14,
     "metadata": {},
     "output_type": "execute_result"
    }
   ],
   "source": [
    "train_X_df.shape"
   ]
  },
  {
   "cell_type": "code",
   "execution_count": 15,
   "id": "635a49af",
   "metadata": {},
   "outputs": [
    {
     "data": {
      "text/plain": [
       "(4788,)"
      ]
     },
     "execution_count": 15,
     "metadata": {},
     "output_type": "execute_result"
    }
   ],
   "source": [
    "train_y_sr.shape"
   ]
  },
  {
   "cell_type": "code",
   "execution_count": 16,
   "id": "c1bcd19c",
   "metadata": {},
   "outputs": [
    {
     "data": {
      "text/plain": [
       "(1368, 8)"
      ]
     },
     "execution_count": 16,
     "metadata": {},
     "output_type": "execute_result"
    }
   ],
   "source": [
    "val_X_df.shape"
   ]
  },
  {
   "cell_type": "code",
   "execution_count": 17,
   "id": "7fbf4d26",
   "metadata": {},
   "outputs": [
    {
     "data": {
      "text/plain": [
       "(1368,)"
      ]
     },
     "execution_count": 17,
     "metadata": {},
     "output_type": "execute_result"
    }
   ],
   "source": [
    "val_y_sr.shape"
   ]
  },
  {
   "cell_type": "code",
   "execution_count": 18,
   "id": "e22e093b",
   "metadata": {},
   "outputs": [
    {
     "data": {
      "text/plain": [
       "(685, 8)"
      ]
     },
     "execution_count": 18,
     "metadata": {},
     "output_type": "execute_result"
    }
   ],
   "source": [
    "test_X_df.shape"
   ]
  },
  {
   "cell_type": "code",
   "execution_count": 19,
   "id": "01ae48e5",
   "metadata": {},
   "outputs": [
    {
     "data": {
      "text/plain": [
       "(685,)"
      ]
     },
     "execution_count": 19,
     "metadata": {},
     "output_type": "execute_result"
    }
   ],
   "source": [
    "test_y_sr.shape"
   ]
  },
  {
   "cell_type": "code",
   "execution_count": 20,
   "id": "d2a32438",
   "metadata": {},
   "outputs": [
    {
     "data": {
      "text/plain": [
       "Int64Index([2967, 8965, 10279, 3778, 8587], dtype='int64')"
      ]
     },
     "execution_count": 20,
     "metadata": {},
     "output_type": "execute_result"
    }
   ],
   "source": [
    "train_X_df.head().index"
   ]
  },
  {
   "cell_type": "markdown",
   "id": "688a7b69",
   "metadata": {},
   "source": [
    "# Khám phá dữ liệu (tập huấn luyện)"
   ]
  },
  {
   "cell_type": "markdown",
   "id": "f2a1fb94",
   "metadata": {},
   "source": [
    "### Mỗi cột input hiện đang có kiểu dữ liệu gì? Có cột nào có kiểu dữ liệu chưa phù hợp để có thể xử lý tiếp không?"
   ]
  },
  {
   "cell_type": "code",
   "execution_count": 21,
   "id": "8706368f",
   "metadata": {},
   "outputs": [
    {
     "data": {
      "text/plain": [
       "co       float64\n",
       "no       float64\n",
       "no2      float64\n",
       "o3       float64\n",
       "so2      float64\n",
       "pm2_5    float64\n",
       "pm10     float64\n",
       "nh3      float64\n",
       "dtype: object"
      ]
     },
     "execution_count": 21,
     "metadata": {},
     "output_type": "execute_result"
    }
   ],
   "source": [
    "train_X_df.dtypes"
   ]
  },
  {
   "cell_type": "markdown",
   "id": "dcf57014",
   "metadata": {},
   "source": [
    "- Các cột đều có dữ liệu phù hợp"
   ]
  },
  {
   "cell_type": "markdown",
   "id": "bceb7639",
   "metadata": {},
   "source": [
    "### Với mỗi cột input có kiểu dữ liệu dạng số, các giá trị được phân bố như thế nào?"
   ]
  },
  {
   "cell_type": "code",
   "execution_count": 22,
   "id": "4f5319ad",
   "metadata": {},
   "outputs": [
    {
     "data": {
      "text/html": [
       "<div>\n",
       "<style scoped>\n",
       "    .dataframe tbody tr th:only-of-type {\n",
       "        vertical-align: middle;\n",
       "    }\n",
       "\n",
       "    .dataframe tbody tr th {\n",
       "        vertical-align: top;\n",
       "    }\n",
       "\n",
       "    .dataframe thead th {\n",
       "        text-align: right;\n",
       "    }\n",
       "</style>\n",
       "<table border=\"1\" class=\"dataframe\">\n",
       "  <thead>\n",
       "    <tr style=\"text-align: right;\">\n",
       "      <th></th>\n",
       "      <th>co</th>\n",
       "      <th>no</th>\n",
       "      <th>no2</th>\n",
       "      <th>o3</th>\n",
       "      <th>so2</th>\n",
       "      <th>pm2_5</th>\n",
       "      <th>pm10</th>\n",
       "      <th>nh3</th>\n",
       "    </tr>\n",
       "  </thead>\n",
       "  <tbody>\n",
       "    <tr>\n",
       "      <th>missing_percentage</th>\n",
       "      <td>0.00</td>\n",
       "      <td>0.00</td>\n",
       "      <td>0.00</td>\n",
       "      <td>0.00</td>\n",
       "      <td>0.00</td>\n",
       "      <td>0.00</td>\n",
       "      <td>0.00</td>\n",
       "      <td>0.00</td>\n",
       "    </tr>\n",
       "    <tr>\n",
       "      <th>min</th>\n",
       "      <td>166.89</td>\n",
       "      <td>0.00</td>\n",
       "      <td>0.19</td>\n",
       "      <td>0.00</td>\n",
       "      <td>0.04</td>\n",
       "      <td>0.50</td>\n",
       "      <td>0.54</td>\n",
       "      <td>0.00</td>\n",
       "    </tr>\n",
       "    <tr>\n",
       "      <th>lower_quartile</th>\n",
       "      <td>377.20</td>\n",
       "      <td>0.00</td>\n",
       "      <td>3.10</td>\n",
       "      <td>8.20</td>\n",
       "      <td>1.10</td>\n",
       "      <td>10.10</td>\n",
       "      <td>12.10</td>\n",
       "      <td>0.90</td>\n",
       "    </tr>\n",
       "    <tr>\n",
       "      <th>median</th>\n",
       "      <td>527.40</td>\n",
       "      <td>0.10</td>\n",
       "      <td>7.20</td>\n",
       "      <td>22.70</td>\n",
       "      <td>3.60</td>\n",
       "      <td>21.30</td>\n",
       "      <td>24.30</td>\n",
       "      <td>2.00</td>\n",
       "    </tr>\n",
       "    <tr>\n",
       "      <th>upper_quartile</th>\n",
       "      <td>821.10</td>\n",
       "      <td>1.00</td>\n",
       "      <td>18.00</td>\n",
       "      <td>42.20</td>\n",
       "      <td>10.80</td>\n",
       "      <td>41.80</td>\n",
       "      <td>47.40</td>\n",
       "      <td>5.00</td>\n",
       "    </tr>\n",
       "    <tr>\n",
       "      <th>max</th>\n",
       "      <td>14953.61</td>\n",
       "      <td>343.32</td>\n",
       "      <td>175.48</td>\n",
       "      <td>223.16</td>\n",
       "      <td>217.44</td>\n",
       "      <td>806.07</td>\n",
       "      <td>833.32</td>\n",
       "      <td>102.34</td>\n",
       "    </tr>\n",
       "  </tbody>\n",
       "</table>\n",
       "</div>"
      ],
      "text/plain": [
       "                          co      no     no2      o3     so2   pm2_5    pm10  \\\n",
       "missing_percentage      0.00    0.00    0.00    0.00    0.00    0.00    0.00   \n",
       "min                   166.89    0.00    0.19    0.00    0.04    0.50    0.54   \n",
       "lower_quartile        377.20    0.00    3.10    8.20    1.10   10.10   12.10   \n",
       "median                527.40    0.10    7.20   22.70    3.60   21.30   24.30   \n",
       "upper_quartile        821.10    1.00   18.00   42.20   10.80   41.80   47.40   \n",
       "max                 14953.61  343.32  175.48  223.16  217.44  806.07  833.32   \n",
       "\n",
       "                       nh3  \n",
       "missing_percentage    0.00  \n",
       "min                   0.00  \n",
       "lower_quartile        0.90  \n",
       "median                2.00  \n",
       "upper_quartile        5.00  \n",
       "max                 102.34  "
      ]
     },
     "execution_count": 22,
     "metadata": {},
     "output_type": "execute_result"
    }
   ],
   "source": [
    "def missing_percentage(c):\n",
    "    return (c.isna().mean() * 100).round(1)\n",
    "def median(c):\n",
    "    return c.quantile(0.5).round(1)\n",
    "def lower_quartile(df):\n",
    "    return df.quantile(0.25).round(1)\n",
    "def upper_quartile(df):\n",
    "    return df.quantile(0.75).round(1)\n",
    "train_X_df.agg([missing_percentage, 'min',lower_quartile, median,upper_quartile, 'max'])"
   ]
  },
  {
   "cell_type": "markdown",
   "id": "437a7bf5",
   "metadata": {},
   "source": [
    "## Tiền xử lý (tập huấn luyện)"
   ]
  },
  {
   "cell_type": "markdown",
   "id": "77e29f71",
   "metadata": {},
   "source": [
    "- Với các cột dạng số, ta sẽ điền giá trị thiếu bằng giá trị mean của cột <font color=gray>(gợi ý: dùng `SimpleImputer` trong Sklearn)</font>. Với *tất cả* các cột dạng số trong tập huấn luyện, ta đều cần tính mean, vì ta không biết được cột nào sẽ bị thiếu giá trị khi dự đoán với các véc-tơ input mới. "
   ]
  },
  {
   "cell_type": "markdown",
   "id": "430eb6dd",
   "metadata": {},
   "source": [
    "- Cuối cùng, khi tất cả các cột đã được điền giá trị thiếu và đã có dạng số, ta sẽ tiến hành chuẩn hóa bằng cách trừ đi mean và chia cho độ lệch chuẩn của cột để giúp cho các thuật toán cực tiểu hóa như Gradient Descent, LBFGS, ... hội tụ nhanh hơn <font color=gray>(gợi ý: dùng `StandardScaler` trong Sklearn)</font>."
   ]
  },
  {
   "cell_type": "code",
   "execution_count": 23,
   "id": "60016329",
   "metadata": {},
   "outputs": [],
   "source": [
    "cols=list(train_X_df.columns)\n",
    "temp=make_column_transformer(\n",
    "        (SimpleImputer(strategy='mean'),cols))\n",
    "preprocess_pipeline=make_pipeline(temp,StandardScaler())\n",
    "preprocessed_train_X=preprocess_pipeline.fit_transform(train_X_df)"
   ]
  },
  {
   "cell_type": "code",
   "execution_count": 24,
   "id": "47e4cc94",
   "metadata": {},
   "outputs": [
    {
     "data": {
      "text/html": [
       "<style>#sk-22d9f68f-a369-407b-9c66-69d4ccd12863 {color: black;background-color: white;}#sk-22d9f68f-a369-407b-9c66-69d4ccd12863 pre{padding: 0;}#sk-22d9f68f-a369-407b-9c66-69d4ccd12863 div.sk-toggleable {background-color: white;}#sk-22d9f68f-a369-407b-9c66-69d4ccd12863 label.sk-toggleable__label {cursor: pointer;display: block;width: 100%;margin-bottom: 0;padding: 0.2em 0.3em;box-sizing: border-box;text-align: center;}#sk-22d9f68f-a369-407b-9c66-69d4ccd12863 div.sk-toggleable__content {max-height: 0;max-width: 0;overflow: hidden;text-align: left;background-color: #f0f8ff;}#sk-22d9f68f-a369-407b-9c66-69d4ccd12863 div.sk-toggleable__content pre {margin: 0.2em;color: black;border-radius: 0.25em;background-color: #f0f8ff;}#sk-22d9f68f-a369-407b-9c66-69d4ccd12863 input.sk-toggleable__control:checked~div.sk-toggleable__content {max-height: 200px;max-width: 100%;overflow: auto;}#sk-22d9f68f-a369-407b-9c66-69d4ccd12863 div.sk-estimator input.sk-toggleable__control:checked~label.sk-toggleable__label {background-color: #d4ebff;}#sk-22d9f68f-a369-407b-9c66-69d4ccd12863 div.sk-label input.sk-toggleable__control:checked~label.sk-toggleable__label {background-color: #d4ebff;}#sk-22d9f68f-a369-407b-9c66-69d4ccd12863 input.sk-hidden--visually {border: 0;clip: rect(1px 1px 1px 1px);clip: rect(1px, 1px, 1px, 1px);height: 1px;margin: -1px;overflow: hidden;padding: 0;position: absolute;width: 1px;}#sk-22d9f68f-a369-407b-9c66-69d4ccd12863 div.sk-estimator {font-family: monospace;background-color: #f0f8ff;margin: 0.25em 0.25em;border: 1px dotted black;border-radius: 0.25em;box-sizing: border-box;}#sk-22d9f68f-a369-407b-9c66-69d4ccd12863 div.sk-estimator:hover {background-color: #d4ebff;}#sk-22d9f68f-a369-407b-9c66-69d4ccd12863 div.sk-parallel-item::after {content: \"\";width: 100%;border-bottom: 1px solid gray;flex-grow: 1;}#sk-22d9f68f-a369-407b-9c66-69d4ccd12863 div.sk-label:hover label.sk-toggleable__label {background-color: #d4ebff;}#sk-22d9f68f-a369-407b-9c66-69d4ccd12863 div.sk-serial::before {content: \"\";position: absolute;border-left: 1px solid gray;box-sizing: border-box;top: 2em;bottom: 0;left: 50%;}#sk-22d9f68f-a369-407b-9c66-69d4ccd12863 div.sk-serial {display: flex;flex-direction: column;align-items: center;background-color: white;}#sk-22d9f68f-a369-407b-9c66-69d4ccd12863 div.sk-item {z-index: 1;}#sk-22d9f68f-a369-407b-9c66-69d4ccd12863 div.sk-parallel {display: flex;align-items: stretch;justify-content: center;background-color: white;}#sk-22d9f68f-a369-407b-9c66-69d4ccd12863 div.sk-parallel-item {display: flex;flex-direction: column;position: relative;background-color: white;}#sk-22d9f68f-a369-407b-9c66-69d4ccd12863 div.sk-parallel-item:first-child::after {align-self: flex-end;width: 50%;}#sk-22d9f68f-a369-407b-9c66-69d4ccd12863 div.sk-parallel-item:last-child::after {align-self: flex-start;width: 50%;}#sk-22d9f68f-a369-407b-9c66-69d4ccd12863 div.sk-parallel-item:only-child::after {width: 0;}#sk-22d9f68f-a369-407b-9c66-69d4ccd12863 div.sk-dashed-wrapped {border: 1px dashed gray;margin: 0.2em;box-sizing: border-box;padding-bottom: 0.1em;background-color: white;position: relative;}#sk-22d9f68f-a369-407b-9c66-69d4ccd12863 div.sk-label label {font-family: monospace;font-weight: bold;background-color: white;display: inline-block;line-height: 1.2em;}#sk-22d9f68f-a369-407b-9c66-69d4ccd12863 div.sk-label-container {position: relative;z-index: 2;text-align: center;}#sk-22d9f68f-a369-407b-9c66-69d4ccd12863 div.sk-container {display: inline-block;position: relative;}</style><div id=\"sk-22d9f68f-a369-407b-9c66-69d4ccd12863\" class\"sk-top-container\"><div class=\"sk-container\"><div class=\"sk-item sk-dashed-wrapped\"><div class=\"sk-label-container\"><div class=\"sk-label sk-toggleable\"><input class=\"sk-toggleable__control sk-hidden--visually\" id=\"089a2f60-0a14-4502-ae01-f27bb7262169\" type=\"checkbox\" ><label class=\"sk-toggleable__label\" for=\"089a2f60-0a14-4502-ae01-f27bb7262169\">Pipeline</label><div class=\"sk-toggleable__content\"><pre>Pipeline(steps=[('columntransformer',\n",
       "                 ColumnTransformer(transformers=[('simpleimputer',\n",
       "                                                  SimpleImputer(),\n",
       "                                                  ['co', 'no', 'no2', 'o3',\n",
       "                                                   'so2', 'pm2_5', 'pm10',\n",
       "                                                   'nh3'])])),\n",
       "                ('standardscaler', StandardScaler())])</pre></div></div></div><div class=\"sk-serial\"><div class=\"sk-item sk-dashed-wrapped\"><div class=\"sk-label-container\"><div class=\"sk-label sk-toggleable\"><input class=\"sk-toggleable__control sk-hidden--visually\" id=\"be8806db-c105-4e49-ab2c-3e4d794f765b\" type=\"checkbox\" ><label class=\"sk-toggleable__label\" for=\"be8806db-c105-4e49-ab2c-3e4d794f765b\">columntransformer: ColumnTransformer</label><div class=\"sk-toggleable__content\"><pre>ColumnTransformer(transformers=[('simpleimputer', SimpleImputer(),\n",
       "                                 ['co', 'no', 'no2', 'o3', 'so2', 'pm2_5',\n",
       "                                  'pm10', 'nh3'])])</pre></div></div></div><div class=\"sk-parallel\"><div class=\"sk-parallel-item\"><div class=\"sk-item\"><div class=\"sk-label-container\"><div class=\"sk-label sk-toggleable\"><input class=\"sk-toggleable__control sk-hidden--visually\" id=\"c0b8163b-68bd-4c51-b4a5-dd215e3805db\" type=\"checkbox\" ><label class=\"sk-toggleable__label\" for=\"c0b8163b-68bd-4c51-b4a5-dd215e3805db\">simpleimputer</label><div class=\"sk-toggleable__content\"><pre>['co', 'no', 'no2', 'o3', 'so2', 'pm2_5', 'pm10', 'nh3']</pre></div></div></div><div class=\"sk-serial\"><div class=\"sk-item\"><div class=\"sk-estimator sk-toggleable\"><input class=\"sk-toggleable__control sk-hidden--visually\" id=\"d28f757d-ee26-4de2-9986-bfcf87ecde88\" type=\"checkbox\" ><label class=\"sk-toggleable__label\" for=\"d28f757d-ee26-4de2-9986-bfcf87ecde88\">SimpleImputer</label><div class=\"sk-toggleable__content\"><pre>SimpleImputer()</pre></div></div></div></div></div></div></div></div><div class=\"sk-item\"><div class=\"sk-estimator sk-toggleable\"><input class=\"sk-toggleable__control sk-hidden--visually\" id=\"cd311278-97a9-4400-b98f-ed4c16cbe242\" type=\"checkbox\" ><label class=\"sk-toggleable__label\" for=\"cd311278-97a9-4400-b98f-ed4c16cbe242\">StandardScaler</label><div class=\"sk-toggleable__content\"><pre>StandardScaler()</pre></div></div></div></div></div></div></div>"
      ],
      "text/plain": [
       "Pipeline(steps=[('columntransformer',\n",
       "                 ColumnTransformer(transformers=[('simpleimputer',\n",
       "                                                  SimpleImputer(),\n",
       "                                                  ['co', 'no', 'no2', 'o3',\n",
       "                                                   'so2', 'pm2_5', 'pm10',\n",
       "                                                   'nh3'])])),\n",
       "                ('standardscaler', StandardScaler())])"
      ]
     },
     "execution_count": 24,
     "metadata": {},
     "output_type": "execute_result"
    }
   ],
   "source": [
    "preprocess_pipeline"
   ]
  },
  {
   "cell_type": "markdown",
   "id": "7d8c55d7",
   "metadata": {},
   "source": [
    "## Tiền xử lý (tập validation)"
   ]
  },
  {
   "cell_type": "code",
   "execution_count": 25,
   "id": "d9dcd584",
   "metadata": {},
   "outputs": [
    {
     "data": {
      "text/plain": [
       "(1368, 8)"
      ]
     },
     "execution_count": 25,
     "metadata": {},
     "output_type": "execute_result"
    }
   ],
   "source": [
    "preprocessed_val_X=preprocess_pipeline.transform(val_X_df)\n",
    "preprocessed_val_X.shape"
   ]
  },
  {
   "cell_type": "markdown",
   "id": "c3243b62",
   "metadata": {},
   "source": [
    "## Tiền xử lý + mô hình hóa"
   ]
  },
  {
   "cell_type": "markdown",
   "id": "806e4eb7",
   "metadata": {},
   "source": [
    "### Mô hình MLP- Classifier"
   ]
  },
  {
   "cell_type": "code",
   "execution_count": 26,
   "id": "77bdf5d1",
   "metadata": {},
   "outputs": [
    {
     "data": {
      "text/plain": [
       "'Finish!'"
      ]
     },
     "execution_count": 26,
     "metadata": {},
     "output_type": "execute_result"
    }
   ],
   "source": [
    "neural_net_model = MLPClassifier(hidden_layer_sizes=(20,), activation='relu',\\\n",
    "                                 solver = 'adam', random_state = 0, max_iter = 590)\n",
    "\n",
    "full_pipeline = make_pipeline(preprocess_pipeline, neural_net_model)\n",
    "\n",
    "# Thử nghiệm với các giá trị khác nhau của các siêu tham số\n",
    "# và chọn ra các giá trị tốt nhất\n",
    "train_errs = []\n",
    "val_errs = []\n",
    "alphas = [0.01, 0.1, 0.5, 1, 10]\n",
    "best_val_err = float('inf')\n",
    "best_alpha = None\n",
    "for alpha in alphas:\n",
    "    full_pipeline.set_params(mlpclassifier__alpha = alpha)\n",
    "\n",
    "    full_pipeline.fit(train_X_df, train_y_sr)\n",
    "    train_errs.append((1 - full_pipeline.score(train_X_df, train_y_sr)) * 100)\n",
    "    val_errs.append((1 - full_pipeline.score(val_X_df, val_y_sr)) * 100)\n",
    "\n",
    "best_val_err = min(val_errs)\n",
    "index = val_errs.index(min(val_errs))\n",
    "best_alpha = alphas[index]\n",
    "\n",
    "'Finish!'"
   ]
  },
  {
   "cell_type": "code",
   "execution_count": 27,
   "id": "7514e490",
   "metadata": {},
   "outputs": [
    {
     "data": {
      "text/html": [
       "<style>#sk-a19f606c-2158-44df-8bb9-12203db1d99d {color: black;background-color: white;}#sk-a19f606c-2158-44df-8bb9-12203db1d99d pre{padding: 0;}#sk-a19f606c-2158-44df-8bb9-12203db1d99d div.sk-toggleable {background-color: white;}#sk-a19f606c-2158-44df-8bb9-12203db1d99d label.sk-toggleable__label {cursor: pointer;display: block;width: 100%;margin-bottom: 0;padding: 0.2em 0.3em;box-sizing: border-box;text-align: center;}#sk-a19f606c-2158-44df-8bb9-12203db1d99d div.sk-toggleable__content {max-height: 0;max-width: 0;overflow: hidden;text-align: left;background-color: #f0f8ff;}#sk-a19f606c-2158-44df-8bb9-12203db1d99d div.sk-toggleable__content pre {margin: 0.2em;color: black;border-radius: 0.25em;background-color: #f0f8ff;}#sk-a19f606c-2158-44df-8bb9-12203db1d99d input.sk-toggleable__control:checked~div.sk-toggleable__content {max-height: 200px;max-width: 100%;overflow: auto;}#sk-a19f606c-2158-44df-8bb9-12203db1d99d div.sk-estimator input.sk-toggleable__control:checked~label.sk-toggleable__label {background-color: #d4ebff;}#sk-a19f606c-2158-44df-8bb9-12203db1d99d div.sk-label input.sk-toggleable__control:checked~label.sk-toggleable__label {background-color: #d4ebff;}#sk-a19f606c-2158-44df-8bb9-12203db1d99d input.sk-hidden--visually {border: 0;clip: rect(1px 1px 1px 1px);clip: rect(1px, 1px, 1px, 1px);height: 1px;margin: -1px;overflow: hidden;padding: 0;position: absolute;width: 1px;}#sk-a19f606c-2158-44df-8bb9-12203db1d99d div.sk-estimator {font-family: monospace;background-color: #f0f8ff;margin: 0.25em 0.25em;border: 1px dotted black;border-radius: 0.25em;box-sizing: border-box;}#sk-a19f606c-2158-44df-8bb9-12203db1d99d div.sk-estimator:hover {background-color: #d4ebff;}#sk-a19f606c-2158-44df-8bb9-12203db1d99d div.sk-parallel-item::after {content: \"\";width: 100%;border-bottom: 1px solid gray;flex-grow: 1;}#sk-a19f606c-2158-44df-8bb9-12203db1d99d div.sk-label:hover label.sk-toggleable__label {background-color: #d4ebff;}#sk-a19f606c-2158-44df-8bb9-12203db1d99d div.sk-serial::before {content: \"\";position: absolute;border-left: 1px solid gray;box-sizing: border-box;top: 2em;bottom: 0;left: 50%;}#sk-a19f606c-2158-44df-8bb9-12203db1d99d div.sk-serial {display: flex;flex-direction: column;align-items: center;background-color: white;}#sk-a19f606c-2158-44df-8bb9-12203db1d99d div.sk-item {z-index: 1;}#sk-a19f606c-2158-44df-8bb9-12203db1d99d div.sk-parallel {display: flex;align-items: stretch;justify-content: center;background-color: white;}#sk-a19f606c-2158-44df-8bb9-12203db1d99d div.sk-parallel-item {display: flex;flex-direction: column;position: relative;background-color: white;}#sk-a19f606c-2158-44df-8bb9-12203db1d99d div.sk-parallel-item:first-child::after {align-self: flex-end;width: 50%;}#sk-a19f606c-2158-44df-8bb9-12203db1d99d div.sk-parallel-item:last-child::after {align-self: flex-start;width: 50%;}#sk-a19f606c-2158-44df-8bb9-12203db1d99d div.sk-parallel-item:only-child::after {width: 0;}#sk-a19f606c-2158-44df-8bb9-12203db1d99d div.sk-dashed-wrapped {border: 1px dashed gray;margin: 0.2em;box-sizing: border-box;padding-bottom: 0.1em;background-color: white;position: relative;}#sk-a19f606c-2158-44df-8bb9-12203db1d99d div.sk-label label {font-family: monospace;font-weight: bold;background-color: white;display: inline-block;line-height: 1.2em;}#sk-a19f606c-2158-44df-8bb9-12203db1d99d div.sk-label-container {position: relative;z-index: 2;text-align: center;}#sk-a19f606c-2158-44df-8bb9-12203db1d99d div.sk-container {display: inline-block;position: relative;}</style><div id=\"sk-a19f606c-2158-44df-8bb9-12203db1d99d\" class\"sk-top-container\"><div class=\"sk-container\"><div class=\"sk-item sk-dashed-wrapped\"><div class=\"sk-label-container\"><div class=\"sk-label sk-toggleable\"><input class=\"sk-toggleable__control sk-hidden--visually\" id=\"657e630f-7cb0-40c0-9834-f220e9fb11cc\" type=\"checkbox\" ><label class=\"sk-toggleable__label\" for=\"657e630f-7cb0-40c0-9834-f220e9fb11cc\">Pipeline</label><div class=\"sk-toggleable__content\"><pre>Pipeline(steps=[('pipeline',\n",
       "                 Pipeline(steps=[('columntransformer',\n",
       "                                  ColumnTransformer(transformers=[('simpleimputer',\n",
       "                                                                   SimpleImputer(),\n",
       "                                                                   ['co', 'no',\n",
       "                                                                    'no2', 'o3',\n",
       "                                                                    'so2',\n",
       "                                                                    'pm2_5',\n",
       "                                                                    'pm10',\n",
       "                                                                    'nh3'])])),\n",
       "                                 ('standardscaler', StandardScaler())])),\n",
       "                ('mlpclassifier',\n",
       "                 MLPClassifier(alpha=10, hidden_layer_sizes=(20,), max_iter=590,\n",
       "                               random_state=0))])</pre></div></div></div><div class=\"sk-serial\"><div class=\"sk-item\"><div class=\"sk-label-container\"><div class=\"sk-label sk-toggleable\"><input class=\"sk-toggleable__control sk-hidden--visually\" id=\"8b5589ab-ebd0-42ed-aeb3-1850ea718459\" type=\"checkbox\" ><label class=\"sk-toggleable__label\" for=\"8b5589ab-ebd0-42ed-aeb3-1850ea718459\">pipeline: Pipeline</label><div class=\"sk-toggleable__content\"><pre>Pipeline(steps=[('columntransformer',\n",
       "                 ColumnTransformer(transformers=[('simpleimputer',\n",
       "                                                  SimpleImputer(),\n",
       "                                                  ['co', 'no', 'no2', 'o3',\n",
       "                                                   'so2', 'pm2_5', 'pm10',\n",
       "                                                   'nh3'])])),\n",
       "                ('standardscaler', StandardScaler())])</pre></div></div></div><div class=\"sk-serial\"><div class=\"sk-item sk-dashed-wrapped\"><div class=\"sk-label-container\"><div class=\"sk-label sk-toggleable\"><input class=\"sk-toggleable__control sk-hidden--visually\" id=\"0f644ae9-440b-42ca-b14c-efcb3a1ca466\" type=\"checkbox\" ><label class=\"sk-toggleable__label\" for=\"0f644ae9-440b-42ca-b14c-efcb3a1ca466\">columntransformer: ColumnTransformer</label><div class=\"sk-toggleable__content\"><pre>ColumnTransformer(transformers=[('simpleimputer', SimpleImputer(),\n",
       "                                 ['co', 'no', 'no2', 'o3', 'so2', 'pm2_5',\n",
       "                                  'pm10', 'nh3'])])</pre></div></div></div><div class=\"sk-parallel\"><div class=\"sk-parallel-item\"><div class=\"sk-item\"><div class=\"sk-label-container\"><div class=\"sk-label sk-toggleable\"><input class=\"sk-toggleable__control sk-hidden--visually\" id=\"8d25e20c-91f0-46bd-a762-ea03e144a161\" type=\"checkbox\" ><label class=\"sk-toggleable__label\" for=\"8d25e20c-91f0-46bd-a762-ea03e144a161\">simpleimputer</label><div class=\"sk-toggleable__content\"><pre>['co', 'no', 'no2', 'o3', 'so2', 'pm2_5', 'pm10', 'nh3']</pre></div></div></div><div class=\"sk-serial\"><div class=\"sk-item\"><div class=\"sk-estimator sk-toggleable\"><input class=\"sk-toggleable__control sk-hidden--visually\" id=\"a7b135a4-64d5-4aed-ad26-f1b8559dedf3\" type=\"checkbox\" ><label class=\"sk-toggleable__label\" for=\"a7b135a4-64d5-4aed-ad26-f1b8559dedf3\">SimpleImputer</label><div class=\"sk-toggleable__content\"><pre>SimpleImputer()</pre></div></div></div></div></div></div></div></div><div class=\"sk-item\"><div class=\"sk-estimator sk-toggleable\"><input class=\"sk-toggleable__control sk-hidden--visually\" id=\"d2952c0e-6534-4890-925e-d3f5d300c974\" type=\"checkbox\" ><label class=\"sk-toggleable__label\" for=\"d2952c0e-6534-4890-925e-d3f5d300c974\">StandardScaler</label><div class=\"sk-toggleable__content\"><pre>StandardScaler()</pre></div></div></div></div></div><div class=\"sk-item\"><div class=\"sk-estimator sk-toggleable\"><input class=\"sk-toggleable__control sk-hidden--visually\" id=\"dd15899b-0f5b-404c-8b45-f5bd7ca00a7e\" type=\"checkbox\" ><label class=\"sk-toggleable__label\" for=\"dd15899b-0f5b-404c-8b45-f5bd7ca00a7e\">MLPClassifier</label><div class=\"sk-toggleable__content\"><pre>MLPClassifier(alpha=10, hidden_layer_sizes=(20,), max_iter=590, random_state=0)</pre></div></div></div></div></div></div></div>"
      ],
      "text/plain": [
       "Pipeline(steps=[('pipeline',\n",
       "                 Pipeline(steps=[('columntransformer',\n",
       "                                  ColumnTransformer(transformers=[('simpleimputer',\n",
       "                                                                   SimpleImputer(),\n",
       "                                                                   ['co', 'no',\n",
       "                                                                    'no2', 'o3',\n",
       "                                                                    'so2',\n",
       "                                                                    'pm2_5',\n",
       "                                                                    'pm10',\n",
       "                                                                    'nh3'])])),\n",
       "                                 ('standardscaler', StandardScaler())])),\n",
       "                ('mlpclassifier',\n",
       "                 MLPClassifier(alpha=10, hidden_layer_sizes=(20,), max_iter=590,\n",
       "                               random_state=0))])"
      ]
     },
     "execution_count": 27,
     "metadata": {},
     "output_type": "execute_result"
    }
   ],
   "source": [
    "full_pipeline"
   ]
  },
  {
   "cell_type": "markdown",
   "id": "c770642d",
   "metadata": {},
   "source": [
    "#### Độ lỗi trên tập train"
   ]
  },
  {
   "cell_type": "code",
   "execution_count": 28,
   "id": "106cc871",
   "metadata": {},
   "outputs": [
    {
     "data": {
      "text/plain": [
       "Text(0, 0.5, 'alpha')"
      ]
     },
     "execution_count": 28,
     "metadata": {},
     "output_type": "execute_result"
    },
    {
     "data": {
      "image/png": "[encoded data removed]",
      "text/plain": [
       "<Figure size 432x288 with 1 Axes>"
      ]
     },
     "metadata": {
      "needs_background": "light"
     },
     "output_type": "display_data"
    }
   ],
   "source": [
    "ax = pd.Series(train_errs, index = alphas).plot.barh()\n",
    "ax.set_xlabel('Độ lỗi trên tập train (%)')\n",
    "ax.set_ylabel('alpha')"
   ]
  },
  {
   "cell_type": "markdown",
   "id": "518782dc",
   "metadata": {},
   "source": [
    "#### Độ lỗi trên tập valid"
   ]
  },
  {
   "cell_type": "code",
   "execution_count": 29,
   "id": "f93c5bf5",
   "metadata": {},
   "outputs": [
    {
     "data": {
      "text/plain": [
       "Text(0, 0.5, 'alpha')"
      ]
     },
     "execution_count": 29,
     "metadata": {},
     "output_type": "execute_result"
    },
    {
     "data": {
      "image/png": "[encoded data removed]",
      "text/plain": [
       "<Figure size 432x288 with 1 Axes>"
      ]
     },
     "metadata": {
      "needs_background": "light"
     },
     "output_type": "display_data"
    }
   ],
   "source": [
    "bx = pd.Series(val_errs, index = alphas).plot.barh()\n",
    "bx.set_xlabel('Độ lỗi trên tập valid (%)')\n",
    "bx.set_ylabel('alpha')"
   ]
  },
  {
   "cell_type": "markdown",
   "id": "f1b07afd",
   "metadata": {},
   "source": [
    "#### Độ lỗi nhỏ nhất trên tập valid và alpha tốt nhất"
   ]
  },
  {
   "cell_type": "code",
   "execution_count": 30,
   "id": "727befbe",
   "metadata": {},
   "outputs": [
    {
     "name": "stdout",
     "output_type": "stream",
     "text": [
      "Best valid err:  2.41 %\n",
      "\n",
      "Best alpha:  0.01\n"
     ]
    }
   ],
   "source": [
    "print('Best valid err: ', best_val_err.round(2), '%')\n",
    "print()\n",
    "print('Best alpha: ',best_alpha)"
   ]
  },
  {
   "cell_type": "markdown",
   "id": "e07ea1ea",
   "metadata": {},
   "source": [
    "Cuối cùng, huấn luyện lại `full_pipeline` trên `X_df` và `y_sr` (tập huấn luyện + tập validation) với `best_alpha` tìm được ở trên để ra được mô hình cụ thể cuối cùng."
   ]
  },
  {
   "cell_type": "code",
   "execution_count": 31,
   "id": "83d7133f",
   "metadata": {},
   "outputs": [
    {
     "data": {
      "text/html": [
       "<style>#sk-917ce141-8e68-44df-a83d-93a04c51073d {color: black;background-color: white;}#sk-917ce141-8e68-44df-a83d-93a04c51073d pre{padding: 0;}#sk-917ce141-8e68-44df-a83d-93a04c51073d div.sk-toggleable {background-color: white;}#sk-917ce141-8e68-44df-a83d-93a04c51073d label.sk-toggleable__label {cursor: pointer;display: block;width: 100%;margin-bottom: 0;padding: 0.2em 0.3em;box-sizing: border-box;text-align: center;}#sk-917ce141-8e68-44df-a83d-93a04c51073d div.sk-toggleable__content {max-height: 0;max-width: 0;overflow: hidden;text-align: left;background-color: #f0f8ff;}#sk-917ce141-8e68-44df-a83d-93a04c51073d div.sk-toggleable__content pre {margin: 0.2em;color: black;border-radius: 0.25em;background-color: #f0f8ff;}#sk-917ce141-8e68-44df-a83d-93a04c51073d input.sk-toggleable__control:checked~div.sk-toggleable__content {max-height: 200px;max-width: 100%;overflow: auto;}#sk-917ce141-8e68-44df-a83d-93a04c51073d div.sk-estimator input.sk-toggleable__control:checked~label.sk-toggleable__label {background-color: #d4ebff;}#sk-917ce141-8e68-44df-a83d-93a04c51073d div.sk-label input.sk-toggleable__control:checked~label.sk-toggleable__label {background-color: #d4ebff;}#sk-917ce141-8e68-44df-a83d-93a04c51073d input.sk-hidden--visually {border: 0;clip: rect(1px 1px 1px 1px);clip: rect(1px, 1px, 1px, 1px);height: 1px;margin: -1px;overflow: hidden;padding: 0;position: absolute;width: 1px;}#sk-917ce141-8e68-44df-a83d-93a04c51073d div.sk-estimator {font-family: monospace;background-color: #f0f8ff;margin: 0.25em 0.25em;border: 1px dotted black;border-radius: 0.25em;box-sizing: border-box;}#sk-917ce141-8e68-44df-a83d-93a04c51073d div.sk-estimator:hover {background-color: #d4ebff;}#sk-917ce141-8e68-44df-a83d-93a04c51073d div.sk-parallel-item::after {content: \"\";width: 100%;border-bottom: 1px solid gray;flex-grow: 1;}#sk-917ce141-8e68-44df-a83d-93a04c51073d div.sk-label:hover label.sk-toggleable__label {background-color: #d4ebff;}#sk-917ce141-8e68-44df-a83d-93a04c51073d div.sk-serial::before {content: \"\";position: absolute;border-left: 1px solid gray;box-sizing: border-box;top: 2em;bottom: 0;left: 50%;}#sk-917ce141-8e68-44df-a83d-93a04c51073d div.sk-serial {display: flex;flex-direction: column;align-items: center;background-color: white;}#sk-917ce141-8e68-44df-a83d-93a04c51073d div.sk-item {z-index: 1;}#sk-917ce141-8e68-44df-a83d-93a04c51073d div.sk-parallel {display: flex;align-items: stretch;justify-content: center;background-color: white;}#sk-917ce141-8e68-44df-a83d-93a04c51073d div.sk-parallel-item {display: flex;flex-direction: column;position: relative;background-color: white;}#sk-917ce141-8e68-44df-a83d-93a04c51073d div.sk-parallel-item:first-child::after {align-self: flex-end;width: 50%;}#sk-917ce141-8e68-44df-a83d-93a04c51073d div.sk-parallel-item:last-child::after {align-self: flex-start;width: 50%;}#sk-917ce141-8e68-44df-a83d-93a04c51073d div.sk-parallel-item:only-child::after {width: 0;}#sk-917ce141-8e68-44df-a83d-93a04c51073d div.sk-dashed-wrapped {border: 1px dashed gray;margin: 0.2em;box-sizing: border-box;padding-bottom: 0.1em;background-color: white;position: relative;}#sk-917ce141-8e68-44df-a83d-93a04c51073d div.sk-label label {font-family: monospace;font-weight: bold;background-color: white;display: inline-block;line-height: 1.2em;}#sk-917ce141-8e68-44df-a83d-93a04c51073d div.sk-label-container {position: relative;z-index: 2;text-align: center;}#sk-917ce141-8e68-44df-a83d-93a04c51073d div.sk-container {display: inline-block;position: relative;}</style><div id=\"sk-917ce141-8e68-44df-a83d-93a04c51073d\" class\"sk-top-container\"><div class=\"sk-container\"><div class=\"sk-item sk-dashed-wrapped\"><div class=\"sk-label-container\"><div class=\"sk-label sk-toggleable\"><input class=\"sk-toggleable__control sk-hidden--visually\" id=\"316e1b20-a01b-4bf0-9c2d-6eb93445fe69\" type=\"checkbox\" ><label class=\"sk-toggleable__label\" for=\"316e1b20-a01b-4bf0-9c2d-6eb93445fe69\">Pipeline</label><div class=\"sk-toggleable__content\"><pre>Pipeline(steps=[('pipeline',\n",
       "                 Pipeline(steps=[('columntransformer',\n",
       "                                  ColumnTransformer(transformers=[('simpleimputer',\n",
       "                                                                   SimpleImputer(),\n",
       "                                                                   ['co', 'no',\n",
       "                                                                    'no2', 'o3',\n",
       "                                                                    'so2',\n",
       "                                                                    'pm2_5',\n",
       "                                                                    'pm10',\n",
       "                                                                    'nh3'])])),\n",
       "                                 ('standardscaler', StandardScaler())])),\n",
       "                ('mlpclassifier',\n",
       "                 MLPClassifier(alpha=0.01, hidden_layer_sizes=(20,),\n",
       "                               max_iter=590, random_state=0))])</pre></div></div></div><div class=\"sk-serial\"><div class=\"sk-item\"><div class=\"sk-label-container\"><div class=\"sk-label sk-toggleable\"><input class=\"sk-toggleable__control sk-hidden--visually\" id=\"91689519-28c1-40c0-a0a0-1d42a1aecd75\" type=\"checkbox\" ><label class=\"sk-toggleable__label\" for=\"91689519-28c1-40c0-a0a0-1d42a1aecd75\">pipeline: Pipeline</label><div class=\"sk-toggleable__content\"><pre>Pipeline(steps=[('columntransformer',\n",
       "                 ColumnTransformer(transformers=[('simpleimputer',\n",
       "                                                  SimpleImputer(),\n",
       "                                                  ['co', 'no', 'no2', 'o3',\n",
       "                                                   'so2', 'pm2_5', 'pm10',\n",
       "                                                   'nh3'])])),\n",
       "                ('standardscaler', StandardScaler())])</pre></div></div></div><div class=\"sk-serial\"><div class=\"sk-item sk-dashed-wrapped\"><div class=\"sk-label-container\"><div class=\"sk-label sk-toggleable\"><input class=\"sk-toggleable__control sk-hidden--visually\" id=\"a7dc227f-a9e0-43ac-8e57-e9ace73b658f\" type=\"checkbox\" ><label class=\"sk-toggleable__label\" for=\"a7dc227f-a9e0-43ac-8e57-e9ace73b658f\">columntransformer: ColumnTransformer</label><div class=\"sk-toggleable__content\"><pre>ColumnTransformer(transformers=[('simpleimputer', SimpleImputer(),\n",
       "                                 ['co', 'no', 'no2', 'o3', 'so2', 'pm2_5',\n",
       "                                  'pm10', 'nh3'])])</pre></div></div></div><div class=\"sk-parallel\"><div class=\"sk-parallel-item\"><div class=\"sk-item\"><div class=\"sk-label-container\"><div class=\"sk-label sk-toggleable\"><input class=\"sk-toggleable__control sk-hidden--visually\" id=\"2b20dd5f-a524-4265-863d-7e259a143041\" type=\"checkbox\" ><label class=\"sk-toggleable__label\" for=\"2b20dd5f-a524-4265-863d-7e259a143041\">simpleimputer</label><div class=\"sk-toggleable__content\"><pre>['co', 'no', 'no2', 'o3', 'so2', 'pm2_5', 'pm10', 'nh3']</pre></div></div></div><div class=\"sk-serial\"><div class=\"sk-item\"><div class=\"sk-estimator sk-toggleable\"><input class=\"sk-toggleable__control sk-hidden--visually\" id=\"3b5be309-a08e-49a4-9752-677cc53d5894\" type=\"checkbox\" ><label class=\"sk-toggleable__label\" for=\"3b5be309-a08e-49a4-9752-677cc53d5894\">SimpleImputer</label><div class=\"sk-toggleable__content\"><pre>SimpleImputer()</pre></div></div></div></div></div></div></div></div><div class=\"sk-item\"><div class=\"sk-estimator sk-toggleable\"><input class=\"sk-toggleable__control sk-hidden--visually\" id=\"44707b4f-e8ec-4071-883f-43805c55b4e6\" type=\"checkbox\" ><label class=\"sk-toggleable__label\" for=\"44707b4f-e8ec-4071-883f-43805c55b4e6\">StandardScaler</label><div class=\"sk-toggleable__content\"><pre>StandardScaler()</pre></div></div></div></div></div><div class=\"sk-item\"><div class=\"sk-estimator sk-toggleable\"><input class=\"sk-toggleable__control sk-hidden--visually\" id=\"7165197f-adcc-4094-93dd-7e73b9601d4d\" type=\"checkbox\" ><label class=\"sk-toggleable__label\" for=\"7165197f-adcc-4094-93dd-7e73b9601d4d\">MLPClassifier</label><div class=\"sk-toggleable__content\"><pre>MLPClassifier(alpha=0.01, hidden_layer_sizes=(20,), max_iter=590,\n",
       "              random_state=0)</pre></div></div></div></div></div></div></div>"
      ],
      "text/plain": [
       "Pipeline(steps=[('pipeline',\n",
       "                 Pipeline(steps=[('columntransformer',\n",
       "                                  ColumnTransformer(transformers=[('simpleimputer',\n",
       "                                                                   SimpleImputer(),\n",
       "                                                                   ['co', 'no',\n",
       "                                                                    'no2', 'o3',\n",
       "                                                                    'so2',\n",
       "                                                                    'pm2_5',\n",
       "                                                                    'pm10',\n",
       "                                                                    'nh3'])])),\n",
       "                                 ('standardscaler', StandardScaler())])),\n",
       "                ('mlpclassifier',\n",
       "                 MLPClassifier(alpha=0.01, hidden_layer_sizes=(20,),\n",
       "                               max_iter=590, random_state=0))])"
      ]
     },
     "execution_count": 31,
     "metadata": {},
     "output_type": "execute_result"
    }
   ],
   "source": [
    "full_pipeline.set_params(mlpclassifier__alpha = best_alpha)\n",
    "\n",
    "full_pipeline.fit(temp_X_df, temp_y_sr)"
   ]
  },
  {
   "cell_type": "code",
   "execution_count": 32,
   "id": "a0476d5e",
   "metadata": {},
   "outputs": [],
   "source": [
    "errors_temp=[]\n",
    "errors_test=[]"
   ]
  },
  {
   "cell_type": "markdown",
   "id": "0f80ce22",
   "metadata": {},
   "source": [
    "### Đánh giá mô hình tìm được:\n",
    "Đánh giá mô hình tìm được với test data"
   ]
  },
  {
   "cell_type": "code",
   "execution_count": 33,
   "id": "ed9ecde1",
   "metadata": {},
   "outputs": [
    {
     "name": "stdout",
     "output_type": "stream",
     "text": [
      "Error with train+val data:  1.61 %\n"
     ]
    }
   ],
   "source": [
    "#Độ lỗi trên tập (train+validation)\n",
    "err = ((1-full_pipeline.score(temp_X_df, temp_y_sr)) * 100).round(2)\n",
    "errors_temp.append(err)\n",
    "print('Error with train+val data: ', err, '%')"
   ]
  },
  {
   "cell_type": "code",
   "execution_count": 34,
   "id": "0b4c6b1d",
   "metadata": {},
   "outputs": [
    {
     "name": "stdout",
     "output_type": "stream",
     "text": [
      "Error with test data:  2.63 %\n"
     ]
    }
   ],
   "source": [
    "#Độ lỗi ngoài tập huấn luyện\n",
    "err = ((1-full_pipeline.score(test_X_df, test_y_sr)) * 100).round(2)\n",
    "errors_test.append(err)\n",
    "print('Error with test data: ', err, '%')"
   ]
  },
  {
   "cell_type": "markdown",
   "id": "2bb861ae",
   "metadata": {},
   "source": [
    "### Nhận xét\n",
    "- Mô hình MLP-Classifier fit khá tốt trên tập dữ liệu<br/>\n",
    "- Độ lỗi trên tập valid tỉ lệ thuận với alpha trên cả tập train và tập test<br/>"
   ]
  },
  {
   "cell_type": "markdown",
   "id": "e66ef951",
   "metadata": {},
   "source": [
    "### Mô hình Softmax Regression"
   ]
  },
  {
   "cell_type": "code",
   "execution_count": 35,
   "id": "65dda082",
   "metadata": {},
   "outputs": [
    {
     "name": "stderr",
     "output_type": "stream",
     "text": [
      "/home/lts/miniconda3/envs/min_ds-env/lib/python3.8/site-packages/sklearn/linear_model/_logistic.py:763: ConvergenceWarning: lbfgs failed to converge (status=1):\n",
      "STOP: TOTAL NO. of ITERATIONS REACHED LIMIT.\n",
      "\n",
      "Increase the number of iterations (max_iter) or scale the data as shown in:\n",
      "    https://scikit-learn.org/stable/modules/preprocessing.html\n",
      "Please also refer to the documentation for alternative solver options:\n",
      "    https://scikit-learn.org/stable/modules/linear_model.html#logistic-regression\n",
      "  n_iter_i = _check_optimize_result(\n"
     ]
    },
    {
     "data": {
      "text/html": [
       "<style>#sk-4b6c36e3-22c1-47f1-8d58-d89610096070 {color: black;background-color: white;}#sk-4b6c36e3-22c1-47f1-8d58-d89610096070 pre{padding: 0;}#sk-4b6c36e3-22c1-47f1-8d58-d89610096070 div.sk-toggleable {background-color: white;}#sk-4b6c36e3-22c1-47f1-8d58-d89610096070 label.sk-toggleable__label {cursor: pointer;display: block;width: 100%;margin-bottom: 0;padding: 0.2em 0.3em;box-sizing: border-box;text-align: center;}#sk-4b6c36e3-22c1-47f1-8d58-d89610096070 div.sk-toggleable__content {max-height: 0;max-width: 0;overflow: hidden;text-align: left;background-color: #f0f8ff;}#sk-4b6c36e3-22c1-47f1-8d58-d89610096070 div.sk-toggleable__content pre {margin: 0.2em;color: black;border-radius: 0.25em;background-color: #f0f8ff;}#sk-4b6c36e3-22c1-47f1-8d58-d89610096070 input.sk-toggleable__control:checked~div.sk-toggleable__content {max-height: 200px;max-width: 100%;overflow: auto;}#sk-4b6c36e3-22c1-47f1-8d58-d89610096070 div.sk-estimator input.sk-toggleable__control:checked~label.sk-toggleable__label {background-color: #d4ebff;}#sk-4b6c36e3-22c1-47f1-8d58-d89610096070 div.sk-label input.sk-toggleable__control:checked~label.sk-toggleable__label {background-color: #d4ebff;}#sk-4b6c36e3-22c1-47f1-8d58-d89610096070 input.sk-hidden--visually {border: 0;clip: rect(1px 1px 1px 1px);clip: rect(1px, 1px, 1px, 1px);height: 1px;margin: -1px;overflow: hidden;padding: 0;position: absolute;width: 1px;}#sk-4b6c36e3-22c1-47f1-8d58-d89610096070 div.sk-estimator {font-family: monospace;background-color: #f0f8ff;margin: 0.25em 0.25em;border: 1px dotted black;border-radius: 0.25em;box-sizing: border-box;}#sk-4b6c36e3-22c1-47f1-8d58-d89610096070 div.sk-estimator:hover {background-color: #d4ebff;}#sk-4b6c36e3-22c1-47f1-8d58-d89610096070 div.sk-parallel-item::after {content: \"\";width: 100%;border-bottom: 1px solid gray;flex-grow: 1;}#sk-4b6c36e3-22c1-47f1-8d58-d89610096070 div.sk-label:hover label.sk-toggleable__label {background-color: #d4ebff;}#sk-4b6c36e3-22c1-47f1-8d58-d89610096070 div.sk-serial::before {content: \"\";position: absolute;border-left: 1px solid gray;box-sizing: border-box;top: 2em;bottom: 0;left: 50%;}#sk-4b6c36e3-22c1-47f1-8d58-d89610096070 div.sk-serial {display: flex;flex-direction: column;align-items: center;background-color: white;}#sk-4b6c36e3-22c1-47f1-8d58-d89610096070 div.sk-item {z-index: 1;}#sk-4b6c36e3-22c1-47f1-8d58-d89610096070 div.sk-parallel {display: flex;align-items: stretch;justify-content: center;background-color: white;}#sk-4b6c36e3-22c1-47f1-8d58-d89610096070 div.sk-parallel-item {display: flex;flex-direction: column;position: relative;background-color: white;}#sk-4b6c36e3-22c1-47f1-8d58-d89610096070 div.sk-parallel-item:first-child::after {align-self: flex-end;width: 50%;}#sk-4b6c36e3-22c1-47f1-8d58-d89610096070 div.sk-parallel-item:last-child::after {align-self: flex-start;width: 50%;}#sk-4b6c36e3-22c1-47f1-8d58-d89610096070 div.sk-parallel-item:only-child::after {width: 0;}#sk-4b6c36e3-22c1-47f1-8d58-d89610096070 div.sk-dashed-wrapped {border: 1px dashed gray;margin: 0.2em;box-sizing: border-box;padding-bottom: 0.1em;background-color: white;position: relative;}#sk-4b6c36e3-22c1-47f1-8d58-d89610096070 div.sk-label label {font-family: monospace;font-weight: bold;background-color: white;display: inline-block;line-height: 1.2em;}#sk-4b6c36e3-22c1-47f1-8d58-d89610096070 div.sk-label-container {position: relative;z-index: 2;text-align: center;}#sk-4b6c36e3-22c1-47f1-8d58-d89610096070 div.sk-container {display: inline-block;position: relative;}</style><div id=\"sk-4b6c36e3-22c1-47f1-8d58-d89610096070\" class\"sk-top-container\"><div class=\"sk-container\"><div class=\"sk-item sk-dashed-wrapped\"><div class=\"sk-label-container\"><div class=\"sk-label sk-toggleable\"><input class=\"sk-toggleable__control sk-hidden--visually\" id=\"73b07cf2-39e4-4855-9854-58311848f311\" type=\"checkbox\" ><label class=\"sk-toggleable__label\" for=\"73b07cf2-39e4-4855-9854-58311848f311\">Pipeline</label><div class=\"sk-toggleable__content\"><pre>Pipeline(steps=[('pipeline',\n",
       "                 Pipeline(steps=[('columntransformer',\n",
       "                                  ColumnTransformer(transformers=[('simpleimputer',\n",
       "                                                                   SimpleImputer(),\n",
       "                                                                   ['co', 'no',\n",
       "                                                                    'no2', 'o3',\n",
       "                                                                    'so2',\n",
       "                                                                    'pm2_5',\n",
       "                                                                    'pm10',\n",
       "                                                                    'nh3'])])),\n",
       "                                 ('standardscaler', StandardScaler())])),\n",
       "                ('logisticregression',\n",
       "                 LogisticRegression(multi_class='multinomial'))])</pre></div></div></div><div class=\"sk-serial\"><div class=\"sk-item\"><div class=\"sk-label-container\"><div class=\"sk-label sk-toggleable\"><input class=\"sk-toggleable__control sk-hidden--visually\" id=\"f6383d5b-3241-4a93-8fd1-7682cfa13ab1\" type=\"checkbox\" ><label class=\"sk-toggleable__label\" for=\"f6383d5b-3241-4a93-8fd1-7682cfa13ab1\">pipeline: Pipeline</label><div class=\"sk-toggleable__content\"><pre>Pipeline(steps=[('columntransformer',\n",
       "                 ColumnTransformer(transformers=[('simpleimputer',\n",
       "                                                  SimpleImputer(),\n",
       "                                                  ['co', 'no', 'no2', 'o3',\n",
       "                                                   'so2', 'pm2_5', 'pm10',\n",
       "                                                   'nh3'])])),\n",
       "                ('standardscaler', StandardScaler())])</pre></div></div></div><div class=\"sk-serial\"><div class=\"sk-item sk-dashed-wrapped\"><div class=\"sk-label-container\"><div class=\"sk-label sk-toggleable\"><input class=\"sk-toggleable__control sk-hidden--visually\" id=\"438e7984-e7b6-48d3-bd07-a9c804f90df1\" type=\"checkbox\" ><label class=\"sk-toggleable__label\" for=\"438e7984-e7b6-48d3-bd07-a9c804f90df1\">columntransformer: ColumnTransformer</label><div class=\"sk-toggleable__content\"><pre>ColumnTransformer(transformers=[('simpleimputer', SimpleImputer(),\n",
       "                                 ['co', 'no', 'no2', 'o3', 'so2', 'pm2_5',\n",
       "                                  'pm10', 'nh3'])])</pre></div></div></div><div class=\"sk-parallel\"><div class=\"sk-parallel-item\"><div class=\"sk-item\"><div class=\"sk-label-container\"><div class=\"sk-label sk-toggleable\"><input class=\"sk-toggleable__control sk-hidden--visually\" id=\"b68392b9-883e-4f2d-9ffe-19d686a0f406\" type=\"checkbox\" ><label class=\"sk-toggleable__label\" for=\"b68392b9-883e-4f2d-9ffe-19d686a0f406\">simpleimputer</label><div class=\"sk-toggleable__content\"><pre>['co', 'no', 'no2', 'o3', 'so2', 'pm2_5', 'pm10', 'nh3']</pre></div></div></div><div class=\"sk-serial\"><div class=\"sk-item\"><div class=\"sk-estimator sk-toggleable\"><input class=\"sk-toggleable__control sk-hidden--visually\" id=\"fb5ab80e-9c0d-402f-b02c-c838fcbe13b4\" type=\"checkbox\" ><label class=\"sk-toggleable__label\" for=\"fb5ab80e-9c0d-402f-b02c-c838fcbe13b4\">SimpleImputer</label><div class=\"sk-toggleable__content\"><pre>SimpleImputer()</pre></div></div></div></div></div></div></div></div><div class=\"sk-item\"><div class=\"sk-estimator sk-toggleable\"><input class=\"sk-toggleable__control sk-hidden--visually\" id=\"6d16fb76-76bb-4878-8435-92967ee3ec58\" type=\"checkbox\" ><label class=\"sk-toggleable__label\" for=\"6d16fb76-76bb-4878-8435-92967ee3ec58\">StandardScaler</label><div class=\"sk-toggleable__content\"><pre>StandardScaler()</pre></div></div></div></div></div><div class=\"sk-item\"><div class=\"sk-estimator sk-toggleable\"><input class=\"sk-toggleable__control sk-hidden--visually\" id=\"55425d0f-abc8-478d-9c86-15900ddcf36c\" type=\"checkbox\" ><label class=\"sk-toggleable__label\" for=\"55425d0f-abc8-478d-9c86-15900ddcf36c\">LogisticRegression</label><div class=\"sk-toggleable__content\"><pre>LogisticRegression(multi_class='multinomial')</pre></div></div></div></div></div></div></div>"
      ],
      "text/plain": [
       "Pipeline(steps=[('pipeline',\n",
       "                 Pipeline(steps=[('columntransformer',\n",
       "                                  ColumnTransformer(transformers=[('simpleimputer',\n",
       "                                                                   SimpleImputer(),\n",
       "                                                                   ['co', 'no',\n",
       "                                                                    'no2', 'o3',\n",
       "                                                                    'so2',\n",
       "                                                                    'pm2_5',\n",
       "                                                                    'pm10',\n",
       "                                                                    'nh3'])])),\n",
       "                                 ('standardscaler', StandardScaler())])),\n",
       "                ('logisticregression',\n",
       "                 LogisticRegression(multi_class='multinomial'))])"
      ]
     },
     "execution_count": 35,
     "metadata": {},
     "output_type": "execute_result"
    }
   ],
   "source": [
    "log_reg_model = LogisticRegression(multi_class = 'multinomial')\n",
    "full_pipeline_2 = make_pipeline(preprocess_pipeline, log_reg_model)\n",
    "full_pipeline_2.fit(temp_X_df, temp_y_sr)"
   ]
  },
  {
   "cell_type": "code",
   "execution_count": 36,
   "id": "19e281b7",
   "metadata": {},
   "outputs": [
    {
     "name": "stdout",
     "output_type": "stream",
     "text": [
      "Error with train+valid data:  5.83 %\n"
     ]
    }
   ],
   "source": [
    "#Độ lỗi trên tập (train+validation)\n",
    "err = ((1-full_pipeline_2.score(temp_X_df, temp_y_sr)) * 100).round(2)\n",
    "print('Error with train+valid data: ', err, '%')\n",
    "errors_temp.append(err)"
   ]
  },
  {
   "cell_type": "code",
   "execution_count": 37,
   "id": "0878da84",
   "metadata": {},
   "outputs": [
    {
     "name": "stdout",
     "output_type": "stream",
     "text": [
      "Error with test data:  6.72 %\n"
     ]
    }
   ],
   "source": [
    "#Độ lỗi trên tập test\n",
    "err = ((1-full_pipeline_2.score(test_X_df, test_y_sr)) * 100).round(2)\n",
    "print('Error with test data: ', err, '%')\n",
    "errors_test.append(err)"
   ]
  },
  {
   "cell_type": "markdown",
   "id": "d19975f2",
   "metadata": {},
   "source": [
    "### Nhận xét\n",
    "- Độ lỗi trên cả hai không chênh lệch quá nhiều <br/>\n",
    "- Mô hình fit khá ổn trên tập dữ liệu"
   ]
  },
  {
   "cell_type": "markdown",
   "id": "96371eb2",
   "metadata": {},
   "source": [
    "### Mô hình K-Neighbors Classifier"
   ]
  },
  {
   "cell_type": "code",
   "execution_count": 38,
   "id": "41f09a54",
   "metadata": {},
   "outputs": [
    {
     "data": {
      "text/plain": [
       "'Finish!'"
      ]
     },
     "execution_count": 38,
     "metadata": {},
     "output_type": "execute_result"
    }
   ],
   "source": [
    "full_pipeline_3 = make_pipeline(preprocess_pipeline,KNeighborsClassifier())\n",
    "# Thử nghiệm với các giá trị khác nhau của các siêu tham số\n",
    "# và chọn ra các giá trị tốt nhất\n",
    "train_errs = []\n",
    "val_errs = []\n",
    "n_neighbors = [1, 2, 3, 4, 5, 6]\n",
    "best_val_err = float('inf')\n",
    "best_neighbor = None\n",
    "for neighbor in n_neighbors:\n",
    "    full_pipeline_3.set_params(kneighborsclassifier__n_neighbors = neighbor)\n",
    "    full_pipeline_3.fit(train_X_df, train_y_sr)\n",
    "    train_errs.append((1 - full_pipeline_3.score(train_X_df, train_y_sr)) * 100)\n",
    "    val_errs.append((1 - full_pipeline_3.score(val_X_df, val_y_sr)) * 100)\n",
    "\n",
    "best_val_err = min(val_errs)\n",
    "index = val_errs.index(min(val_errs))\n",
    "best_neighbor = n_neighbors[index]\n",
    "\n",
    "'Finish!'"
   ]
  },
  {
   "cell_type": "markdown",
   "id": "43f9e4df",
   "metadata": {},
   "source": [
    "#### Độ lỗi trên tập train"
   ]
  },
  {
   "cell_type": "code",
   "execution_count": 39,
   "id": "7f9b9938",
   "metadata": {},
   "outputs": [
    {
     "data": {
      "text/plain": [
       "Text(0, 0.5, 'neighbor')"
      ]
     },
     "execution_count": 39,
     "metadata": {},
     "output_type": "execute_result"
    },
    {
     "data": {
      "image/png": "[encoded data removed]",
      "text/plain": [
       "<Figure size 432x288 with 1 Axes>"
      ]
     },
     "metadata": {
      "needs_background": "light"
     },
     "output_type": "display_data"
    }
   ],
   "source": [
    "cx = pd.Series(train_errs, index = n_neighbors).plot.barh()\n",
    "cx.set_xlabel('Độ lỗi trên tập train (%)')\n",
    "cx.set_ylabel('neighbor')"
   ]
  },
  {
   "cell_type": "markdown",
   "id": "1a4eb6ca",
   "metadata": {},
   "source": [
    "#### Độ lỗi trên tập valid"
   ]
  },
  {
   "cell_type": "code",
   "execution_count": 40,
   "id": "31ecff3c",
   "metadata": {},
   "outputs": [
    {
     "data": {
      "text/plain": [
       "Text(0, 0.5, 'neighbor')"
      ]
     },
     "execution_count": 40,
     "metadata": {},
     "output_type": "execute_result"
    },
    {
     "data": {
      "image/png": "[encoded data removed]",
      "text/plain": [
       "<Figure size 432x288 with 1 Axes>"
      ]
     },
     "metadata": {
      "needs_background": "light"
     },
     "output_type": "display_data"
    }
   ],
   "source": [
    "dx = pd.Series(val_errs, index = n_neighbors).plot.barh()\n",
    "dx.set_xlabel('Độ lỗi trên tập train (%)')\n",
    "dx.set_ylabel('neighbor')"
   ]
  },
  {
   "cell_type": "markdown",
   "id": "ce9c0c49",
   "metadata": {},
   "source": [
    "#### Độ lỗi nhỏ nhất trên tập valid và neighbor tốt nhất"
   ]
  },
  {
   "cell_type": "code",
   "execution_count": 41,
   "id": "4ff483d5",
   "metadata": {},
   "outputs": [
    {
     "name": "stdout",
     "output_type": "stream",
     "text": [
      "Best valid err:  12.79 %\n",
      "\n",
      "Best neighbor:  1\n"
     ]
    }
   ],
   "source": [
    "print('Best valid err: ', best_val_err.round(2), '%')\n",
    "print()\n",
    "print('Best neighbor: ',best_neighbor)"
   ]
  },
  {
   "cell_type": "markdown",
   "id": "68a401fe",
   "metadata": {},
   "source": [
    "Cuối cùng, huấn luyện lại `full_pipeline` trên `X_df` và `y_sr` (tập huấn luyện + tập validation) với `best_neighbor` tìm được ở trên để ra được mô hình cụ thể cuối cùng."
   ]
  },
  {
   "cell_type": "code",
   "execution_count": 42,
   "id": "484e44cd",
   "metadata": {},
   "outputs": [
    {
     "data": {
      "text/html": [
       "<style>#sk-08f22cde-2786-4a5a-8b24-44a5fde350f0 {color: black;background-color: white;}#sk-08f22cde-2786-4a5a-8b24-44a5fde350f0 pre{padding: 0;}#sk-08f22cde-2786-4a5a-8b24-44a5fde350f0 div.sk-toggleable {background-color: white;}#sk-08f22cde-2786-4a5a-8b24-44a5fde350f0 label.sk-toggleable__label {cursor: pointer;display: block;width: 100%;margin-bottom: 0;padding: 0.2em 0.3em;box-sizing: border-box;text-align: center;}#sk-08f22cde-2786-4a5a-8b24-44a5fde350f0 div.sk-toggleable__content {max-height: 0;max-width: 0;overflow: hidden;text-align: left;background-color: #f0f8ff;}#sk-08f22cde-2786-4a5a-8b24-44a5fde350f0 div.sk-toggleable__content pre {margin: 0.2em;color: black;border-radius: 0.25em;background-color: #f0f8ff;}#sk-08f22cde-2786-4a5a-8b24-44a5fde350f0 input.sk-toggleable__control:checked~div.sk-toggleable__content {max-height: 200px;max-width: 100%;overflow: auto;}#sk-08f22cde-2786-4a5a-8b24-44a5fde350f0 div.sk-estimator input.sk-toggleable__control:checked~label.sk-toggleable__label {background-color: #d4ebff;}#sk-08f22cde-2786-4a5a-8b24-44a5fde350f0 div.sk-label input.sk-toggleable__control:checked~label.sk-toggleable__label {background-color: #d4ebff;}#sk-08f22cde-2786-4a5a-8b24-44a5fde350f0 input.sk-hidden--visually {border: 0;clip: rect(1px 1px 1px 1px);clip: rect(1px, 1px, 1px, 1px);height: 1px;margin: -1px;overflow: hidden;padding: 0;position: absolute;width: 1px;}#sk-08f22cde-2786-4a5a-8b24-44a5fde350f0 div.sk-estimator {font-family: monospace;background-color: #f0f8ff;margin: 0.25em 0.25em;border: 1px dotted black;border-radius: 0.25em;box-sizing: border-box;}#sk-08f22cde-2786-4a5a-8b24-44a5fde350f0 div.sk-estimator:hover {background-color: #d4ebff;}#sk-08f22cde-2786-4a5a-8b24-44a5fde350f0 div.sk-parallel-item::after {content: \"\";width: 100%;border-bottom: 1px solid gray;flex-grow: 1;}#sk-08f22cde-2786-4a5a-8b24-44a5fde350f0 div.sk-label:hover label.sk-toggleable__label {background-color: #d4ebff;}#sk-08f22cde-2786-4a5a-8b24-44a5fde350f0 div.sk-serial::before {content: \"\";position: absolute;border-left: 1px solid gray;box-sizing: border-box;top: 2em;bottom: 0;left: 50%;}#sk-08f22cde-2786-4a5a-8b24-44a5fde350f0 div.sk-serial {display: flex;flex-direction: column;align-items: center;background-color: white;}#sk-08f22cde-2786-4a5a-8b24-44a5fde350f0 div.sk-item {z-index: 1;}#sk-08f22cde-2786-4a5a-8b24-44a5fde350f0 div.sk-parallel {display: flex;align-items: stretch;justify-content: center;background-color: white;}#sk-08f22cde-2786-4a5a-8b24-44a5fde350f0 div.sk-parallel-item {display: flex;flex-direction: column;position: relative;background-color: white;}#sk-08f22cde-2786-4a5a-8b24-44a5fde350f0 div.sk-parallel-item:first-child::after {align-self: flex-end;width: 50%;}#sk-08f22cde-2786-4a5a-8b24-44a5fde350f0 div.sk-parallel-item:last-child::after {align-self: flex-start;width: 50%;}#sk-08f22cde-2786-4a5a-8b24-44a5fde350f0 div.sk-parallel-item:only-child::after {width: 0;}#sk-08f22cde-2786-4a5a-8b24-44a5fde350f0 div.sk-dashed-wrapped {border: 1px dashed gray;margin: 0.2em;box-sizing: border-box;padding-bottom: 0.1em;background-color: white;position: relative;}#sk-08f22cde-2786-4a5a-8b24-44a5fde350f0 div.sk-label label {font-family: monospace;font-weight: bold;background-color: white;display: inline-block;line-height: 1.2em;}#sk-08f22cde-2786-4a5a-8b24-44a5fde350f0 div.sk-label-container {position: relative;z-index: 2;text-align: center;}#sk-08f22cde-2786-4a5a-8b24-44a5fde350f0 div.sk-container {display: inline-block;position: relative;}</style><div id=\"sk-08f22cde-2786-4a5a-8b24-44a5fde350f0\" class\"sk-top-container\"><div class=\"sk-container\"><div class=\"sk-item sk-dashed-wrapped\"><div class=\"sk-label-container\"><div class=\"sk-label sk-toggleable\"><input class=\"sk-toggleable__control sk-hidden--visually\" id=\"1ba78834-0ff7-449c-b26f-5f460f6fbc9a\" type=\"checkbox\" ><label class=\"sk-toggleable__label\" for=\"1ba78834-0ff7-449c-b26f-5f460f6fbc9a\">Pipeline</label><div class=\"sk-toggleable__content\"><pre>Pipeline(steps=[('pipeline',\n",
       "                 Pipeline(steps=[('columntransformer',\n",
       "                                  ColumnTransformer(transformers=[('simpleimputer',\n",
       "                                                                   SimpleImputer(),\n",
       "                                                                   ['co', 'no',\n",
       "                                                                    'no2', 'o3',\n",
       "                                                                    'so2',\n",
       "                                                                    'pm2_5',\n",
       "                                                                    'pm10',\n",
       "                                                                    'nh3'])])),\n",
       "                                 ('standardscaler', StandardScaler())])),\n",
       "                ('kneighborsclassifier', KNeighborsClassifier(n_neighbors=1))])</pre></div></div></div><div class=\"sk-serial\"><div class=\"sk-item\"><div class=\"sk-label-container\"><div class=\"sk-label sk-toggleable\"><input class=\"sk-toggleable__control sk-hidden--visually\" id=\"fef1d14e-abb6-44bc-ab85-c767532bb32a\" type=\"checkbox\" ><label class=\"sk-toggleable__label\" for=\"fef1d14e-abb6-44bc-ab85-c767532bb32a\">pipeline: Pipeline</label><div class=\"sk-toggleable__content\"><pre>Pipeline(steps=[('columntransformer',\n",
       "                 ColumnTransformer(transformers=[('simpleimputer',\n",
       "                                                  SimpleImputer(),\n",
       "                                                  ['co', 'no', 'no2', 'o3',\n",
       "                                                   'so2', 'pm2_5', 'pm10',\n",
       "                                                   'nh3'])])),\n",
       "                ('standardscaler', StandardScaler())])</pre></div></div></div><div class=\"sk-serial\"><div class=\"sk-item sk-dashed-wrapped\"><div class=\"sk-label-container\"><div class=\"sk-label sk-toggleable\"><input class=\"sk-toggleable__control sk-hidden--visually\" id=\"71345182-b112-4743-84ba-146425465365\" type=\"checkbox\" ><label class=\"sk-toggleable__label\" for=\"71345182-b112-4743-84ba-146425465365\">columntransformer: ColumnTransformer</label><div class=\"sk-toggleable__content\"><pre>ColumnTransformer(transformers=[('simpleimputer', SimpleImputer(),\n",
       "                                 ['co', 'no', 'no2', 'o3', 'so2', 'pm2_5',\n",
       "                                  'pm10', 'nh3'])])</pre></div></div></div><div class=\"sk-parallel\"><div class=\"sk-parallel-item\"><div class=\"sk-item\"><div class=\"sk-label-container\"><div class=\"sk-label sk-toggleable\"><input class=\"sk-toggleable__control sk-hidden--visually\" id=\"5b4b1247-9574-4f71-b0ec-4aeda6f166b0\" type=\"checkbox\" ><label class=\"sk-toggleable__label\" for=\"5b4b1247-9574-4f71-b0ec-4aeda6f166b0\">simpleimputer</label><div class=\"sk-toggleable__content\"><pre>['co', 'no', 'no2', 'o3', 'so2', 'pm2_5', 'pm10', 'nh3']</pre></div></div></div><div class=\"sk-serial\"><div class=\"sk-item\"><div class=\"sk-estimator sk-toggleable\"><input class=\"sk-toggleable__control sk-hidden--visually\" id=\"a280a571-9b83-46d6-8b18-c0be995d2381\" type=\"checkbox\" ><label class=\"sk-toggleable__label\" for=\"a280a571-9b83-46d6-8b18-c0be995d2381\">SimpleImputer</label><div class=\"sk-toggleable__content\"><pre>SimpleImputer()</pre></div></div></div></div></div></div></div></div><div class=\"sk-item\"><div class=\"sk-estimator sk-toggleable\"><input class=\"sk-toggleable__control sk-hidden--visually\" id=\"b203679e-c722-4bd1-884d-13023d2bb72f\" type=\"checkbox\" ><label class=\"sk-toggleable__label\" for=\"b203679e-c722-4bd1-884d-13023d2bb72f\">StandardScaler</label><div class=\"sk-toggleable__content\"><pre>StandardScaler()</pre></div></div></div></div></div><div class=\"sk-item\"><div class=\"sk-estimator sk-toggleable\"><input class=\"sk-toggleable__control sk-hidden--visually\" id=\"3049f986-cb68-448e-92bc-e8c68edf227e\" type=\"checkbox\" ><label class=\"sk-toggleable__label\" for=\"3049f986-cb68-448e-92bc-e8c68edf227e\">KNeighborsClassifier</label><div class=\"sk-toggleable__content\"><pre>KNeighborsClassifier(n_neighbors=1)</pre></div></div></div></div></div></div></div>"
      ],
      "text/plain": [
       "Pipeline(steps=[('pipeline',\n",
       "                 Pipeline(steps=[('columntransformer',\n",
       "                                  ColumnTransformer(transformers=[('simpleimputer',\n",
       "                                                                   SimpleImputer(),\n",
       "                                                                   ['co', 'no',\n",
       "                                                                    'no2', 'o3',\n",
       "                                                                    'so2',\n",
       "                                                                    'pm2_5',\n",
       "                                                                    'pm10',\n",
       "                                                                    'nh3'])])),\n",
       "                                 ('standardscaler', StandardScaler())])),\n",
       "                ('kneighborsclassifier', KNeighborsClassifier(n_neighbors=1))])"
      ]
     },
     "execution_count": 42,
     "metadata": {},
     "output_type": "execute_result"
    }
   ],
   "source": [
    "full_pipeline_3.set_params(kneighborsclassifier__n_neighbors = best_neighbor)\n",
    "\n",
    "full_pipeline_3.fit(temp_X_df, temp_y_sr)"
   ]
  },
  {
   "cell_type": "markdown",
   "id": "79ec9be6",
   "metadata": {},
   "source": [
    "### Đánh giá mô hình tìm được:"
   ]
  },
  {
   "cell_type": "code",
   "execution_count": 43,
   "id": "594cc9ee",
   "metadata": {},
   "outputs": [
    {
     "name": "stdout",
     "output_type": "stream",
     "text": [
      "Error with val data:  0.0 %\n"
     ]
    }
   ],
   "source": [
    "#Độ lỗi trên tập (train+validation)\n",
    "err = ((1-full_pipeline_3.score(temp_X_df, temp_y_sr)) * 100)\n",
    "errors_temp.append(err)\n",
    "print('Error with val data: ', err, '%')"
   ]
  },
  {
   "cell_type": "code",
   "execution_count": 44,
   "id": "6e3cc50d",
   "metadata": {},
   "outputs": [
    {
     "name": "stdout",
     "output_type": "stream",
     "text": [
      "Error with test data:  14.45 %\n"
     ]
    }
   ],
   "source": [
    "#Độ lỗi trên tập test\n",
    "err = ((1-full_pipeline_3.score(test_X_df, test_y_sr)) * 100).round(2)\n",
    "errors_test.append(err)\n",
    "print('Error with test data: ', err, '%')"
   ]
  },
  {
   "cell_type": "markdown",
   "id": "e4411af6",
   "metadata": {},
   "source": [
    "### Nhận xét\n"
   ]
  },
  {
   "cell_type": "markdown",
   "id": "e20cef6a",
   "metadata": {},
   "source": [
    "### Mô hình tốt nhất\n"
   ]
  },
  {
   "cell_type": "code",
   "execution_count": 45,
   "id": "33676d74",
   "metadata": {},
   "outputs": [
    {
     "data": {
      "text/plain": [
       "<function matplotlib.pyplot.show(close=None, block=None)>"
      ]
     },
     "execution_count": 45,
     "metadata": {},
     "output_type": "execute_result"
    },
    {
     "data": {
      "image/png": "[encoded data removed]",
      "text/plain": [
       "<Figure size 432x288 with 1 Axes>"
      ]
     },
     "metadata": {
      "needs_background": "light"
     },
     "output_type": "display_data"
    }
   ],
   "source": [
    "divisions=['MLP Classifier','Softmax Regression','K-Neighbors Classifier']\n",
    "plt.bar(divisions,errors_temp,color='orange')\n",
    "plt.title('Train+Val Error')\n",
    "plt.xlabel('Models')\n",
    "plt.ylabel('Error(%)')\n",
    "plt.show"
   ]
  },
  {
   "cell_type": "code",
   "execution_count": 46,
   "id": "8600c1f5",
   "metadata": {},
   "outputs": [
    {
     "data": {
      "text/plain": [
       "<function matplotlib.pyplot.show(close=None, block=None)>"
      ]
     },
     "execution_count": 46,
     "metadata": {},
     "output_type": "execute_result"
    },
    {
     "data": {
      "image/png": "[encoded data removed]",
      "text/plain": [
       "<Figure size 432x288 with 1 Axes>"
      ]
     },
     "metadata": {
      "needs_background": "light"
     },
     "output_type": "display_data"
    }
   ],
   "source": [
    "plt.bar(divisions,errors_test,color='green')\n",
    "plt.title('Test Error')\n",
    "plt.xlabel('Models')\n",
    "plt.ylabel('Error(%)')\n",
    "plt.show"
   ]
  },
  {
   "cell_type": "markdown",
   "id": "d384bc4e",
   "metadata": {},
   "source": [
    "- Dựa vào độ lỗi trên tập test trên ta thấy mô hình MLP Classifier hoạt động hiệu quả hơn hai mô hình còn lại => dự đoán chất lượng không khí tốt nhất."
   ]
  }
 ],
 "metadata": {
  "kernelspec": {
   "display_name": "Python 3 (ipykernel)",
   "language": "python",
   "name": "python3"
  },
  "language_info": {
   "codemirror_mode": {
    "name": "ipython",
    "version": 3
   },
   "file_extension": ".py",
   "mimetype": "text/x-python",
   "name": "python",
   "nbconvert_exporter": "python",
   "pygments_lexer": "ipython3",
   "version": "3.8.8"
  }
 },
 "nbformat": 4,
 "nbformat_minor": 5
}
