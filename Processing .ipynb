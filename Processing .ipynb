{
 "cells": [
  {
   "cell_type": "markdown",
   "id": "30d67261",
   "metadata": {},
   "source": [
    "# 2. Khám phá dữ liệu"
   ]
  },
  {
   "cell_type": "code",
   "execution_count": 19,
   "id": "8ae12063",
   "metadata": {},
   "outputs": [],
   "source": [
    "import matplotlib.pyplot as plt\n",
    "import numpy as np\n",
    "import pandas as pd\n",
    "import seaborn as sns\n",
    "from sklearn.model_selection import train_test_split\n",
    "from sklearn.preprocessing import OneHotEncoder, StandardScaler\n",
    "from sklearn.impute import SimpleImputer\n",
    "from sklearn.base import BaseEstimator, TransformerMixin\n",
    "from sklearn.pipeline import Pipeline, make_pipeline\n",
    "from sklearn.compose import ColumnTransformer, make_column_transformer\n",
    "from sklearn.neural_network import MLPClassifier\n",
    "from sklearn import set_config\n",
    "from sklearn.linear_model import LogisticRegression\n",
    "from sklearn.neighbors import KNeighborsClassifier\n",
    "set_config(display='diagram')"
   ]
  },
  {
   "cell_type": "markdown",
   "id": "ca1ab9c8",
   "metadata": {},
   "source": [
    "### Đọc dữ liệu từ file"
   ]
  },
  {
   "cell_type": "code",
   "execution_count": 20,
   "id": "bb91f12e",
   "metadata": {},
   "outputs": [],
   "source": [
    "air_df = pd.read_csv('data.csv', sep =  ',', index_col = 0)"
   ]
  },
  {
   "cell_type": "code",
   "execution_count": 21,
   "id": "3570d508",
   "metadata": {},
   "outputs": [
    {
     "data": {
      "text/html": [
       "<div>\n",
       "<style scoped>\n",
       "    .dataframe tbody tr th:only-of-type {\n",
       "        vertical-align: middle;\n",
       "    }\n",
       "\n",
       "    .dataframe tbody tr th {\n",
       "        vertical-align: top;\n",
       "    }\n",
       "\n",
       "    .dataframe thead th {\n",
       "        text-align: right;\n",
       "    }\n",
       "</style>\n",
       "<table border=\"1\" class=\"dataframe\">\n",
       "  <thead>\n",
       "    <tr style=\"text-align: right;\">\n",
       "      <th></th>\n",
       "      <th>co</th>\n",
       "      <th>no</th>\n",
       "      <th>no2</th>\n",
       "      <th>o3</th>\n",
       "      <th>so2</th>\n",
       "      <th>pm2_5</th>\n",
       "      <th>pm10</th>\n",
       "      <th>nh3</th>\n",
       "      <th>aqi</th>\n",
       "    </tr>\n",
       "  </thead>\n",
       "  <tbody>\n",
       "    <tr>\n",
       "      <th>0</th>\n",
       "      <td>313.76</td>\n",
       "      <td>0.01</td>\n",
       "      <td>0.79</td>\n",
       "      <td>36.84</td>\n",
       "      <td>0.21</td>\n",
       "      <td>2.92</td>\n",
       "      <td>3.11</td>\n",
       "      <td>0.47</td>\n",
       "      <td>1</td>\n",
       "    </tr>\n",
       "    <tr>\n",
       "      <th>1</th>\n",
       "      <td>320.44</td>\n",
       "      <td>0.05</td>\n",
       "      <td>0.85</td>\n",
       "      <td>40.77</td>\n",
       "      <td>0.31</td>\n",
       "      <td>2.91</td>\n",
       "      <td>3.15</td>\n",
       "      <td>0.51</td>\n",
       "      <td>1</td>\n",
       "    </tr>\n",
       "    <tr>\n",
       "      <th>2</th>\n",
       "      <td>333.79</td>\n",
       "      <td>0.08</td>\n",
       "      <td>0.75</td>\n",
       "      <td>49.35</td>\n",
       "      <td>0.47</td>\n",
       "      <td>3.35</td>\n",
       "      <td>3.69</td>\n",
       "      <td>0.57</td>\n",
       "      <td>1</td>\n",
       "    </tr>\n",
       "    <tr>\n",
       "      <th>3</th>\n",
       "      <td>357.15</td>\n",
       "      <td>0.09</td>\n",
       "      <td>0.69</td>\n",
       "      <td>62.94</td>\n",
       "      <td>0.70</td>\n",
       "      <td>4.78</td>\n",
       "      <td>5.32</td>\n",
       "      <td>0.72</td>\n",
       "      <td>1</td>\n",
       "    </tr>\n",
       "    <tr>\n",
       "      <th>4</th>\n",
       "      <td>397.21</td>\n",
       "      <td>0.08</td>\n",
       "      <td>0.68</td>\n",
       "      <td>82.97</td>\n",
       "      <td>1.12</td>\n",
       "      <td>7.92</td>\n",
       "      <td>8.72</td>\n",
       "      <td>0.94</td>\n",
       "      <td>2</td>\n",
       "    </tr>\n",
       "  </tbody>\n",
       "</table>\n",
       "</div>"
      ],
      "text/plain": [
       "       co    no   no2     o3   so2  pm2_5  pm10   nh3  aqi\n",
       "0  313.76  0.01  0.79  36.84  0.21   2.92  3.11  0.47    1\n",
       "1  320.44  0.05  0.85  40.77  0.31   2.91  3.15  0.51    1\n",
       "2  333.79  0.08  0.75  49.35  0.47   3.35  3.69  0.57    1\n",
       "3  357.15  0.09  0.69  62.94  0.70   4.78  5.32  0.72    1\n",
       "4  397.21  0.08  0.68  82.97  1.12   7.92  8.72  0.94    2"
      ]
     },
     "execution_count": 21,
     "metadata": {},
     "output_type": "execute_result"
    }
   ],
   "source": [
    "air_df.head()"
   ]
  },
  {
   "cell_type": "markdown",
   "id": "66ff939c",
   "metadata": {},
   "source": [
    "#### Dữ liệu có bao nhiêu dòng và bao nhiêu cột?"
   ]
  },
  {
   "cell_type": "code",
   "execution_count": 22,
   "id": "a9d4c102",
   "metadata": {},
   "outputs": [
    {
     "data": {
      "text/plain": [
       "(3235, 9)"
      ]
     },
     "execution_count": 22,
     "metadata": {},
     "output_type": "execute_result"
    }
   ],
   "source": [
    "air_df.shape"
   ]
  },
  {
   "cell_type": "markdown",
   "id": "f41d562a",
   "metadata": {},
   "source": [
    "#### Mỗi dòng có ý nghĩa gì? Có vấn đề các dòng có ý nghĩa khác nhau không?"
   ]
  },
  {
   "cell_type": "markdown",
   "id": "27606353",
   "metadata": {},
   "source": [
    "Mỗi dòng trong DataFrame `air_df` cho biết dữ liệu về các chỉ số và chất lượng không khí của các tỉnh, thành phố từ 0h ngày 1/8/2021 - 0h ngày 1/9/2021 . Có vẻ không có vấn đề các dòng có ý nghĩa khác nhau."
   ]
  },
  {
   "cell_type": "markdown",
   "id": "3bdd3cfa",
   "metadata": {},
   "source": [
    "#### Dữ liệu có các dòng bị lặp không?"
   ]
  },
  {
   "cell_type": "code",
   "execution_count": 23,
   "id": "3db90ad7",
   "metadata": {},
   "outputs": [
    {
     "data": {
      "text/plain": [
       "0"
      ]
     },
     "execution_count": 23,
     "metadata": {},
     "output_type": "execute_result"
    }
   ],
   "source": [
    "air_df.index.duplicated().sum()"
   ]
  },
  {
   "cell_type": "markdown",
   "id": "dfe03d2b",
   "metadata": {},
   "source": [
    "#### Mỗi cột có ý nghĩa gì?"
   ]
  },
  {
   "cell_type": "markdown",
   "id": "d26a5adf",
   "metadata": {},
   "source": [
    "<b>VARIABLE DESCRIPTIONS:</b>><br/>\n",
    "\n",
    "- <b>aqi</b>: Chỉ số chất lượng không khí (1,2,3,4,5) với (1 = Good; 2 = Fair; 3 = Moderate; 4 = Poor ; 5 = Very Poor)<br/>\n",
    "\n",
    "\n",
    "- <b>co</b>: Nồng độ CO (Carbon monoxide), μg/m³<br/>\n",
    "\n",
    "\n",
    "- <b>no</b>: Nồng độ NO (Nitrogen monoxide), μg/m³<br/>\n",
    "\n",
    "\n",
    "- <b>no2</b>: Nồng độ NO<sub>2</sub> (Nitrogen dioxide), μg/m³<br/>\n",
    "\n",
    "\n",
    "- <b>o3</b>: Nồng độ O<sub>3</sub> (Ozone), μg/m³<br/>\n",
    "\n",
    "\n",
    "- <b>so2</b>: Nồng độ SO<sub>2</sub> (Sulphur dioxide), μg/m³<br/>\n",
    "\n",
    "\n",
    "- <b>pm2_5</b>: Nồng độ PM<sub>2_5</sub> (Fine particles matter), μg/m³<br/>\n",
    "\n",
    "\n",
    "- <b>pm10</b>:  Nồng độ PM<sub>10</sub> (Coarse particulate matter), μg/m³<br/>\n",
    "\n",
    "\n",
    "- <b>nh3</b>: Nồng độ NH<sub>3</sub> (Ammonia), μg/m³<br/>"
   ]
  },
  {
   "cell_type": "markdown",
   "id": "a174894f",
   "metadata": {},
   "source": [
    "# 3. Đặt câu hỏi"
   ]
  },
  {
   "cell_type": "markdown",
   "id": "34073599",
   "metadata": {},
   "source": [
    "- Chất lượng không khí được phân loại như thế nào từ các chỉ số của các chất trong không khí?\n",
    "\n",
    "\n",
    "- Ý nghĩa thực tế của câu hỏi: Theo Tổ chức Y tế thế giới (WHO), hằng năm có 34.000 ca tử vong tại Việt Nam có liên quan đến ô nhiễm không khí. Việc xác định chất lượng không khí từ các chất có trong không khí giúp phát triển thiết bị đo lường chất lượng không khí. Cảnh báo người dân các biện pháp bảo vệ bản thân và cộng đồng kịp thời như đeo khẩu trang, hạn chế sử dụng các phương tiện giao thông gây ô nhiễm... Ngoài ra, chính quyền địa phương có thể đưa ra các biện pháp nhằm hạn chế lượng khí thải từ các nhà máy, xí nghiệp, trồng thêm nhiều cây xanh để làm giảm ô nhiễm không khí, từ đó nâng cao chất lượng cuộc sống của con người."
   ]
  },
  {
   "cell_type": "markdown",
   "id": "bbefd5f0",
   "metadata": {},
   "source": [
    "# 4. Tiền xử lý"
   ]
  },
  {
   "cell_type": "markdown",
   "id": "95804a9d",
   "metadata": {},
   "source": [
    "### 4.1 Khám phá dữ liệu(để biết tách các tập)"
   ]
  },
  {
   "cell_type": "code",
   "execution_count": 24,
   "id": "a5cf6553",
   "metadata": {},
   "outputs": [
    {
     "data": {
      "text/plain": [
       "dtype('int64')"
      ]
     },
     "execution_count": 24,
     "metadata": {},
     "output_type": "execute_result"
    }
   ],
   "source": [
    "# Cột output hiện có kiểu dữ liệu gì?\n",
    "air_df['aqi'].dtype"
   ]
  },
  {
   "cell_type": "code",
   "execution_count": 25,
   "id": "8bba2c31",
   "metadata": {},
   "outputs": [
    {
     "data": {
      "text/plain": [
       "0"
      ]
     },
     "execution_count": 25,
     "metadata": {},
     "output_type": "execute_result"
    }
   ],
   "source": [
    "# Cột output có bao nhiêu giá trị thiếu?\n",
    "air_df['aqi'].isna().sum()"
   ]
  },
  {
   "cell_type": "code",
   "execution_count": 26,
   "id": "c040b1d5",
   "metadata": {},
   "outputs": [
    {
     "data": {
      "text/plain": [
       "2    21.298300\n",
       "4    20.340031\n",
       "3    20.247295\n",
       "1    19.103555\n",
       "5    19.010819\n",
       "Name: aqi, dtype: float64"
      ]
     },
     "execution_count": 26,
     "metadata": {},
     "output_type": "execute_result"
    }
   ],
   "source": [
    "# Tỉ lệ các lớp trong cột output?\n",
    "air_df['aqi'].value_counts(normalize=True) * 100"
   ]
  },
  {
   "cell_type": "markdown",
   "id": "d84d4d6b",
   "metadata": {},
   "source": [
    "- Tỉ lệ label ở cột ouput phân bổ khá đều nhau"
   ]
  },
  {
   "cell_type": "markdown",
   "id": "9d60600e",
   "metadata": {},
   "source": [
    "### 4.2 Tách các tập"
   ]
  },
  {
   "cell_type": "code",
   "execution_count": 27,
   "id": "b44ebf8b",
   "metadata": {},
   "outputs": [],
   "source": [
    "# Tách X và y\n",
    "y_sr = air_df[\"aqi\"] # sr là viết tắt của series\n",
    "X_df = air_df.drop(\"aqi\", axis=1)"
   ]
  },
  {
   "cell_type": "code",
   "execution_count": 28,
   "id": "8a8866a9",
   "metadata": {},
   "outputs": [],
   "source": [
    "# Tách tập huấn luyện,tập validation, tập test theo tỉ lệ 70%:20%:10%\n",
    "temp_X_df, test_X_df, temp_y_sr, test_y_sr = \\\n",
    "                              train_test_split(X_df, y_sr, \n",
    "                                               test_size=0.1, \n",
    "                                               stratify=y_sr, \n",
    "                                               random_state=0)\n",
    "train_X_df, val_X_df, train_y_sr, val_y_sr = \\\n",
    "                              train_test_split(temp_X_df, temp_y_sr, \n",
    "                                               test_size=2/9, \n",
    "                                               stratify=temp_y_sr, \n",
    "                                               random_state=0)\n"
   ]
  },
  {
   "cell_type": "code",
   "execution_count": 29,
   "id": "258a0e56",
   "metadata": {},
   "outputs": [
    {
     "data": {
      "text/plain": [
       "(2264, 8)"
      ]
     },
     "execution_count": 29,
     "metadata": {},
     "output_type": "execute_result"
    }
   ],
   "source": [
    "train_X_df.shape"
   ]
  },
  {
   "cell_type": "code",
   "execution_count": 30,
   "id": "635a49af",
   "metadata": {},
   "outputs": [
    {
     "data": {
      "text/plain": [
       "(2264,)"
      ]
     },
     "execution_count": 30,
     "metadata": {},
     "output_type": "execute_result"
    }
   ],
   "source": [
    "train_y_sr.shape"
   ]
  },
  {
   "cell_type": "code",
   "execution_count": 31,
   "id": "c1bcd19c",
   "metadata": {},
   "outputs": [
    {
     "data": {
      "text/plain": [
       "(647, 8)"
      ]
     },
     "execution_count": 31,
     "metadata": {},
     "output_type": "execute_result"
    }
   ],
   "source": [
    "val_X_df.shape"
   ]
  },
  {
   "cell_type": "code",
   "execution_count": 32,
   "id": "7fbf4d26",
   "metadata": {},
   "outputs": [
    {
     "data": {
      "text/plain": [
       "(647,)"
      ]
     },
     "execution_count": 32,
     "metadata": {},
     "output_type": "execute_result"
    }
   ],
   "source": [
    "val_y_sr.shape"
   ]
  },
  {
   "cell_type": "code",
   "execution_count": 33,
   "id": "e22e093b",
   "metadata": {},
   "outputs": [
    {
     "data": {
      "text/plain": [
       "(324, 8)"
      ]
     },
     "execution_count": 33,
     "metadata": {},
     "output_type": "execute_result"
    }
   ],
   "source": [
    "test_X_df.shape"
   ]
  },
  {
   "cell_type": "code",
   "execution_count": 34,
   "id": "01ae48e5",
   "metadata": {},
   "outputs": [
    {
     "data": {
      "text/plain": [
       "(324,)"
      ]
     },
     "execution_count": 34,
     "metadata": {},
     "output_type": "execute_result"
    }
   ],
   "source": [
    "test_y_sr.shape"
   ]
  },
  {
   "cell_type": "code",
   "execution_count": 35,
   "id": "d2a32438",
   "metadata": {},
   "outputs": [
    {
     "data": {
      "text/plain": [
       "Int64Index([2858, 1543, 2844, 409, 3028], dtype='int64')"
      ]
     },
     "execution_count": 35,
     "metadata": {},
     "output_type": "execute_result"
    }
   ],
   "source": [
    "train_X_df.head().index"
   ]
  },
  {
   "cell_type": "markdown",
   "id": "688a7b69",
   "metadata": {},
   "source": [
    "### 4.3 Khám phá dữ liệu (tập huấn luyện)"
   ]
  },
  {
   "cell_type": "markdown",
   "id": "f2a1fb94",
   "metadata": {},
   "source": [
    "##### Mỗi cột input hiện đang có kiểu dữ liệu gì? Có cột nào có kiểu dữ liệu chưa phù hợp để có thể xử lý tiếp không?"
   ]
  },
  {
   "cell_type": "code",
   "execution_count": 36,
   "id": "8706368f",
   "metadata": {},
   "outputs": [
    {
     "data": {
      "text/plain": [
       "co       float64\n",
       "no       float64\n",
       "no2      float64\n",
       "o3       float64\n",
       "so2      float64\n",
       "pm2_5    float64\n",
       "pm10     float64\n",
       "nh3      float64\n",
       "dtype: object"
      ]
     },
     "execution_count": 36,
     "metadata": {},
     "output_type": "execute_result"
    }
   ],
   "source": [
    "train_X_df.dtypes"
   ]
  },
  {
   "cell_type": "markdown",
   "id": "dcf57014",
   "metadata": {},
   "source": [
    "- Các cột đều có dữ liệu phù hợp"
   ]
  },
  {
   "cell_type": "markdown",
   "id": "bceb7639",
   "metadata": {},
   "source": [
    "#### Với mỗi cột input có kiểu dữ liệu dạng số, các giá trị được phân bố như thế nào?"
   ]
  },
  {
   "cell_type": "code",
   "execution_count": 37,
   "id": "4f5319ad",
   "metadata": {},
   "outputs": [
    {
     "data": {
      "text/html": [
       "<div>\n",
       "<style scoped>\n",
       "    .dataframe tbody tr th:only-of-type {\n",
       "        vertical-align: middle;\n",
       "    }\n",
       "\n",
       "    .dataframe tbody tr th {\n",
       "        vertical-align: top;\n",
       "    }\n",
       "\n",
       "    .dataframe thead th {\n",
       "        text-align: right;\n",
       "    }\n",
       "</style>\n",
       "<table border=\"1\" class=\"dataframe\">\n",
       "  <thead>\n",
       "    <tr style=\"text-align: right;\">\n",
       "      <th></th>\n",
       "      <th>co</th>\n",
       "      <th>no</th>\n",
       "      <th>no2</th>\n",
       "      <th>o3</th>\n",
       "      <th>so2</th>\n",
       "      <th>pm2_5</th>\n",
       "      <th>pm10</th>\n",
       "      <th>nh3</th>\n",
       "    </tr>\n",
       "  </thead>\n",
       "  <tbody>\n",
       "    <tr>\n",
       "      <th>missing_percentage</th>\n",
       "      <td>0.00</td>\n",
       "      <td>0.00</td>\n",
       "      <td>0.00</td>\n",
       "      <td>0.00</td>\n",
       "      <td>0.00</td>\n",
       "      <td>0.00</td>\n",
       "      <td>0.00</td>\n",
       "      <td>0.00</td>\n",
       "    </tr>\n",
       "    <tr>\n",
       "      <th>min</th>\n",
       "      <td>140.19</td>\n",
       "      <td>0.00</td>\n",
       "      <td>0.13</td>\n",
       "      <td>0.00</td>\n",
       "      <td>0.05</td>\n",
       "      <td>0.50</td>\n",
       "      <td>0.56</td>\n",
       "      <td>0.00</td>\n",
       "    </tr>\n",
       "    <tr>\n",
       "      <th>lower_quartile</th>\n",
       "      <td>185.20</td>\n",
       "      <td>0.00</td>\n",
       "      <td>0.50</td>\n",
       "      <td>35.40</td>\n",
       "      <td>0.20</td>\n",
       "      <td>9.10</td>\n",
       "      <td>22.10</td>\n",
       "      <td>0.40</td>\n",
       "    </tr>\n",
       "    <tr>\n",
       "      <th>median</th>\n",
       "      <td>217.00</td>\n",
       "      <td>0.00</td>\n",
       "      <td>0.90</td>\n",
       "      <td>68.70</td>\n",
       "      <td>0.40</td>\n",
       "      <td>14.30</td>\n",
       "      <td>39.70</td>\n",
       "      <td>0.70</td>\n",
       "    </tr>\n",
       "    <tr>\n",
       "      <th>upper_quartile</th>\n",
       "      <td>347.10</td>\n",
       "      <td>0.10</td>\n",
       "      <td>2.00</td>\n",
       "      <td>88.70</td>\n",
       "      <td>1.00</td>\n",
       "      <td>22.00</td>\n",
       "      <td>74.20</td>\n",
       "      <td>1.60</td>\n",
       "    </tr>\n",
       "    <tr>\n",
       "      <th>max</th>\n",
       "      <td>12390.14</td>\n",
       "      <td>658.04</td>\n",
       "      <td>175.48</td>\n",
       "      <td>217.44</td>\n",
       "      <td>534.06</td>\n",
       "      <td>1205.88</td>\n",
       "      <td>1395.92</td>\n",
       "      <td>19.25</td>\n",
       "    </tr>\n",
       "  </tbody>\n",
       "</table>\n",
       "</div>"
      ],
      "text/plain": [
       "                          co      no     no2      o3     so2    pm2_5  \\\n",
       "missing_percentage      0.00    0.00    0.00    0.00    0.00     0.00   \n",
       "min                   140.19    0.00    0.13    0.00    0.05     0.50   \n",
       "lower_quartile        185.20    0.00    0.50   35.40    0.20     9.10   \n",
       "median                217.00    0.00    0.90   68.70    0.40    14.30   \n",
       "upper_quartile        347.10    0.10    2.00   88.70    1.00    22.00   \n",
       "max                 12390.14  658.04  175.48  217.44  534.06  1205.88   \n",
       "\n",
       "                       pm10    nh3  \n",
       "missing_percentage     0.00   0.00  \n",
       "min                    0.56   0.00  \n",
       "lower_quartile        22.10   0.40  \n",
       "median                39.70   0.70  \n",
       "upper_quartile        74.20   1.60  \n",
       "max                 1395.92  19.25  "
      ]
     },
     "execution_count": 37,
     "metadata": {},
     "output_type": "execute_result"
    }
   ],
   "source": [
    "def missing_percentage(c):\n",
    "    return (c.isna().mean() * 100).round(1)\n",
    "def median(c):\n",
    "    return c.quantile(0.5).round(1)\n",
    "def lower_quartile(df):\n",
    "    return df.quantile(0.25).round(1)\n",
    "def upper_quartile(df):\n",
    "    return df.quantile(0.75).round(1)\n",
    "train_X_df.agg([missing_percentage, 'min',lower_quartile, median,upper_quartile, 'max'])"
   ]
  },
  {
   "cell_type": "markdown",
   "id": "63f1f62b",
   "metadata": {},
   "source": [
    "**Với mỗi cột input không có kiểu dữ liệu dạng số, các giá trị được phân bố như thế nào?**\n",
    "\n",
    "- Không có cột nào khác kiểu dữ liệu dạng số."
   ]
  },
  {
   "cell_type": "markdown",
   "id": "437a7bf5",
   "metadata": {},
   "source": [
    "### 4.4 Tiền xử lý"
   ]
  },
  {
   "cell_type": "markdown",
   "id": "77e29f71",
   "metadata": {},
   "source": [
    "- Với các cột dạng số, ta sẽ điền giá trị thiếu bằng giá trị mean của cột. Với *tất cả* các cột dạng số trong tập huấn luyện, ta đều cần tính mean, vì ta không biết được cột nào sẽ bị thiếu giá trị khi dự đoán với các véc-tơ input mới. "
   ]
  },
  {
   "cell_type": "markdown",
   "id": "430eb6dd",
   "metadata": {},
   "source": [
    "- Cuối cùng, khi tất cả các cột đã được điền giá trị thiếu và đã có dạng số, ta sẽ tiến hành chuẩn hóa bằng cách trừ đi mean và chia cho độ lệch chuẩn của cột để giúp cho các thuật toán cực tiểu hóa như Gradient Descent, LBFGS, ... hội tụ nhanh hơn."
   ]
  },
  {
   "cell_type": "code",
   "execution_count": 38,
   "id": "60016329",
   "metadata": {},
   "outputs": [],
   "source": [
    "cols=list(train_X_df.columns)\n",
    "temp=make_column_transformer(\n",
    "        (SimpleImputer(strategy='mean'),cols))\n",
    "preprocess_pipeline=make_pipeline(temp,StandardScaler())\n",
    "preprocessed_train_X=preprocess_pipeline.fit_transform(train_X_df)"
   ]
  },
  {
   "cell_type": "code",
   "execution_count": 39,
   "id": "47e4cc94",
   "metadata": {},
   "outputs": [
    {
     "data": {
      "text/html": [
       "<style>#sk-1473f509-1aec-4fe3-a207-a65fda38e6a0 {color: black;background-color: white;}#sk-1473f509-1aec-4fe3-a207-a65fda38e6a0 pre{padding: 0;}#sk-1473f509-1aec-4fe3-a207-a65fda38e6a0 div.sk-toggleable {background-color: white;}#sk-1473f509-1aec-4fe3-a207-a65fda38e6a0 label.sk-toggleable__label {cursor: pointer;display: block;width: 100%;margin-bottom: 0;padding: 0.2em 0.3em;box-sizing: border-box;text-align: center;}#sk-1473f509-1aec-4fe3-a207-a65fda38e6a0 div.sk-toggleable__content {max-height: 0;max-width: 0;overflow: hidden;text-align: left;background-color: #f0f8ff;}#sk-1473f509-1aec-4fe3-a207-a65fda38e6a0 div.sk-toggleable__content pre {margin: 0.2em;color: black;border-radius: 0.25em;background-color: #f0f8ff;}#sk-1473f509-1aec-4fe3-a207-a65fda38e6a0 input.sk-toggleable__control:checked~div.sk-toggleable__content {max-height: 200px;max-width: 100%;overflow: auto;}#sk-1473f509-1aec-4fe3-a207-a65fda38e6a0 div.sk-estimator input.sk-toggleable__control:checked~label.sk-toggleable__label {background-color: #d4ebff;}#sk-1473f509-1aec-4fe3-a207-a65fda38e6a0 div.sk-label input.sk-toggleable__control:checked~label.sk-toggleable__label {background-color: #d4ebff;}#sk-1473f509-1aec-4fe3-a207-a65fda38e6a0 input.sk-hidden--visually {border: 0;clip: rect(1px 1px 1px 1px);clip: rect(1px, 1px, 1px, 1px);height: 1px;margin: -1px;overflow: hidden;padding: 0;position: absolute;width: 1px;}#sk-1473f509-1aec-4fe3-a207-a65fda38e6a0 div.sk-estimator {font-family: monospace;background-color: #f0f8ff;margin: 0.25em 0.25em;border: 1px dotted black;border-radius: 0.25em;box-sizing: border-box;}#sk-1473f509-1aec-4fe3-a207-a65fda38e6a0 div.sk-estimator:hover {background-color: #d4ebff;}#sk-1473f509-1aec-4fe3-a207-a65fda38e6a0 div.sk-parallel-item::after {content: \"\";width: 100%;border-bottom: 1px solid gray;flex-grow: 1;}#sk-1473f509-1aec-4fe3-a207-a65fda38e6a0 div.sk-label:hover label.sk-toggleable__label {background-color: #d4ebff;}#sk-1473f509-1aec-4fe3-a207-a65fda38e6a0 div.sk-serial::before {content: \"\";position: absolute;border-left: 1px solid gray;box-sizing: border-box;top: 2em;bottom: 0;left: 50%;}#sk-1473f509-1aec-4fe3-a207-a65fda38e6a0 div.sk-serial {display: flex;flex-direction: column;align-items: center;background-color: white;}#sk-1473f509-1aec-4fe3-a207-a65fda38e6a0 div.sk-item {z-index: 1;}#sk-1473f509-1aec-4fe3-a207-a65fda38e6a0 div.sk-parallel {display: flex;align-items: stretch;justify-content: center;background-color: white;}#sk-1473f509-1aec-4fe3-a207-a65fda38e6a0 div.sk-parallel-item {display: flex;flex-direction: column;position: relative;background-color: white;}#sk-1473f509-1aec-4fe3-a207-a65fda38e6a0 div.sk-parallel-item:first-child::after {align-self: flex-end;width: 50%;}#sk-1473f509-1aec-4fe3-a207-a65fda38e6a0 div.sk-parallel-item:last-child::after {align-self: flex-start;width: 50%;}#sk-1473f509-1aec-4fe3-a207-a65fda38e6a0 div.sk-parallel-item:only-child::after {width: 0;}#sk-1473f509-1aec-4fe3-a207-a65fda38e6a0 div.sk-dashed-wrapped {border: 1px dashed gray;margin: 0.2em;box-sizing: border-box;padding-bottom: 0.1em;background-color: white;position: relative;}#sk-1473f509-1aec-4fe3-a207-a65fda38e6a0 div.sk-label label {font-family: monospace;font-weight: bold;background-color: white;display: inline-block;line-height: 1.2em;}#sk-1473f509-1aec-4fe3-a207-a65fda38e6a0 div.sk-label-container {position: relative;z-index: 2;text-align: center;}#sk-1473f509-1aec-4fe3-a207-a65fda38e6a0 div.sk-container {display: inline-block;position: relative;}</style><div id=\"sk-1473f509-1aec-4fe3-a207-a65fda38e6a0\" class\"sk-top-container\"><div class=\"sk-container\"><div class=\"sk-item sk-dashed-wrapped\"><div class=\"sk-label-container\"><div class=\"sk-label sk-toggleable\"><input class=\"sk-toggleable__control sk-hidden--visually\" id=\"484e870c-e63f-4a07-a5f7-4914f42e94f4\" type=\"checkbox\" ><label class=\"sk-toggleable__label\" for=\"484e870c-e63f-4a07-a5f7-4914f42e94f4\">Pipeline</label><div class=\"sk-toggleable__content\"><pre>Pipeline(steps=[('columntransformer',\n",
       "                 ColumnTransformer(transformers=[('simpleimputer',\n",
       "                                                  SimpleImputer(),\n",
       "                                                  ['co', 'no', 'no2', 'o3',\n",
       "                                                   'so2', 'pm2_5', 'pm10',\n",
       "                                                   'nh3'])])),\n",
       "                ('standardscaler', StandardScaler())])</pre></div></div></div><div class=\"sk-serial\"><div class=\"sk-item sk-dashed-wrapped\"><div class=\"sk-label-container\"><div class=\"sk-label sk-toggleable\"><input class=\"sk-toggleable__control sk-hidden--visually\" id=\"527706d8-da67-4cac-bcd1-2f70bc5816cc\" type=\"checkbox\" ><label class=\"sk-toggleable__label\" for=\"527706d8-da67-4cac-bcd1-2f70bc5816cc\">columntransformer: ColumnTransformer</label><div class=\"sk-toggleable__content\"><pre>ColumnTransformer(transformers=[('simpleimputer', SimpleImputer(),\n",
       "                                 ['co', 'no', 'no2', 'o3', 'so2', 'pm2_5',\n",
       "                                  'pm10', 'nh3'])])</pre></div></div></div><div class=\"sk-parallel\"><div class=\"sk-parallel-item\"><div class=\"sk-item\"><div class=\"sk-label-container\"><div class=\"sk-label sk-toggleable\"><input class=\"sk-toggleable__control sk-hidden--visually\" id=\"a8263832-5cac-443f-9794-65ed592e780d\" type=\"checkbox\" ><label class=\"sk-toggleable__label\" for=\"a8263832-5cac-443f-9794-65ed592e780d\">simpleimputer</label><div class=\"sk-toggleable__content\"><pre>['co', 'no', 'no2', 'o3', 'so2', 'pm2_5', 'pm10', 'nh3']</pre></div></div></div><div class=\"sk-serial\"><div class=\"sk-item\"><div class=\"sk-estimator sk-toggleable\"><input class=\"sk-toggleable__control sk-hidden--visually\" id=\"3e0c9953-34aa-45a2-b368-0f7a59da4ff9\" type=\"checkbox\" ><label class=\"sk-toggleable__label\" for=\"3e0c9953-34aa-45a2-b368-0f7a59da4ff9\">SimpleImputer</label><div class=\"sk-toggleable__content\"><pre>SimpleImputer()</pre></div></div></div></div></div></div></div></div><div class=\"sk-item\"><div class=\"sk-estimator sk-toggleable\"><input class=\"sk-toggleable__control sk-hidden--visually\" id=\"79e4a4de-0b21-4241-b4c7-ed5e6ba8b6a7\" type=\"checkbox\" ><label class=\"sk-toggleable__label\" for=\"79e4a4de-0b21-4241-b4c7-ed5e6ba8b6a7\">StandardScaler</label><div class=\"sk-toggleable__content\"><pre>StandardScaler()</pre></div></div></div></div></div></div></div>"
      ],
      "text/plain": [
       "Pipeline(steps=[('columntransformer',\n",
       "                 ColumnTransformer(transformers=[('simpleimputer',\n",
       "                                                  SimpleImputer(),\n",
       "                                                  ['co', 'no', 'no2', 'o3',\n",
       "                                                   'so2', 'pm2_5', 'pm10',\n",
       "                                                   'nh3'])])),\n",
       "                ('standardscaler', StandardScaler())])"
      ]
     },
     "execution_count": 39,
     "metadata": {},
     "output_type": "execute_result"
    }
   ],
   "source": [
    "preprocess_pipeline"
   ]
  },
  {
   "cell_type": "markdown",
   "id": "c3243b62",
   "metadata": {},
   "source": [
    "# 5. Mô hình hóa"
   ]
  },
  {
   "cell_type": "markdown",
   "id": "806e4eb7",
   "metadata": {},
   "source": [
    "### 5.1 Mô hình MLP- Classifier"
   ]
  },
  {
   "cell_type": "markdown",
   "id": "ddaa164c",
   "metadata": {},
   "source": [
    "- Ta sẽ sử dụng mô hình MLP để phân lớp (với các siêu tham số `hidden_layer_sizes=(20), activation='relu', solver='adam', random_state=0, max_iter=600`)\n",
    "- Không chọn activation = tanh bởi vì làm tròn dữ liệu dưới dạng (0,1) nên việc sử dụng rất khó để hội tụ.\n",
    "- Chọn solver = adam vì dữ liệu trên các tập dữ liệu tương đối lớn (~6000 dòng)"
   ]
  },
  {
   "cell_type": "code",
   "execution_count": 40,
   "id": "77bdf5d1",
   "metadata": {},
   "outputs": [
    {
     "name": "stderr",
     "output_type": "stream",
     "text": [
      "/home/lts/miniconda3/envs/min_ds-env/lib/python3.8/site-packages/sklearn/neural_network/_multilayer_perceptron.py:614: ConvergenceWarning: Stochastic Optimizer: Maximum iterations (600) reached and the optimization hasn't converged yet.\n",
      "  warnings.warn(\n",
      "/home/lts/miniconda3/envs/min_ds-env/lib/python3.8/site-packages/sklearn/neural_network/_multilayer_perceptron.py:614: ConvergenceWarning: Stochastic Optimizer: Maximum iterations (600) reached and the optimization hasn't converged yet.\n",
      "  warnings.warn(\n"
     ]
    },
    {
     "data": {
      "text/plain": [
       "'Finish!'"
      ]
     },
     "execution_count": 40,
     "metadata": {},
     "output_type": "execute_result"
    }
   ],
   "source": [
    "neural_net_model = MLPClassifier(hidden_layer_sizes=(20,), activation='relu',\\\n",
    "                                 solver = 'adam', random_state = 0, max_iter = 600)\n",
    "\n",
    "full_pipeline = make_pipeline(preprocess_pipeline, neural_net_model)\n",
    "\n",
    "# Thử nghiệm với các giá trị khác nhau của các siêu tham số\n",
    "# và chọn ra các giá trị tốt nhất\n",
    "train_errs = []\n",
    "val_errs = []\n",
    "alphas = [0.01, 0.1, 0.5, 1, 10]\n",
    "best_val_err = float('inf')\n",
    "best_alpha = None\n",
    "for alpha in alphas:\n",
    "    full_pipeline.set_params(mlpclassifier__alpha = alpha)\n",
    "\n",
    "    full_pipeline.fit(train_X_df, train_y_sr)\n",
    "    train_errs.append((1 - full_pipeline.score(train_X_df, train_y_sr)) * 100)\n",
    "    val_errs.append((1 - full_pipeline.score(val_X_df, val_y_sr)) * 100)\n",
    "\n",
    "best_val_err = min(val_errs)\n",
    "index = val_errs.index(min(val_errs))\n",
    "best_alpha = alphas[index]\n",
    "\n",
    "'Finish!'"
   ]
  },
  {
   "cell_type": "code",
   "execution_count": 41,
   "id": "7514e490",
   "metadata": {},
   "outputs": [
    {
     "data": {
      "text/html": [
       "<style>#sk-7c4c4624-5118-4c6b-9b8f-7d95a199a3ea {color: black;background-color: white;}#sk-7c4c4624-5118-4c6b-9b8f-7d95a199a3ea pre{padding: 0;}#sk-7c4c4624-5118-4c6b-9b8f-7d95a199a3ea div.sk-toggleable {background-color: white;}#sk-7c4c4624-5118-4c6b-9b8f-7d95a199a3ea label.sk-toggleable__label {cursor: pointer;display: block;width: 100%;margin-bottom: 0;padding: 0.2em 0.3em;box-sizing: border-box;text-align: center;}#sk-7c4c4624-5118-4c6b-9b8f-7d95a199a3ea div.sk-toggleable__content {max-height: 0;max-width: 0;overflow: hidden;text-align: left;background-color: #f0f8ff;}#sk-7c4c4624-5118-4c6b-9b8f-7d95a199a3ea div.sk-toggleable__content pre {margin: 0.2em;color: black;border-radius: 0.25em;background-color: #f0f8ff;}#sk-7c4c4624-5118-4c6b-9b8f-7d95a199a3ea input.sk-toggleable__control:checked~div.sk-toggleable__content {max-height: 200px;max-width: 100%;overflow: auto;}#sk-7c4c4624-5118-4c6b-9b8f-7d95a199a3ea div.sk-estimator input.sk-toggleable__control:checked~label.sk-toggleable__label {background-color: #d4ebff;}#sk-7c4c4624-5118-4c6b-9b8f-7d95a199a3ea div.sk-label input.sk-toggleable__control:checked~label.sk-toggleable__label {background-color: #d4ebff;}#sk-7c4c4624-5118-4c6b-9b8f-7d95a199a3ea input.sk-hidden--visually {border: 0;clip: rect(1px 1px 1px 1px);clip: rect(1px, 1px, 1px, 1px);height: 1px;margin: -1px;overflow: hidden;padding: 0;position: absolute;width: 1px;}#sk-7c4c4624-5118-4c6b-9b8f-7d95a199a3ea div.sk-estimator {font-family: monospace;background-color: #f0f8ff;margin: 0.25em 0.25em;border: 1px dotted black;border-radius: 0.25em;box-sizing: border-box;}#sk-7c4c4624-5118-4c6b-9b8f-7d95a199a3ea div.sk-estimator:hover {background-color: #d4ebff;}#sk-7c4c4624-5118-4c6b-9b8f-7d95a199a3ea div.sk-parallel-item::after {content: \"\";width: 100%;border-bottom: 1px solid gray;flex-grow: 1;}#sk-7c4c4624-5118-4c6b-9b8f-7d95a199a3ea div.sk-label:hover label.sk-toggleable__label {background-color: #d4ebff;}#sk-7c4c4624-5118-4c6b-9b8f-7d95a199a3ea div.sk-serial::before {content: \"\";position: absolute;border-left: 1px solid gray;box-sizing: border-box;top: 2em;bottom: 0;left: 50%;}#sk-7c4c4624-5118-4c6b-9b8f-7d95a199a3ea div.sk-serial {display: flex;flex-direction: column;align-items: center;background-color: white;}#sk-7c4c4624-5118-4c6b-9b8f-7d95a199a3ea div.sk-item {z-index: 1;}#sk-7c4c4624-5118-4c6b-9b8f-7d95a199a3ea div.sk-parallel {display: flex;align-items: stretch;justify-content: center;background-color: white;}#sk-7c4c4624-5118-4c6b-9b8f-7d95a199a3ea div.sk-parallel-item {display: flex;flex-direction: column;position: relative;background-color: white;}#sk-7c4c4624-5118-4c6b-9b8f-7d95a199a3ea div.sk-parallel-item:first-child::after {align-self: flex-end;width: 50%;}#sk-7c4c4624-5118-4c6b-9b8f-7d95a199a3ea div.sk-parallel-item:last-child::after {align-self: flex-start;width: 50%;}#sk-7c4c4624-5118-4c6b-9b8f-7d95a199a3ea div.sk-parallel-item:only-child::after {width: 0;}#sk-7c4c4624-5118-4c6b-9b8f-7d95a199a3ea div.sk-dashed-wrapped {border: 1px dashed gray;margin: 0.2em;box-sizing: border-box;padding-bottom: 0.1em;background-color: white;position: relative;}#sk-7c4c4624-5118-4c6b-9b8f-7d95a199a3ea div.sk-label label {font-family: monospace;font-weight: bold;background-color: white;display: inline-block;line-height: 1.2em;}#sk-7c4c4624-5118-4c6b-9b8f-7d95a199a3ea div.sk-label-container {position: relative;z-index: 2;text-align: center;}#sk-7c4c4624-5118-4c6b-9b8f-7d95a199a3ea div.sk-container {display: inline-block;position: relative;}</style><div id=\"sk-7c4c4624-5118-4c6b-9b8f-7d95a199a3ea\" class\"sk-top-container\"><div class=\"sk-container\"><div class=\"sk-item sk-dashed-wrapped\"><div class=\"sk-label-container\"><div class=\"sk-label sk-toggleable\"><input class=\"sk-toggleable__control sk-hidden--visually\" id=\"0f1b1628-5631-4b84-aac5-8bfef678be71\" type=\"checkbox\" ><label class=\"sk-toggleable__label\" for=\"0f1b1628-5631-4b84-aac5-8bfef678be71\">Pipeline</label><div class=\"sk-toggleable__content\"><pre>Pipeline(steps=[('pipeline',\n",
       "                 Pipeline(steps=[('columntransformer',\n",
       "                                  ColumnTransformer(transformers=[('simpleimputer',\n",
       "                                                                   SimpleImputer(),\n",
       "                                                                   ['co', 'no',\n",
       "                                                                    'no2', 'o3',\n",
       "                                                                    'so2',\n",
       "                                                                    'pm2_5',\n",
       "                                                                    'pm10',\n",
       "                                                                    'nh3'])])),\n",
       "                                 ('standardscaler', StandardScaler())])),\n",
       "                ('mlpclassifier',\n",
       "                 MLPClassifier(alpha=10, hidden_layer_sizes=(20,), max_iter=600,\n",
       "                               random_state=0))])</pre></div></div></div><div class=\"sk-serial\"><div class=\"sk-item\"><div class=\"sk-label-container\"><div class=\"sk-label sk-toggleable\"><input class=\"sk-toggleable__control sk-hidden--visually\" id=\"a037cbf4-47dc-4f68-b479-5eac76f2ec59\" type=\"checkbox\" ><label class=\"sk-toggleable__label\" for=\"a037cbf4-47dc-4f68-b479-5eac76f2ec59\">pipeline: Pipeline</label><div class=\"sk-toggleable__content\"><pre>Pipeline(steps=[('columntransformer',\n",
       "                 ColumnTransformer(transformers=[('simpleimputer',\n",
       "                                                  SimpleImputer(),\n",
       "                                                  ['co', 'no', 'no2', 'o3',\n",
       "                                                   'so2', 'pm2_5', 'pm10',\n",
       "                                                   'nh3'])])),\n",
       "                ('standardscaler', StandardScaler())])</pre></div></div></div><div class=\"sk-serial\"><div class=\"sk-item sk-dashed-wrapped\"><div class=\"sk-label-container\"><div class=\"sk-label sk-toggleable\"><input class=\"sk-toggleable__control sk-hidden--visually\" id=\"5e963d8c-eb15-496b-83be-10547c7d1d0e\" type=\"checkbox\" ><label class=\"sk-toggleable__label\" for=\"5e963d8c-eb15-496b-83be-10547c7d1d0e\">columntransformer: ColumnTransformer</label><div class=\"sk-toggleable__content\"><pre>ColumnTransformer(transformers=[('simpleimputer', SimpleImputer(),\n",
       "                                 ['co', 'no', 'no2', 'o3', 'so2', 'pm2_5',\n",
       "                                  'pm10', 'nh3'])])</pre></div></div></div><div class=\"sk-parallel\"><div class=\"sk-parallel-item\"><div class=\"sk-item\"><div class=\"sk-label-container\"><div class=\"sk-label sk-toggleable\"><input class=\"sk-toggleable__control sk-hidden--visually\" id=\"c4b5caf4-863e-469a-afe4-baeed2343877\" type=\"checkbox\" ><label class=\"sk-toggleable__label\" for=\"c4b5caf4-863e-469a-afe4-baeed2343877\">simpleimputer</label><div class=\"sk-toggleable__content\"><pre>['co', 'no', 'no2', 'o3', 'so2', 'pm2_5', 'pm10', 'nh3']</pre></div></div></div><div class=\"sk-serial\"><div class=\"sk-item\"><div class=\"sk-estimator sk-toggleable\"><input class=\"sk-toggleable__control sk-hidden--visually\" id=\"49569686-d29e-4019-b4e1-d927878db033\" type=\"checkbox\" ><label class=\"sk-toggleable__label\" for=\"49569686-d29e-4019-b4e1-d927878db033\">SimpleImputer</label><div class=\"sk-toggleable__content\"><pre>SimpleImputer()</pre></div></div></div></div></div></div></div></div><div class=\"sk-item\"><div class=\"sk-estimator sk-toggleable\"><input class=\"sk-toggleable__control sk-hidden--visually\" id=\"48b806f0-5fa5-4f90-8d96-8f6b843c5fac\" type=\"checkbox\" ><label class=\"sk-toggleable__label\" for=\"48b806f0-5fa5-4f90-8d96-8f6b843c5fac\">StandardScaler</label><div class=\"sk-toggleable__content\"><pre>StandardScaler()</pre></div></div></div></div></div><div class=\"sk-item\"><div class=\"sk-estimator sk-toggleable\"><input class=\"sk-toggleable__control sk-hidden--visually\" id=\"11433982-27b2-46ef-944c-51da89532625\" type=\"checkbox\" ><label class=\"sk-toggleable__label\" for=\"11433982-27b2-46ef-944c-51da89532625\">MLPClassifier</label><div class=\"sk-toggleable__content\"><pre>MLPClassifier(alpha=10, hidden_layer_sizes=(20,), max_iter=600, random_state=0)</pre></div></div></div></div></div></div></div>"
      ],
      "text/plain": [
       "Pipeline(steps=[('pipeline',\n",
       "                 Pipeline(steps=[('columntransformer',\n",
       "                                  ColumnTransformer(transformers=[('simpleimputer',\n",
       "                                                                   SimpleImputer(),\n",
       "                                                                   ['co', 'no',\n",
       "                                                                    'no2', 'o3',\n",
       "                                                                    'so2',\n",
       "                                                                    'pm2_5',\n",
       "                                                                    'pm10',\n",
       "                                                                    'nh3'])])),\n",
       "                                 ('standardscaler', StandardScaler())])),\n",
       "                ('mlpclassifier',\n",
       "                 MLPClassifier(alpha=10, hidden_layer_sizes=(20,), max_iter=600,\n",
       "                               random_state=0))])"
      ]
     },
     "execution_count": 41,
     "metadata": {},
     "output_type": "execute_result"
    }
   ],
   "source": [
    "full_pipeline"
   ]
  },
  {
   "cell_type": "markdown",
   "id": "c770642d",
   "metadata": {},
   "source": [
    "#### Độ lỗi trên tập train"
   ]
  },
  {
   "cell_type": "code",
   "execution_count": 42,
   "id": "106cc871",
   "metadata": {},
   "outputs": [
    {
     "data": {
      "text/plain": [
       "Text(0, 0.5, 'alpha')"
      ]
     },
     "execution_count": 42,
     "metadata": {},
     "output_type": "execute_result"
    },
    {
     "data": {
      "image/png": "[encoded data removed]",
      "text/plain": [
       "<Figure size 432x288 with 1 Axes>"
      ]
     },
     "metadata": {
      "needs_background": "light"
     },
     "output_type": "display_data"
    }
   ],
   "source": [
    "ax = pd.Series(train_errs, index = alphas).plot.barh()\n",
    "ax.set_xlabel('Độ lỗi trên tập train (%)')\n",
    "ax.set_ylabel('alpha')"
   ]
  },
  {
   "cell_type": "markdown",
   "id": "518782dc",
   "metadata": {},
   "source": [
    "#### Độ lỗi trên tập valid"
   ]
  },
  {
   "cell_type": "code",
   "execution_count": 43,
   "id": "f93c5bf5",
   "metadata": {},
   "outputs": [
    {
     "data": {
      "text/plain": [
       "Text(0, 0.5, 'alpha')"
      ]
     },
     "execution_count": 43,
     "metadata": {},
     "output_type": "execute_result"
    },
    {
     "data": {
      "image/png": "[encoded data removed]",
      "text/plain": [
       "<Figure size 432x288 with 1 Axes>"
      ]
     },
     "metadata": {
      "needs_background": "light"
     },
     "output_type": "display_data"
    }
   ],
   "source": [
    "bx = pd.Series(val_errs, index = alphas).plot.barh()\n",
    "bx.set_xlabel('Độ lỗi trên tập valid (%)')\n",
    "bx.set_ylabel('alpha')"
   ]
  },
  {
   "cell_type": "markdown",
   "id": "f1b07afd",
   "metadata": {},
   "source": [
    "#### Độ lỗi nhỏ nhất trên tập valid và alpha tốt nhất"
   ]
  },
  {
   "cell_type": "code",
   "execution_count": 44,
   "id": "727befbe",
   "metadata": {},
   "outputs": [
    {
     "name": "stdout",
     "output_type": "stream",
     "text": [
      "Best valid err:  7.26 %\n",
      "\n",
      "Best alpha:  0.01\n"
     ]
    }
   ],
   "source": [
    "print('Best valid err: ', best_val_err.round(2), '%')\n",
    "print()\n",
    "print('Best alpha: ',best_alpha)"
   ]
  },
  {
   "cell_type": "markdown",
   "id": "e07ea1ea",
   "metadata": {},
   "source": [
    "Cuối cùng, huấn luyện lại `full_pipeline` trên `X_df` và `y_sr` (tập huấn luyện + tập validation) với `best_alpha` tìm được ở trên để ra được mô hình cụ thể cuối cùng."
   ]
  },
  {
   "cell_type": "code",
   "execution_count": 45,
   "id": "83d7133f",
   "metadata": {},
   "outputs": [
    {
     "name": "stderr",
     "output_type": "stream",
     "text": [
      "/home/lts/miniconda3/envs/min_ds-env/lib/python3.8/site-packages/sklearn/neural_network/_multilayer_perceptron.py:614: ConvergenceWarning: Stochastic Optimizer: Maximum iterations (600) reached and the optimization hasn't converged yet.\n",
      "  warnings.warn(\n"
     ]
    },
    {
     "data": {
      "text/html": [
       "<style>#sk-66e09622-8ecc-4140-9812-5ae1be410c59 {color: black;background-color: white;}#sk-66e09622-8ecc-4140-9812-5ae1be410c59 pre{padding: 0;}#sk-66e09622-8ecc-4140-9812-5ae1be410c59 div.sk-toggleable {background-color: white;}#sk-66e09622-8ecc-4140-9812-5ae1be410c59 label.sk-toggleable__label {cursor: pointer;display: block;width: 100%;margin-bottom: 0;padding: 0.2em 0.3em;box-sizing: border-box;text-align: center;}#sk-66e09622-8ecc-4140-9812-5ae1be410c59 div.sk-toggleable__content {max-height: 0;max-width: 0;overflow: hidden;text-align: left;background-color: #f0f8ff;}#sk-66e09622-8ecc-4140-9812-5ae1be410c59 div.sk-toggleable__content pre {margin: 0.2em;color: black;border-radius: 0.25em;background-color: #f0f8ff;}#sk-66e09622-8ecc-4140-9812-5ae1be410c59 input.sk-toggleable__control:checked~div.sk-toggleable__content {max-height: 200px;max-width: 100%;overflow: auto;}#sk-66e09622-8ecc-4140-9812-5ae1be410c59 div.sk-estimator input.sk-toggleable__control:checked~label.sk-toggleable__label {background-color: #d4ebff;}#sk-66e09622-8ecc-4140-9812-5ae1be410c59 div.sk-label input.sk-toggleable__control:checked~label.sk-toggleable__label {background-color: #d4ebff;}#sk-66e09622-8ecc-4140-9812-5ae1be410c59 input.sk-hidden--visually {border: 0;clip: rect(1px 1px 1px 1px);clip: rect(1px, 1px, 1px, 1px);height: 1px;margin: -1px;overflow: hidden;padding: 0;position: absolute;width: 1px;}#sk-66e09622-8ecc-4140-9812-5ae1be410c59 div.sk-estimator {font-family: monospace;background-color: #f0f8ff;margin: 0.25em 0.25em;border: 1px dotted black;border-radius: 0.25em;box-sizing: border-box;}#sk-66e09622-8ecc-4140-9812-5ae1be410c59 div.sk-estimator:hover {background-color: #d4ebff;}#sk-66e09622-8ecc-4140-9812-5ae1be410c59 div.sk-parallel-item::after {content: \"\";width: 100%;border-bottom: 1px solid gray;flex-grow: 1;}#sk-66e09622-8ecc-4140-9812-5ae1be410c59 div.sk-label:hover label.sk-toggleable__label {background-color: #d4ebff;}#sk-66e09622-8ecc-4140-9812-5ae1be410c59 div.sk-serial::before {content: \"\";position: absolute;border-left: 1px solid gray;box-sizing: border-box;top: 2em;bottom: 0;left: 50%;}#sk-66e09622-8ecc-4140-9812-5ae1be410c59 div.sk-serial {display: flex;flex-direction: column;align-items: center;background-color: white;}#sk-66e09622-8ecc-4140-9812-5ae1be410c59 div.sk-item {z-index: 1;}#sk-66e09622-8ecc-4140-9812-5ae1be410c59 div.sk-parallel {display: flex;align-items: stretch;justify-content: center;background-color: white;}#sk-66e09622-8ecc-4140-9812-5ae1be410c59 div.sk-parallel-item {display: flex;flex-direction: column;position: relative;background-color: white;}#sk-66e09622-8ecc-4140-9812-5ae1be410c59 div.sk-parallel-item:first-child::after {align-self: flex-end;width: 50%;}#sk-66e09622-8ecc-4140-9812-5ae1be410c59 div.sk-parallel-item:last-child::after {align-self: flex-start;width: 50%;}#sk-66e09622-8ecc-4140-9812-5ae1be410c59 div.sk-parallel-item:only-child::after {width: 0;}#sk-66e09622-8ecc-4140-9812-5ae1be410c59 div.sk-dashed-wrapped {border: 1px dashed gray;margin: 0.2em;box-sizing: border-box;padding-bottom: 0.1em;background-color: white;position: relative;}#sk-66e09622-8ecc-4140-9812-5ae1be410c59 div.sk-label label {font-family: monospace;font-weight: bold;background-color: white;display: inline-block;line-height: 1.2em;}#sk-66e09622-8ecc-4140-9812-5ae1be410c59 div.sk-label-container {position: relative;z-index: 2;text-align: center;}#sk-66e09622-8ecc-4140-9812-5ae1be410c59 div.sk-container {display: inline-block;position: relative;}</style><div id=\"sk-66e09622-8ecc-4140-9812-5ae1be410c59\" class\"sk-top-container\"><div class=\"sk-container\"><div class=\"sk-item sk-dashed-wrapped\"><div class=\"sk-label-container\"><div class=\"sk-label sk-toggleable\"><input class=\"sk-toggleable__control sk-hidden--visually\" id=\"68707ea4-b7e5-46d0-b084-e74cdecf52d3\" type=\"checkbox\" ><label class=\"sk-toggleable__label\" for=\"68707ea4-b7e5-46d0-b084-e74cdecf52d3\">Pipeline</label><div class=\"sk-toggleable__content\"><pre>Pipeline(steps=[('pipeline',\n",
       "                 Pipeline(steps=[('columntransformer',\n",
       "                                  ColumnTransformer(transformers=[('simpleimputer',\n",
       "                                                                   SimpleImputer(),\n",
       "                                                                   ['co', 'no',\n",
       "                                                                    'no2', 'o3',\n",
       "                                                                    'so2',\n",
       "                                                                    'pm2_5',\n",
       "                                                                    'pm10',\n",
       "                                                                    'nh3'])])),\n",
       "                                 ('standardscaler', StandardScaler())])),\n",
       "                ('mlpclassifier',\n",
       "                 MLPClassifier(alpha=0.01, hidden_layer_sizes=(20,),\n",
       "                               max_iter=600, random_state=0))])</pre></div></div></div><div class=\"sk-serial\"><div class=\"sk-item\"><div class=\"sk-label-container\"><div class=\"sk-label sk-toggleable\"><input class=\"sk-toggleable__control sk-hidden--visually\" id=\"60467f2d-9312-4297-b73e-a606890d4ccb\" type=\"checkbox\" ><label class=\"sk-toggleable__label\" for=\"60467f2d-9312-4297-b73e-a606890d4ccb\">pipeline: Pipeline</label><div class=\"sk-toggleable__content\"><pre>Pipeline(steps=[('columntransformer',\n",
       "                 ColumnTransformer(transformers=[('simpleimputer',\n",
       "                                                  SimpleImputer(),\n",
       "                                                  ['co', 'no', 'no2', 'o3',\n",
       "                                                   'so2', 'pm2_5', 'pm10',\n",
       "                                                   'nh3'])])),\n",
       "                ('standardscaler', StandardScaler())])</pre></div></div></div><div class=\"sk-serial\"><div class=\"sk-item sk-dashed-wrapped\"><div class=\"sk-label-container\"><div class=\"sk-label sk-toggleable\"><input class=\"sk-toggleable__control sk-hidden--visually\" id=\"d955c346-d775-4732-ac4b-854802440530\" type=\"checkbox\" ><label class=\"sk-toggleable__label\" for=\"d955c346-d775-4732-ac4b-854802440530\">columntransformer: ColumnTransformer</label><div class=\"sk-toggleable__content\"><pre>ColumnTransformer(transformers=[('simpleimputer', SimpleImputer(),\n",
       "                                 ['co', 'no', 'no2', 'o3', 'so2', 'pm2_5',\n",
       "                                  'pm10', 'nh3'])])</pre></div></div></div><div class=\"sk-parallel\"><div class=\"sk-parallel-item\"><div class=\"sk-item\"><div class=\"sk-label-container\"><div class=\"sk-label sk-toggleable\"><input class=\"sk-toggleable__control sk-hidden--visually\" id=\"ebd75266-ecd6-41a6-8d36-1344e27da6b1\" type=\"checkbox\" ><label class=\"sk-toggleable__label\" for=\"ebd75266-ecd6-41a6-8d36-1344e27da6b1\">simpleimputer</label><div class=\"sk-toggleable__content\"><pre>['co', 'no', 'no2', 'o3', 'so2', 'pm2_5', 'pm10', 'nh3']</pre></div></div></div><div class=\"sk-serial\"><div class=\"sk-item\"><div class=\"sk-estimator sk-toggleable\"><input class=\"sk-toggleable__control sk-hidden--visually\" id=\"67a2967b-ed3f-4999-a24b-2b576ec19d1a\" type=\"checkbox\" ><label class=\"sk-toggleable__label\" for=\"67a2967b-ed3f-4999-a24b-2b576ec19d1a\">SimpleImputer</label><div class=\"sk-toggleable__content\"><pre>SimpleImputer()</pre></div></div></div></div></div></div></div></div><div class=\"sk-item\"><div class=\"sk-estimator sk-toggleable\"><input class=\"sk-toggleable__control sk-hidden--visually\" id=\"a81d684f-9038-4db0-ba1f-c6415686406b\" type=\"checkbox\" ><label class=\"sk-toggleable__label\" for=\"a81d684f-9038-4db0-ba1f-c6415686406b\">StandardScaler</label><div class=\"sk-toggleable__content\"><pre>StandardScaler()</pre></div></div></div></div></div><div class=\"sk-item\"><div class=\"sk-estimator sk-toggleable\"><input class=\"sk-toggleable__control sk-hidden--visually\" id=\"d8fa10a2-d3fb-480e-aa61-d85e5c919d81\" type=\"checkbox\" ><label class=\"sk-toggleable__label\" for=\"d8fa10a2-d3fb-480e-aa61-d85e5c919d81\">MLPClassifier</label><div class=\"sk-toggleable__content\"><pre>MLPClassifier(alpha=0.01, hidden_layer_sizes=(20,), max_iter=600,\n",
       "              random_state=0)</pre></div></div></div></div></div></div></div>"
      ],
      "text/plain": [
       "Pipeline(steps=[('pipeline',\n",
       "                 Pipeline(steps=[('columntransformer',\n",
       "                                  ColumnTransformer(transformers=[('simpleimputer',\n",
       "                                                                   SimpleImputer(),\n",
       "                                                                   ['co', 'no',\n",
       "                                                                    'no2', 'o3',\n",
       "                                                                    'so2',\n",
       "                                                                    'pm2_5',\n",
       "                                                                    'pm10',\n",
       "                                                                    'nh3'])])),\n",
       "                                 ('standardscaler', StandardScaler())])),\n",
       "                ('mlpclassifier',\n",
       "                 MLPClassifier(alpha=0.01, hidden_layer_sizes=(20,),\n",
       "                               max_iter=600, random_state=0))])"
      ]
     },
     "execution_count": 45,
     "metadata": {},
     "output_type": "execute_result"
    }
   ],
   "source": [
    "full_pipeline.set_params(mlpclassifier__alpha = best_alpha)\n",
    "\n",
    "full_pipeline.fit(temp_X_df, temp_y_sr)"
   ]
  },
  {
   "cell_type": "code",
   "execution_count": 46,
   "id": "a0476d5e",
   "metadata": {},
   "outputs": [],
   "source": [
    "errors_temp=[]\n",
    "errors_test=[]"
   ]
  },
  {
   "cell_type": "markdown",
   "id": "0f80ce22",
   "metadata": {},
   "source": [
    "### Đánh giá mô hình tìm được:\n",
    "Đánh giá mô hình tìm được với test data"
   ]
  },
  {
   "cell_type": "code",
   "execution_count": 47,
   "id": "ed9ecde1",
   "metadata": {},
   "outputs": [
    {
     "name": "stdout",
     "output_type": "stream",
     "text": [
      "Error with train+val data:  5.39 %\n"
     ]
    }
   ],
   "source": [
    "#Độ lỗi trên tập (train+validation)\n",
    "err = ((1-full_pipeline.score(temp_X_df, temp_y_sr)) * 100).round(2)\n",
    "errors_temp.append(err)\n",
    "print('Error with train+val data: ', err, '%')"
   ]
  },
  {
   "cell_type": "code",
   "execution_count": 48,
   "id": "0b4c6b1d",
   "metadata": {},
   "outputs": [
    {
     "name": "stdout",
     "output_type": "stream",
     "text": [
      "Error with test data:  3.09 %\n"
     ]
    }
   ],
   "source": [
    "#Độ lỗi trên tập test\n",
    "err = ((1-full_pipeline.score(test_X_df, test_y_sr)) * 100).round(2)\n",
    "errors_test.append(err)\n",
    "print('Error with test data: ', err, '%')"
   ]
  },
  {
   "cell_type": "markdown",
   "id": "2bb861ae",
   "metadata": {},
   "source": [
    "### Nhận xét\n",
    "- Mô hình MLP-Classifier fit khá tốt trên tập dữ liệu<br/>\n",
    "- Độ lỗi trên tập valid tỉ lệ thuận với alpha trên cả tập (train+val) và tập test<br/>"
   ]
  },
  {
   "cell_type": "markdown",
   "id": "e66ef951",
   "metadata": {},
   "source": [
    "### 5.2 Mô hình Softmax Regression"
   ]
  },
  {
   "cell_type": "code",
   "execution_count": 49,
   "id": "65dda082",
   "metadata": {},
   "outputs": [
    {
     "name": "stderr",
     "output_type": "stream",
     "text": [
      "/home/lts/miniconda3/envs/min_ds-env/lib/python3.8/site-packages/sklearn/linear_model/_logistic.py:763: ConvergenceWarning: lbfgs failed to converge (status=1):\n",
      "STOP: TOTAL NO. of ITERATIONS REACHED LIMIT.\n",
      "\n",
      "Increase the number of iterations (max_iter) or scale the data as shown in:\n",
      "    https://scikit-learn.org/stable/modules/preprocessing.html\n",
      "Please also refer to the documentation for alternative solver options:\n",
      "    https://scikit-learn.org/stable/modules/linear_model.html#logistic-regression\n",
      "  n_iter_i = _check_optimize_result(\n"
     ]
    },
    {
     "data": {
      "text/html": [
       "<style>#sk-f727b574-3032-4920-b30e-455ce562aa50 {color: black;background-color: white;}#sk-f727b574-3032-4920-b30e-455ce562aa50 pre{padding: 0;}#sk-f727b574-3032-4920-b30e-455ce562aa50 div.sk-toggleable {background-color: white;}#sk-f727b574-3032-4920-b30e-455ce562aa50 label.sk-toggleable__label {cursor: pointer;display: block;width: 100%;margin-bottom: 0;padding: 0.2em 0.3em;box-sizing: border-box;text-align: center;}#sk-f727b574-3032-4920-b30e-455ce562aa50 div.sk-toggleable__content {max-height: 0;max-width: 0;overflow: hidden;text-align: left;background-color: #f0f8ff;}#sk-f727b574-3032-4920-b30e-455ce562aa50 div.sk-toggleable__content pre {margin: 0.2em;color: black;border-radius: 0.25em;background-color: #f0f8ff;}#sk-f727b574-3032-4920-b30e-455ce562aa50 input.sk-toggleable__control:checked~div.sk-toggleable__content {max-height: 200px;max-width: 100%;overflow: auto;}#sk-f727b574-3032-4920-b30e-455ce562aa50 div.sk-estimator input.sk-toggleable__control:checked~label.sk-toggleable__label {background-color: #d4ebff;}#sk-f727b574-3032-4920-b30e-455ce562aa50 div.sk-label input.sk-toggleable__control:checked~label.sk-toggleable__label {background-color: #d4ebff;}#sk-f727b574-3032-4920-b30e-455ce562aa50 input.sk-hidden--visually {border: 0;clip: rect(1px 1px 1px 1px);clip: rect(1px, 1px, 1px, 1px);height: 1px;margin: -1px;overflow: hidden;padding: 0;position: absolute;width: 1px;}#sk-f727b574-3032-4920-b30e-455ce562aa50 div.sk-estimator {font-family: monospace;background-color: #f0f8ff;margin: 0.25em 0.25em;border: 1px dotted black;border-radius: 0.25em;box-sizing: border-box;}#sk-f727b574-3032-4920-b30e-455ce562aa50 div.sk-estimator:hover {background-color: #d4ebff;}#sk-f727b574-3032-4920-b30e-455ce562aa50 div.sk-parallel-item::after {content: \"\";width: 100%;border-bottom: 1px solid gray;flex-grow: 1;}#sk-f727b574-3032-4920-b30e-455ce562aa50 div.sk-label:hover label.sk-toggleable__label {background-color: #d4ebff;}#sk-f727b574-3032-4920-b30e-455ce562aa50 div.sk-serial::before {content: \"\";position: absolute;border-left: 1px solid gray;box-sizing: border-box;top: 2em;bottom: 0;left: 50%;}#sk-f727b574-3032-4920-b30e-455ce562aa50 div.sk-serial {display: flex;flex-direction: column;align-items: center;background-color: white;}#sk-f727b574-3032-4920-b30e-455ce562aa50 div.sk-item {z-index: 1;}#sk-f727b574-3032-4920-b30e-455ce562aa50 div.sk-parallel {display: flex;align-items: stretch;justify-content: center;background-color: white;}#sk-f727b574-3032-4920-b30e-455ce562aa50 div.sk-parallel-item {display: flex;flex-direction: column;position: relative;background-color: white;}#sk-f727b574-3032-4920-b30e-455ce562aa50 div.sk-parallel-item:first-child::after {align-self: flex-end;width: 50%;}#sk-f727b574-3032-4920-b30e-455ce562aa50 div.sk-parallel-item:last-child::after {align-self: flex-start;width: 50%;}#sk-f727b574-3032-4920-b30e-455ce562aa50 div.sk-parallel-item:only-child::after {width: 0;}#sk-f727b574-3032-4920-b30e-455ce562aa50 div.sk-dashed-wrapped {border: 1px dashed gray;margin: 0.2em;box-sizing: border-box;padding-bottom: 0.1em;background-color: white;position: relative;}#sk-f727b574-3032-4920-b30e-455ce562aa50 div.sk-label label {font-family: monospace;font-weight: bold;background-color: white;display: inline-block;line-height: 1.2em;}#sk-f727b574-3032-4920-b30e-455ce562aa50 div.sk-label-container {position: relative;z-index: 2;text-align: center;}#sk-f727b574-3032-4920-b30e-455ce562aa50 div.sk-container {display: inline-block;position: relative;}</style><div id=\"sk-f727b574-3032-4920-b30e-455ce562aa50\" class\"sk-top-container\"><div class=\"sk-container\"><div class=\"sk-item sk-dashed-wrapped\"><div class=\"sk-label-container\"><div class=\"sk-label sk-toggleable\"><input class=\"sk-toggleable__control sk-hidden--visually\" id=\"09cd4446-0aa2-4757-afdb-acb45a48fba5\" type=\"checkbox\" ><label class=\"sk-toggleable__label\" for=\"09cd4446-0aa2-4757-afdb-acb45a48fba5\">Pipeline</label><div class=\"sk-toggleable__content\"><pre>Pipeline(steps=[('pipeline',\n",
       "                 Pipeline(steps=[('columntransformer',\n",
       "                                  ColumnTransformer(transformers=[('simpleimputer',\n",
       "                                                                   SimpleImputer(),\n",
       "                                                                   ['co', 'no',\n",
       "                                                                    'no2', 'o3',\n",
       "                                                                    'so2',\n",
       "                                                                    'pm2_5',\n",
       "                                                                    'pm10',\n",
       "                                                                    'nh3'])])),\n",
       "                                 ('standardscaler', StandardScaler())])),\n",
       "                ('logisticregression',\n",
       "                 LogisticRegression(multi_class='multinomial'))])</pre></div></div></div><div class=\"sk-serial\"><div class=\"sk-item\"><div class=\"sk-label-container\"><div class=\"sk-label sk-toggleable\"><input class=\"sk-toggleable__control sk-hidden--visually\" id=\"fddb34d9-d373-402c-a7ca-8b4ea38ae13d\" type=\"checkbox\" ><label class=\"sk-toggleable__label\" for=\"fddb34d9-d373-402c-a7ca-8b4ea38ae13d\">pipeline: Pipeline</label><div class=\"sk-toggleable__content\"><pre>Pipeline(steps=[('columntransformer',\n",
       "                 ColumnTransformer(transformers=[('simpleimputer',\n",
       "                                                  SimpleImputer(),\n",
       "                                                  ['co', 'no', 'no2', 'o3',\n",
       "                                                   'so2', 'pm2_5', 'pm10',\n",
       "                                                   'nh3'])])),\n",
       "                ('standardscaler', StandardScaler())])</pre></div></div></div><div class=\"sk-serial\"><div class=\"sk-item sk-dashed-wrapped\"><div class=\"sk-label-container\"><div class=\"sk-label sk-toggleable\"><input class=\"sk-toggleable__control sk-hidden--visually\" id=\"e5312cad-d855-499b-b763-445f74a3b857\" type=\"checkbox\" ><label class=\"sk-toggleable__label\" for=\"e5312cad-d855-499b-b763-445f74a3b857\">columntransformer: ColumnTransformer</label><div class=\"sk-toggleable__content\"><pre>ColumnTransformer(transformers=[('simpleimputer', SimpleImputer(),\n",
       "                                 ['co', 'no', 'no2', 'o3', 'so2', 'pm2_5',\n",
       "                                  'pm10', 'nh3'])])</pre></div></div></div><div class=\"sk-parallel\"><div class=\"sk-parallel-item\"><div class=\"sk-item\"><div class=\"sk-label-container\"><div class=\"sk-label sk-toggleable\"><input class=\"sk-toggleable__control sk-hidden--visually\" id=\"eb2559df-d166-48bb-a2c5-4c860a558e2b\" type=\"checkbox\" ><label class=\"sk-toggleable__label\" for=\"eb2559df-d166-48bb-a2c5-4c860a558e2b\">simpleimputer</label><div class=\"sk-toggleable__content\"><pre>['co', 'no', 'no2', 'o3', 'so2', 'pm2_5', 'pm10', 'nh3']</pre></div></div></div><div class=\"sk-serial\"><div class=\"sk-item\"><div class=\"sk-estimator sk-toggleable\"><input class=\"sk-toggleable__control sk-hidden--visually\" id=\"2b26b77e-3724-40f0-8018-09753f7a637c\" type=\"checkbox\" ><label class=\"sk-toggleable__label\" for=\"2b26b77e-3724-40f0-8018-09753f7a637c\">SimpleImputer</label><div class=\"sk-toggleable__content\"><pre>SimpleImputer()</pre></div></div></div></div></div></div></div></div><div class=\"sk-item\"><div class=\"sk-estimator sk-toggleable\"><input class=\"sk-toggleable__control sk-hidden--visually\" id=\"0d70f6f9-5587-44fa-9e9a-6234c5ea209e\" type=\"checkbox\" ><label class=\"sk-toggleable__label\" for=\"0d70f6f9-5587-44fa-9e9a-6234c5ea209e\">StandardScaler</label><div class=\"sk-toggleable__content\"><pre>StandardScaler()</pre></div></div></div></div></div><div class=\"sk-item\"><div class=\"sk-estimator sk-toggleable\"><input class=\"sk-toggleable__control sk-hidden--visually\" id=\"ebbfdf72-ceff-4ad6-8361-1bbb025d26d5\" type=\"checkbox\" ><label class=\"sk-toggleable__label\" for=\"ebbfdf72-ceff-4ad6-8361-1bbb025d26d5\">LogisticRegression</label><div class=\"sk-toggleable__content\"><pre>LogisticRegression(multi_class='multinomial')</pre></div></div></div></div></div></div></div>"
      ],
      "text/plain": [
       "Pipeline(steps=[('pipeline',\n",
       "                 Pipeline(steps=[('columntransformer',\n",
       "                                  ColumnTransformer(transformers=[('simpleimputer',\n",
       "                                                                   SimpleImputer(),\n",
       "                                                                   ['co', 'no',\n",
       "                                                                    'no2', 'o3',\n",
       "                                                                    'so2',\n",
       "                                                                    'pm2_5',\n",
       "                                                                    'pm10',\n",
       "                                                                    'nh3'])])),\n",
       "                                 ('standardscaler', StandardScaler())])),\n",
       "                ('logisticregression',\n",
       "                 LogisticRegression(multi_class='multinomial'))])"
      ]
     },
     "execution_count": 49,
     "metadata": {},
     "output_type": "execute_result"
    }
   ],
   "source": [
    "log_reg_model = LogisticRegression(multi_class = 'multinomial')\n",
    "full_pipeline_2 = make_pipeline(preprocess_pipeline, log_reg_model)\n",
    "full_pipeline_2.fit(temp_X_df, temp_y_sr)"
   ]
  },
  {
   "cell_type": "code",
   "execution_count": 50,
   "id": "19e281b7",
   "metadata": {},
   "outputs": [
    {
     "name": "stdout",
     "output_type": "stream",
     "text": [
      "Error with train+valid data:  14.5 %\n"
     ]
    }
   ],
   "source": [
    "#Độ lỗi trên tập (train+validation)\n",
    "err = ((1-full_pipeline_2.score(temp_X_df, temp_y_sr)) * 100).round(2)\n",
    "print('Error with train+valid data: ', err, '%')\n",
    "errors_temp.append(err)"
   ]
  },
  {
   "cell_type": "code",
   "execution_count": 51,
   "id": "0878da84",
   "metadata": {},
   "outputs": [
    {
     "name": "stdout",
     "output_type": "stream",
     "text": [
      "Error with test data:  13.89 %\n"
     ]
    }
   ],
   "source": [
    "#Độ lỗi trên tập test\n",
    "err = ((1-full_pipeline_2.score(test_X_df, test_y_sr)) * 100).round(2)\n",
    "print('Error with test data: ', err, '%')\n",
    "errors_test.append(err)"
   ]
  },
  {
   "cell_type": "markdown",
   "id": "d19975f2",
   "metadata": {},
   "source": [
    "### Nhận xét\n",
    "- Độ lỗi trên cả hai không chênh lệch quá nhiều <br/>\n",
    "- Mô hình fit khá ổn trên tập dữ liệu"
   ]
  },
  {
   "cell_type": "markdown",
   "id": "96371eb2",
   "metadata": {},
   "source": [
    "### 5.3 Mô hình K-Neighbors Classifier"
   ]
  },
  {
   "cell_type": "markdown",
   "id": "7575786e",
   "metadata": {},
   "source": [
    "Thử nghiệm nhiều giá trị của siêu tham số n_neighbors để tìm được độ lỗi trên tập validation tối ưu."
   ]
  },
  {
   "cell_type": "code",
   "execution_count": 52,
   "id": "41f09a54",
   "metadata": {},
   "outputs": [
    {
     "data": {
      "text/plain": [
       "'Finish!'"
      ]
     },
     "execution_count": 52,
     "metadata": {},
     "output_type": "execute_result"
    }
   ],
   "source": [
    "full_pipeline_3 = make_pipeline(preprocess_pipeline,KNeighborsClassifier())\n",
    "# Thử nghiệm với các giá trị khác nhau của các siêu tham số\n",
    "# và chọn ra các giá trị tốt nhất\n",
    "train_errs = []\n",
    "val_errs = []\n",
    "n_neighbors = [2, 3, 4, 5, 6,10,20,30,40,50]\n",
    "best_val_err = float('inf')\n",
    "best_neighbor = None\n",
    "for neighbor in n_neighbors:\n",
    "    full_pipeline_3.set_params(kneighborsclassifier__n_neighbors = neighbor)\n",
    "    full_pipeline_3.fit(train_X_df, train_y_sr)\n",
    "    train_errs.append((1 - full_pipeline_3.score(train_X_df, train_y_sr)) * 100)\n",
    "    val_errs.append((1 - full_pipeline_3.score(val_X_df, val_y_sr)) * 100)\n",
    "\n",
    "best_val_err = min(val_errs)\n",
    "index = val_errs.index(min(val_errs))\n",
    "best_neighbor = n_neighbors[index]\n",
    "\n",
    "'Finish!'"
   ]
  },
  {
   "cell_type": "markdown",
   "id": "43f9e4df",
   "metadata": {},
   "source": [
    "#### Độ lỗi trên tập train"
   ]
  },
  {
   "cell_type": "code",
   "execution_count": 53,
   "id": "7f9b9938",
   "metadata": {},
   "outputs": [
    {
     "data": {
      "text/plain": [
       "Text(0, 0.5, 'neighbor')"
      ]
     },
     "execution_count": 53,
     "metadata": {},
     "output_type": "execute_result"
    },
    {
     "data": {
      "image/png": "[encoded data removed]",
      "text/plain": [
       "<Figure size 432x288 with 1 Axes>"
      ]
     },
     "metadata": {
      "needs_background": "light"
     },
     "output_type": "display_data"
    }
   ],
   "source": [
    "cx = pd.Series(train_errs, index = n_neighbors).plot.barh()\n",
    "cx.set_xlabel('Độ lỗi trên tập train (%)')\n",
    "cx.set_ylabel('neighbor')"
   ]
  },
  {
   "cell_type": "markdown",
   "id": "1a4eb6ca",
   "metadata": {},
   "source": [
    "#### Độ lỗi trên tập valid"
   ]
  },
  {
   "cell_type": "code",
   "execution_count": 54,
   "id": "31ecff3c",
   "metadata": {},
   "outputs": [
    {
     "data": {
      "text/plain": [
       "Text(0, 0.5, 'neighbor')"
      ]
     },
     "execution_count": 54,
     "metadata": {},
     "output_type": "execute_result"
    },
    {
     "data": {
      "image/png": "[encoded data removed]",
      "text/plain": [
       "<Figure size 432x288 with 1 Axes>"
      ]
     },
     "metadata": {
      "needs_background": "light"
     },
     "output_type": "display_data"
    }
   ],
   "source": [
    "dx = pd.Series(val_errs, index = n_neighbors).plot.barh()\n",
    "dx.set_xlabel('Độ lỗi trên tập train (%)')\n",
    "dx.set_ylabel('neighbor')"
   ]
  },
  {
   "cell_type": "markdown",
   "id": "ce9c0c49",
   "metadata": {},
   "source": [
    "#### Độ lỗi nhỏ nhất trên tập valid và neighbor tốt nhất"
   ]
  },
  {
   "cell_type": "code",
   "execution_count": 55,
   "id": "4ff483d5",
   "metadata": {},
   "outputs": [
    {
     "name": "stdout",
     "output_type": "stream",
     "text": [
      "Best valid err:  14.06 %\n",
      "\n",
      "Best neighbor:  3\n"
     ]
    }
   ],
   "source": [
    "print('Best valid err: ', best_val_err.round(2), '%')\n",
    "print()\n",
    "print('Best neighbor: ',best_neighbor)"
   ]
  },
  {
   "cell_type": "markdown",
   "id": "68a401fe",
   "metadata": {},
   "source": [
    "Cuối cùng, huấn luyện lại `full_pipeline` trên `X_df` và `y_sr` (tập huấn luyện + tập validation) với `best_neighbor` tìm được ở trên để ra được mô hình cụ thể cuối cùng."
   ]
  },
  {
   "cell_type": "code",
   "execution_count": 56,
   "id": "484e44cd",
   "metadata": {},
   "outputs": [
    {
     "data": {
      "text/html": [
       "<style>#sk-9ff2c30f-a674-4a46-95f9-44a44a329c12 {color: black;background-color: white;}#sk-9ff2c30f-a674-4a46-95f9-44a44a329c12 pre{padding: 0;}#sk-9ff2c30f-a674-4a46-95f9-44a44a329c12 div.sk-toggleable {background-color: white;}#sk-9ff2c30f-a674-4a46-95f9-44a44a329c12 label.sk-toggleable__label {cursor: pointer;display: block;width: 100%;margin-bottom: 0;padding: 0.2em 0.3em;box-sizing: border-box;text-align: center;}#sk-9ff2c30f-a674-4a46-95f9-44a44a329c12 div.sk-toggleable__content {max-height: 0;max-width: 0;overflow: hidden;text-align: left;background-color: #f0f8ff;}#sk-9ff2c30f-a674-4a46-95f9-44a44a329c12 div.sk-toggleable__content pre {margin: 0.2em;color: black;border-radius: 0.25em;background-color: #f0f8ff;}#sk-9ff2c30f-a674-4a46-95f9-44a44a329c12 input.sk-toggleable__control:checked~div.sk-toggleable__content {max-height: 200px;max-width: 100%;overflow: auto;}#sk-9ff2c30f-a674-4a46-95f9-44a44a329c12 div.sk-estimator input.sk-toggleable__control:checked~label.sk-toggleable__label {background-color: #d4ebff;}#sk-9ff2c30f-a674-4a46-95f9-44a44a329c12 div.sk-label input.sk-toggleable__control:checked~label.sk-toggleable__label {background-color: #d4ebff;}#sk-9ff2c30f-a674-4a46-95f9-44a44a329c12 input.sk-hidden--visually {border: 0;clip: rect(1px 1px 1px 1px);clip: rect(1px, 1px, 1px, 1px);height: 1px;margin: -1px;overflow: hidden;padding: 0;position: absolute;width: 1px;}#sk-9ff2c30f-a674-4a46-95f9-44a44a329c12 div.sk-estimator {font-family: monospace;background-color: #f0f8ff;margin: 0.25em 0.25em;border: 1px dotted black;border-radius: 0.25em;box-sizing: border-box;}#sk-9ff2c30f-a674-4a46-95f9-44a44a329c12 div.sk-estimator:hover {background-color: #d4ebff;}#sk-9ff2c30f-a674-4a46-95f9-44a44a329c12 div.sk-parallel-item::after {content: \"\";width: 100%;border-bottom: 1px solid gray;flex-grow: 1;}#sk-9ff2c30f-a674-4a46-95f9-44a44a329c12 div.sk-label:hover label.sk-toggleable__label {background-color: #d4ebff;}#sk-9ff2c30f-a674-4a46-95f9-44a44a329c12 div.sk-serial::before {content: \"\";position: absolute;border-left: 1px solid gray;box-sizing: border-box;top: 2em;bottom: 0;left: 50%;}#sk-9ff2c30f-a674-4a46-95f9-44a44a329c12 div.sk-serial {display: flex;flex-direction: column;align-items: center;background-color: white;}#sk-9ff2c30f-a674-4a46-95f9-44a44a329c12 div.sk-item {z-index: 1;}#sk-9ff2c30f-a674-4a46-95f9-44a44a329c12 div.sk-parallel {display: flex;align-items: stretch;justify-content: center;background-color: white;}#sk-9ff2c30f-a674-4a46-95f9-44a44a329c12 div.sk-parallel-item {display: flex;flex-direction: column;position: relative;background-color: white;}#sk-9ff2c30f-a674-4a46-95f9-44a44a329c12 div.sk-parallel-item:first-child::after {align-self: flex-end;width: 50%;}#sk-9ff2c30f-a674-4a46-95f9-44a44a329c12 div.sk-parallel-item:last-child::after {align-self: flex-start;width: 50%;}#sk-9ff2c30f-a674-4a46-95f9-44a44a329c12 div.sk-parallel-item:only-child::after {width: 0;}#sk-9ff2c30f-a674-4a46-95f9-44a44a329c12 div.sk-dashed-wrapped {border: 1px dashed gray;margin: 0.2em;box-sizing: border-box;padding-bottom: 0.1em;background-color: white;position: relative;}#sk-9ff2c30f-a674-4a46-95f9-44a44a329c12 div.sk-label label {font-family: monospace;font-weight: bold;background-color: white;display: inline-block;line-height: 1.2em;}#sk-9ff2c30f-a674-4a46-95f9-44a44a329c12 div.sk-label-container {position: relative;z-index: 2;text-align: center;}#sk-9ff2c30f-a674-4a46-95f9-44a44a329c12 div.sk-container {display: inline-block;position: relative;}</style><div id=\"sk-9ff2c30f-a674-4a46-95f9-44a44a329c12\" class\"sk-top-container\"><div class=\"sk-container\"><div class=\"sk-item sk-dashed-wrapped\"><div class=\"sk-label-container\"><div class=\"sk-label sk-toggleable\"><input class=\"sk-toggleable__control sk-hidden--visually\" id=\"42fb0544-ebc2-4fb9-9dfd-3b591be0b57f\" type=\"checkbox\" ><label class=\"sk-toggleable__label\" for=\"42fb0544-ebc2-4fb9-9dfd-3b591be0b57f\">Pipeline</label><div class=\"sk-toggleable__content\"><pre>Pipeline(steps=[('pipeline',\n",
       "                 Pipeline(steps=[('columntransformer',\n",
       "                                  ColumnTransformer(transformers=[('simpleimputer',\n",
       "                                                                   SimpleImputer(),\n",
       "                                                                   ['co', 'no',\n",
       "                                                                    'no2', 'o3',\n",
       "                                                                    'so2',\n",
       "                                                                    'pm2_5',\n",
       "                                                                    'pm10',\n",
       "                                                                    'nh3'])])),\n",
       "                                 ('standardscaler', StandardScaler())])),\n",
       "                ('kneighborsclassifier', KNeighborsClassifier(n_neighbors=3))])</pre></div></div></div><div class=\"sk-serial\"><div class=\"sk-item\"><div class=\"sk-label-container\"><div class=\"sk-label sk-toggleable\"><input class=\"sk-toggleable__control sk-hidden--visually\" id=\"22f38058-d35a-4491-8aee-24fe0a9e547e\" type=\"checkbox\" ><label class=\"sk-toggleable__label\" for=\"22f38058-d35a-4491-8aee-24fe0a9e547e\">pipeline: Pipeline</label><div class=\"sk-toggleable__content\"><pre>Pipeline(steps=[('columntransformer',\n",
       "                 ColumnTransformer(transformers=[('simpleimputer',\n",
       "                                                  SimpleImputer(),\n",
       "                                                  ['co', 'no', 'no2', 'o3',\n",
       "                                                   'so2', 'pm2_5', 'pm10',\n",
       "                                                   'nh3'])])),\n",
       "                ('standardscaler', StandardScaler())])</pre></div></div></div><div class=\"sk-serial\"><div class=\"sk-item sk-dashed-wrapped\"><div class=\"sk-label-container\"><div class=\"sk-label sk-toggleable\"><input class=\"sk-toggleable__control sk-hidden--visually\" id=\"16c9f01a-f0c0-486a-b112-64d6413163ee\" type=\"checkbox\" ><label class=\"sk-toggleable__label\" for=\"16c9f01a-f0c0-486a-b112-64d6413163ee\">columntransformer: ColumnTransformer</label><div class=\"sk-toggleable__content\"><pre>ColumnTransformer(transformers=[('simpleimputer', SimpleImputer(),\n",
       "                                 ['co', 'no', 'no2', 'o3', 'so2', 'pm2_5',\n",
       "                                  'pm10', 'nh3'])])</pre></div></div></div><div class=\"sk-parallel\"><div class=\"sk-parallel-item\"><div class=\"sk-item\"><div class=\"sk-label-container\"><div class=\"sk-label sk-toggleable\"><input class=\"sk-toggleable__control sk-hidden--visually\" id=\"0887be9f-313d-420e-ad97-fee3f8fc4308\" type=\"checkbox\" ><label class=\"sk-toggleable__label\" for=\"0887be9f-313d-420e-ad97-fee3f8fc4308\">simpleimputer</label><div class=\"sk-toggleable__content\"><pre>['co', 'no', 'no2', 'o3', 'so2', 'pm2_5', 'pm10', 'nh3']</pre></div></div></div><div class=\"sk-serial\"><div class=\"sk-item\"><div class=\"sk-estimator sk-toggleable\"><input class=\"sk-toggleable__control sk-hidden--visually\" id=\"d2d5ea85-d05e-4758-a04a-3d80de3f2af3\" type=\"checkbox\" ><label class=\"sk-toggleable__label\" for=\"d2d5ea85-d05e-4758-a04a-3d80de3f2af3\">SimpleImputer</label><div class=\"sk-toggleable__content\"><pre>SimpleImputer()</pre></div></div></div></div></div></div></div></div><div class=\"sk-item\"><div class=\"sk-estimator sk-toggleable\"><input class=\"sk-toggleable__control sk-hidden--visually\" id=\"4f85f35b-e5a8-42e7-bdd7-caaa5a4992c9\" type=\"checkbox\" ><label class=\"sk-toggleable__label\" for=\"4f85f35b-e5a8-42e7-bdd7-caaa5a4992c9\">StandardScaler</label><div class=\"sk-toggleable__content\"><pre>StandardScaler()</pre></div></div></div></div></div><div class=\"sk-item\"><div class=\"sk-estimator sk-toggleable\"><input class=\"sk-toggleable__control sk-hidden--visually\" id=\"195174cc-080d-44a4-ba55-145a3b348e91\" type=\"checkbox\" ><label class=\"sk-toggleable__label\" for=\"195174cc-080d-44a4-ba55-145a3b348e91\">KNeighborsClassifier</label><div class=\"sk-toggleable__content\"><pre>KNeighborsClassifier(n_neighbors=3)</pre></div></div></div></div></div></div></div>"
      ],
      "text/plain": [
       "Pipeline(steps=[('pipeline',\n",
       "                 Pipeline(steps=[('columntransformer',\n",
       "                                  ColumnTransformer(transformers=[('simpleimputer',\n",
       "                                                                   SimpleImputer(),\n",
       "                                                                   ['co', 'no',\n",
       "                                                                    'no2', 'o3',\n",
       "                                                                    'so2',\n",
       "                                                                    'pm2_5',\n",
       "                                                                    'pm10',\n",
       "                                                                    'nh3'])])),\n",
       "                                 ('standardscaler', StandardScaler())])),\n",
       "                ('kneighborsclassifier', KNeighborsClassifier(n_neighbors=3))])"
      ]
     },
     "execution_count": 56,
     "metadata": {},
     "output_type": "execute_result"
    }
   ],
   "source": [
    "full_pipeline_3.set_params(kneighborsclassifier__n_neighbors = best_neighbor)\n",
    "\n",
    "full_pipeline_3.fit(temp_X_df, temp_y_sr)"
   ]
  },
  {
   "cell_type": "markdown",
   "id": "79ec9be6",
   "metadata": {},
   "source": [
    "### Đánh giá mô hình tìm được:"
   ]
  },
  {
   "cell_type": "code",
   "execution_count": 57,
   "id": "594cc9ee",
   "metadata": {},
   "outputs": [
    {
     "name": "stdout",
     "output_type": "stream",
     "text": [
      "Error with train+val data:  5.393335623497075 %\n"
     ]
    }
   ],
   "source": [
    "#Độ lỗi trên tập (train+validation)\n",
    "err = ((1-full_pipeline_3.score(temp_X_df, temp_y_sr)) * 100)\n",
    "errors_temp.append(err)\n",
    "print('Error with train+val data: ', err, '%')"
   ]
  },
  {
   "cell_type": "code",
   "execution_count": 58,
   "id": "6e3cc50d",
   "metadata": {},
   "outputs": [
    {
     "name": "stdout",
     "output_type": "stream",
     "text": [
      "Error with test data:  13.89 %\n"
     ]
    }
   ],
   "source": [
    "#Độ lỗi trên tập test\n",
    "err = ((1-full_pipeline_3.score(test_X_df, test_y_sr)) * 100).round(2)\n",
    "errors_test.append(err)\n",
    "print('Error with test data: ', err, '%')"
   ]
  },
  {
   "cell_type": "markdown",
   "id": "e4411af6",
   "metadata": {},
   "source": [
    "### Nhận xét\n",
    "- Độ lỗi trên tập test cao hơn trên tập (train+val)"
   ]
  },
  {
   "cell_type": "markdown",
   "id": "e20cef6a",
   "metadata": {},
   "source": [
    "### 5.4 Mô hình tốt nhất\n"
   ]
  },
  {
   "cell_type": "code",
   "execution_count": 59,
   "id": "33676d74",
   "metadata": {},
   "outputs": [
    {
     "data": {
      "text/plain": [
       "<function matplotlib.pyplot.show(close=None, block=None)>"
      ]
     },
     "execution_count": 59,
     "metadata": {},
     "output_type": "execute_result"
    },
    {
     "data": {
      "image/png": "[encoded data removed]",
      "text/plain": [
       "<Figure size 432x288 with 1 Axes>"
      ]
     },
     "metadata": {
      "needs_background": "light"
     },
     "output_type": "display_data"
    }
   ],
   "source": [
    "divisions=['MLP Classifier','Softmax Regression','K-Neighbors Classifier']\n",
    "plt.bar(divisions,errors_temp,color='orange')\n",
    "plt.title('Train+Val Error')\n",
    "plt.xlabel('Models')\n",
    "plt.ylabel('Error(%)')\n",
    "plt.show"
   ]
  },
  {
   "cell_type": "code",
   "execution_count": 60,
   "id": "8600c1f5",
   "metadata": {},
   "outputs": [
    {
     "data": {
      "text/plain": [
       "<function matplotlib.pyplot.show(close=None, block=None)>"
      ]
     },
     "execution_count": 60,
     "metadata": {},
     "output_type": "execute_result"
    },
    {
     "data": {
      "image/png": "[encoded data removed]",
      "text/plain": [
       "<Figure size 432x288 with 1 Axes>"
      ]
     },
     "metadata": {
      "needs_background": "light"
     },
     "output_type": "display_data"
    }
   ],
   "source": [
    "plt.bar(divisions,errors_test,color='green')\n",
    "plt.title('Test Error')\n",
    "plt.xlabel('Models')\n",
    "plt.ylabel('Error(%)')\n",
    "plt.show"
   ]
  },
  {
   "cell_type": "markdown",
   "id": "d384bc4e",
   "metadata": {},
   "source": [
    "- Dựa vào độ lỗi trên tập test trên ta thấy mô hình MLP Classifier hoạt động hiệu quả hơn hai mô hình còn lại => dự đoán chất lượng không khí tốt nhất."
   ]
  },
  {
   "cell_type": "markdown",
   "id": "e7247188",
   "metadata": {},
   "source": [
    "# 6. Nhìn lại quá trình làm đồ án"
   ]
  },
  {
   "cell_type": "markdown",
   "id": "d58158d2",
   "metadata": {},
   "source": [
    "### 6.1 Những khó khăn đã gặp phải"
   ]
  },
  {
   "cell_type": "markdown",
   "id": "e3850fb0",
   "metadata": {},
   "source": [
    "- **Quang**: lựa chọn mô hình phù hợp với dữ liệu đã dùng, tốn thời gian trong việc tìm kiếm nguồn cung dữ liệu (một số webiste yêu cầu trả phí hoặc gửi email xin xác nhận mục đích sử dụng để truy cập dữ liệu).\n",
    "\n",
    "\n",
    "- **Sơn**: \n",
    "- Các khó khăn em đã gặp:\n",
    " - Tìm kiếm các ý tưởng.\n",
    " - Có ý tưởng nhưng không thể tìm được dữ liệu.\n",
    " - Tìm trên google các API phù hợp nhưng phải miễn phí."
   ]
  },
  {
   "cell_type": "markdown",
   "id": "9fe619e8",
   "metadata": {},
   "source": [
    "### 6.2 Những kỹ năng đã học được"
   ]
  },
  {
   "cell_type": "markdown",
   "id": "9a2d4a0f",
   "metadata": {},
   "source": [
    "- **Quang**: qua đồ án này em có thêm kinh nghiệm để chọn lọc và thu thập dữ liệu, hiểu thêm nhiều thuật toán phân lớp hữu ích\n",
    "\n",
    "\n",
    "- **Sơn**:\n",
    "- Qua đồ án trên, em đã học được:\n",
    " - Nhiều trang cung cấp api miễn phí thú vị\n",
    " - Dùng các thuật toán phân lớp để mô hình hóa dữ liệu\n",
    " - Bình tĩnh hơn khi gặp các vấn đề không thể giải quyết ngay"
   ]
  },
  {
   "cell_type": "markdown",
   "id": "114e8b59",
   "metadata": {},
   "source": [
    "### 6.3 Nếu có thêm thời gian:"
   ]
  },
  {
   "cell_type": "markdown",
   "id": "b5336ebe",
   "metadata": {},
   "source": [
    "Nhóm sẽ tìm và thu thập dữ liệu đa dạng, phức tạp hơn, có thể thử nghiệm thu thập dữ liệu bằng cách parse HTML và mô hình hóa dữ liệu với nhiều thuật toán khác."
   ]
  },
  {
   "cell_type": "markdown",
   "id": "ba79aa61",
   "metadata": {},
   "source": [
    "# 7. Tài liệu tham khảo"
   ]
  },
  {
   "cell_type": "markdown",
   "id": "b6727226",
   "metadata": {},
   "source": [
    "Chủ yếu từ các trang web:\n",
    "- https://openweathermap.org/api/air-pollution<br/>\n",
    "- https://scikit-learn.org/ <br/>\n",
    "- https://stackoverflow.com/<br/>\n",
    "- https://www.w3schools.com/<br/>\n",
    "\n",
    "Video bài giảng + demo của môn học + slide bài giảng<br/>\n",
    "Homework:1, 2, 3"
   ]
  }
 ],
 "metadata": {
  "kernelspec": {
   "display_name": "Python 3 (ipykernel)",
   "language": "python",
   "name": "python3"
  },
  "language_info": {
   "codemirror_mode": {
    "name": "ipython",
    "version": 3
   },
   "file_extension": ".py",
   "mimetype": "text/x-python",
   "name": "python",
   "nbconvert_exporter": "python",
   "pygments_lexer": "ipython3",
   "version": "3.8.8"
  }
 },
 "nbformat": 4,
 "nbformat_minor": 5
}
