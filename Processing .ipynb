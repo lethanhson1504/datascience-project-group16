{
 "cells": [
  {
   "cell_type": "markdown",
   "id": "445b82d5",
   "metadata": {},
   "source": [
    "# Khám phá dữ liệu, tiền xử lý, phân tích đơn giản"
   ]
  },
  {
   "cell_type": "code",
   "execution_count": 1,
   "id": "ccb7414d",
   "metadata": {},
   "outputs": [],
   "source": [
    "import matplotlib.pyplot as plt\n",
    "import numpy as np\n",
    "import pandas as pd "
   ]
  },
  {
   "cell_type": "markdown",
   "id": "ca1ab9c8",
   "metadata": {},
   "source": [
    "### Đọc dữ liệu từ file"
   ]
  },
  {
   "cell_type": "code",
   "execution_count": 2,
   "id": "bb91f12e",
   "metadata": {},
   "outputs": [],
   "source": [
    "air_df=pd.read_csv('data.csv',sep=',',index_col='dt')"
   ]
  },
  {
   "cell_type": "code",
   "execution_count": 3,
   "id": "3570d508",
   "metadata": {},
   "outputs": [
    {
     "data": {
      "text/html": [
       "<div>\n",
       "<style scoped>\n",
       "    .dataframe tbody tr th:only-of-type {\n",
       "        vertical-align: middle;\n",
       "    }\n",
       "\n",
       "    .dataframe tbody tr th {\n",
       "        vertical-align: top;\n",
       "    }\n",
       "\n",
       "    .dataframe thead th {\n",
       "        text-align: right;\n",
       "    }\n",
       "</style>\n",
       "<table border=\"1\" class=\"dataframe\">\n",
       "  <thead>\n",
       "    <tr style=\"text-align: right;\">\n",
       "      <th></th>\n",
       "      <th>co</th>\n",
       "      <th>no</th>\n",
       "      <th>no2</th>\n",
       "      <th>o3</th>\n",
       "      <th>so2</th>\n",
       "      <th>pm2_5</th>\n",
       "      <th>pm10</th>\n",
       "      <th>nh3</th>\n",
       "      <th>aqi</th>\n",
       "    </tr>\n",
       "    <tr>\n",
       "      <th>dt</th>\n",
       "      <th></th>\n",
       "      <th></th>\n",
       "      <th></th>\n",
       "      <th></th>\n",
       "      <th></th>\n",
       "      <th></th>\n",
       "      <th></th>\n",
       "      <th></th>\n",
       "      <th></th>\n",
       "    </tr>\n",
       "  </thead>\n",
       "  <tbody>\n",
       "    <tr>\n",
       "      <th>1606438800</th>\n",
       "      <td>2162.93</td>\n",
       "      <td>63.48</td>\n",
       "      <td>39.07</td>\n",
       "      <td>4.51</td>\n",
       "      <td>82.02</td>\n",
       "      <td>83.66</td>\n",
       "      <td>107.71</td>\n",
       "      <td>17.99</td>\n",
       "      <td>5</td>\n",
       "    </tr>\n",
       "    <tr>\n",
       "      <th>1606442400</th>\n",
       "      <td>2910.61</td>\n",
       "      <td>81.36</td>\n",
       "      <td>65.80</td>\n",
       "      <td>11.80</td>\n",
       "      <td>117.30</td>\n",
       "      <td>116.49</td>\n",
       "      <td>148.14</td>\n",
       "      <td>23.31</td>\n",
       "      <td>5</td>\n",
       "    </tr>\n",
       "    <tr>\n",
       "      <th>1606446000</th>\n",
       "      <td>3337.86</td>\n",
       "      <td>67.06</td>\n",
       "      <td>123.38</td>\n",
       "      <td>38.27</td>\n",
       "      <td>154.50</td>\n",
       "      <td>168.02</td>\n",
       "      <td>206.90</td>\n",
       "      <td>25.59</td>\n",
       "      <td>5</td>\n",
       "    </tr>\n",
       "    <tr>\n",
       "      <th>1606449600</th>\n",
       "      <td>2296.45</td>\n",
       "      <td>18.33</td>\n",
       "      <td>137.09</td>\n",
       "      <td>56.51</td>\n",
       "      <td>135.42</td>\n",
       "      <td>146.98</td>\n",
       "      <td>178.00</td>\n",
       "      <td>15.83</td>\n",
       "      <td>5</td>\n",
       "    </tr>\n",
       "    <tr>\n",
       "      <th>1606453200</th>\n",
       "      <td>1762.39</td>\n",
       "      <td>7.49</td>\n",
       "      <td>108.30</td>\n",
       "      <td>62.23</td>\n",
       "      <td>114.44</td>\n",
       "      <td>99.77</td>\n",
       "      <td>123.98</td>\n",
       "      <td>14.06</td>\n",
       "      <td>5</td>\n",
       "    </tr>\n",
       "  </tbody>\n",
       "</table>\n",
       "</div>"
      ],
      "text/plain": [
       "                 co     no     no2     o3     so2   pm2_5    pm10    nh3  aqi\n",
       "dt                                                                           \n",
       "1606438800  2162.93  63.48   39.07   4.51   82.02   83.66  107.71  17.99    5\n",
       "1606442400  2910.61  81.36   65.80  11.80  117.30  116.49  148.14  23.31    5\n",
       "1606446000  3337.86  67.06  123.38  38.27  154.50  168.02  206.90  25.59    5\n",
       "1606449600  2296.45  18.33  137.09  56.51  135.42  146.98  178.00  15.83    5\n",
       "1606453200  1762.39   7.49  108.30  62.23  114.44   99.77  123.98  14.06    5"
      ]
     },
     "execution_count": 3,
     "metadata": {},
     "output_type": "execute_result"
    }
   ],
   "source": [
    "air_df.head()"
   ]
  },
  {
   "cell_type": "markdown",
   "id": "66ff939c",
   "metadata": {},
   "source": [
    "### Dữ liệu có bao nhiêu dòng và bao nhiêu cột?"
   ]
  },
  {
   "cell_type": "markdown",
   "id": "e6d61237",
   "metadata": {},
   "source": [
    "### Mỗi dòng có ý nghĩa gì? Có vấn đề các dòng có ý nghĩa khác nhau không?"
   ]
  },
  {
   "cell_type": "markdown",
   "id": "31fcebde",
   "metadata": {},
   "source": [
    "### Dữ liệu có các dòng bị lặp không? "
   ]
  },
  {
   "cell_type": "markdown",
   "id": "9896f278",
   "metadata": {},
   "source": [
    "### Mỗi cột có ý nghĩa gì?"
   ]
  },
  {
   "cell_type": "markdown",
   "id": "2d6b1c2b",
   "metadata": {},
   "source": [
    "### Mỗi cột hiện đang có kiểu dữ liệu gì? Có cột nào có kiểu dữ liệu chưa phù hợp để có thể xử lý tiếp không? "
   ]
  },
  {
   "cell_type": "markdown",
   "id": "02291728",
   "metadata": {},
   "source": [
    "## Tiền xử lý "
   ]
  },
  {
   "cell_type": "markdown",
   "id": "d14a23f0",
   "metadata": {},
   "source": [
    "## Quay lại bước khám phá dữ liệu "
   ]
  },
  {
   "cell_type": "markdown",
   "id": "1747e6b8",
   "metadata": {},
   "source": [
    "### Với mỗi cột có kiểu dữ liệu dạng số, các giá trị được phân bố như thế nào?"
   ]
  },
  {
   "cell_type": "markdown",
   "id": "fa0162f5",
   "metadata": {},
   "source": [
    "## Tiền xử lý"
   ]
  },
  {
   "cell_type": "markdown",
   "id": "2d9ac925",
   "metadata": {},
   "source": [
    "## Quay lại bước khám phá dữ liệu"
   ]
  },
  {
   "cell_type": "markdown",
   "id": "553de55d",
   "metadata": {},
   "source": [
    "### Với mỗi cột có kiểu dữ liệu không phải dạng số, các giá trị được phân bố như thế nào?"
   ]
  },
  {
   "cell_type": "markdown",
   "id": "b29a2dc8",
   "metadata": {},
   "source": [
    "## Đặt câu hỏi"
   ]
  },
  {
   "cell_type": "code",
   "execution_count": null,
   "id": "98ba932b",
   "metadata": {},
   "outputs": [],
   "source": []
  }
 ],
 "metadata": {
  "kernelspec": {
   "display_name": "Python 3 (ipykernel)",
   "language": "python",
   "name": "python3"
  },
  "language_info": {
   "codemirror_mode": {
    "name": "ipython",
    "version": 3
   },
   "file_extension": ".py",
   "mimetype": "text/x-python",
   "name": "python",
   "nbconvert_exporter": "python",
   "pygments_lexer": "ipython3",
   "version": "3.8.8"
  }
 },
 "nbformat": 4,
 "nbformat_minor": 5
}
